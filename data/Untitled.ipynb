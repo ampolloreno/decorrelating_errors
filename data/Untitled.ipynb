{
 "cells": [
  {
   "cell_type": "code",
   "execution_count": 1,
   "metadata": {},
   "outputs": [],
   "source": [
    "import diamond"
   ]
  },
  {
   "cell_type": "code",
   "execution_count": 2,
   "metadata": {},
   "outputs": [],
   "source": [
    "import numpy as np\n",
    "import scipy as sp\n",
    "import pygsti \n",
    "\n",
    "import matplotlib.pyplot as plt\n",
    "import seaborn as sns\n",
    "sns.set_style('white')\n",
    "%matplotlib inline"
   ]
  },
  {
   "cell_type": "code",
   "execution_count": null,
   "metadata": {},
   "outputs": [],
   "source": []
  },
  {
   "cell_type": "code",
   "execution_count": 43,
   "metadata": {},
   "outputs": [],
   "source": [
    "sigI = np.array([[1.,0],[0, 1]], dtype='complex')\n",
    "sigX = np.array([[0, 1],[1, 0]], dtype='complex')\n",
    "sigY = np.array([[0,-1],[1, 0]], dtype='complex') * 1.j\n",
    "sigZ = np.array([[1, 0],[0,-1]], dtype='complex')\n",
    "sigM = (sigX - 1.j*sigY)/2.\n",
    "sigP = (sigX + 1.j*sigY)/2.\n",
    "def x(theta):\n",
    "    return sp.linalg.expm(-1.j*(np.pi/2 + theta)*sigX)"
   ]
  },
  {
   "cell_type": "code",
   "execution_count": 9,
   "metadata": {},
   "outputs": [],
   "source": [
    "def x(theta):\n",
    "    return np.exp(-1.j*(np.pi/2 + theta)*sigX)\n",
    "def superop(unitary):\n",
    "    return np.kron(unitary.conj(), unitary)"
   ]
  },
  {
   "cell_type": "code",
   "execution_count": 49,
   "metadata": {},
   "outputs": [
    {
     "data": {
      "text/plain": [
       "array([[-0.09983342-0.j        ,  0.        -0.99500417j],\n",
       "       [ 0.        -0.99500417j, -0.09983342-0.j        ]])"
      ]
     },
     "execution_count": 49,
     "metadata": {},
     "output_type": "execute_result"
    }
   ],
   "source": [
    "x(.1)"
   ]
  },
  {
   "cell_type": "code",
   "execution_count": null,
   "metadata": {},
   "outputs": [],
   "source": []
  },
  {
   "cell_type": "code",
   "execution_count": 51,
   "metadata": {},
   "outputs": [
    {
     "data": {
      "text/plain": [
       "(0.9900332889206208+0j)"
      ]
     },
     "execution_count": 51,
     "metadata": {},
     "output_type": "execute_result"
    }
   ],
   "source": [
    "4*entFid"
   ]
  },
  {
   "cell_type": "code",
   "execution_count": 56,
   "metadata": {},
   "outputs": [
    {
     "name": "stdout",
     "output_type": "stream",
     "text": [
      "0.042 0.04198765252168646\n",
      "0.0017640000000000002 0.001762962993716387\n",
      "0.0017640000000000002 (0.001762963011926355+0j)\n",
      "0.0017640000000000002 (0.001762963011926244+0j)\n"
     ]
    }
   ],
   "source": [
    "theta = 0.042\n",
    "diamond_dist = diamond.diamond_norm(diamond.jamiolkowski(superop(x(0))) - diamond.jamiolkowski(superop(x(theta))))/(2)\n",
    "diamond_dist_avg = diamond.diamond_norm(diamond.jamiolkowski(superop(x(0))) - diamond.jamiolkowski(superop(x(theta))/2.+superop(x(-theta))/2.))/(2)\n",
    "print(theta, diamond_dist)\n",
    "print(theta**2, diamond_dist_avg)\n",
    "entFid = np.trace(np.dot(diamond.jamiolkowski(superop(x(0))),diamond.jamiolkowski(superop(x(theta)))))/4\n",
    "entFid_avg = np.trace(np.dot(diamond.jamiolkowski(superop(x(0))),\n",
    "                             diamond.jamiolkowski(superop(x(theta)))/2. + diamond.jamiolkowski(superop(x(-theta)))/2.))/4\n",
    "print(theta**2, 1-entFid)\n",
    "print(theta**2, 1-entFid_avg)"
   ]
  },
  {
   "cell_type": "code",
   "execution_count": 20,
   "metadata": {},
   "outputs": [
    {
     "data": {
      "text/plain": [
       "array([[1.000000e+00+0.j, 6.123234e-17+1.j, 6.123234e-17+1.j,\n",
       "        1.000000e+00+0.j],\n",
       "       [6.123234e-17-1.j, 1.000000e+00+0.j, 1.000000e+00+0.j,\n",
       "        6.123234e-17-1.j],\n",
       "       [6.123234e-17-1.j, 1.000000e+00+0.j, 1.000000e+00+0.j,\n",
       "        6.123234e-17-1.j],\n",
       "       [1.000000e+00+0.j, 6.123234e-17+1.j, 6.123234e-17+1.j,\n",
       "        1.000000e+00+0.j]])"
      ]
     },
     "execution_count": 20,
     "metadata": {},
     "output_type": "execute_result"
    }
   ],
   "source": [
    "diamond.jamiolkowski(superop(x(0)))"
   ]
  },
  {
   "cell_type": "code",
   "execution_count": 10,
   "metadata": {},
   "outputs": [
    {
     "data": {
      "text/plain": [
       "array([[ 1.        +0.j        , -0.09983342-0.99500417j,\n",
       "        -0.09983342+0.99500417j,  1.        +0.j        ],\n",
       "       [-0.09983342-0.99500417j,  1.        +0.j        ,\n",
       "         1.        +0.j        , -0.09983342+0.99500417j],\n",
       "       [-0.09983342+0.99500417j,  1.        +0.j        ,\n",
       "         1.        +0.j        , -0.09983342-0.99500417j],\n",
       "       [ 1.        +0.j        , -0.09983342+0.99500417j,\n",
       "        -0.09983342-0.99500417j,  1.        +0.j        ]])"
      ]
     },
     "execution_count": 10,
     "metadata": {},
     "output_type": "execute_result"
    }
   ],
   "source": [
    "diamondsuperop(x(0.1))"
   ]
  },
  {
   "cell_type": "code",
   "execution_count": null,
   "metadata": {},
   "outputs": [],
   "source": [
    "from import diamond_norm, jamiolkowski\n",
    "\n",
    "def superoperator(unitary):\n",
    "    return np.kron(unitary.conj(), unitary)\n",
    "\n",
    "def choi_form(unitary):\n",
    "    return jamiolkowski(superoperator(unitary))\n",
    "\n",
    "def diamond_distance(unitary_a,unitary_b):\n",
    "    return diamond_norm(choi_form(unitary_a) - choi_form(unitary_b))/2.\n",
    "\n",
    "def entanglement_infidelity(unitary_a,unitary_b):\n",
    "    dim = len(unitary_a)\n",
    "    return 1 - np.trace( np.dot(choi_form(unitary_a), choi_form(unitary_b)))/(4**dim)\n",
    "    "
   ]
  }
 ],
 "metadata": {
  "kernelspec": {
   "display_name": "Python 3",
   "language": "python",
   "name": "python3"
  },
  "language_info": {
   "codemirror_mode": {
    "name": "ipython",
    "version": 3
   },
   "file_extension": ".py",
   "mimetype": "text/x-python",
   "name": "python",
   "nbconvert_exporter": "python",
   "pygments_lexer": "ipython3",
   "version": "3.5.0"
  }
 },
 "nbformat": 4,
 "nbformat_minor": 2
}
