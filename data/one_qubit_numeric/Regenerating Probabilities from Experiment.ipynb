{
 "cells": [
  {
   "cell_type": "code",
   "execution_count": 1,
   "metadata": {},
   "outputs": [],
   "source": [
    "def off_diagonal_vec(sop):\n",
    "    new_mat = []\n",
    "    for i, row in enumerate(sop):\n",
    "        for j, col in enumerate(row):\n",
    "            if i==j:\n",
    "                continue\n",
    "            new_mat.append(col)\n",
    "    return np.array(new_mat)"
   ]
  },
  {
   "cell_type": "code",
   "execution_count": 2,
   "metadata": {},
   "outputs": [],
   "source": [
    "def sop_to_ptm(sop):\n",
    "    ret = np.zeros((4,4))\n",
    "    for i, p in enumerate(ps):\n",
    "        for j, q in enumerate(ps):\n",
    "            ret[i][j] = np.trace(p.dot(sop.dot(q.dot(np.conj(sop.T)))))\n",
    "    return ret"
   ]
  },
  {
   "cell_type": "code",
   "execution_count": 3,
   "metadata": {},
   "outputs": [
    {
     "name": "stderr",
     "output_type": "stream",
     "text": [
      "/Users/anthonypolloreno/.pyenv/versions/3.6.3/envs/default/lib/python3.6/site-packages/ipykernel_launcher.py:5: ComplexWarning: Casting complex values to real discards the imaginary part\n",
      "  \"\"\"\n"
     ]
    }
   ],
   "source": [
    "import cvxpy as cp\n",
    "from scipy.linalg import expm\n",
    "import numpy as np\n",
    "from pauli_channel_approximation import off_diagonal_projection\n",
    "\n",
    "scales = [1.064, 1.039, .937, .912]\n",
    "x = np.array([[0, 1], [1, 0]])\n",
    "unitaries = []\n",
    "ps = [np.eye(2), x, np.array([[0, -1.j], [1.j, 0]]), np.array([[1, 0], [0, -1]])]\n",
    "pps = [np.kron(p, q) for p in ps for q in ps]\n",
    "vecs = []\n",
    "for scale in scales:\n",
    "    unitary = expm(-1.j * scale * np.pi/2 * x)\n",
    "    error =  np.conj(unitary.T).dot(x)\n",
    "    vecs.append(off_diagonal_vec(sop_to_ptm(error)))"
   ]
  },
  {
   "cell_type": "code",
   "execution_count": 4,
   "metadata": {},
   "outputs": [
    {
     "name": "stdout",
     "output_type": "stream",
     "text": [
      "\n",
      "ECOS 2.0.7 - (C) embotech GmbH, Zurich Switzerland, 2012-15. Web: www.embotech.com/ECOS\n",
      "\n",
      "It     pcost       dcost      gap   pres   dres    k/t    mu     step   sigma     IR    |   BT\n",
      " 0  +0.000e+00  -4.000e+00  +2e+01  4e-01  1e-01  1e+00  2e+00    ---    ---    1  1  - |  -  - \n",
      " 1  -1.866e-01  -3.890e-01  +2e+00  5e-02  1e-02  3e-01  3e-01  0.8738  1e-01   1  1  1 |  0  0\n",
      " 2  -9.174e-03  -2.025e-02  +1e-01  2e-03  6e-04  1e-02  2e-02  0.9509  2e-03   2  2  2 |  0  0\n",
      " 3  -1.002e-04  -2.223e-04  +1e-03  2e-05  6e-06  1e-04  2e-04  0.9890  1e-04   3  2  2 |  0  0\n",
      " 4  -1.108e-06  -2.471e-06  +1e-05  3e-07  7e-08  1e-06  2e-06  0.9890  1e-04   5  3  3 |  0  0\n",
      " 5  -1.226e-08  -2.747e-08  +2e-07  3e-09  7e-10  2e-08  2e-08  0.9890  1e-04   1  1  1 |  0  0\n",
      " 6  -1.356e-10  -3.055e-10  +2e-09  3e-11  8e-12  2e-10  3e-10  0.9890  1e-04   2  0  0 |  0  0\n",
      "\n",
      "OPTIMAL (within feastol=3.2e-11, reltol=1.3e+01, abstol=1.7e-09).\n",
      "Runtime: 0.000490 seconds.\n",
      "\n"
     ]
    }
   ],
   "source": [
    "omega = cp.Variable(4)\n",
    "constraints = [0 <= omega, omega <= 1, sum(omega) == 1]\n",
    "objective_argument = cp.norm(np.matrix(np.vstack(vecs).T) * omega)\n",
    "objective = cp.Minimize(objective_argument)\n",
    "prob = cp.Problem(objective, constraints)\n",
    "_ = prob.solve(verbose=True)\n",
    "res = omega.value"
   ]
  },
  {
   "cell_type": "code",
   "execution_count": 7,
   "metadata": {},
   "outputs": [],
   "source": [
    "a = [[0.307 ],[0.283],[0.211],[0.199]]"
   ]
  },
  {
   "cell_type": "code",
   "execution_count": 8,
   "metadata": {},
   "outputs": [
    {
     "data": {
      "text/plain": [
       "1.0"
      ]
     },
     "execution_count": 8,
     "metadata": {},
     "output_type": "execute_result"
    }
   ],
   "source": [
    "sum([b[0] for b in a])"
   ]
  },
  {
   "cell_type": "code",
   "execution_count": 9,
   "metadata": {},
   "outputs": [],
   "source": [
    "from pauli_channel_approximation import *"
   ]
  },
  {
   "cell_type": "code",
   "execution_count": 5,
   "metadata": {},
   "outputs": [
    {
     "data": {
      "text/plain": [
       "array([0.30644043, 0.28329703, 0.21172833, 0.19853421])"
      ]
     },
     "execution_count": 5,
     "metadata": {},
     "output_type": "execute_result"
    }
   ],
   "source": [
    "res"
   ]
  },
  {
   "cell_type": "code",
   "execution_count": 43,
   "metadata": {},
   "outputs": [
    {
     "name": "stderr",
     "output_type": "stream",
     "text": [
      "/Users/anthonypolloreno/.pyenv/versions/3.6.3/envs/default/lib/python3.6/site-packages/ipykernel_launcher.py:5: ComplexWarning: Casting complex values to real discards the imaginary part\n",
      "  \"\"\"\n"
     ]
    },
    {
     "data": {
      "image/png": "[encoded data removed]",
      "text/plain": [
       "<Figure size 504x648 with 5 Axes>"
      ]
     },
     "metadata": {
      "needs_background": "light"
     },
     "output_type": "display_data"
    }
   ],
   "source": [
    "%matplotlib inline\n",
    "import matplotlib.pyplot as plt\n",
    "import matplotlib.gridspec as gridspec\n",
    "\n",
    "sops = []\n",
    "\n",
    "fig = plt.figure(figsize=(7, 9))\n",
    "gs = gridspec.GridSpec(nrows=3, ncols=2, height_ratios=[1, 1, 2])\n",
    "\n",
    "ax0 = fig.add_subplot(gs[0, 0])\n",
    "\n",
    "ax1 = fig.add_subplot(gs[0, 1])\n",
    "\n",
    "ax2 = fig.add_subplot(gs[1, 0])\n",
    "\n",
    "ax3 = fig.add_subplot(gs[1, 1])\n",
    "\n",
    "ax4 = fig.add_subplot(gs[2:, :])\n",
    "axes = [ax0,ax1,ax2,ax3]\n",
    "\n",
    "\n",
    "for i, scale in enumerate(scales):\n",
    "    unitary = expm(-1.j * scale * np.pi/2 * x)\n",
    "    error =  np.conj(unitary.T).dot(x)\n",
    "    #plt.subplot(subplots[i])\n",
    "    axes[i].imshow(sop_to_ptm(error))\n",
    "    sops.append(error)\n",
    "    \n",
    "avg = np.zeros((4,4))\n",
    "for i, sop in enumerate(sops):\n",
    "    avg += res[i] * sop_to_ptm(sop)\n",
    "ax4.imshow(avg)\n",
    "    # plt.show()\n",
    "# plt.imshow(avg)\n",
    "#plt.tight_layout()\n",
    "\n",
    "plt.tight_layout()\n",
    "plt.show()"
   ]
  },
  {
   "cell_type": "code",
   "execution_count": 38,
   "metadata": {},
   "outputs": [
    {
     "data": {
      "text/plain": [
       "[1.9999999999999887, 1.999999999999989, 1.9600616108078621, 1.9600616108078621]"
      ]
     },
     "execution_count": 38,
     "metadata": {},
     "output_type": "execute_result"
    }
   ],
   "source": [
    "[el for el in avg.flatten() if not np.isclose(0,el)]"
   ]
  },
  {
   "cell_type": "code",
   "execution_count": 12,
   "metadata": {},
   "outputs": [
    {
     "name": "stdout",
     "output_type": "stream",
     "text": [
      "[[ 2.00000000e+00  0.00000000e+00 -3.52004953e-17 -2.10303101e-17]\n",
      " [ 0.00000000e+00  2.00000000e+00  0.00000000e+00  0.00000000e+00]\n",
      " [-6.39646399e-17  0.00000000e+00  1.96006161e+00  3.95017352e-13]\n",
      " [-2.10303101e-17  0.00000000e+00 -3.95017352e-13  1.96006161e+00]]\n"
     ]
    }
   ],
   "source": [
    "print(avg)"
   ]
  },
  {
   "cell_type": "code",
   "execution_count": 11,
   "metadata": {},
   "outputs": [
    {
     "name": "stderr",
     "output_type": "stream",
     "text": [
      "/Users/anthonypolloreno/.pyenv/versions/3.6.3/envs/default/lib/python3.6/site-packages/ipykernel_launcher.py:5: ComplexWarning: Casting complex values to real discards the imaginary part\n",
      "  \"\"\"\n"
     ]
    },
    {
     "data": {
      "text/plain": [
       "array([[ 2.        ,  0.        ,  0.        ,  0.        ],\n",
       "       [ 0.        ,  2.        ,  0.        ,  0.        ],\n",
       "       [ 0.        ,  0.        ,  1.92405534, -0.54590387],\n",
       "       [ 0.        ,  0.        ,  0.54590387,  1.92405534]])"
      ]
     },
     "execution_count": 11,
     "metadata": {},
     "output_type": "execute_result"
    }
   ],
   "source": [
    "sop_to_ptm(error)"
   ]
  },
  {
   "cell_type": "code",
   "execution_count": 91,
   "metadata": {},
   "outputs": [
    {
     "name": "stderr",
     "output_type": "stream",
     "text": [
      "/Users/anthonypolloreno/.pyenv/versions/3.6.3/envs/default/lib/python3.6/site-packages/ipykernel_launcher.py:5: ComplexWarning: Casting complex values to real discards the imaginary part\n",
      "  \"\"\"\n"
     ]
    },
    {
     "data": {
      "image/png": "[encoded data removed]",
      "text/plain": [
       "<Figure size 504x219.6 with 6 Axes>"
      ]
     },
     "metadata": {
      "needs_background": "light"
     },
     "output_type": "display_data"
    }
   ],
   "source": [
    "%matplotlib inline\n",
    "import matplotlib.pyplot as plt\n",
    "import matplotlib.gridspec as gridspec\n",
    "MAX = 1\n",
    "sops = []\n",
    "CMAP = 'viridis'\n",
    "\n",
    "fig = plt.figure(figsize=(7,3.05), )\n",
    "gs = gridspec.GridSpec(nrows=2, ncols=3, height_ratios=[1,1], width_ratios=[1,1,2.69])\n",
    "gs.update(wspace=.1, hspace=.1)\n",
    "ax0 = fig.add_subplot(gs[0, 0])\n",
    "\n",
    "ax1 = fig.add_subplot(gs[0, 1])\n",
    "\n",
    "ax2 = fig.add_subplot(gs[1, 0])\n",
    "\n",
    "ax3 = fig.add_subplot(gs[1, 1])\n",
    "\n",
    "ax4 = fig.add_subplot(gs[:, 2:])\n",
    "axes = [ax0,ax1,ax2,ax3]\n",
    "\n",
    "\n",
    "def normalize(mat):\n",
    "    #RANGE = np.max(mat)-np.min(mat)\n",
    "    mat -= np.min(mat)\n",
    "    mat /= RANGE*MAX\n",
    "    return mat\n",
    "\n",
    "for i, scale in enumerate(scales):\n",
    "    unitary = expm(-1.j * scale * np.pi/2 * x)\n",
    "    error =  np.conj(unitary.T).dot(x)\n",
    "    #plt.subplot(subplots[i])\n",
    "    ax = axes[i]\n",
    "    mat = normalize(sop_to_ptm(error))\n",
    "    ax.imshow(mat, cmap=CMAP)\n",
    "    ax.get_xaxis().set_ticks([])\n",
    "    ax.get_yaxis().set_ticks([])\n",
    "    sops.append(error)\n",
    "    \n",
    "def get_axis_limits(ax):\n",
    "    return ax.get_xlim()[0]+.12, (ax.get_ylim()[1]-ax.get_ylim()[0])*.82 + ax.get_ylim()[0]\n",
    "ax0.annotate('a)', xy=get_axis_limits(ax0), c='k',size=15)\n",
    "ax1.annotate('b)', xy=get_axis_limits(ax1), c='k',size=15)\n",
    "ax2.annotate('c)', xy=get_axis_limits(ax2), c='k',size=15)\n",
    "ax3.annotate('d)', xy=get_axis_limits(ax3), c='k',size=15)\n",
    "\n",
    "ax4.annotate('e)', xy=(ax.get_xlim()[0]+.32, ax.get_ylim()[1]+.56), c='k',size=15)\n",
    "avg = np.zeros((4,4))\n",
    "for i, sop in enumerate(sops):\n",
    "    avg += res[i]* sop_to_ptm(sop)\n",
    "ax4.imshow(normalize(avg), cmap=CMAP)\n",
    "ax4.get_xaxis().set_ticks([])\n",
    "ax4.get_yaxis().set_ticks([])\n",
    "for PCM in ax.get_children():\n",
    "    if type(PCM) == matplotlib.image.AxesImage: break\n",
    "plt.colorbar(PCM,ax=ax4)\n",
    "#plt.tight_layout()\n",
    "plt.savefig(\"experimental-ptm.png\", dpi=500)"
   ]
  },
  {
   "cell_type": "code",
   "execution_count": 11,
   "metadata": {},
   "outputs": [
    {
     "data": {
      "text/plain": [
       "Text(0.5, 1.0, 'gs[-1, -2]')"
      ]
     },
     "execution_count": 11,
     "metadata": {},
     "output_type": "execute_result"
    },
    {
     "data": {
      "image/png": "[encoded data removed]",
      "text/plain": [
       "<Figure size 432x288 with 5 Axes>"
      ]
     },
     "metadata": {
      "needs_background": "light"
     },
     "output_type": "display_data"
    }
   ],
   "source": [
    "fig3 = plt.figure(constrained_layout=True)\n",
    "gs = fig3.add_gridspec(3, 3)\n",
    "f3_ax1 = fig3.add_subplot(gs[0, :])\n",
    "f3_ax1.set_title('gs[0, :]')\n",
    "f3_ax2 = fig3.add_subplot(gs[1, :-1])\n",
    "f3_ax2.set_title('gs[1, :-1]')\n",
    "f3_ax3 = fig3.add_subplot(gs[1:, -1])\n",
    "f3_ax3.set_title('gs[1:, -1]')\n",
    "f3_ax4 = fig3.add_subplot(gs[-1, 0])\n",
    "f3_ax4.set_title('gs[-1, 0]')\n",
    "f3_ax5 = fig3.add_subplot(gs[-1, -2])\n",
    "f3_ax5.set_title('gs[-1, -2]')"
   ]
  },
  {
   "cell_type": "code",
   "execution_count": 12,
   "metadata": {},
   "outputs": [
    {
     "ename": "IndexError",
     "evalue": "index 5 is out of bounds for axis 0 with size 2",
     "output_type": "error",
     "traceback": [
      "\u001b[0;31m---------------------------------------------------------------------------\u001b[0m",
      "\u001b[0;31mIndexError\u001b[0m                                Traceback (most recent call last)",
      "\u001b[0;32m<ipython-input-12-25543be72d39>\u001b[0m in \u001b[0;36m<module>\u001b[0;34m\u001b[0m\n\u001b[1;32m      7\u001b[0m \u001b[0;31m#f3_ax3 = fig3.add_subplot(gs[2, 4] + gs[6, 8])\u001b[0m\u001b[0;34m\u001b[0m\u001b[0;34m\u001b[0m\u001b[0;34m\u001b[0m\u001b[0m\n\u001b[1;32m      8\u001b[0m \u001b[0mf3_ax3\u001b[0m\u001b[0;34m.\u001b[0m\u001b[0mset_title\u001b[0m\u001b[0;34m(\u001b[0m\u001b[0;34m'gs[1:, -1]'\u001b[0m\u001b[0;34m)\u001b[0m\u001b[0;34m\u001b[0m\u001b[0;34m\u001b[0m\u001b[0m\n\u001b[0;32m----> 9\u001b[0;31m \u001b[0mf3_ax4\u001b[0m \u001b[0;34m=\u001b[0m \u001b[0mfig3\u001b[0m\u001b[0;34m.\u001b[0m\u001b[0madd_subplot\u001b[0m\u001b[0;34m(\u001b[0m\u001b[0mgs\u001b[0m\u001b[0;34m[\u001b[0m\u001b[0;36m5\u001b[0m\u001b[0;34m,\u001b[0m\u001b[0;36m6\u001b[0m\u001b[0;34m]\u001b[0m\u001b[0;34m)\u001b[0m\u001b[0;34m\u001b[0m\u001b[0;34m\u001b[0m\u001b[0m\n\u001b[0m\u001b[1;32m     10\u001b[0m \u001b[0mf3_ax4\u001b[0m\u001b[0;34m.\u001b[0m\u001b[0mset_title\u001b[0m\u001b[0;34m(\u001b[0m\u001b[0;34m'gs[-1, 0]'\u001b[0m\u001b[0;34m)\u001b[0m\u001b[0;34m\u001b[0m\u001b[0;34m\u001b[0m\u001b[0m\n\u001b[1;32m     11\u001b[0m \u001b[0mf3_ax5\u001b[0m \u001b[0;34m=\u001b[0m \u001b[0mfig3\u001b[0m\u001b[0;34m.\u001b[0m\u001b[0madd_subplot\u001b[0m\u001b[0;34m(\u001b[0m\u001b[0mgs\u001b[0m\u001b[0;34m[\u001b[0m\u001b[0;36m6\u001b[0m\u001b[0;34m,\u001b[0m\u001b[0;36m7\u001b[0m\u001b[0;34m]\u001b[0m\u001b[0;34m)\u001b[0m\u001b[0;34m\u001b[0m\u001b[0;34m\u001b[0m\u001b[0m\n",
      "\u001b[0;32m~/anaconda3/envs/estuary/lib/python3.7/site-packages/matplotlib/gridspec.py\u001b[0m in \u001b[0;36m__getitem__\u001b[0;34m(self, key)\u001b[0m\n\u001b[1;32m    168\u001b[0m                 \u001b[0;32mraise\u001b[0m \u001b[0mValueError\u001b[0m\u001b[0;34m(\u001b[0m\u001b[0;34m\"unrecognized subplot spec\"\u001b[0m\u001b[0;34m)\u001b[0m\u001b[0;34m\u001b[0m\u001b[0;34m\u001b[0m\u001b[0m\n\u001b[1;32m    169\u001b[0m             num1, num2 = np.ravel_multi_index(\n\u001b[0;32m--> 170\u001b[0;31m                 \u001b[0;34m[\u001b[0m\u001b[0m_normalize\u001b[0m\u001b[0;34m(\u001b[0m\u001b[0mk1\u001b[0m\u001b[0;34m,\u001b[0m \u001b[0mnrows\u001b[0m\u001b[0;34m,\u001b[0m \u001b[0;36m0\u001b[0m\u001b[0;34m)\u001b[0m\u001b[0;34m,\u001b[0m \u001b[0m_normalize\u001b[0m\u001b[0;34m(\u001b[0m\u001b[0mk2\u001b[0m\u001b[0;34m,\u001b[0m \u001b[0mncols\u001b[0m\u001b[0;34m,\u001b[0m \u001b[0;36m1\u001b[0m\u001b[0;34m)\u001b[0m\u001b[0;34m]\u001b[0m\u001b[0;34m,\u001b[0m\u001b[0;34m\u001b[0m\u001b[0;34m\u001b[0m\u001b[0m\n\u001b[0m\u001b[1;32m    171\u001b[0m                 (nrows, ncols))\n\u001b[1;32m    172\u001b[0m         \u001b[0;32melse\u001b[0m\u001b[0;34m:\u001b[0m  \u001b[0;31m# Single key\u001b[0m\u001b[0;34m\u001b[0m\u001b[0;34m\u001b[0m\u001b[0m\n",
      "\u001b[0;32m~/anaconda3/envs/estuary/lib/python3.7/site-packages/matplotlib/gridspec.py\u001b[0m in \u001b[0;36m_normalize\u001b[0;34m(key, size, axis)\u001b[0m\n\u001b[1;32m    156\u001b[0m                     \u001b[0;32mreturn\u001b[0m \u001b[0mkey\u001b[0m\u001b[0;34m,\u001b[0m \u001b[0mkey\u001b[0m\u001b[0;34m\u001b[0m\u001b[0;34m\u001b[0m\u001b[0m\n\u001b[1;32m    157\u001b[0m                 \u001b[0;32melif\u001b[0m \u001b[0maxis\u001b[0m \u001b[0;32mis\u001b[0m \u001b[0;32mnot\u001b[0m \u001b[0;32mNone\u001b[0m\u001b[0;34m:\u001b[0m\u001b[0;34m\u001b[0m\u001b[0;34m\u001b[0m\u001b[0m\n\u001b[0;32m--> 158\u001b[0;31m                     raise IndexError(f\"index {orig_key} is out of bounds for \"\n\u001b[0m\u001b[1;32m    159\u001b[0m                                      f\"axis {axis} with size {size}\")\n\u001b[1;32m    160\u001b[0m                 \u001b[0;32melse\u001b[0m\u001b[0;34m:\u001b[0m  \u001b[0;31m# flat index\u001b[0m\u001b[0;34m\u001b[0m\u001b[0;34m\u001b[0m\u001b[0m\n",
      "\u001b[0;31mIndexError\u001b[0m: index 5 is out of bounds for axis 0 with size 2"
     ]
    },
    {
     "data": {
      "image/png": "[encoded data removed]",
      "text/plain": [
       "<Figure size 432x288 with 8 Axes>"
      ]
     },
     "metadata": {
      "needs_background": "light"
     },
     "output_type": "display_data"
    }
   ],
   "source": [
    "fig3 = plt.figure(constrained_layout=True)\n",
    "gs = fig3.add_gridspec(2,4)\n",
    "f3_ax1 = fig3.add_subplot(gs[0, 1])\n",
    "f3_ax1.set_title('gs[0, :]')\n",
    "f3_ax2 = fig3.add_subplot(gs[1, 2])\n",
    "f3_ax2.set_title('gs[1, :-1]')\n",
    "#f3_ax3 = fig3.add_subplot(gs[2, 4] + gs[6, 8])\n",
    "f3_ax3.set_title('gs[1:, -1]')\n",
    "f3_ax4 = fig3.add_subplot(gs[5,6])\n",
    "f3_ax4.set_title('gs[-1, 0]')\n",
    "f3_ax5 = fig3.add_subplot(gs[6,7])\n",
    "f3_ax5.set_title('gs[-1, -2]')"
   ]
  },
  {
   "cell_type": "code",
   "execution_count": null,
   "metadata": {},
   "outputs": [],
   "source": []
  },
  {
   "cell_type": "code",
   "execution_count": null,
   "metadata": {},
   "outputs": [],
   "source": []
  },
  {
   "cell_type": "code",
   "execution_count": null,
   "metadata": {},
   "outputs": [],
   "source": []
  }
 ],
 "metadata": {
  "kernelspec": {
   "display_name": "Python 3",
   "language": "python",
   "name": "python3"
  },
  "language_info": {
   "codemirror_mode": {
    "name": "ipython",
    "version": 3
   },
   "file_extension": ".py",
   "mimetype": "text/x-python",
   "name": "python",
   "nbconvert_exporter": "python",
   "pygments_lexer": "ipython3",
   "version": "3.6.3"
  }
 },
 "nbformat": 4,
 "nbformat_minor": 2
}
