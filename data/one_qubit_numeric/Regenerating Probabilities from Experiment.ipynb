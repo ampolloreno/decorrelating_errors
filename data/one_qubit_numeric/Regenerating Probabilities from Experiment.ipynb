{
 "cells": [
  {
   "cell_type": "code",
   "execution_count": 19,
   "metadata": {},
   "outputs": [],
   "source": [
    "def off_diagonal_vec(sop):\n",
    "    new_mat = []\n",
    "    for i, row in enumerate(sop):\n",
    "        for j, col in enumerate(row):\n",
    "            if i==j:\n",
    "                continue\n",
    "            new_mat.append(col)\n",
    "    return np.array(new_mat)"
   ]
  },
  {
   "cell_type": "code",
   "execution_count": 30,
   "metadata": {},
   "outputs": [],
   "source": [
    "def sop_to_ptm(sop):\n",
    "    ret = np.zeros((4,4))\n",
    "    for i, p in enumerate(ps):\n",
    "        for j, q in enumerate(ps):\n",
    "            ret[i][j] = np.trace(p.dot(sop.dot(q.dot(np.conj(sop.T)))))\n",
    "    return ret"
   ]
  },
  {
   "cell_type": "code",
   "execution_count": 42,
   "metadata": {},
   "outputs": [
    {
     "name": "stderr",
     "output_type": "stream",
     "text": [
      "/home/apolloreno/anaconda3/envs/estuary/lib/python3.7/site-packages/ipykernel_launcher.py:5: ComplexWarning: Casting complex values to real discards the imaginary part\n",
      "  \"\"\"\n"
     ]
    }
   ],
   "source": [
    "from scipy.linalg import expm\n",
    "import numpy as np\n",
    "from pauli_channel_approximation import off_diagonal_projection\n",
    "\n",
    "scales = [1.064, 1.039, .937, .912]\n",
    "x = np.array([[0, 1], [1, 0]])\n",
    "unitaries = []\n",
    "ps = [np.eye(2), x, np.array([[0, -1.j], [1.j, 0]]), np.array([[1, 0], [0, -1]])]\n",
    "pps = [np.kron(p, q) for p in ps for q in ps]\n",
    "vecs = []\n",
    "for scale in scales:\n",
    "    unitary = expm(-1.j * scale * np.pi/2 * x)\n",
    "    error =  np.conj(unitary.T).dot(x)\n",
    "    vecs.append(off_diagonal_vec(sop_to_ptm(error)))"
   ]
  },
  {
   "cell_type": "code",
   "execution_count": 53,
   "metadata": {},
   "outputs": [
    {
     "name": "stdout",
     "output_type": "stream",
     "text": [
      "Problem\n",
      "  Name                   :                 \n",
      "  Objective sense        : min             \n",
      "  Type                   : CONIC (conic optimization problem)\n",
      "  Constraints            : 22              \n",
      "  Cones                  : 1               \n",
      "  Scalar variables       : 18              \n",
      "  Matrix variables       : 0               \n",
      "  Integer variables      : 0               \n",
      "\n",
      "Optimizer started.\n",
      "Presolve started.\n",
      "Linear dependency checker started.\n",
      "Linear dependency checker terminated.\n",
      "Eliminator - tries                  : 0                 time                   : 0.00            \n",
      "Lin. dep.  - tries                  : 1                 time                   : 0.00            \n",
      "Lin. dep.  - number                 : 0               \n",
      "Presolve terminated. Time: 0.00    \n",
      "Problem\n",
      "  Name                   :                 \n",
      "  Objective sense        : min             \n",
      "  Type                   : CONIC (conic optimization problem)\n",
      "  Constraints            : 22              \n",
      "  Cones                  : 1               \n",
      "  Scalar variables       : 18              \n",
      "  Matrix variables       : 0               \n",
      "  Integer variables      : 0               \n",
      "\n",
      "Optimizer  - threads                : 4               \n",
      "Optimizer  - solved problem         : the primal      \n",
      "Optimizer  - Constraints            : 3\n",
      "Optimizer  - Cones                  : 1\n",
      "Optimizer  - Scalar variables       : 7                 conic                  : 3               \n",
      "Optimizer  - Semi-definite variables: 0                 scalarized             : 0               \n",
      "Factor     - setup time             : 0.00              dense det. time        : 0.00            \n",
      "Factor     - ML order time          : 0.00              GP order time          : 0.00            \n",
      "Factor     - nonzeros before factor : 6                 after factor           : 6               \n",
      "Factor     - dense dim.             : 0                 flops                  : 7.20e+01        \n",
      "ITE PFEAS    DFEAS    GFEAS    PRSTATUS   POBJ              DOBJ              MU       TIME  \n",
      "0   1.0e+00  0.0e+00  2.0e+00  0.00e+00   1.000000000e+00   0.000000000e+00   1.0e+00  0.01  \n",
      "1   2.1e-01  2.2e-16  2.0e+00  1.66e+00   4.798548282e-02   -1.866245393e-01  2.1e-01  0.05  \n",
      "2   9.7e-03  6.7e-16  3.1e-01  1.60e+00   3.604628860e-03   -2.282756887e-03  9.7e-03  0.05  \n",
      "3   9.8e-06  2.2e-16  9.9e-03  1.02e+00   3.734089871e-06   -2.192132331e-06  9.8e-06  0.05  \n",
      "4   1.4e-10  4.4e-16  2.9e-10  1.00e+00   2.630479835e-11   -9.139266793e-11  1.4e-10  0.05  \n",
      "Optimizer terminated. Time: 0.06    \n",
      "\n",
      "\n",
      "Interior-point solution summary\n",
      "  Problem status  : PRIMAL_AND_DUAL_FEASIBLE\n",
      "  Solution status : OPTIMAL\n",
      "  Primal.  obj: 2.6304798351e-11    nrm: 1e+00    Viol.  con: 7e-11    var: 0e+00    cones: 4e-22  \n",
      "  Dual.    obj: -9.1392667931e-11   nrm: 1e+00    Viol.  con: 1e-11    var: 2e-16    cones: 0e+00  \n"
     ]
    }
   ],
   "source": [
    "omega = cp.Variable(4)\n",
    "constraints = [0 <= omega, omega <= 1, sum(omega) == 1]\n",
    "objective_argument = cp.norm(np.matrix(np.vstack(vecs).T) * omega)\n",
    "objective = cp.Minimize(objective_argument)\n",
    "prob = cp.Problem(objective, constraints)\n",
    "_ = prob.solve(solver=cp.MOSEK, verbose=True)\n",
    "res = omega.value"
   ]
  },
  {
   "cell_type": "code",
   "execution_count": 54,
   "metadata": {},
   "outputs": [
    {
     "data": {
      "text/plain": [
       "matrix([[0.3071617 ],\n",
       "        [0.28249117],\n",
       "        [0.21143395],\n",
       "        [0.19891318]])"
      ]
     },
     "execution_count": 54,
     "metadata": {},
     "output_type": "execute_result"
    }
   ],
   "source": [
    "res"
   ]
  },
  {
   "cell_type": "code",
   "execution_count": 15,
   "metadata": {},
   "outputs": [],
   "source": [
    "from pauli_channel_approximation import *"
   ]
  },
  {
   "cell_type": "code",
   "execution_count": 80,
   "metadata": {},
   "outputs": [
    {
     "name": "stderr",
     "output_type": "stream",
     "text": [
      "/home/apolloreno/anaconda3/envs/estuary/lib/python3.7/site-packages/ipykernel_launcher.py:5: ComplexWarning: Casting complex values to real discards the imaginary part\n",
      "  \"\"\"\n"
     ]
    },
    {
     "data": {
      "image/png": "[encoded data removed]",
      "text/plain": [
       "<Figure size 432x288 with 1 Axes>"
      ]
     },
     "metadata": {
      "needs_background": "light"
     },
     "output_type": "display_data"
    },
    {
     "data": {
      "image/png": "[encoded data removed]",
      "text/plain": [
       "<Figure size 432x288 with 1 Axes>"
      ]
     },
     "metadata": {
      "needs_background": "light"
     },
     "output_type": "display_data"
    },
    {
     "data": {
      "image/png": "[encoded data removed]",
      "text/plain": [
       "<Figure size 432x288 with 1 Axes>"
      ]
     },
     "metadata": {
      "needs_background": "light"
     },
     "output_type": "display_data"
    },
    {
     "data": {
      "image/png": "[encoded data removed]",
      "text/plain": [
       "<Figure size 432x288 with 1 Axes>"
      ]
     },
     "metadata": {
      "needs_background": "light"
     },
     "output_type": "display_data"
    },
    {
     "data": {
      "text/plain": [
       "<matplotlib.image.AxesImage at 0x7fa71dc15780>"
      ]
     },
     "execution_count": 80,
     "metadata": {},
     "output_type": "execute_result"
    },
    {
     "data": {
      "image/png": "[encoded data removed]",
      "text/plain": [
       "<Figure size 432x288 with 1 Axes>"
      ]
     },
     "metadata": {
      "needs_background": "light"
     },
     "output_type": "display_data"
    }
   ],
   "source": [
    "%matplotlib inline\n",
    "import matplotlib.pyplot as plt\n",
    "sops = []\n",
    "for scale in scales:\n",
    "    unitary = expm(-1.j * scale * np.pi/2 * x)\n",
    "    error =  np.conj(unitary.T).dot(x)\n",
    "    plt.imshow(sop_to_ptm(error))\n",
    "    plt.show()\n",
    "    sops.append(error)\n",
    "avg = np.zeros((4,4))\n",
    "for i, sop in enumerate(sops):\n",
    "    avg += res[i].tolist()[0][0] * sop_to_ptm(sop)\n",
    "plt.imshow(avg)"
   ]
  },
  {
   "cell_type": "code",
   "execution_count": null,
   "metadata": {},
   "outputs": [],
   "source": [
    "def off_diagonal_projection(sop):\n",
    "    \"\"\"\n",
    "    Computes a quantity proportional to the sum of the magnitudes of terms corresponding to non-stochastic evolution.\n",
    "\n",
    "    :param numpy.ndarry sop: Representation our operator as a superoperator, e.g. operating on vectorized density\n",
    "     matrices.\n",
    "    \"\"\"\n",
    "    basis = PAULIS\n",
    "    for _ in range(int(np.log2(sop.shape[0]) / 2.0) - 1):\n",
    "        basis = [np.kron(base, pauli) for pauli in PAULIS for base in basis]\n",
    "    off_diagonal = 0\n",
    "    for i, base1 in enumerate(basis):\n",
    "        for j, base2 in enumerate(basis):\n",
    "            if i != j:\n",
    "                off_diagonal += np.abs(np.trace(adjoint(np.kron(base1, base2)).dot(sop))) ** 2\n",
    "    return off_diagonal\n"
   ]
  }
 ],
 "metadata": {
  "kernelspec": {
   "display_name": "Python 3",
   "language": "python",
   "name": "python3"
  },
  "language_info": {
   "codemirror_mode": {
    "name": "ipython",
    "version": 3
   },
   "file_extension": ".py",
   "mimetype": "text/x-python",
   "name": "python",
   "nbconvert_exporter": "python",
   "pygments_lexer": "ipython3",
   "version": "3.7.3"
  }
 },
 "nbformat": 4,
 "nbformat_minor": 2
}
