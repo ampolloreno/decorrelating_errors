{
 "cells": [
  {
   "cell_type": "code",
   "execution_count": 54,
   "metadata": {},
   "outputs": [
    {
     "name": "stdout",
     "output_type": "stream",
     "text": [
      "Max weight is 0.5\n",
      "0 0 [0, 0] 0.8971804704189101\n",
      "0 1 [0, 1] 0.722841222779742\n",
      "0 2 [0, 2] 0.7114239619715841\n",
      "0 3 [0, 3] 0.8507271155002413\n",
      "1 0 [1, 0] 0.5806090538892216\n",
      "1 1 [1, 1] 0.9132364808669298\n",
      "1 2 [1, 2] 0.5864760545503399\n",
      "1 3 [1, 3] 0.7830629580840324\n",
      "2 0 [2, 0] 0.9825903668815545\n",
      "2 1 [2, 1] 0.5208852748866156\n",
      "2 2 [2, 2] 0.7537595690308942\n",
      "2 3 [2, 3] 0.31313713316781716\n",
      "3 0 [3, 0] 0.3018607560092106\n",
      "3 1 [3, 1] 0.7292789957937886\n",
      "3 2 [3, 2] 0.8789472759988742\n",
      "3 3 [3, 3] 0.026104901878586263\n"
     ]
    },
    {
     "data": {
      "image/png": "[encoded data removed]",
      "text/plain": [
       "<Figure size 432x288 with 1 Axes>"
      ]
     },
     "metadata": {},
     "output_type": "display_data"
    }
   ],
   "source": [
    "import numpy as np\n",
    "import matplotlib.pyplot as plt\n",
    "\n",
    "def hinton(matrix, max_weight=None, ax=None):\n",
    "    \"\"\"Draw Hinton diagram for visualizing a weight matrix.\"\"\"\n",
    "    ax = ax if ax is not None else plt.gca()\n",
    "\n",
    "    if not max_weight:\n",
    "        max_weight = 2 ** np.ceil(np.log(np.abs(matrix).max()) / np.log(2))\n",
    "    #else:\n",
    "    #    max_weight = 2 ** np.ceil(np.log(max_weight))\n",
    "    print(f\"Max weight is {max_weight}\")\n",
    "    ax.patch.set_facecolor('gray')\n",
    "    ax.set_aspect('equal', 'box')\n",
    "    ax.xaxis.set_major_locator(plt.NullLocator())\n",
    "    ax.yaxis.set_major_locator(plt.NullLocator())\n",
    "\n",
    "    for (x, y), w in np.ndenumerate(matrix):\n",
    "        color = 'white' if w > 0 else 'black'\n",
    "        if np.abs(w) < 1E-4:\n",
    "            color = 'grey'\n",
    "        size = np.sqrt(np.abs(w) / max_weight)\n",
    "        if size == 0:\n",
    "            size = 1\n",
    "        if size > 1:\n",
    "            print('warning')\n",
    "        print(x,y,[x, y], size)\n",
    "        rect = plt.Rectangle([x - size / 2, y - size / 2], size, size,\n",
    "                             facecolor=color, edgecolor = 'none')\n",
    "        ax.add_patch(rect)\n",
    "\n",
    "    ax.autoscale_view()\n",
    "    ax.invert_yaxis()\n",
    "\n",
    "\n",
    "if __name__ == '__main__':\n",
    "    # Fixing random state for reproducibility\n",
    "    np.random.seed(19)\n",
    "    hinton((np.random.rand(4,4)-.5))\n",
    "    plt.show()"
   ]
  },
  {
   "cell_type": "code",
   "execution_count": 2,
   "metadata": {},
   "outputs": [],
   "source": [
    "def off_diagonal_vec(sop):\n",
    "    new_mat = []\n",
    "    for i, row in enumerate(sop):\n",
    "        for j, col in enumerate(row):\n",
    "            if i==j:\n",
    "                continue\n",
    "            new_mat.append(col)\n",
    "    return np.array(new_mat)"
   ]
  },
  {
   "cell_type": "code",
   "execution_count": 3,
   "metadata": {},
   "outputs": [],
   "source": [
    "def sop_to_ptm(sop):\n",
    "    ret = np.zeros((4,4))\n",
    "    for i, p in enumerate(ps):\n",
    "        for j, q in enumerate(ps):\n",
    "            ret[i][j] = np.trace(p.dot(sop.dot(q.dot(np.conj(sop.T)))))\n",
    "    return ret"
   ]
  },
  {
   "cell_type": "code",
   "execution_count": 4,
   "metadata": {},
   "outputs": [
    {
     "name": "stderr",
     "output_type": "stream",
     "text": [
      "/Users/anthonypolloreno/.pyenv/versions/3.6.3/envs/default/lib/python3.6/site-packages/ipykernel_launcher.py:5: ComplexWarning: Casting complex values to real discards the imaginary part\n",
      "  \"\"\"\n"
     ]
    }
   ],
   "source": [
    "import cvxpy as cp\n",
    "from scipy.linalg import expm\n",
    "import numpy as np\n",
    "from pauli_channel_approximation import off_diagonal_projection\n",
    "\n",
    "scales = [1.064, 1.039, .937, .912]\n",
    "x = np.array([[0, 1], [1, 0]])\n",
    "unitaries = []\n",
    "ps = [np.eye(2), x, np.array([[0, -1.j], [1.j, 0]]), np.array([[1, 0], [0, -1]])]\n",
    "pps = [np.kron(p, q) for p in ps for q in ps]\n",
    "vecs = []\n",
    "for scale in scales:\n",
    "    unitary = expm(-1.j * scale * np.pi/2 * x)\n",
    "    error =  np.conj(unitary.T).dot(x)\n",
    "    vecs.append(off_diagonal_vec(sop_to_ptm(error)))"
   ]
  },
  {
   "cell_type": "code",
   "execution_count": 5,
   "metadata": {},
   "outputs": [
    {
     "name": "stdout",
     "output_type": "stream",
     "text": [
      "\n",
      "ECOS 2.0.7 - (C) embotech GmbH, Zurich Switzerland, 2012-15. Web: www.embotech.com/ECOS\n",
      "\n",
      "It     pcost       dcost      gap   pres   dres    k/t    mu     step   sigma     IR    |   BT\n",
      " 0  +0.000e+00  -4.000e+00  +2e+01  4e-01  1e-01  1e+00  2e+00    ---    ---    1  1  - |  -  - \n",
      " 1  -1.866e-01  -3.890e-01  +2e+00  5e-02  1e-02  3e-01  3e-01  0.8738  1e-01   1  1  1 |  0  0\n",
      " 2  -9.174e-03  -2.025e-02  +1e-01  2e-03  6e-04  1e-02  2e-02  0.9509  2e-03   2  2  2 |  0  0\n",
      " 3  -1.002e-04  -2.223e-04  +1e-03  2e-05  6e-06  1e-04  2e-04  0.9890  1e-04   3  2  2 |  0  0\n",
      " 4  -1.108e-06  -2.471e-06  +1e-05  3e-07  7e-08  1e-06  2e-06  0.9890  1e-04   5  3  3 |  0  0\n",
      " 5  -1.226e-08  -2.747e-08  +2e-07  3e-09  7e-10  2e-08  2e-08  0.9890  1e-04   1  1  1 |  0  0\n",
      " 6  -1.356e-10  -3.055e-10  +2e-09  3e-11  8e-12  2e-10  3e-10  0.9890  1e-04   2  0  0 |  0  0\n",
      "\n",
      "OPTIMAL (within feastol=3.2e-11, reltol=1.3e+01, abstol=1.7e-09).\n",
      "Runtime: 0.000340 seconds.\n",
      "\n"
     ]
    }
   ],
   "source": [
    "omega = cp.Variable(4)\n",
    "constraints = [0 <= omega, omega <= 1, sum(omega) == 1]\n",
    "objective_argument = cp.norm(np.matrix(np.vstack(vecs).T) * omega)\n",
    "objective = cp.Minimize(objective_argument)\n",
    "prob = cp.Problem(objective, constraints)\n",
    "_ = prob.solve(verbose=True)\n",
    "res = omega.value"
   ]
  },
  {
   "cell_type": "code",
   "execution_count": 6,
   "metadata": {},
   "outputs": [],
   "source": [
    "a = [[0.307 ],[0.283],[0.211],[0.199]]"
   ]
  },
  {
   "cell_type": "code",
   "execution_count": 7,
   "metadata": {},
   "outputs": [
    {
     "data": {
      "text/plain": [
       "1.0"
      ]
     },
     "execution_count": 7,
     "metadata": {},
     "output_type": "execute_result"
    }
   ],
   "source": [
    "sum([b[0] for b in a])"
   ]
  },
  {
   "cell_type": "code",
   "execution_count": 8,
   "metadata": {},
   "outputs": [],
   "source": [
    "from pauli_channel_approximation import *"
   ]
  },
  {
   "cell_type": "code",
   "execution_count": 9,
   "metadata": {},
   "outputs": [
    {
     "data": {
      "text/plain": [
       "array([0.30644043, 0.28329703, 0.21172833, 0.19853421])"
      ]
     },
     "execution_count": 9,
     "metadata": {},
     "output_type": "execute_result"
    }
   ],
   "source": [
    "res"
   ]
  },
  {
   "cell_type": "code",
   "execution_count": 10,
   "metadata": {},
   "outputs": [
    {
     "name": "stderr",
     "output_type": "stream",
     "text": [
      "/Users/anthonypolloreno/.pyenv/versions/3.6.3/envs/default/lib/python3.6/site-packages/ipykernel_launcher.py:5: ComplexWarning: Casting complex values to real discards the imaginary part\n",
      "  \"\"\"\n"
     ]
    },
    {
     "data": {
      "image/png": "[encoded data removed]",
      "text/plain": [
       "<Figure size 504x648 with 5 Axes>"
      ]
     },
     "metadata": {
      "needs_background": "light"
     },
     "output_type": "display_data"
    }
   ],
   "source": [
    "%matplotlib inline\n",
    "import matplotlib.pyplot as plt\n",
    "import matplotlib.gridspec as gridspec\n",
    "\n",
    "sops = []\n",
    "\n",
    "fig = plt.figure(figsize=(7, 9))\n",
    "gs = gridspec.GridSpec(nrows=3, ncols=2, height_ratios=[1, 1, 2])\n",
    "\n",
    "ax0 = fig.add_subplot(gs[0, 0])\n",
    "\n",
    "ax1 = fig.add_subplot(gs[0, 1])\n",
    "\n",
    "ax2 = fig.add_subplot(gs[1, 0])\n",
    "\n",
    "ax3 = fig.add_subplot(gs[1, 1])\n",
    "\n",
    "ax4 = fig.add_subplot(gs[2:, :])\n",
    "axes = [ax0,ax1,ax2,ax3]\n",
    "\n",
    "\n",
    "for i, scale in enumerate(scales):\n",
    "    unitary = expm(-1.j * scale * np.pi/2 * x)\n",
    "    error =  np.conj(unitary.T).dot(x)\n",
    "    #plt.subplot(subplots[i])\n",
    "    axes[i].imshow(sop_to_ptm(error))\n",
    "    sops.append(error)\n",
    "    \n",
    "avg = np.zeros((4,4))\n",
    "for i, sop in enumerate(sops):\n",
    "    avg += res[i] * sop_to_ptm(sop)\n",
    "ax4.imshow(avg)\n",
    "    # plt.show()\n",
    "# plt.imshow(avg)\n",
    "#plt.tight_layout()\n",
    "\n",
    "plt.tight_layout()\n",
    "plt.show()"
   ]
  },
  {
   "cell_type": "code",
   "execution_count": 11,
   "metadata": {},
   "outputs": [
    {
     "data": {
      "text/plain": [
       "[1.9999999999999887, 1.999999999999989, 1.9600616108078621, 1.9600616108078621]"
      ]
     },
     "execution_count": 11,
     "metadata": {},
     "output_type": "execute_result"
    }
   ],
   "source": [
    "[el for el in avg.flatten() if not np.isclose(0,el)]"
   ]
  },
  {
   "cell_type": "code",
   "execution_count": 12,
   "metadata": {},
   "outputs": [
    {
     "name": "stderr",
     "output_type": "stream",
     "text": [
      "/Users/anthonypolloreno/.pyenv/versions/3.6.3/envs/default/lib/python3.6/site-packages/ipykernel_launcher.py:5: ComplexWarning: Casting complex values to real discards the imaginary part\n",
      "  \"\"\"\n"
     ]
    },
    {
     "data": {
      "text/plain": [
       "array([[ 2.        ,  0.        ,  0.        ,  0.        ],\n",
       "       [ 0.        ,  2.        ,  0.        ,  0.        ],\n",
       "       [ 0.        ,  0.        ,  1.92405534, -0.54590387],\n",
       "       [ 0.        ,  0.        ,  0.54590387,  1.92405534]])"
      ]
     },
     "execution_count": 12,
     "metadata": {},
     "output_type": "execute_result"
    }
   ],
   "source": [
    "sop_to_ptm(error)"
   ]
  },
  {
   "cell_type": "code",
   "execution_count": 25,
   "metadata": {},
   "outputs": [
    {
     "name": "stderr",
     "output_type": "stream",
     "text": [
      "/Users/anthonypolloreno/.pyenv/versions/3.6.3/envs/default/lib/python3.6/site-packages/ipykernel_launcher.py:5: ComplexWarning: Casting complex values to real discards the imaginary part\n",
      "  \"\"\"\n",
      "/Users/anthonypolloreno/.pyenv/versions/3.6.3/envs/default/lib/python3.6/site-packages/ipykernel_launcher.py:68: UserWarning: This figure includes Axes that are not compatible with tight_layout, so results might be incorrect.\n"
     ]
    },
    {
     "name": "stdout",
     "output_type": "stream",
     "text": [
      "0.9981241282392747\n",
      "Max weight is 0.5\n",
      "0.9981241282392747\n",
      "Max weight is 0.25\n",
      "0.9981241282392747\n",
      "Max weight is 0.5\n",
      "0.9981241282392747\n",
      "Max weight is 1.0\n",
      "Max weight is 0.9981241282392747\n"
     ]
    },
    {
     "data": {
      "image/png": "[encoded data removed]",
      "text/plain": [
       "<Figure size 504x219.6 with 5 Axes>"
      ]
     },
     "metadata": {},
     "output_type": "display_data"
    }
   ],
   "source": [
    "%matplotlib inline\n",
    "import matplotlib.pyplot as plt\n",
    "import matplotlib.gridspec as gridspec\n",
    "MAX = MIN = 0\n",
    "sops = []\n",
    "CMAP = 'viridis'\n",
    "\n",
    "fig = plt.figure(figsize=(7,3.05), )\n",
    "gs = gridspec.GridSpec(nrows=2, ncols=3, height_ratios=[1,1], width_ratios=[1,1,2.69])\n",
    "gs.update(wspace=.1, hspace=.1)\n",
    "ax0 = fig.add_subplot(gs[0, 0])\n",
    "\n",
    "ax1 = fig.add_subplot(gs[0, 1])\n",
    "\n",
    "ax2 = fig.add_subplot(gs[1, 0])\n",
    "\n",
    "ax3 = fig.add_subplot(gs[1, 1])\n",
    "\n",
    "ax4 = fig.add_subplot(gs[:, 2:])\n",
    "axes = [ax0,ax1,ax2,ax3]\n",
    "\n",
    "\n",
    "def normalize(mat):\n",
    "    mat = np.copy(mat)\n",
    "    mat /= 2\n",
    "    return mat - np.eye(4)\n",
    "\n",
    "#get max min\n",
    "max_weight=0\n",
    "for i, scale in enumerate(scales):\n",
    "    unitary = expm(-1.j * scale * np.pi/2 * x)\n",
    "    mat =  np.conj(unitary.T).dot(x)\n",
    "    #plt.subplot(subplots[i])\n",
    "    ax = axes[i]\n",
    "    max_weight = max(np.max(np.abs(mat)),max_weight)\n",
    "    \n",
    "for i, scale in enumerate(scales):\n",
    "    unitary = expm(-1.j * scale * np.pi/2 * x)\n",
    "    error =  np.conj(unitary.T).dot(x)\n",
    "    #plt.subplot(subplots[i])\n",
    "    ax = axes[i]\n",
    "    mat = normalize(sop_to_ptm(error))\n",
    "    print(max_weight)\n",
    "    hinton(sop_to_ptm(error)-np.eye(4)*2, ax=ax)#, max_weight=max_weight)\n",
    "    #ax.imshow(mat, cmap=CMAP, vmax=MAX, vmin=MIN)\n",
    "    ax.get_xaxis().set_ticks([])\n",
    "    ax.get_yaxis().set_ticks([])\n",
    "    sops.append(sop_to_ptm(error))\n",
    "    \n",
    "def get_axis_limits(ax):\n",
    "    return ax.get_xlim()[0]+.12, (ax.get_ylim()[1]-ax.get_ylim()[0])*.82 + ax.get_ylim()[0]\n",
    "ax0.annotate('a)', xy=get_axis_limits(ax0), c='k',size=15)\n",
    "ax1.annotate('b)', xy=get_axis_limits(ax1), c='k',size=15)\n",
    "ax2.annotate('c)', xy=get_axis_limits(ax2), c='k',size=15)\n",
    "ax3.annotate('d)', xy=get_axis_limits(ax3), c='k',size=15)\n",
    "\n",
    "ax4.annotate('e)', xy=(ax.get_xlim()[0]+.32, ax.get_ylim()[1]+.56), c='k',size=15)\n",
    "avg = np.zeros((4,4))\n",
    "for i, sop in enumerate(sops):\n",
    "    avg += res[i]* sop\n",
    "hinton(normalize(avg), ax=ax4, max_weight=max_weight)\n",
    "#ax4.imshow(normalize(avg), cmap=CMAP, vmax=MAX, vmin=MIN)\n",
    "ax4.get_xaxis().set_ticks([])\n",
    "ax4.get_yaxis().set_ticks([])\n",
    "for PCM in ax.get_children():\n",
    "    if type(PCM) == matplotlib.image.AxesImage: break\n",
    "#plt.colorbar(PCM,ax=ax4)\n",
    "plt.tight_layout()\n",
    "plt.savefig(\"experimental-ptm.png\", dpi=500)"
   ]
  },
  {
   "cell_type": "code",
   "execution_count": 14,
   "metadata": {},
   "outputs": [
    {
     "name": "stderr",
     "output_type": "stream",
     "text": [
      "/Users/anthonypolloreno/.pyenv/versions/3.6.3/envs/default/lib/python3.6/site-packages/ipykernel_launcher.py:5: ComplexWarning: Casting complex values to real discards the imaginary part\n",
      "  \"\"\"\n",
      "/Users/anthonypolloreno/.pyenv/versions/3.6.3/envs/default/lib/python3.6/site-packages/ipykernel_launcher.py:67: UserWarning: This figure includes Axes that are not compatible with tight_layout, so results might be incorrect.\n"
     ]
    },
    {
     "data": {
      "image/png": "[encoded data removed]",
      "text/plain": [
       "<Figure size 504x219.6 with 6 Axes>"
      ]
     },
     "metadata": {
      "needs_background": "light"
     },
     "output_type": "display_data"
    }
   ],
   "source": [
    "%matplotlib inline\n",
    "import matplotlib.pyplot as plt\n",
    "import matplotlib.gridspec as gridspec\n",
    "MAX = MIN = 0\n",
    "sops = []\n",
    "CMAP = 'viridis'\n",
    "\n",
    "fig = plt.figure(figsize=(7,3.05), )\n",
    "gs = gridspec.GridSpec(nrows=2, ncols=3, height_ratios=[1,1], width_ratios=[1,1,2.69])\n",
    "gs.update(wspace=.1, hspace=.1)\n",
    "ax0 = fig.add_subplot(gs[0, 0])\n",
    "\n",
    "ax1 = fig.add_subplot(gs[0, 1])\n",
    "\n",
    "ax2 = fig.add_subplot(gs[1, 0])\n",
    "\n",
    "ax3 = fig.add_subplot(gs[1, 1])\n",
    "\n",
    "ax4 = fig.add_subplot(gs[:, 2:])\n",
    "axes = [ax0,ax1,ax2,ax3]\n",
    "\n",
    "\n",
    "def normalize(mat):\n",
    "    mat = np.copy(mat)\n",
    "    mat /= 2\n",
    "    return mat - np.eye(4)\n",
    "\n",
    "#get max min\n",
    "MIN = MAX = 0\n",
    "for i, scale in enumerate(scales):\n",
    "    unitary = expm(-1.j * scale * np.pi/2 * x)\n",
    "    mat =  np.conj(unitary.T).dot(x)\n",
    "    #plt.subplot(subplots[i])\n",
    "    ax = axes[i]\n",
    "    MAX = max(np.max(np.abs(mat)),MAX)\n",
    "    MIN = min(np.min(np.real(mat)),MIN)\n",
    "    \n",
    "    \n",
    "for i, scale in enumerate(scales):\n",
    "    unitary = expm(-1.j * scale * np.pi/2 * x)\n",
    "    error =  np.conj(unitary.T).dot(x)\n",
    "    #plt.subplot(subplots[i])\n",
    "    ax = axes[i]\n",
    "    mat = normalize(sop_to_ptm(error))\n",
    "    ax.imshow(mat, cmap=CMAP, vmax=MAX, vmin=MIN)\n",
    "    ax.get_xaxis().set_ticks([])\n",
    "    ax.get_yaxis().set_ticks([])\n",
    "    sops.append(sop_to_ptm(error))\n",
    "    \n",
    "def get_axis_limits(ax):\n",
    "    return ax.get_xlim()[0]+.12, (ax.get_ylim()[1]-ax.get_ylim()[0])*.82 + ax.get_ylim()[0]\n",
    "ax0.annotate('a)', xy=get_axis_limits(ax0), c='k',size=15)\n",
    "ax1.annotate('b)', xy=get_axis_limits(ax1), c='k',size=15)\n",
    "ax2.annotate('c)', xy=get_axis_limits(ax2), c='k',size=15)\n",
    "ax3.annotate('d)', xy=get_axis_limits(ax3), c='k',size=15)\n",
    "\n",
    "ax4.annotate('e)', xy=(ax.get_xlim()[0]+.32, ax.get_ylim()[1]+.56), c='k',size=15)\n",
    "avg = np.zeros((4,4))\n",
    "for i, sop in enumerate(sops):\n",
    "    avg += res[i]* sop\n",
    "ax4.imshow(normalize(avg), cmap=CMAP, vmax=MAX, vmin=MIN)\n",
    "ax4.get_xaxis().set_ticks([])\n",
    "ax4.get_yaxis().set_ticks([])\n",
    "for PCM in ax.get_children():\n",
    "    if type(PCM) == matplotlib.image.AxesImage: break\n",
    "plt.colorbar(PCM,ax=ax4)\n",
    "plt.tight_layout()\n",
    "plt.savefig(\"experimental-ptm.png\", dpi=500)"
   ]
  },
  {
   "cell_type": "code",
   "execution_count": 57,
   "metadata": {
    "scrolled": true
   },
   "outputs": [
    {
     "name": "stderr",
     "output_type": "stream",
     "text": [
      "/Users/anthonypolloreno/.pyenv/versions/3.6.3/envs/default/lib/python3.6/site-packages/ipykernel_launcher.py:5: ComplexWarning: Casting complex values to real discards the imaginary part\n",
      "  \"\"\"\n",
      "/Users/anthonypolloreno/.pyenv/versions/3.6.3/envs/default/lib/python3.6/site-packages/ipykernel_launcher.py:69: UserWarning: This figure includes Axes that are not compatible with tight_layout, so results might be incorrect.\n"
     ]
    },
    {
     "name": "stdout",
     "output_type": "stream",
     "text": [
      "Max weight is 1.0000000000000002\n",
      "0 0 [0, 0] 1.0536712127723507e-08\n",
      "0 1 [0, 1] 1\n",
      "0 2 [0, 2] 7.256320866150099e-09\n",
      "0 3 [0, 3] 1.0318071201510976e-08\n",
      "1 0 [1, 0] 1\n",
      "1 1 [1, 1] 1.0536712127723507e-08\n",
      "1 2 [1, 2] 1\n",
      "1 3 [1, 3] 1\n",
      "2 0 [2, 0] 1\n",
      "2 1 [2, 1] 1\n",
      "2 2 [2, 2] 9.972170012336121e-09\n",
      "2 3 [2, 3] 0.44839929731183453\n",
      "3 0 [3, 0] 1\n",
      "3 1 [3, 1] 1\n",
      "3 2 [3, 2] 0.4483992973118346\n",
      "3 3 [3, 3] 1.5676716552799983e-08\n",
      "Max weight is 1.0000000000000002\n",
      "0 0 [0, 0] 1.4901161193847653e-08\n",
      "0 1 [0, 1] 1\n",
      "0 2 [0, 2] 7.445917736254538e-09\n",
      "0 3 [0, 3] 1.8440910458972521e-09\n",
      "1 0 [1, 0] 1\n",
      "1 1 [1, 1] 1.4901161193847653e-08\n",
      "1 2 [1, 2] 1\n",
      "1 3 [1, 3] 1\n",
      "2 0 [2, 0] 1\n",
      "2 1 [2, 1] 1\n",
      "2 2 [2, 2] 1.6124300121632286e-08\n",
      "2 3 [2, 3] 0.35003158927445677\n",
      "3 0 [3, 0] 1\n",
      "3 1 [3, 1] 1\n",
      "3 2 [3, 2] 0.35003158927445654\n",
      "3 3 [3, 3] 1.3085770322759832e-08\n",
      "Max weight is 1.0000000000000002\n",
      "0 0 [0, 0] 1\n",
      "0 1 [0, 1] 1\n",
      "0 2 [0, 2] 1.0383350971301743e-08\n",
      "0 3 [0, 3] 1.0052174392798177e-08\n",
      "1 0 [1, 0] 1\n",
      "1 1 [1, 1] 1.4901161193847653e-08\n",
      "1 2 [1, 2] 1\n",
      "1 3 [1, 3] 1\n",
      "2 0 [2, 0] 1\n",
      "2 1 [2, 1] 1\n",
      "2 2 [2, 2] 1.3808960951187085e-08\n",
      "2 3 [2, 3] 0.4448823857787095\n",
      "3 0 [3, 0] 1\n",
      "3 1 [3, 1] 1\n",
      "3 2 [3, 2] 0.4448823857787094\n",
      "3 3 [3, 3] 1.796633418668695e-08\n",
      "Max weight is 1.0000000000000002\n",
      "0 0 [0, 0] 1\n",
      "0 1 [0, 1] 1\n",
      "0 2 [0, 2] 1\n",
      "0 3 [0, 3] 1\n",
      "1 0 [1, 0] 1\n",
      "1 1 [1, 1] 1\n",
      "1 2 [1, 2] 1\n",
      "1 3 [1, 3] 1\n",
      "2 0 [2, 0] 1\n",
      "2 1 [2, 1] 1\n",
      "2 2 [2, 2] 1.5629723054957456e-08\n",
      "2 3 [2, 3] 0.525794782701294\n",
      "3 0 [3, 0] 1\n",
      "3 1 [3, 1] 1\n",
      "3 2 [3, 2] 0.5257947827012942\n",
      "3 3 [3, 3] 4.4033766104894954e-09\n",
      "Max weight is 1.0000000000000002\n",
      "0 0 [0, 0] 7.524717553229697e-08\n",
      "0 1 [0, 1] 1\n",
      "0 2 [0, 2] 4.216438558954455e-09\n",
      "0 3 [0, 3] 3.2590740415909762e-09\n",
      "1 0 [1, 0] 1\n",
      "1 1 [1, 1] 7.450580596923837e-08\n",
      "1 2 [1, 2] 1\n",
      "1 3 [1, 3] 1\n",
      "2 0 [2, 0] 1\n",
      "2 1 [2, 1] 1\n",
      "2 2 [2, 2] 0.1420256094016703\n",
      "2 3 [2, 3] 4.485421373887182e-07\n",
      "3 0 [3, 0] 1\n",
      "3 1 [3, 1] 1\n",
      "3 2 [3, 2] 4.490704493886282e-07\n",
      "3 3 [3, 3] 0.14202560940167053\n"
     ]
    },
    {
     "data": {
      "image/png": "[encoded data removed]",
      "text/plain": [
       "<Figure size 504x219.6 with 5 Axes>"
      ]
     },
     "metadata": {},
     "output_type": "display_data"
    }
   ],
   "source": [
    "%matplotlib inline\n",
    "import matplotlib.pyplot as plt\n",
    "import matplotlib.gridspec as gridspec\n",
    "MAX = MIN = 0\n",
    "sops = []\n",
    "CMAP = 'viridis'\n",
    "\n",
    "fig = plt.figure(figsize=(7,3.05), )\n",
    "gs = gridspec.GridSpec(nrows=2, ncols=3, height_ratios=[1,1], width_ratios=[1,1,2])\n",
    "gs.update(wspace=.1, hspace=.1)\n",
    "ax0 = fig.add_subplot(gs[0, 0])\n",
    "\n",
    "ax1 = fig.add_subplot(gs[0, 1])\n",
    "\n",
    "ax2 = fig.add_subplot(gs[1, 0])\n",
    "\n",
    "ax3 = fig.add_subplot(gs[1, 1])\n",
    "\n",
    "ax4 = fig.add_subplot(gs[:, 2:])\n",
    "axes = [ax0,ax1,ax2,ax3]\n",
    "\n",
    "\n",
    "def normalize(mat):\n",
    "    mat = np.copy(mat)\n",
    "    mat /= 2\n",
    "    return mat\n",
    "\n",
    "#get max min\n",
    "max_weight=0\n",
    "for i, scale in enumerate(scales):\n",
    "    unitary = expm(-1.j * scale * np.pi/2 * x)\n",
    "    error =  np.conj(unitary.T).dot(x)\n",
    "    #plt.subplot(subplots[i])\n",
    "    ax = axes[i]\n",
    "    mat = normalize(sop_to_ptm(error))\n",
    "    max_weight = max(np.max(np.abs(mat)),max_weight)\n",
    "    \n",
    "for i, scale in enumerate(scales):\n",
    "    unitary = expm(-1.j * scale * np.pi/2 * x)\n",
    "    error =  np.conj(unitary.T).dot(x)\n",
    "    #plt.subplot(subplots[i])\n",
    "    ax = axes[i]\n",
    "    mat = normalize(sop_to_ptm(error))\n",
    "\n",
    "    hinton(scipy.linalg.logm(sop_to_ptm(error)/2), ax=ax, max_weight=max_weight)\n",
    "    #ax.imshow(mat, cmap=CMAP, vmax=MAX, vmin=MIN)\n",
    "    ax.get_xaxis().set_ticks([])\n",
    "    ax.get_yaxis().set_ticks([])\n",
    "    sops.append(sop_to_ptm(error))\n",
    "    \n",
    "def get_axis_limits(ax):\n",
    "    return ax.get_xlim()[0]+.12, (ax.get_ylim()[1]-ax.get_ylim()[0])*.82 + ax.get_ylim()[0]\n",
    "ax0.annotate('a)', xy=get_axis_limits(ax0), c='k',size=15)\n",
    "ax1.annotate('b)', xy=get_axis_limits(ax1), c='k',size=15)\n",
    "ax2.annotate('c)', xy=get_axis_limits(ax2), c='k',size=15)\n",
    "ax3.annotate('d)', xy=get_axis_limits(ax3), c='k',size=15)\n",
    "\n",
    "ax4.annotate('e)', xy=(ax.get_xlim()[0]+.32, ax.get_ylim()[1]+.56), c='k',size=15)\n",
    "avg = np.zeros((4,4))\n",
    "for i, sop in enumerate(sops):\n",
    "    avg += res[i]* sop\n",
    "hinton(scipy.linalg.logm(avg/2), ax=ax4, max_weight=max_weight)\n",
    "#ax4.imshow(normalize(avg), cmap=CMAP, vmax=MAX, vmin=MIN)\n",
    "ax4.get_xaxis().set_ticks([])\n",
    "ax4.get_yaxis().set_ticks([])\n",
    "for PCM in ax.get_children():\n",
    "    if type(PCM) == matplotlib.image.AxesImage: break\n",
    "#plt.colorbar(PCM,ax=ax4)\n",
    "plt.tight_layout()\n",
    "plt.savefig(\"experimental-ptm.png\", dpi=500)"
   ]
  },
  {
   "cell_type": "code",
   "execution_count": 18,
   "metadata": {},
   "outputs": [
    {
     "name": "stdout",
     "output_type": "stream",
     "text": [
      "[[ 2.00000000e+00  0.00000000e+00 -3.52004953e-17 -2.10303101e-17]\n",
      " [ 0.00000000e+00  2.00000000e+00  0.00000000e+00  0.00000000e+00]\n",
      " [-6.39646399e-17  0.00000000e+00  1.96006161e+00  3.95017352e-13]\n",
      " [-2.10303101e-17  0.00000000e+00 -3.95017352e-13  1.96006161e+00]]\n"
     ]
    }
   ],
   "source": [
    "print(avg)"
   ]
  },
  {
   "cell_type": "code",
   "execution_count": 194,
   "metadata": {},
   "outputs": [
    {
     "data": {
      "text/plain": [
       "Text(0.5, 1.0, 'gs[-1, -2]')"
      ]
     },
     "execution_count": 194,
     "metadata": {},
     "output_type": "execute_result"
    },
    {
     "data": {
      "image/png": "[encoded data removed]",
      "text/plain": [
       "<Figure size 432x288 with 5 Axes>"
      ]
     },
     "metadata": {
      "needs_background": "light"
     },
     "output_type": "display_data"
    }
   ],
   "source": [
    "fig3 = plt.figure(constrained_layout=True)\n",
    "gs = fig3.add_gridspec(3, 3)\n",
    "f3_ax1 = fig3.add_subplot(gs[0, :])\n",
    "f3_ax1.set_title('gs[0, :]')\n",
    "f3_ax2 = fig3.add_subplot(gs[1, :-1])\n",
    "f3_ax2.set_title('gs[1, :-1]')\n",
    "f3_ax3 = fig3.add_subplot(gs[1:, -1])\n",
    "f3_ax3.set_title('gs[1:, -1]')\n",
    "f3_ax4 = fig3.add_subplot(gs[-1, 0])\n",
    "f3_ax4.set_title('gs[-1, 0]')\n",
    "f3_ax5 = fig3.add_subplot(gs[-1, -2])\n",
    "f3_ax5.set_title('gs[-1, -2]')"
   ]
  },
  {
   "cell_type": "code",
   "execution_count": 195,
   "metadata": {},
   "outputs": [
    {
     "ename": "IndexError",
     "evalue": "index 5 is out of bounds for axis 0 with size 2",
     "output_type": "error",
     "traceback": [
      "\u001b[0;31m---------------------------------------------------------------------------\u001b[0m",
      "\u001b[0;31mIndexError\u001b[0m                                Traceback (most recent call last)",
      "\u001b[0;32m<ipython-input-195-25543be72d39>\u001b[0m in \u001b[0;36m<module>\u001b[0;34m\u001b[0m\n\u001b[1;32m      7\u001b[0m \u001b[0;31m#f3_ax3 = fig3.add_subplot(gs[2, 4] + gs[6, 8])\u001b[0m\u001b[0;34m\u001b[0m\u001b[0;34m\u001b[0m\u001b[0m\n\u001b[1;32m      8\u001b[0m \u001b[0mf3_ax3\u001b[0m\u001b[0;34m.\u001b[0m\u001b[0mset_title\u001b[0m\u001b[0;34m(\u001b[0m\u001b[0;34m'gs[1:, -1]'\u001b[0m\u001b[0;34m)\u001b[0m\u001b[0;34m\u001b[0m\u001b[0m\n\u001b[0;32m----> 9\u001b[0;31m \u001b[0mf3_ax4\u001b[0m \u001b[0;34m=\u001b[0m \u001b[0mfig3\u001b[0m\u001b[0;34m.\u001b[0m\u001b[0madd_subplot\u001b[0m\u001b[0;34m(\u001b[0m\u001b[0mgs\u001b[0m\u001b[0;34m[\u001b[0m\u001b[0;36m5\u001b[0m\u001b[0;34m,\u001b[0m\u001b[0;36m6\u001b[0m\u001b[0;34m]\u001b[0m\u001b[0;34m)\u001b[0m\u001b[0;34m\u001b[0m\u001b[0m\n\u001b[0m\u001b[1;32m     10\u001b[0m \u001b[0mf3_ax4\u001b[0m\u001b[0;34m.\u001b[0m\u001b[0mset_title\u001b[0m\u001b[0;34m(\u001b[0m\u001b[0;34m'gs[-1, 0]'\u001b[0m\u001b[0;34m)\u001b[0m\u001b[0;34m\u001b[0m\u001b[0m\n\u001b[1;32m     11\u001b[0m \u001b[0mf3_ax5\u001b[0m \u001b[0;34m=\u001b[0m \u001b[0mfig3\u001b[0m\u001b[0;34m.\u001b[0m\u001b[0madd_subplot\u001b[0m\u001b[0;34m(\u001b[0m\u001b[0mgs\u001b[0m\u001b[0;34m[\u001b[0m\u001b[0;36m6\u001b[0m\u001b[0;34m,\u001b[0m\u001b[0;36m7\u001b[0m\u001b[0;34m]\u001b[0m\u001b[0;34m)\u001b[0m\u001b[0;34m\u001b[0m\u001b[0m\n",
      "\u001b[0;32m~/.pyenv/versions/3.6.3/envs/default/lib/python3.6/site-packages/matplotlib/gridspec.py\u001b[0m in \u001b[0;36m__getitem__\u001b[0;34m(self, key)\u001b[0m\n\u001b[1;32m    228\u001b[0m                 \u001b[0;32mraise\u001b[0m \u001b[0mValueError\u001b[0m\u001b[0;34m(\u001b[0m\u001b[0;34m\"unrecognized subplot spec\"\u001b[0m\u001b[0;34m)\u001b[0m\u001b[0;34m\u001b[0m\u001b[0m\n\u001b[1;32m    229\u001b[0m             num1, num2 = np.ravel_multi_index(\n\u001b[0;32m--> 230\u001b[0;31m                 \u001b[0;34m[\u001b[0m\u001b[0m_normalize\u001b[0m\u001b[0;34m(\u001b[0m\u001b[0mk1\u001b[0m\u001b[0;34m,\u001b[0m \u001b[0mnrows\u001b[0m\u001b[0;34m,\u001b[0m \u001b[0;36m0\u001b[0m\u001b[0;34m)\u001b[0m\u001b[0;34m,\u001b[0m \u001b[0m_normalize\u001b[0m\u001b[0;34m(\u001b[0m\u001b[0mk2\u001b[0m\u001b[0;34m,\u001b[0m \u001b[0mncols\u001b[0m\u001b[0;34m,\u001b[0m \u001b[0;36m1\u001b[0m\u001b[0;34m)\u001b[0m\u001b[0;34m]\u001b[0m\u001b[0;34m,\u001b[0m\u001b[0;34m\u001b[0m\u001b[0m\n\u001b[0m\u001b[1;32m    231\u001b[0m                 (nrows, ncols))\n\u001b[1;32m    232\u001b[0m         \u001b[0;32melse\u001b[0m\u001b[0;34m:\u001b[0m  \u001b[0;31m# Single key\u001b[0m\u001b[0;34m\u001b[0m\u001b[0m\n",
      "\u001b[0;32m~/.pyenv/versions/3.6.3/envs/default/lib/python3.6/site-packages/matplotlib/gridspec.py\u001b[0m in \u001b[0;36m_normalize\u001b[0;34m(key, size, axis)\u001b[0m\n\u001b[1;32m    216\u001b[0m                     \u001b[0;32mreturn\u001b[0m \u001b[0mkey\u001b[0m\u001b[0;34m,\u001b[0m \u001b[0mkey\u001b[0m\u001b[0;34m\u001b[0m\u001b[0m\n\u001b[1;32m    217\u001b[0m                 \u001b[0;32melif\u001b[0m \u001b[0maxis\u001b[0m \u001b[0;32mis\u001b[0m \u001b[0;32mnot\u001b[0m \u001b[0;32mNone\u001b[0m\u001b[0;34m:\u001b[0m\u001b[0;34m\u001b[0m\u001b[0m\n\u001b[0;32m--> 218\u001b[0;31m                     raise IndexError(f\"index {orig_key} is out of bounds for \"\n\u001b[0m\u001b[1;32m    219\u001b[0m                                      f\"axis {axis} with size {size}\")\n\u001b[1;32m    220\u001b[0m                 \u001b[0;32melse\u001b[0m\u001b[0;34m:\u001b[0m  \u001b[0;31m# flat index\u001b[0m\u001b[0;34m\u001b[0m\u001b[0m\n",
      "\u001b[0;31mIndexError\u001b[0m: index 5 is out of bounds for axis 0 with size 2"
     ]
    },
    {
     "data": {
      "image/png": "[encoded data removed]",
      "text/plain": [
       "<Figure size 432x288 with 2 Axes>"
      ]
     },
     "metadata": {
      "needs_background": "light"
     },
     "output_type": "display_data"
    }
   ],
   "source": [
    "fig3 = plt.figure(constrained_layout=True)\n",
    "gs = fig3.add_gridspec(2,4)\n",
    "f3_ax1 = fig3.add_subplot(gs[0, 1])\n",
    "f3_ax1.set_title('gs[0, :]')\n",
    "f3_ax2 = fig3.add_subplot(gs[1, 2])\n",
    "f3_ax2.set_title('gs[1, :-1]')\n",
    "#f3_ax3 = fig3.add_subplot(gs[2, 4] + gs[6, 8])\n",
    "f3_ax3.set_title('gs[1:, -1]')\n",
    "f3_ax4 = fig3.add_subplot(gs[5,6])\n",
    "f3_ax4.set_title('gs[-1, 0]')\n",
    "f3_ax5 = fig3.add_subplot(gs[6,7])\n",
    "f3_ax5.set_title('gs[-1, -2]')"
   ]
  },
  {
   "cell_type": "code",
   "execution_count": null,
   "metadata": {},
   "outputs": [],
   "source": []
  },
  {
   "cell_type": "code",
   "execution_count": null,
   "metadata": {},
   "outputs": [],
   "source": []
  },
  {
   "cell_type": "code",
   "execution_count": null,
   "metadata": {},
   "outputs": [],
   "source": []
  }
 ],
 "metadata": {
  "kernelspec": {
   "display_name": "Python 3",
   "language": "python",
   "name": "python3"
  },
  "language_info": {
   "codemirror_mode": {
    "name": "ipython",
    "version": 3
   },
   "file_extension": ".py",
   "mimetype": "text/x-python",
   "name": "python",
   "nbconvert_exporter": "python",
   "pygments_lexer": "ipython3",
   "version": "3.6.3"
  }
 },
 "nbformat": 4,
 "nbformat_minor": 2
}
