{
 "cells": [
  {
   "cell_type": "code",
   "execution_count": 1,
   "metadata": {},
   "outputs": [],
   "source": [
    "%load_ext autoreload\n",
    "%autoreload 2"
   ]
  },
  {
   "cell_type": "code",
   "execution_count": 2,
   "metadata": {},
   "outputs": [],
   "source": [
    "import os\n",
    "import dill\n",
    "import numpy as np\n",
    "import random\n",
    "mypath = 'controls_106'\n",
    "_file = 'pickled_controls106.pkl'\n",
    "filename = os.path.join(mypath, _file)\n"
   ]
  },
  {
   "cell_type": "code",
   "execution_count": 3,
   "metadata": {},
   "outputs": [],
   "source": [
    "import numpy as np\n",
    "import dill\n",
    "pca = dill.load(open(filename, 'rb'))\n",
    "num_steps = 150\n",
    "dt = 5/2 * np.pi/num_steps\n",
    "pca.dt = dt\n",
    "pca.num_steps = num_steps"
   ]
  },
  {
   "cell_type": "code",
   "execution_count": 4,
   "metadata": {},
   "outputs": [],
   "source": [
    "# Keep every_ith control. Increase this if you want to decrease the number of controls being considered.\n",
    "every_ith = 64\n",
    "\n",
    "def bangbang(index, x, d1, d2, d3, d4, num_steps):\n",
    "    if x:\n",
    "        xory = 0\n",
    "    else:\n",
    "        xory = 1\n",
    "    dt = pca.dt\n",
    "    control_hamiltonians = pca.control_hamiltonians\n",
    "    controls = np.zeros((num_steps, int(len(pca.control_hamiltonians))))\n",
    "    choices = (np.random.rand(100) - .5)/20 + 1\n",
    "    controls[index, xory] = (1 / dt * np.pi / 2) * d1 * random.choice(choices)\n",
    "    controls[-(index+1), xory] = 1 / dt * np.pi / 2 * d2 * random.choice(choices)\n",
    "    controls[index, 2+xory] = 1 / dt * np.pi / 2 * d3 * random.choice(choices)\n",
    "    controls[-(index+1), 2+xory] = 1 / dt * np.pi / 2 * d4 * random.choice(choices)\n",
    "    return controls\n",
    "random.seed(100)\n",
    "np.random.seed(100)\n",
    "controls = []\n",
    "import itertools\n",
    "for directions in list(itertools.product([-1, 1], repeat=4)):\n",
    "    for x in (True, False):\n",
    "        for i in range(int(pca.controlset[0].shape[0]/2)):\n",
    "            if i % every_ith != 0:\n",
    "                continue\n",
    "            controls.append(bangbang(i, x, *directions, num_steps))\n",
    "# Add on the do-nothing control\n",
    "pca.controlset = []\n",
    "pca.controlset += controls\n",
    "pca.num_controls = len(pca.controlset)\n",
    "pca.weights = None"
   ]
  },
  {
   "cell_type": "code",
   "execution_count": 5,
   "metadata": {
    "scrolled": true
   },
   "outputs": [
    {
     "name": "stdout",
     "output_type": "stream",
     "text": [
      "Control 0 derivative.\n",
      "Control 1 derivative.\n",
      "Control 2 derivative.\n",
      "Control 3 derivative.\n",
      "Control 4 derivative.\n",
      "Control 5 derivative.\n",
      "Control 6 derivative.\n",
      "Control 7 derivative.\n",
      "Control 8 derivative.\n",
      "Control 9 derivative.\n",
      "Control 10 derivative.\n",
      "Control 11 derivative.\n",
      "Control 12 derivative.\n",
      "Control 13 derivative.\n",
      "Control 14 derivative.\n",
      "Control 15 derivative.\n",
      "Control 16 derivative.\n",
      "Control 17 derivative.\n",
      "Control 18 derivative.\n",
      "Control 19 derivative.\n",
      "Control 20 derivative.\n",
      "Control 21 derivative.\n",
      "Control 22 derivative.\n",
      "Control 23 derivative.\n",
      "Control 24 derivative.\n",
      "Control 25 derivative.\n",
      "Control 26 derivative.\n",
      "Control 27 derivative.\n",
      "Control 28 derivative.\n",
      "Control 29 derivative.\n",
      "Control 30 derivative.\n",
      "Control 31 derivative.\n",
      "Control 0 derivative.\n",
      "Control 1 derivative.\n",
      "Control 2 derivative.\n",
      "Control 3 derivative.\n",
      "Control 4 derivative.\n",
      "Control 5 derivative.\n",
      "Control 6 derivative.\n",
      "Control 7 derivative.\n",
      "Control 8 derivative.\n",
      "Control 9 derivative.\n",
      "Control 10 derivative.\n",
      "Control 11 derivative.\n",
      "Control 12 derivative.\n",
      "Control 13 derivative.\n",
      "Control 14 derivative.\n",
      "Control 15 derivative.\n",
      "Control 16 derivative.\n",
      "Control 17 derivative.\n",
      "Control 18 derivative.\n",
      "Control 19 derivative.\n",
      "Control 20 derivative.\n",
      "Control 21 derivative.\n",
      "Control 22 derivative.\n",
      "Control 23 derivative.\n",
      "Control 24 derivative.\n",
      "Control 25 derivative.\n",
      "Control 26 derivative.\n",
      "Control 27 derivative.\n",
      "Control 28 derivative.\n",
      "Control 29 derivative.\n",
      "Control 30 derivative.\n",
      "Control 31 derivative.\n"
     ]
    }
   ],
   "source": [
    "from convex import all_derivs\n",
    "derivs = all_derivs(pca.controlset, pca.target_operator, pca.control_hamiltonians, pca.ambient_hamiltonian, pca.dt, 1)\n",
    "derivs[1] = [np.delete(d, 2, 0) for d in derivs[1]]"
   ]
  },
  {
   "cell_type": "code",
   "execution_count": 6,
   "metadata": {},
   "outputs": [],
   "source": [
    "# Confirm that the controls are reasonably good."
   ]
  },
  {
   "cell_type": "code",
   "execution_count": 7,
   "metadata": {},
   "outputs": [
    {
     "data": {
      "text/plain": [
       "[(0.9981097361325115+4.5319650809894085e-17j),\n",
       " (0.998503723599706+4.597017211338539e-17j),\n",
       " (-0.9992476196413403+1.3877787807814457e-17j),\n",
       " (-0.9985874165551238+2.7755575615628914e-17j),\n",
       " (-0.9981718071668184+1.0408340855860843e-16j),\n",
       " (-0.9983814514157926-6.938893903907228e-18j),\n",
       " (0.9989581070980047-2.3635607360183997e-17j),\n",
       " (0.9994735438881005-4.401860820291148e-17j),\n",
       " (-0.9993511150146507-5.204170427930421e-18j),\n",
       " (-0.9991195868785652+0j),\n",
       " (0.998500687646517+4.83554168928535e-17j),\n",
       " (0.9984238937099044+6.581107186987012e-17j),\n",
       " (0.99922310975359-2.927345865710862e-17j),\n",
       " (0.9984789130107695-7.936359902593892e-17j),\n",
       " (-0.998744580979547+8.326672684688674e-17j),\n",
       " (-0.9983743774670996+1.3877787807814457e-17j),\n",
       " (-0.9993029270009339-3.469446951953614e-18j),\n",
       " (-0.9991154353064089+0j),\n",
       " (0.9990735073914526-4.9439619065339e-17j),\n",
       " (0.9985226217305851-5.312590645178972e-17j),\n",
       " (0.9986052593009862+4.7488055154865094e-17j),\n",
       " (0.9986457084225331+6.678685382510707e-17j),\n",
       " (-0.9990982480165123-1.3877787807814457e-17j),\n",
       " (-0.9993799276756647+2.0816681711721685e-17j),\n",
       " (0.9997927005847692-5.898059818321144e-17j),\n",
       " (0.999549598990146-5.442694905877232e-17j),\n",
       " (-0.9987402366967137-1.3877787807814457e-17j),\n",
       " (-0.9991040107828009+4.163336342344337e-17j),\n",
       " (-0.9988520177056055-1.3877787807814457e-17j),\n",
       " (-0.9992443072119807+6.938893903907228e-18j),\n",
       " (0.998538725305143+4.119968255444917e-17j),\n",
       " (0.9993011826062359+4.85722573273506e-17j)]"
      ]
     },
     "execution_count": 7,
     "metadata": {},
     "output_type": "execute_result"
    }
   ],
   "source": [
    "import scipy\n",
    "[np.trace(scipy.linalg.expm(-1.j*d.reshape(4,4)))/4 for d in derivs[0]]"
   ]
  },
  {
   "cell_type": "code",
   "execution_count": 8,
   "metadata": {},
   "outputs": [],
   "source": [
    "import dill\n",
    "_file = open('derivs', 'wb')\n",
    "dill.dump(derivs, _file)"
   ]
  },
  {
   "cell_type": "code",
   "execution_count": 9,
   "metadata": {},
   "outputs": [],
   "source": [
    "import matplotlib.pyplot as plt\n",
    "def hist_and_support(weights, num=10):\n",
    "    plt.hist(weights)\n",
    "    np.argmax(weights)\n",
    "    top_idx = np.argsort(np.array(weights).T)[0][-num:]\n",
    "    top_values = [weights[i] for i in top_idx]\n",
    "    print(f\"SUPPORT:{np.sum(top_values)}\")\n",
    "    print(f\"NUM CONTROLS: {num}\")\n",
    "    return top_idx, np.sum(top_values)"
   ]
  },
  {
   "cell_type": "code",
   "execution_count": 10,
   "metadata": {},
   "outputs": [
    {
     "name": "stderr",
     "output_type": "stream",
     "text": [
      "/home/anthony/repos/decorrelating_errors/code/pauli_channel_approximation.py:2: UserWarning: \n",
      "This call to matplotlib.use() has no effect because the backend has already\n",
      "been chosen; matplotlib.use() must be called *before* pylab, matplotlib.pyplot,\n",
      "or matplotlib.backends is imported for the first time.\n",
      "\n",
      "The backend was *originally* set to 'module://ipykernel.pylab.backend_inline' by the following code:\n",
      "  File \"/home/anthony/.pyenv/versions/3.6.3/lib/python3.6/runpy.py\", line 193, in _run_module_as_main\n",
      "    \"__main__\", mod_spec)\n",
      "  File \"/home/anthony/.pyenv/versions/3.6.3/lib/python3.6/runpy.py\", line 85, in _run_code\n",
      "    exec(code, run_globals)\n",
      "  File \"/home/anthony/.pyenv/versions/3.6.3/envs/personal/lib/python3.6/site-packages/ipykernel_launcher.py\", line 16, in <module>\n",
      "    app.launch_new_instance()\n",
      "  File \"/home/anthony/.pyenv/versions/3.6.3/envs/personal/lib/python3.6/site-packages/traitlets/config/application.py\", line 658, in launch_instance\n",
      "    app.start()\n",
      "  File \"/home/anthony/.pyenv/versions/3.6.3/envs/personal/lib/python3.6/site-packages/ipykernel/kernelapp.py\", line 486, in start\n",
      "    self.io_loop.start()\n",
      "  File \"/home/anthony/.pyenv/versions/3.6.3/envs/personal/lib/python3.6/site-packages/tornado/ioloop.py\", line 888, in start\n",
      "    handler_func(fd_obj, events)\n",
      "  File \"/home/anthony/.pyenv/versions/3.6.3/envs/personal/lib/python3.6/site-packages/tornado/stack_context.py\", line 277, in null_wrapper\n",
      "    return fn(*args, **kwargs)\n",
      "  File \"/home/anthony/.pyenv/versions/3.6.3/envs/personal/lib/python3.6/site-packages/zmq/eventloop/zmqstream.py\", line 450, in _handle_events\n",
      "    self._handle_recv()\n",
      "  File \"/home/anthony/.pyenv/versions/3.6.3/envs/personal/lib/python3.6/site-packages/zmq/eventloop/zmqstream.py\", line 480, in _handle_recv\n",
      "    self._run_callback(callback, msg)\n",
      "  File \"/home/anthony/.pyenv/versions/3.6.3/envs/personal/lib/python3.6/site-packages/zmq/eventloop/zmqstream.py\", line 432, in _run_callback\n",
      "    callback(*args, **kwargs)\n",
      "  File \"/home/anthony/.pyenv/versions/3.6.3/envs/personal/lib/python3.6/site-packages/tornado/stack_context.py\", line 277, in null_wrapper\n",
      "    return fn(*args, **kwargs)\n",
      "  File \"/home/anthony/.pyenv/versions/3.6.3/envs/personal/lib/python3.6/site-packages/ipykernel/kernelbase.py\", line 283, in dispatcher\n",
      "    return self.dispatch_shell(stream, msg)\n",
      "  File \"/home/anthony/.pyenv/versions/3.6.3/envs/personal/lib/python3.6/site-packages/ipykernel/kernelbase.py\", line 233, in dispatch_shell\n",
      "    handler(stream, idents, msg)\n",
      "  File \"/home/anthony/.pyenv/versions/3.6.3/envs/personal/lib/python3.6/site-packages/ipykernel/kernelbase.py\", line 399, in execute_request\n",
      "    user_expressions, allow_stdin)\n",
      "  File \"/home/anthony/.pyenv/versions/3.6.3/envs/personal/lib/python3.6/site-packages/ipykernel/ipkernel.py\", line 208, in do_execute\n",
      "    res = shell.run_cell(code, store_history=store_history, silent=silent)\n",
      "  File \"/home/anthony/.pyenv/versions/3.6.3/envs/personal/lib/python3.6/site-packages/ipykernel/zmqshell.py\", line 537, in run_cell\n",
      "    return super(ZMQInteractiveShell, self).run_cell(*args, **kwargs)\n",
      "  File \"/home/anthony/.pyenv/versions/3.6.3/envs/personal/lib/python3.6/site-packages/IPython/core/interactiveshell.py\", line 2666, in run_cell\n",
      "    self.events.trigger('post_run_cell', result)\n",
      "  File \"/home/anthony/.pyenv/versions/3.6.3/envs/personal/lib/python3.6/site-packages/IPython/core/events.py\", line 88, in trigger\n",
      "    func(*args, **kwargs)\n",
      "  File \"/home/anthony/.pyenv/versions/3.6.3/envs/personal/lib/python3.6/site-packages/ipykernel/pylab/backend_inline.py\", line 160, in configure_once\n",
      "    activate_matplotlib(backend)\n",
      "  File \"/home/anthony/.pyenv/versions/3.6.3/envs/personal/lib/python3.6/site-packages/IPython/core/pylabtools.py\", line 311, in activate_matplotlib\n",
      "    matplotlib.pyplot.switch_backend(backend)\n",
      "  File \"/home/anthony/.pyenv/versions/3.6.3/envs/personal/lib/python3.6/site-packages/matplotlib/pyplot.py\", line 229, in switch_backend\n",
      "    matplotlib.use(newbackend, warn=False, force=True)\n",
      "  File \"/home/anthony/.pyenv/versions/3.6.3/envs/personal/lib/python3.6/site-packages/matplotlib/__init__.py\", line 1305, in use\n",
      "    reload(sys.modules['matplotlib.backends'])\n",
      "  File \"/home/anthony/.pyenv/versions/3.6.3/lib/python3.6/importlib/__init__.py\", line 166, in reload\n",
      "    _bootstrap._exec(spec, module)\n",
      "  File \"/home/anthony/.pyenv/versions/3.6.3/envs/personal/lib/python3.6/site-packages/matplotlib/backends/__init__.py\", line 14, in <module>\n",
      "    line for line in traceback.format_stack()\n",
      "\n",
      "\n",
      "  matplotlib.use('Agg')\n"
     ]
    }
   ],
   "source": [
    "from pauli_channel_approximation import PCA"
   ]
  },
  {
   "cell_type": "code",
   "execution_count": 11,
   "metadata": {
    "scrolled": false
   },
   "outputs": [
    {
     "name": "stdout",
     "output_type": "stream",
     "text": [
      "Problem\n",
      "  Name                   :                 \n",
      "  Objective sense        : min             \n",
      "  Type                   : CONIC (conic optimization problem)\n",
      "  Constraints            : 99              \n",
      "  Cones                  : 2               \n",
      "  Scalar variables       : 68              \n",
      "  Matrix variables       : 0               \n",
      "  Integer variables      : 0               \n",
      "\n",
      "Optimizer started.\n",
      "Presolve started.\n",
      "Linear dependency checker started.\n",
      "Linear dependency checker terminated.\n",
      "Eliminator - tries                  : 0                 time                   : 0.00            \n",
      "Lin. dep.  - tries                  : 1                 time                   : 0.00            \n",
      "Lin. dep.  - number                 : 0               \n",
      "Presolve terminated. Time: 0.00    \n",
      "Problem\n",
      "  Name                   :                 \n",
      "  Objective sense        : min             \n",
      "  Type                   : CONIC (conic optimization problem)\n",
      "  Constraints            : 99              \n",
      "  Cones                  : 2               \n",
      "  Scalar variables       : 68              \n",
      "  Matrix variables       : 0               \n",
      "  Integer variables      : 0               \n",
      "\n",
      "Optimizer  - threads                : 4               \n",
      "Optimizer  - solved problem         : the primal      \n",
      "Optimizer  - Constraints            : 29\n",
      "Optimizer  - Cones                  : 2\n",
      "Optimizer  - Scalar variables       : 62                conic                  : 30              \n",
      "Optimizer  - Semi-definite variables: 0                 scalarized             : 0               \n",
      "Factor     - setup time             : 0.00              dense det. time        : 0.00            \n",
      "Factor     - ML order time          : 0.00              GP order time          : 0.00            \n",
      "Factor     - nonzeros before factor : 435               after factor           : 435             \n",
      "Factor     - dense dim.             : 0                 flops                  : 3.12e+04        \n",
      "ITE PFEAS    DFEAS    GFEAS    PRSTATUS   POBJ              DOBJ              MU       TIME  \n",
      "0   1.0e+00  0.0e+00  3.0e+00  0.00e+00   2.000000000e+00   0.000000000e+00   1.0e+00  0.02  \n",
      "1   2.5e-01  1.1e-15  4.1e+00  1.62e+00   6.902119166e-02   -3.367559540e-01  2.5e-01  0.05  \n",
      "2   7.8e-02  7.1e-15  1.8e+00  3.71e+00   3.574389259e-02   3.621716005e-03   7.8e-02  0.05  \n",
      "3   1.5e-02  8.9e-15  8.8e-01  1.12e+00   5.921908880e-03   -2.579427403e-04  1.5e-02  0.05  \n",
      "4   2.6e-03  8.9e-15  9.8e-01  1.25e+00   1.386071874e-04   -1.026643901e-03  2.6e-03  0.05  \n",
      "5   3.5e-04  1.4e-14  5.0e-01  1.48e+00   1.068438351e-05   -1.115537975e-04  3.5e-04  0.05  \n",
      "6   1.0e-06  1.6e-14  2.7e-02  1.10e+00   2.935721768e-08   -3.159666450e-07  1.0e-06  0.05  \n",
      "7   4.1e-13  8.9e-15  1.2e-12  1.00e+00   1.157980261e-14   -1.246318394e-13  4.1e-13  0.05  \n",
      "Optimizer terminated. Time: 0.06    \n",
      "\n",
      "\n",
      "Interior-point solution summary\n",
      "  Problem status  : PRIMAL_AND_DUAL_FEASIBLE\n",
      "  Solution status : OPTIMAL\n",
      "  Primal.  obj: 1.1579802615e-14    nrm: 1e+00    Viol.  con: 5e-14    var: 0e+00    cones: 0e+00  \n",
      "  Dual.    obj: -1.2463183944e-13   nrm: 1e+00    Viol.  con: 0e+00    var: 1e-15    cones: 0e+00  \n"
     ]
    }
   ],
   "source": [
    "from convex import optimal_weights\n",
    "pca.weights_0 = optimal_weights(derivs[:1])"
   ]
  },
  {
   "cell_type": "code",
   "execution_count": 12,
   "metadata": {},
   "outputs": [],
   "source": [
    "num_weights = len(pca.weights_0)"
   ]
  },
  {
   "cell_type": "code",
   "execution_count": 13,
   "metadata": {},
   "outputs": [
    {
     "name": "stdout",
     "output_type": "stream",
     "text": [
      "SUPPORT:0.9999999999999531\n",
      "NUM CONTROLS: 32\n"
     ]
    },
    {
     "data": {
      "image/png": "[encoded data removed]",
      "text/plain": [
       "<matplotlib.figure.Figure at 0x7ffba21e19b0>"
      ]
     },
     "metadata": {},
     "output_type": "display_data"
    }
   ],
   "source": [
    "idx0, supp = hist_and_support(pca.weights_0, num_weights)"
   ]
  },
  {
   "cell_type": "code",
   "execution_count": 30,
   "metadata": {},
   "outputs": [
    {
     "name": "stdout",
     "output_type": "stream",
     "text": [
      "Problem\n",
      "  Name                   :                 \n",
      "  Objective sense        : min             \n",
      "  Type                   : CONIC (conic optimization problem)\n",
      "  Constraints            : 227             \n",
      "  Cones                  : 2               \n",
      "  Scalar variables       : 164             \n",
      "  Matrix variables       : 0               \n",
      "  Integer variables      : 0               \n",
      "\n",
      "Optimizer started.\n",
      "Presolve started.\n",
      "Linear dependency checker started.\n",
      "Linear dependency checker terminated.\n",
      "Eliminator started.\n",
      "Freed constraints in eliminator : 0\n",
      "Eliminator terminated.\n",
      "Eliminator started.\n",
      "Freed constraints in eliminator : 0\n",
      "Eliminator terminated.\n",
      "Eliminator - tries                  : 2                 time                   : 0.00            \n",
      "Lin. dep.  - tries                  : 1                 time                   : 0.00            \n",
      "Lin. dep.  - number                 : 0               \n",
      "Presolve terminated. Time: 0.01    \n",
      "Problem\n",
      "  Name                   :                 \n",
      "  Objective sense        : min             \n",
      "  Type                   : CONIC (conic optimization problem)\n",
      "  Constraints            : 227             \n",
      "  Cones                  : 2               \n",
      "  Scalar variables       : 164             \n",
      "  Matrix variables       : 0               \n",
      "  Integer variables      : 0               \n",
      "\n",
      "Optimizer  - threads                : 4               \n",
      "Optimizer  - solved problem         : the dual        \n",
      "Optimizer  - Constraints            : 26\n",
      "Optimizer  - Cones                  : 3\n",
      "Optimizer  - Scalar variables       : 198               conic                  : 156             \n",
      "Optimizer  - Semi-definite variables: 0                 scalarized             : 0               \n",
      "Factor     - setup time             : 0.00              dense det. time        : 0.00            \n",
      "Factor     - ML order time          : 0.00              GP order time          : 0.00            \n",
      "Factor     - nonzeros before factor : 351               after factor           : 351             \n",
      "Factor     - dense dim.             : 0                 flops                  : 1.01e+05        \n",
      "ITE PFEAS    DFEAS    GFEAS    PRSTATUS   POBJ              DOBJ              MU       TIME  \n",
      "0   4.0e+00  1.3e+00  1.0e+00  0.00e+00   0.000000000e+00   0.000000000e+00   1.0e+00  0.01  \n",
      "1   6.5e-01  2.1e-01  1.7e-01  -2.95e-01  4.620488673e+01   4.848545297e+01   1.6e-01  0.03  \n",
      "2   3.6e-01  1.2e-01  1.3e-01  6.96e-01   3.152700911e+01   3.274903625e+01   8.9e-02  0.03  \n",
      "3   2.5e-01  8.2e-02  1.0e-01  8.09e-01   5.445364353e+01   5.531647976e+01   6.2e-02  0.03  \n",
      "4   6.7e-02  2.2e-02  5.4e-02  8.58e-01   5.034011836e+01   5.055955056e+01   1.7e-02  0.03  \n",
      "5   1.7e-02  5.5e-03  2.7e-02  9.74e-01   5.172032651e+01   5.177694285e+01   4.2e-03  0.03  \n",
      "6   7.3e-03  2.4e-03  1.6e-02  9.02e-01   5.194230166e+01   5.197552148e+01   1.8e-03  0.03  \n",
      "7   4.8e-03  1.6e-03  6.9e-03  1.59e-02   5.244201143e+01   5.253338879e+01   1.2e-03  0.03  \n",
      "8   2.0e-03  6.6e-04  3.2e-03  1.89e-01   5.388398456e+01   5.396496117e+01   5.0e-04  0.03  \n",
      "9   6.7e-04  2.2e-04  1.3e-03  7.91e-02   5.568743152e+01   5.575065738e+01   1.7e-04  0.04  \n",
      "10  1.8e-04  5.9e-05  4.6e-04  3.86e-01   5.688513881e+01   5.692057751e+01   4.5e-05  0.04  \n",
      "11  5.0e-05  1.6e-05  1.8e-04  3.77e-01   5.773602947e+01   5.775369346e+01   1.3e-05  0.04  \n",
      "12  1.2e-05  4.0e-06  7.2e-05  5.95e-01   5.818402817e+01   5.819093423e+01   3.1e-06  0.04  \n",
      "13  2.3e-06  7.5e-07  2.5e-05  7.38e-01   5.835616729e+01   5.835811689e+01   5.7e-07  0.04  \n",
      "14  3.0e-07  9.9e-08  9.0e-06  9.10e-01   5.840149975e+01   5.840177309e+01   7.6e-08  0.04  \n",
      "15  6.4e-09  2.1e-09  1.3e-06  9.97e-01   5.840837425e+01   5.840837972e+01   1.6e-09  0.04  \n",
      "16  2.5e-10  1.5e-10  2.7e-07  1.00e+00   5.840851861e+01   5.840851882e+01   6.2e-11  0.04  \n",
      "Optimizer terminated. Time: 0.05    \n",
      "\n",
      "\n",
      "Interior-point solution summary\n",
      "  Problem status  : PRIMAL_AND_DUAL_FEASIBLE\n",
      "  Solution status : OPTIMAL\n",
      "  Primal.  obj: 5.8408518614e+01    nrm: 8e+00    Viol.  con: 3e-09    var: 0e+00    cones: 0e+00  \n",
      "  Dual.    obj: 5.8408518823e+01    nrm: 4e+15    Viol.  con: 0e+00    var: 8e-08    cones: 0e+00  \n"
     ]
    }
   ],
   "source": [
    "from convex import optimal_weights\n",
    "pca.weights = optimal_weights(derivs, l1_constraint=True, l1_param=1)"
   ]
  },
  {
   "cell_type": "code",
   "execution_count": 16,
   "metadata": {},
   "outputs": [
    {
     "name": "stdout",
     "output_type": "stream",
     "text": [
      "SUPPORT:0.9999999955913397\n",
      "NUM CONTROLS: 32\n"
     ]
    },
    {
     "data": {
      "image/png": "[encoded data removed]",
      "text/plain": [
       "<matplotlib.figure.Figure at 0x7ffb9d181048>"
      ]
     },
     "metadata": {},
     "output_type": "display_data"
    }
   ],
   "source": [
    "idx1, supp = hist_and_support(pca.weights, num_weights)"
   ]
  },
  {
   "cell_type": "code",
   "execution_count": 17,
   "metadata": {},
   "outputs": [],
   "source": [
    "pca0 = dill.load(open(filename, 'rb'))\n",
    "pca0.controlset = controls\n",
    "subweights =  np.array(pca.weights_0)[idx0]\n",
    "pca.controlset += controls\n",
    "pca0.controlset += [np.zeros(controls[0].shape)]\n",
    "pca0.weights = None\n",
    "\n",
    "\n",
    "pca0.num_controls = len(pca0.controlset)\n",
    "pca0.probs = list(np.array(subweights.T/sum(subweights)).T)"
   ]
  },
  {
   "cell_type": "code",
   "execution_count": 18,
   "metadata": {},
   "outputs": [],
   "source": [
    "pca1 = dill.load(open(filename, 'rb'))\n",
    "pca1.controlset = controls\n",
    "subweights = np.array(pca.weights)[idx1]\n",
    "pca.controlset += controls\n",
    "pca.controlset += [np.zeros(controls[0].shape)]\n",
    "pca.weights = None\n",
    "\n",
    "\n",
    "\n",
    "pca1.num_controls = len(pca1.controlset)\n",
    "pca1.probs = list(np.array(subweights.T/sum(subweights)).T)\n"
   ]
  },
  {
   "cell_type": "code",
   "execution_count": 19,
   "metadata": {},
   "outputs": [
    {
     "name": "stdout",
     "output_type": "stream",
     "text": [
      "ZEROTH ORDER: 2.2874916533806367e-15\n"
     ]
    }
   ],
   "source": [
    "import scipy\n",
    "order = 0\n",
    "# Zeroth order optimized weights\n",
    "print('ZEROTH ORDER: {}'.format(scipy.linalg.norm(np.matrix(np.array([d.flatten() for d in derivs[order]])[idx0]).T.dot(pca0.probs))))"
   ]
  },
  {
   "cell_type": "code",
   "execution_count": 20,
   "metadata": {},
   "outputs": [
    {
     "name": "stdout",
     "output_type": "stream",
     "text": [
      "SUM: [[7.29830692e-16+2.01502855e-15j]]\n"
     ]
    }
   ],
   "source": [
    "import scipy\n",
    "order = 0\n",
    "# Zeroth order optimized weights\n",
    "print(\"SUM: {}\".format(sum(np.matrix(np.array([d.flatten() for d in derivs[order]])[idx0]).T.dot(pca0.probs))))"
   ]
  },
  {
   "cell_type": "code",
   "execution_count": 21,
   "metadata": {
    "scrolled": true
   },
   "outputs": [
    {
     "name": "stdout",
     "output_type": "stream",
     "text": [
      "FIRST ORDER: 11.26863346619036\n"
     ]
    }
   ],
   "source": [
    "import scipy\n",
    "order = 1\n",
    "print('FIRST ORDER: {}'.format(scipy.linalg.norm(np.matrix(np.array([d.flatten() for d in derivs[order]])[idx0]).T.dot(pca0.probs))))"
   ]
  },
  {
   "cell_type": "code",
   "execution_count": 22,
   "metadata": {},
   "outputs": [
    {
     "name": "stdout",
     "output_type": "stream",
     "text": [
      "ZEROTH ORDER: 8.438103036804553e-09\n"
     ]
    }
   ],
   "source": [
    "import scipy\n",
    "order = 0\n",
    "# Zeroth order optimized weights\n",
    "print('ZEROTH ORDER: {}'.format(scipy.linalg.norm(np.matrix(np.array([d.flatten() for d in derivs[order]])[idx1]).T.dot(pca1.probs))))"
   ]
  },
  {
   "cell_type": "code",
   "execution_count": 23,
   "metadata": {},
   "outputs": [
    {
     "name": "stdout",
     "output_type": "stream",
     "text": [
      "SUM: [[4.31151046e-09+4.63911383e-16j]]\n"
     ]
    }
   ],
   "source": [
    "import scipy\n",
    "order = 0\n",
    "# Zeroth order optimized weights\n",
    "print(\"SUM: {}\".format(sum(np.matrix(np.array([d.flatten() for d in derivs[order]])[idx1]).T.dot(pca1.probs))))"
   ]
  },
  {
   "cell_type": "code",
   "execution_count": 24,
   "metadata": {},
   "outputs": [
    {
     "name": "stdout",
     "output_type": "stream",
     "text": [
      "FIRST ORDER: 9.712540308606224\n"
     ]
    }
   ],
   "source": [
    "import scipy\n",
    "order = 1\n",
    "print('FIRST ORDER: {}'.format(scipy.linalg.norm(np.matrix(np.array([d.flatten() for d in derivs[order]])[idx1]).T.dot(pca1.probs))))"
   ]
  },
  {
   "cell_type": "code",
   "execution_count": 25,
   "metadata": {},
   "outputs": [],
   "source": [
    "pca0.dt = dt\n",
    "pca1.dt = dt\n",
    "pca0.num_steps = num_steps\n",
    "pca1.num_steps = num_steps\n",
    "pca0.num_controls = len(pca0.controlset)\n",
    "pca1.num_controls = len(pca1.controlset)"
   ]
  },
  {
   "cell_type": "code",
   "execution_count": 26,
   "metadata": {},
   "outputs": [],
   "source": [
    "_file = 'pickled_controls106.pkl'\n",
    "# Save the weighted controls\n",
    "import dill\n",
    "dill.dump(pca0, open('0_' + _file, 'wb'))\n",
    "\n",
    "import dill\n",
    "dill.dump(pca1, open('1_' + _file, 'wb'))"
   ]
  },
  {
   "cell_type": "code",
   "execution_count": 27,
   "metadata": {},
   "outputs": [],
   "source": [
    "# Save the weighted controls\n",
    "import dill\n",
    "import os\n",
    "import numpy as np\n",
    "\n",
    "\n",
    "pca0 = dill.load(open('0_' + _file, 'rb'))\n",
    "pca1 = dill.load(open('1_' + _file, 'rb'))"
   ]
  },
  {
   "cell_type": "code",
   "execution_count": 28,
   "metadata": {},
   "outputs": [],
   "source": [
    "from pauli_channel_approximation import control_unitaries, error_unitary, off_diagonal_projection, adjoint\n",
    "import sys\n",
    "import itertools\n",
    "from itertools import product\n",
    "from copy import deepcopy\n",
    "from functools import reduce\n",
    "import numpy as np\n",
    "\n",
    "from diamond import diamond_norm, jamiolkowski\n",
    "\n",
    "def superoperator(unitary):\n",
    "\n",
    "    return np.kron(unitary.conj(), unitary)\n",
    "\n",
    "def choi_form(unitary):\n",
    "    return np.matrix(jamiolkowski(superoperator(unitary)))\n",
    "\n",
    "def diamond_distance(sopa, sopb):\n",
    "    rtn = (jamiolkowski(sopa) - jamiolkowski(sopb))/2\n",
    "    return diamond_norm(rtn)\n",
    "\n",
    "def compute_diamond_norm(data):\n",
    "    controlset, ambient_hamiltonian0, combo, dt, control_hamiltonians, target_operator, probs = data\n",
    "    print(\"DOING COMBO {}\".format(combo))\n",
    "    sys.stdout.flush()\n",
    "    fidelities = []\n",
    "    projs = []\n",
    "    sops = []\n",
    "    controlset_unitaries = []\n",
    "    d_norms = []\n",
    "\n",
    "    for i, controls in enumerate(controlset):\n",
    "        newcontrols = deepcopy(controls)\n",
    "        ambient_hamiltonian = [deepcopy(ah).astype(\"complex\") for ah in ambient_hamiltonian0]\n",
    "        for cnum, value in enumerate(combo):\n",
    "            cnum -= len(ambient_hamiltonian0)\n",
    "            if cnum >= 0:\n",
    "                newcontrols[:, cnum] = newcontrols[:, cnum] * (1 + value)\n",
    "            if cnum < 0:\n",
    "                if cnum == -1:\n",
    "                    ambient_hamiltonian[cnum] *= 1 + float(value)\n",
    "                else:\n",
    "                    ambient_hamiltonian[cnum] *= float(value)\n",
    "        step_unitaries = control_unitaries(ambient_hamiltonian,\n",
    "                                           control_hamiltonians, newcontrols,\n",
    "                                           dt)\n",
    "        unitary = reduce(lambda a, b: a.dot(b), step_unitaries)\n",
    "        sop = error_unitary(unitary, target_operator)\n",
    "        sops.append(sop)\n",
    "        print(\"Control {}\".format(i))\n",
    "        if i == 0:\n",
    "            d_norms.append(diamond_distance(sop, np.eye(sop.shape[0])))\n",
    "    avg_sop = reduce(lambda a, b: a + b, [prob * sops[i] for i, prob in enumerate(probs)])\n",
    "    d_norms.append(diamond_distance(avg_sop, np.eye(avg_sop.shape[0])))\n",
    "    return d_norms\n",
    "\n",
    "def generate_indices(num_points, order_desired):\n",
    "    num_indices = len(order_desired)\n",
    "    tuples = product(range(num_points), repeat=num_indices)\n",
    "    indices = [sum([num_points**(num_indices - 1 - order_desired[i]) * t[i] \n",
    "                    for i in range(num_indices)]) for t in tuples]\n",
    "    return indices"
   ]
  },
  {
   "cell_type": "code",
   "execution_count": null,
   "metadata": {
    "scrolled": true
   },
   "outputs": [
    {
     "name": "stdout",
     "output_type": "stream",
     "text": [
      "DOING COMBO [-0.0019952623149688785, 0, 0, 0, 0, 0, 0]\n",
      "Control 0\n",
      "Control 1\n",
      "Control 2\n",
      "Control 3\n",
      "Control 4\n",
      "Control 5\n",
      "Control 6\n",
      "Control 7\n",
      "Control 8\n",
      "Control 9\n",
      "Control 10\n",
      "Control 11\n",
      "Control 12\n",
      "Control 13\n",
      "Control 14\n",
      "Control 15\n",
      "Control 16\n",
      "Control 17\n",
      "Control 18\n",
      "Control 19\n",
      "Control 20\n",
      "Control 21\n",
      "Control 22\n",
      "Control 23\n",
      "Control 24\n",
      "Control 25\n",
      "Control 26\n",
      "Control 27\n",
      "Control 28\n",
      "Control 29\n",
      "Control 30\n",
      "Control 31\n",
      "Control 32\n",
      "DOING COMBO [0.0, 0, 0, 0, 0, 0, 0]\n",
      "Control 0\n",
      "Control 1\n",
      "Control 2\n",
      "Control 3\n",
      "Control 4\n",
      "Control 5\n",
      "Control 6\n",
      "Control 7\n",
      "Control 8\n",
      "Control 9\n",
      "Control 10\n",
      "Control 11\n",
      "Control 12\n",
      "Control 13\n",
      "Control 14\n",
      "Control 15\n",
      "Control 16\n",
      "Control 17\n",
      "Control 18\n",
      "Control 19\n",
      "Control 20\n",
      "Control 21\n",
      "Control 22\n",
      "Control 23\n",
      "Control 24\n",
      "Control 25\n",
      "Control 26\n",
      "Control 27\n",
      "Control 28\n",
      "Control 29\n",
      "Control 30\n",
      "Control 31\n",
      "Control 32\n",
      "DOING COMBO [0.0019952623149688785, 0, 0, 0, 0, 0, 0]\n",
      "Control 0\n",
      "Control 1\n",
      "Control 2\n",
      "Control 3\n",
      "Control 4\n",
      "Control 5\n",
      "Control 6\n",
      "Control 7\n",
      "Control 8\n",
      "Control 9\n",
      "Control 10\n",
      "Control 11\n",
      "Control 12\n",
      "Control 13\n",
      "Control 14\n",
      "Control 15\n",
      "Control 16\n",
      "Control 17\n",
      "Control 18\n",
      "Control 19\n",
      "Control 20\n",
      "Control 21\n",
      "Control 22\n",
      "Control 23\n",
      "Control 24\n",
      "Control 25\n",
      "Control 26\n",
      "Control 27\n",
      "Control 28\n",
      "Control 29\n",
      "Control 30\n",
      "Control 31\n",
      "Control 32\n",
      "DOING COMBO [-0.0019952623149688785, 0, 0, 0, 0, 0, 0]\n",
      "Control 0\n",
      "Control 1\n",
      "Control 2\n",
      "Control 3\n",
      "Control 4\n",
      "Control 5\n",
      "Control 6\n",
      "Control 7\n",
      "Control 8\n",
      "Control 9\n",
      "Control 10\n",
      "Control 11\n",
      "Control 12\n",
      "Control 13\n",
      "Control 14\n",
      "Control 15\n",
      "Control 16\n",
      "Control 17\n",
      "Control 18\n",
      "Control 19\n",
      "Control 20\n",
      "Control 21\n",
      "Control 22\n",
      "Control 23\n",
      "Control 24\n",
      "Control 25\n",
      "Control 26\n",
      "Control 27\n",
      "Control 28\n",
      "Control 29\n",
      "Control 30\n",
      "Control 31\n",
      "Control 32\n",
      "DOING COMBO [0.0, 0, 0, 0, 0, 0, 0]\n",
      "Control 0\n",
      "Control 1\n",
      "Control 2\n",
      "Control 3\n",
      "Control 4\n",
      "Control 5\n",
      "Control 6\n",
      "Control 7\n",
      "Control 8\n",
      "Control 9\n",
      "Control 10\n",
      "Control 11\n",
      "Control 12\n",
      "Control 13\n",
      "Control 14\n",
      "Control 15\n",
      "Control 16\n",
      "Control 17\n",
      "Control 18\n",
      "Control 19\n",
      "Control 20\n",
      "Control 21\n",
      "Control 22\n",
      "Control 23\n",
      "Control 24\n",
      "Control 25\n",
      "Control 26\n",
      "Control 27\n",
      "Control 28\n",
      "Control 29\n",
      "Control 30\n",
      "Control 31\n",
      "Control 32\n",
      "DOING COMBO [0.0019952623149688785, 0, 0, 0, 0, 0, 0]\n",
      "Control 0\n"
     ]
    }
   ],
   "source": [
    "import dill\n",
    "all_results = []\n",
    "base = np.logspace(-4.7, np.log(pca0.detunings[0][0])/np.log(10), 1)\n",
    "controls = np.concatenate([np.sort(-base),np.array([0]), base]) * 100\n",
    "combinations0 = [[det, 0, 0, 0, 0, 0, 0] for det in controls]\n",
    "combinations1 = [[0, det, 0, 0, 0, 0, 0] for det in controls]\n",
    "combinations2 = [[0, 0, det, 0, 0, 0, 0] for det in controls]\n",
    "combinations3 = [[0, 0, 0, det, det, 0, 0] for det in controls]\n",
    "combinations4 = [[0, 0, 0, 0, 0, det, det] for det in controls]\n",
    "\n",
    "for j, pca in enumerate((pca0, pca1)):\n",
    "    d_norms00 = []\n",
    "    for i in range(len(combinations0)):\n",
    "        combo = combinations0[i]\n",
    "        lst = [pca.controlset, pca.ambient_hamiltonian, combo, pca.dt,\n",
    "                pca.control_hamiltonians, pca.target_operator, pca.probs]\n",
    "        d_norms00.append(compute_diamond_norm(lst))\n",
    "        dill.dump(d_norms00, open('d_norms00_{}_{}'.format(i, j), 'wb'))\n",
    "for j, pca in enumerate((pca0, pca1)):\n",
    "    d_norms01 = []\n",
    "    for i in range(len(combinations1)):\n",
    "        combo = combinations1[i]\n",
    "        lst = [pca.controlset, pca.ambient_hamiltonian, combo, pca.dt,\n",
    "                pca.control_hamiltonians, pca.target_operator, pca.probs]\n",
    "        d_norms01.append(compute_diamond_norm(lst))\n",
    "        dill.dump(d_norms01, open('d_norms01_{}_{}'.format(i, j), 'wb'))\n",
    "# for j, pca in enumerate((pca0, pca1)):\n",
    "#     d_norms02 = []\n",
    "#     for i in range(len(combinations2)):\n",
    "#         combo = combinations2[i]\n",
    "#         lst = [pca.controlset, pca.ambient_hamiltonian, combo, pca.dt,\n",
    "#                 pca.control_hamiltonians, pca.target_operator, pca.probs]\n",
    "#         d_norms02.append(compute_diamond_norm(lst))\n",
    "#         dill.dump(d_norms02, open('d_norms02_{}_{}'.format(i, j), 'wb'))\n",
    "for j, pca in enumerate((pca0, pca1)):\n",
    "    d_norms03 = []\n",
    "    for i in range(len(combinations3)):\n",
    "        combo = combinations3[i]\n",
    "        lst = [pca.controlset, pca.ambient_hamiltonian, combo, pca.dt,\n",
    "                pca.control_hamiltonians, pca.target_operator, pca.probs]\n",
    "        d_norms03.append(compute_diamond_norm(lst))\n",
    "        dill.dump(d_norms03, open('d_norms03_{}_{}'.format(i, j), 'wb'))\n",
    "for j, pca in enumerate((pca0, pca1)):\n",
    "    d_norms04 = []\n",
    "    for i in range(len(combinations4)):\n",
    "        combo = combinations4[i]\n",
    "        lst = [pca.controlset, pca.ambient_hamiltonian, combo, pca.dt,\n",
    "                pca.control_hamiltonians, pca.target_operator, pca.probs]\n",
    "        d_norms04.append(compute_diamond_norm(lst))\n",
    "        dill.dump(d_norms04, open('d_norms04_{}_{}'.format(i, j), 'wb'))\n",
    "        \n",
    "#     all_results.extend([d_norms00, d_norms01, d_norms02, d_norms03, d_norms04])\n",
    "# dill.dump(all_results, open('all_results', 'wb'))"
   ]
  },
  {
   "cell_type": "code",
   "execution_count": null,
   "metadata": {},
   "outputs": [],
   "source": [
    "# import dill\n",
    "# import matplotlib.pyplot as plt\n",
    "# import numpy as np\n",
    "# %matplotlib inline\n",
    "# which_parameter = 1\n",
    "\n",
    "\n",
    "# d_norms00 = dill.load(open(\"d_norms0{}_2_0\".format(which_parameter), 'rb'))\n",
    "# d_norms10 = dill.load(open(\"d_norms0{}_2_1\".format(which_parameter), 'rb'))\n",
    "# controls = [-0.0019952623149688785, 0, 0.0019952623149688785]\n",
    "# for a, b in ((d_norms00, d_norms10),):# (diamond_norms01, diamond_norms11)):\n",
    "#     plt.figure(figsize=(10,6))\n",
    "#     plt.semilogy(controls, np.array(a).T[7], linewidth = 2, alpha=.6, color='#a6bddb', label=\"Member of 0RBC\", ls=\"-\");\n",
    "#     plt.semilogy(controls, np.array(b).T[7], linewidth = 2, alpha=.6, color='#a6bddb', label=\"Member of 1RBC\", ls=\"--\");\n",
    "\n",
    "\n",
    "#     plt.semilogy(controls, np.array(a).T[-1], linewidth = 3, alpha=1, color='#2b8cbe', label=\"0RBC\", ls=\"-\");\n",
    "#     plt.semilogy(controls,np.array(b).T[-1], linewidth = 3, alpha=1, color='#2b8cbe', label=\"1RBC\", ls=\"--\");\n",
    "#     plt.ylabel(\"Diamond Norm\")\n",
    "#     plt.xlabel(\"Detuning\")\n",
    "#     plt.legend()"
   ]
  },
  {
   "cell_type": "code",
   "execution_count": 40,
   "metadata": {},
   "outputs": [
    {
     "data": {
      "image/png": "[encoded data removed]",
      "text/plain": [
       "<matplotlib.figure.Figure at 0x7f655f1a4d68>"
      ]
     },
     "metadata": {},
     "output_type": "display_data"
    }
   ],
   "source": [
    "import dill\n",
    "import matplotlib.pyplot as plt\n",
    "import numpy as np\n",
    "%matplotlib inline\n",
    "which_parameter = 0\n",
    "\n",
    "\n",
    "d_norms00 = dill.load(open(\"d_norms0{}_2_0\".format(which_parameter), 'rb'))\n",
    "d_norms10 = dill.load(open(\"d_norms0{}_2_1\".format(which_parameter), 'rb'))\n",
    "controls = np.array([-0.0019952623149688785, 0, 0.0019952623149688785])*100\n",
    "for a, b in ((d_norms00, d_norms10),):# (diamond_norms01, diamond_norms11)):\n",
    "    plt.figure(figsize=(10,6))\n",
    "    plt.semilogy(controls, np.array(a).T[0], linewidth = 2, alpha=.6, color='#a6bddb', label=\"Member of 0RBC\", ls=\"-\");\n",
    "    plt.semilogy(controls, np.array(b).T[0], linewidth = 2, alpha=.6, color='#a6bddb', label=\"Member of 1RBC\", ls=\"--\");\n",
    "\n",
    "\n",
    "    plt.semilogy(controls, np.array(a).T[-1], linewidth = 3, alpha=1, color='#2b8cbe', label=\"0RBC\", ls=\"-\");\n",
    "    plt.semilogy(controls,np.array(b).T[-1], linewidth = 3, alpha=1, color='#2b8cbe', label=\"1RBC\", ls=\"--\");\n",
    "    plt.ylabel(\"Diamond Norm\")\n",
    "    plt.xlabel(\"Detuning\")\n",
    "    plt.legend()"
   ]
  },
  {
   "cell_type": "code",
   "execution_count": null,
   "metadata": {},
   "outputs": [],
   "source": []
  }
 ],
 "metadata": {
  "kernelspec": {
   "display_name": "Python 3",
   "language": "python",
   "name": "python3"
  },
  "language_info": {
   "codemirror_mode": {
    "name": "ipython",
    "version": 3
   },
   "file_extension": ".py",
   "mimetype": "text/x-python",
   "name": "python",
   "nbconvert_exporter": "python",
   "pygments_lexer": "ipython3",
   "version": "3.6.3"
  }
 },
 "nbformat": 4,
 "nbformat_minor": 2
}
