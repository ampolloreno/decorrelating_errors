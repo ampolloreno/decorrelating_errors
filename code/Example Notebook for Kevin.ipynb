{
 "cells": [
  {
   "cell_type": "code",
   "execution_count": 1,
   "metadata": {},
   "outputs": [],
   "source": [
    "%load_ext autoreload\n",
    "%autoreload 2\n"
   ]
  },
  {
   "cell_type": "code",
   "execution_count": 25,
   "metadata": {},
   "outputs": [],
   "source": [
    "from functools import reduce\n",
    "import scipy\n",
    "from copy import deepcopy\n",
    "from scipy.linalg import logm\n",
    "import numpy as np\n",
    "import dill\n",
    "import os\n",
    "from os.path import isfile, join\n",
    "import matplotlib.pyplot as plt"
   ]
  },
  {
   "cell_type": "code",
   "execution_count": 3,
   "metadata": {},
   "outputs": [],
   "source": [
    "mypath = 'controls_106'\n",
    "filename = os.path.join(mypath,'pickled_controls106.pkl')\n",
    "pca = dill.load(open(filename, 'rb'))"
   ]
  },
  {
   "cell_type": "markdown",
   "metadata": {},
   "source": [
    "# Look at the number of controls in the optimized weighting. In particular, they've been assigned WITHOUT cardinality constraints. "
   ]
  },
  {
   "cell_type": "code",
   "execution_count": 26,
   "metadata": {},
   "outputs": [],
   "source": [
    "def hist_and_support(weights, num=10):\n",
    "    plt.hist(weights)\n",
    "    plt.xlabel(\"Probability\")\n",
    "    plt.ylabel(\"Number of controls with probability\")\n",
    "    np.argmax(weights)\n",
    "    top_idx = np.argsort(np.array(weights).T)[0][-num:]\n",
    "    top_values = [weights[i] for i in top_idx]\n",
    "    print(f\"SUPPORT:{np.sum(top_values)}\")\n",
    "    print(f\"NUM CONTROLS: {num}\")\n",
    "    return top_idx"
   ]
  },
  {
   "cell_type": "code",
   "execution_count": 27,
   "metadata": {},
   "outputs": [
    {
     "name": "stdout",
     "output_type": "stream",
     "text": [
      "SUPPORT:0.7403542992952203\n",
      "NUM CONTROLS: 10\n"
     ]
    },
    {
     "data": {
      "text/plain": [
       "array([94,  5, 95, 35, 65, 34, 64, 33, 63, 38])"
      ]
     },
     "execution_count": 27,
     "metadata": {},
     "output_type": "execute_result"
    }
   ],
   "source": [
    "hist_and_support(pca.weights_0)"
   ]
  },
  {
   "cell_type": "code",
   "execution_count": 28,
   "metadata": {},
   "outputs": [
    {
     "name": "stdout",
     "output_type": "stream",
     "text": [
      "SUPPORT:0.9974527790223209\n",
      "NUM CONTROLS: 10\n"
     ]
    },
    {
     "data": {
      "text/plain": [
       "array([30, 60, 68, 26, 50, 44, 32, 62, 38, 56])"
      ]
     },
     "execution_count": 28,
     "metadata": {},
     "output_type": "execute_result"
    }
   ],
   "source": [
    "hist_and_support(pca.weights)"
   ]
  },
  {
   "cell_type": "markdown",
   "metadata": {},
   "source": [
    "# We can try preparing sparse solutions, but I haven't done this. It takes a while. The above solutions are very non-sparse. This will change the weights on the PCA object, so if you do run this, and you want the old weights, you'll need to reload the pickle above."
   ]
  },
  {
   "cell_type": "code",
   "execution_count": 7,
   "metadata": {},
   "outputs": [
    {
     "name": "stderr",
     "output_type": "stream",
     "text": [
      "/home/anthony/repos/decorrelating_errors/code/pauli_channel_approximation.py:2: UserWarning: \n",
      "This call to matplotlib.use() has no effect because the backend has already\n",
      "been chosen; matplotlib.use() must be called *before* pylab, matplotlib.pyplot,\n",
      "or matplotlib.backends is imported for the first time.\n",
      "\n",
      "The backend was *originally* set to 'module://ipykernel.pylab.backend_inline' by the following code:\n",
      "  File \"/home/anthony/.pyenv/versions/3.6.3/lib/python3.6/runpy.py\", line 193, in _run_module_as_main\n",
      "    \"__main__\", mod_spec)\n",
      "  File \"/home/anthony/.pyenv/versions/3.6.3/lib/python3.6/runpy.py\", line 85, in _run_code\n",
      "    exec(code, run_globals)\n",
      "  File \"/home/anthony/.pyenv/versions/3.6.3/envs/personal/lib/python3.6/site-packages/ipykernel_launcher.py\", line 16, in <module>\n",
      "    app.launch_new_instance()\n",
      "  File \"/home/anthony/.pyenv/versions/3.6.3/envs/personal/lib/python3.6/site-packages/traitlets/config/application.py\", line 658, in launch_instance\n",
      "    app.start()\n",
      "  File \"/home/anthony/.pyenv/versions/3.6.3/envs/personal/lib/python3.6/site-packages/ipykernel/kernelapp.py\", line 486, in start\n",
      "    self.io_loop.start()\n",
      "  File \"/home/anthony/.pyenv/versions/3.6.3/envs/personal/lib/python3.6/site-packages/tornado/ioloop.py\", line 888, in start\n",
      "    handler_func(fd_obj, events)\n",
      "  File \"/home/anthony/.pyenv/versions/3.6.3/envs/personal/lib/python3.6/site-packages/tornado/stack_context.py\", line 277, in null_wrapper\n",
      "    return fn(*args, **kwargs)\n",
      "  File \"/home/anthony/.pyenv/versions/3.6.3/envs/personal/lib/python3.6/site-packages/zmq/eventloop/zmqstream.py\", line 450, in _handle_events\n",
      "    self._handle_recv()\n",
      "  File \"/home/anthony/.pyenv/versions/3.6.3/envs/personal/lib/python3.6/site-packages/zmq/eventloop/zmqstream.py\", line 480, in _handle_recv\n",
      "    self._run_callback(callback, msg)\n",
      "  File \"/home/anthony/.pyenv/versions/3.6.3/envs/personal/lib/python3.6/site-packages/zmq/eventloop/zmqstream.py\", line 432, in _run_callback\n",
      "    callback(*args, **kwargs)\n",
      "  File \"/home/anthony/.pyenv/versions/3.6.3/envs/personal/lib/python3.6/site-packages/tornado/stack_context.py\", line 277, in null_wrapper\n",
      "    return fn(*args, **kwargs)\n",
      "  File \"/home/anthony/.pyenv/versions/3.6.3/envs/personal/lib/python3.6/site-packages/ipykernel/kernelbase.py\", line 283, in dispatcher\n",
      "    return self.dispatch_shell(stream, msg)\n",
      "  File \"/home/anthony/.pyenv/versions/3.6.3/envs/personal/lib/python3.6/site-packages/ipykernel/kernelbase.py\", line 233, in dispatch_shell\n",
      "    handler(stream, idents, msg)\n",
      "  File \"/home/anthony/.pyenv/versions/3.6.3/envs/personal/lib/python3.6/site-packages/ipykernel/kernelbase.py\", line 399, in execute_request\n",
      "    user_expressions, allow_stdin)\n",
      "  File \"/home/anthony/.pyenv/versions/3.6.3/envs/personal/lib/python3.6/site-packages/ipykernel/ipkernel.py\", line 208, in do_execute\n",
      "    res = shell.run_cell(code, store_history=store_history, silent=silent)\n",
      "  File \"/home/anthony/.pyenv/versions/3.6.3/envs/personal/lib/python3.6/site-packages/ipykernel/zmqshell.py\", line 537, in run_cell\n",
      "    return super(ZMQInteractiveShell, self).run_cell(*args, **kwargs)\n",
      "  File \"/home/anthony/.pyenv/versions/3.6.3/envs/personal/lib/python3.6/site-packages/IPython/core/interactiveshell.py\", line 2666, in run_cell\n",
      "    self.events.trigger('post_run_cell', result)\n",
      "  File \"/home/anthony/.pyenv/versions/3.6.3/envs/personal/lib/python3.6/site-packages/IPython/core/events.py\", line 88, in trigger\n",
      "    func(*args, **kwargs)\n",
      "  File \"/home/anthony/.pyenv/versions/3.6.3/envs/personal/lib/python3.6/site-packages/ipykernel/pylab/backend_inline.py\", line 160, in configure_once\n",
      "    activate_matplotlib(backend)\n",
      "  File \"/home/anthony/.pyenv/versions/3.6.3/envs/personal/lib/python3.6/site-packages/IPython/core/pylabtools.py\", line 311, in activate_matplotlib\n",
      "    matplotlib.pyplot.switch_backend(backend)\n",
      "  File \"/home/anthony/.pyenv/versions/3.6.3/envs/personal/lib/python3.6/site-packages/matplotlib/pyplot.py\", line 229, in switch_backend\n",
      "    matplotlib.use(newbackend, warn=False, force=True)\n",
      "  File \"/home/anthony/.pyenv/versions/3.6.3/envs/personal/lib/python3.6/site-packages/matplotlib/__init__.py\", line 1305, in use\n",
      "    reload(sys.modules['matplotlib.backends'])\n",
      "  File \"/home/anthony/.pyenv/versions/3.6.3/lib/python3.6/importlib/__init__.py\", line 166, in reload\n",
      "    _bootstrap._exec(spec, module)\n",
      "  File \"/home/anthony/.pyenv/versions/3.6.3/envs/personal/lib/python3.6/site-packages/matplotlib/backends/__init__.py\", line 14, in <module>\n",
      "    line for line in traceback.format_stack()\n",
      "\n",
      "\n",
      "  matplotlib.use('Agg')\n"
     ]
    },
    {
     "name": "stdout",
     "output_type": "stream",
     "text": [
      "Done with convex problem 1 out of 500\n",
      "Done with convex problem 2 out of 500\n",
      "Done with convex problem 3 out of 500\n",
      "Done with convex problem 4 out of 500\n",
      "Done with convex problem 5 out of 500\n",
      "Done with convex problem 6 out of 500\n",
      "Done with convex problem 7 out of 500\n",
      "Done with convex problem 8 out of 500\n",
      "Done with convex problem 9 out of 500\n",
      "Done with convex problem 10 out of 500\n",
      "Done with convex problem 11 out of 500\n",
      "Done with convex problem 12 out of 500\n",
      "Done with convex problem 13 out of 500\n",
      "Done with convex problem 14 out of 500\n",
      "Done with convex problem 15 out of 500\n",
      "Done with convex problem 16 out of 500\n"
     ]
    },
    {
     "ename": "KeyboardInterrupt",
     "evalue": "",
     "output_type": "error",
     "traceback": [
      "\u001b[0;31m---------------------------------------------------------------------------\u001b[0m",
      "\u001b[0;31mKeyboardInterrupt\u001b[0m                         Traceback (most recent call last)",
      "\u001b[0;32m<ipython-input-7-7a6f82eeddb4>\u001b[0m in \u001b[0;36m<module>\u001b[0;34m()\u001b[0m\n\u001b[1;32m      2\u001b[0m \u001b[0mconstraint_for_zeroth\u001b[0m \u001b[0;34m=\u001b[0m \u001b[0;36m1E-3\u001b[0m\u001b[0;34m\u001b[0m\u001b[0m\n\u001b[1;32m      3\u001b[0m \u001b[0mconstraint_for_first\u001b[0m \u001b[0;34m=\u001b[0m \u001b[0;36m1E-3\u001b[0m\u001b[0;34m\u001b[0m\u001b[0m\n\u001b[0;32m----> 4\u001b[0;31m \u001b[0mPCA\u001b[0m\u001b[0;34m.\u001b[0m\u001b[0massign_weights\u001b[0m\u001b[0;34m(\u001b[0m\u001b[0mpca\u001b[0m\u001b[0;34m,\u001b[0m \u001b[0ml1\u001b[0m\u001b[0;34m=\u001b[0m\u001b[0mconstraint_for_first\u001b[0m\u001b[0;34m,\u001b[0m \u001b[0ml2\u001b[0m\u001b[0;34m=\u001b[0m\u001b[0mconstraint_for_zeroth\u001b[0m\u001b[0;34m)\u001b[0m\u001b[0;34m\u001b[0m\u001b[0m\n\u001b[0m",
      "\u001b[0;32m~/repos/decorrelating_errors/code/pauli_channel_approximation.py\u001b[0m in \u001b[0;36massign_weights\u001b[0;34m(self, l1, l2)\u001b[0m\n\u001b[1;32m    116\u001b[0m             \u001b[0;32mif\u001b[0m \u001b[0mi\u001b[0m \u001b[0;34m==\u001b[0m \u001b[0;36m1\u001b[0m\u001b[0;34m:\u001b[0m\u001b[0;34m\u001b[0m\u001b[0m\n\u001b[1;32m    117\u001b[0m                 \u001b[0mderivs\u001b[0m\u001b[0;34m[\u001b[0m\u001b[0mi\u001b[0m\u001b[0;34m]\u001b[0m \u001b[0;34m=\u001b[0m \u001b[0mnp\u001b[0m\u001b[0;34m.\u001b[0m\u001b[0mdelete\u001b[0m\u001b[0;34m(\u001b[0m\u001b[0md\u001b[0m\u001b[0;34m,\u001b[0m \u001b[0mnp\u001b[0m\u001b[0;34m.\u001b[0m\u001b[0ms_\u001b[0m\u001b[0;34m[\u001b[0m\u001b[0;36m2\u001b[0m\u001b[0;34m]\u001b[0m\u001b[0;34m,\u001b[0m \u001b[0;36m1\u001b[0m\u001b[0;34m)\u001b[0m\u001b[0;34m\u001b[0m\u001b[0m\n\u001b[0;32m--> 118\u001b[0;31m         \u001b[0mweights\u001b[0m \u001b[0;34m=\u001b[0m \u001b[0moptimal_weights_1st_order\u001b[0m\u001b[0;34m(\u001b[0m\u001b[0mderivs\u001b[0m\u001b[0;34m,\u001b[0m \u001b[0ml1\u001b[0m\u001b[0;34m)\u001b[0m\u001b[0;34m\u001b[0m\u001b[0m\n\u001b[0m\u001b[1;32m    119\u001b[0m         \u001b[0mweights_0\u001b[0m \u001b[0;34m=\u001b[0m \u001b[0moptimal_weights\u001b[0m\u001b[0;34m(\u001b[0m\u001b[0mderivs\u001b[0m\u001b[0;34m[\u001b[0m\u001b[0;34m:\u001b[0m\u001b[0;36m1\u001b[0m\u001b[0;34m]\u001b[0m\u001b[0;34m,\u001b[0m \u001b[0ml2\u001b[0m\u001b[0;34m)\u001b[0m\u001b[0;34m\u001b[0m\u001b[0m\n\u001b[1;32m    120\u001b[0m         \u001b[0mself\u001b[0m\u001b[0;34m.\u001b[0m\u001b[0mderivs\u001b[0m \u001b[0;34m=\u001b[0m \u001b[0mderivs\u001b[0m\u001b[0;34m\u001b[0m\u001b[0m\n",
      "\u001b[0;32m~/repos/decorrelating_errors/code/convex.py\u001b[0m in \u001b[0;36moptimal_weights_1st_order\u001b[0;34m(derivs, l, tol)\u001b[0m\n\u001b[1;32m    123\u001b[0m         \u001b[0mobjective\u001b[0m \u001b[0;34m=\u001b[0m \u001b[0mcp\u001b[0m\u001b[0;34m.\u001b[0m\u001b[0mMinimize\u001b[0m\u001b[0;34m(\u001b[0m\u001b[0mcp\u001b[0m\u001b[0;34m.\u001b[0m\u001b[0mnorm\u001b[0m\u001b[0;34m(\u001b[0m\u001b[0mnp\u001b[0m\u001b[0;34m.\u001b[0m\u001b[0mreal\u001b[0m\u001b[0;34m(\u001b[0m\u001b[0mfirst_order\u001b[0m\u001b[0;34m)\u001b[0m \u001b[0;34m*\u001b[0m \u001b[0momega\u001b[0m\u001b[0;34m)\u001b[0m \u001b[0;34m+\u001b[0m \u001b[0mcp\u001b[0m\u001b[0;34m.\u001b[0m\u001b[0mnorm\u001b[0m\u001b[0;34m(\u001b[0m\u001b[0mnp\u001b[0m\u001b[0;34m.\u001b[0m\u001b[0mimag\u001b[0m\u001b[0;34m(\u001b[0m\u001b[0mfirst_order\u001b[0m\u001b[0;34m)\u001b[0m \u001b[0;34m*\u001b[0m \u001b[0momega\u001b[0m\u001b[0;34m)\u001b[0m \u001b[0;34m+\u001b[0m \u001b[0mt\u001b[0m\u001b[0;34m)\u001b[0m\u001b[0;34m\u001b[0m\u001b[0m\n\u001b[1;32m    124\u001b[0m         \u001b[0mprob\u001b[0m \u001b[0;34m=\u001b[0m \u001b[0mcp\u001b[0m\u001b[0;34m.\u001b[0m\u001b[0mProblem\u001b[0m\u001b[0;34m(\u001b[0m\u001b[0mobjective\u001b[0m\u001b[0;34m,\u001b[0m \u001b[0mconstraints\u001b[0m\u001b[0;34m)\u001b[0m\u001b[0;34m\u001b[0m\u001b[0m\n\u001b[0;32m--> 125\u001b[0;31m         \u001b[0mresult\u001b[0m \u001b[0;34m=\u001b[0m \u001b[0mprob\u001b[0m\u001b[0;34m.\u001b[0m\u001b[0msolve\u001b[0m\u001b[0;34m(\u001b[0m\u001b[0msolver\u001b[0m\u001b[0;34m=\u001b[0m\u001b[0mcp\u001b[0m\u001b[0;34m.\u001b[0m\u001b[0mCVXOPT\u001b[0m\u001b[0;34m,\u001b[0m \u001b[0mkktsolver\u001b[0m\u001b[0;34m=\u001b[0m\u001b[0mcp\u001b[0m\u001b[0;34m.\u001b[0m\u001b[0mROBUST_KKTSOLVER\u001b[0m\u001b[0;34m,\u001b[0m \u001b[0mabstol\u001b[0m\u001b[0;34m=\u001b[0m\u001b[0mtol\u001b[0m\u001b[0;34m,\u001b[0m \u001b[0mabstol_inacc\u001b[0m\u001b[0;34m=\u001b[0m\u001b[0mtol\u001b[0m\u001b[0;34m)\u001b[0m\u001b[0;34m\u001b[0m\u001b[0m\n\u001b[0m\u001b[1;32m    126\u001b[0m         \u001b[0;32mif\u001b[0m \u001b[0mresult\u001b[0m \u001b[0;34m<\u001b[0m \u001b[0mmini\u001b[0m \u001b[0;32mand\u001b[0m \u001b[0momega\u001b[0m\u001b[0;34m.\u001b[0m\u001b[0mvalue\u001b[0m \u001b[0;32mis\u001b[0m \u001b[0;32mnot\u001b[0m \u001b[0;32mNone\u001b[0m\u001b[0;34m:\u001b[0m\u001b[0;34m\u001b[0m\u001b[0m\n\u001b[1;32m    127\u001b[0m             \u001b[0mmini\u001b[0m \u001b[0;34m=\u001b[0m \u001b[0mresult\u001b[0m\u001b[0;34m\u001b[0m\u001b[0m\n",
      "\u001b[0;32m~/.pyenv/versions/3.6.3/envs/personal/lib/python3.6/site-packages/cvxpy/problems/problem.py\u001b[0m in \u001b[0;36msolve\u001b[0;34m(self, *args, **kwargs)\u001b[0m\n\u001b[1;32m    207\u001b[0m             \u001b[0;32mreturn\u001b[0m \u001b[0mfunc\u001b[0m\u001b[0;34m(\u001b[0m\u001b[0mself\u001b[0m\u001b[0;34m,\u001b[0m \u001b[0;34m*\u001b[0m\u001b[0margs\u001b[0m\u001b[0;34m,\u001b[0m \u001b[0;34m**\u001b[0m\u001b[0mkwargs\u001b[0m\u001b[0;34m)\u001b[0m\u001b[0;34m\u001b[0m\u001b[0m\n\u001b[1;32m    208\u001b[0m         \u001b[0;32melse\u001b[0m\u001b[0;34m:\u001b[0m\u001b[0;34m\u001b[0m\u001b[0m\n\u001b[0;32m--> 209\u001b[0;31m             \u001b[0;32mreturn\u001b[0m \u001b[0mself\u001b[0m\u001b[0;34m.\u001b[0m\u001b[0m_solve\u001b[0m\u001b[0;34m(\u001b[0m\u001b[0;34m*\u001b[0m\u001b[0margs\u001b[0m\u001b[0;34m,\u001b[0m \u001b[0;34m**\u001b[0m\u001b[0mkwargs\u001b[0m\u001b[0;34m)\u001b[0m\u001b[0;34m\u001b[0m\u001b[0m\n\u001b[0m\u001b[1;32m    210\u001b[0m \u001b[0;34m\u001b[0m\u001b[0m\n\u001b[1;32m    211\u001b[0m     \u001b[0;34m@\u001b[0m\u001b[0mclassmethod\u001b[0m\u001b[0;34m\u001b[0m\u001b[0m\n",
      "\u001b[0;32m~/.pyenv/versions/3.6.3/envs/personal/lib/python3.6/site-packages/cvxpy/problems/problem.py\u001b[0m in \u001b[0;36m_solve\u001b[0;34m(self, solver, ignore_dcp, warm_start, verbose, parallel, **kwargs)\u001b[0m\n\u001b[1;32m    329\u001b[0m             results_dict = solver.solve(objective, constraints,\n\u001b[1;32m    330\u001b[0m                                         \u001b[0mself\u001b[0m\u001b[0;34m.\u001b[0m\u001b[0m_cached_data\u001b[0m\u001b[0;34m,\u001b[0m \u001b[0mwarm_start\u001b[0m\u001b[0;34m,\u001b[0m \u001b[0mverbose\u001b[0m\u001b[0;34m,\u001b[0m\u001b[0;34m\u001b[0m\u001b[0m\n\u001b[0;32m--> 331\u001b[0;31m                                         kwargs)\n\u001b[0m\u001b[1;32m    332\u001b[0m         \u001b[0;31m# Presolve determined problem was unbounded or infeasible.\u001b[0m\u001b[0;34m\u001b[0m\u001b[0;34m\u001b[0m\u001b[0m\n\u001b[1;32m    333\u001b[0m         \u001b[0;32melse\u001b[0m\u001b[0;34m:\u001b[0m\u001b[0;34m\u001b[0m\u001b[0m\n",
      "\u001b[0;32m~/.pyenv/versions/3.6.3/envs/personal/lib/python3.6/site-packages/cvxpy/problems/solvers/cvxopt_intf.py\u001b[0m in \u001b[0;36msolve\u001b[0;34m(self, objective, constraints, cached_data, warm_start, verbose, solver_opts)\u001b[0m\n\u001b[1;32m    177\u001b[0m                 \u001b[0mresults_dict\u001b[0m \u001b[0;34m=\u001b[0m \u001b[0mself\u001b[0m\u001b[0;34m.\u001b[0m\u001b[0mcpl_solve\u001b[0m\u001b[0;34m(\u001b[0m\u001b[0mdata\u001b[0m\u001b[0;34m,\u001b[0m \u001b[0mkktsolver\u001b[0m\u001b[0;34m)\u001b[0m\u001b[0;34m\u001b[0m\u001b[0m\n\u001b[1;32m    178\u001b[0m             \u001b[0;32melse\u001b[0m\u001b[0;34m:\u001b[0m\u001b[0;34m\u001b[0m\u001b[0m\n\u001b[0;32m--> 179\u001b[0;31m                 \u001b[0mresults_dict\u001b[0m \u001b[0;34m=\u001b[0m \u001b[0mself\u001b[0m\u001b[0;34m.\u001b[0m\u001b[0mconelp_solve\u001b[0m\u001b[0;34m(\u001b[0m\u001b[0mdata\u001b[0m\u001b[0;34m,\u001b[0m \u001b[0mkktsolver\u001b[0m\u001b[0;34m)\u001b[0m\u001b[0;34m\u001b[0m\u001b[0m\n\u001b[0m\u001b[1;32m    180\u001b[0m         \u001b[0;31m# Catch exceptions in CVXOPT and convert them to solver errors.\u001b[0m\u001b[0;34m\u001b[0m\u001b[0;34m\u001b[0m\u001b[0m\n\u001b[1;32m    181\u001b[0m         \u001b[0;32mexcept\u001b[0m \u001b[0mValueError\u001b[0m\u001b[0;34m:\u001b[0m\u001b[0;34m\u001b[0m\u001b[0m\n",
      "\u001b[0;32m~/.pyenv/versions/3.6.3/envs/personal/lib/python3.6/site-packages/cvxpy/problems/solvers/cvxopt_intf.py\u001b[0m in \u001b[0;36mconelp_solve\u001b[0;34m(self, data, kktsolver)\u001b[0m\n\u001b[1;32m    254\u001b[0m                                      \u001b[0mdata\u001b[0m\u001b[0;34m[\u001b[0m\u001b[0ms\u001b[0m\u001b[0;34m.\u001b[0m\u001b[0mA\u001b[0m\u001b[0;34m]\u001b[0m\u001b[0;34m,\u001b[0m\u001b[0;34m\u001b[0m\u001b[0m\n\u001b[1;32m    255\u001b[0m                                      \u001b[0mdata\u001b[0m\u001b[0;34m[\u001b[0m\u001b[0ms\u001b[0m\u001b[0;34m.\u001b[0m\u001b[0mB\u001b[0m\u001b[0;34m]\u001b[0m\u001b[0;34m,\u001b[0m\u001b[0;34m\u001b[0m\u001b[0m\n\u001b[0;32m--> 256\u001b[0;31m                                      kktsolver=kktsolver)\n\u001b[0m\u001b[1;32m    257\u001b[0m \u001b[0;34m\u001b[0m\u001b[0m\n\u001b[1;32m    258\u001b[0m     \u001b[0;34m@\u001b[0m\u001b[0mstaticmethod\u001b[0m\u001b[0;34m\u001b[0m\u001b[0m\n",
      "\u001b[0;32m~/.pyenv/versions/3.6.3/envs/personal/lib/python3.6/site-packages/cvxopt/coneprog.py\u001b[0m in \u001b[0;36mconelp\u001b[0;34m(c, G, h, dims, A, b, primalstart, dualstart, kktsolver, xnewcopy, xdot, xaxpy, xscal, ynewcopy, ydot, yaxpy, yscal, **kwargs)\u001b[0m\n\u001b[1;32m   1298\u001b[0m             \u001b[0mdtau\u001b[0m\u001b[0;34m[\u001b[0m\u001b[0;36m0\u001b[0m\u001b[0;34m]\u001b[0m \u001b[0;34m=\u001b[0m \u001b[0;34m(\u001b[0m\u001b[0;36m1.0\u001b[0m \u001b[0;34m-\u001b[0m \u001b[0msigma\u001b[0m\u001b[0;34m)\u001b[0m \u001b[0;34m*\u001b[0m \u001b[0mrt\u001b[0m\u001b[0;34m\u001b[0m\u001b[0m\n\u001b[1;32m   1299\u001b[0m \u001b[0;34m\u001b[0m\u001b[0m\n\u001b[0;32m-> 1300\u001b[0;31m             \u001b[0mf6\u001b[0m\u001b[0;34m(\u001b[0m\u001b[0mdx\u001b[0m\u001b[0;34m,\u001b[0m \u001b[0mdy\u001b[0m\u001b[0;34m,\u001b[0m \u001b[0mdz\u001b[0m\u001b[0;34m,\u001b[0m \u001b[0mdtau\u001b[0m\u001b[0;34m,\u001b[0m \u001b[0mds\u001b[0m\u001b[0;34m,\u001b[0m \u001b[0mdkappa\u001b[0m\u001b[0;34m)\u001b[0m\u001b[0;34m\u001b[0m\u001b[0m\n\u001b[0m\u001b[1;32m   1301\u001b[0m \u001b[0;34m\u001b[0m\u001b[0m\n\u001b[1;32m   1302\u001b[0m             \u001b[0;31m# Save ds o dz and dkappa * dtau for Mehrotra correction\u001b[0m\u001b[0;34m\u001b[0m\u001b[0;34m\u001b[0m\u001b[0m\n",
      "\u001b[0;32m~/.pyenv/versions/3.6.3/envs/personal/lib/python3.6/site-packages/cvxopt/coneprog.py\u001b[0m in \u001b[0;36mf6\u001b[0;34m(x, y, z, tau, s, kappa)\u001b[0m\n\u001b[1;32m   1226\u001b[0m                 \u001b[0mwkappa2\u001b[0m\u001b[0;34m[\u001b[0m\u001b[0;36m0\u001b[0m\u001b[0;34m]\u001b[0m \u001b[0;34m=\u001b[0m \u001b[0mwkappa\u001b[0m\u001b[0;34m[\u001b[0m\u001b[0;36m0\u001b[0m\u001b[0;34m]\u001b[0m\u001b[0;34m\u001b[0m\u001b[0m\n\u001b[1;32m   1227\u001b[0m                 res(x, y, z, tau, s, kappa, wx2, wy2, wz2, wtau2, ws2, \n\u001b[0;32m-> 1228\u001b[0;31m                     wkappa2, W, dg, lmbda)\n\u001b[0m\u001b[1;32m   1229\u001b[0m                 \u001b[0mf6_no_ir\u001b[0m\u001b[0;34m(\u001b[0m\u001b[0mwx2\u001b[0m\u001b[0;34m,\u001b[0m \u001b[0mwy2\u001b[0m\u001b[0;34m,\u001b[0m \u001b[0mwz2\u001b[0m\u001b[0;34m,\u001b[0m \u001b[0mwtau2\u001b[0m\u001b[0;34m,\u001b[0m \u001b[0mws2\u001b[0m\u001b[0;34m,\u001b[0m \u001b[0mwkappa2\u001b[0m\u001b[0;34m)\u001b[0m\u001b[0;34m\u001b[0m\u001b[0m\n\u001b[1;32m   1230\u001b[0m                 \u001b[0mxaxpy\u001b[0m\u001b[0;34m(\u001b[0m\u001b[0mwx2\u001b[0m\u001b[0;34m,\u001b[0m \u001b[0mx\u001b[0m\u001b[0;34m)\u001b[0m\u001b[0;34m\u001b[0m\u001b[0m\n",
      "\u001b[0;32m~/.pyenv/versions/3.6.3/envs/personal/lib/python3.6/site-packages/cvxopt/coneprog.py\u001b[0m in \u001b[0;36mres\u001b[0;34m(ux, uy, uz, utau, us, ukappa, vx, vy, vz, vtau, vs, vkappa, W, dg, lmbda)\u001b[0m\n\u001b[1;32m    615\u001b[0m         \u001b[0mblas\u001b[0m\u001b[0;34m.\u001b[0m\u001b[0maxpy\u001b[0m\u001b[0;34m(\u001b[0m\u001b[0mh\u001b[0m\u001b[0;34m,\u001b[0m \u001b[0mvz\u001b[0m\u001b[0;34m,\u001b[0m \u001b[0malpha\u001b[0m \u001b[0;34m=\u001b[0m \u001b[0;34m-\u001b[0m\u001b[0mutau\u001b[0m\u001b[0;34m[\u001b[0m\u001b[0;36m0\u001b[0m\u001b[0;34m]\u001b[0m\u001b[0;34m/\u001b[0m\u001b[0mdg\u001b[0m\u001b[0;34m)\u001b[0m\u001b[0;34m\u001b[0m\u001b[0m\n\u001b[1;32m    616\u001b[0m         \u001b[0mblas\u001b[0m\u001b[0;34m.\u001b[0m\u001b[0mcopy\u001b[0m\u001b[0;34m(\u001b[0m\u001b[0mus\u001b[0m\u001b[0;34m,\u001b[0m \u001b[0mws3\u001b[0m\u001b[0;34m)\u001b[0m\u001b[0;34m\u001b[0m\u001b[0m\n\u001b[0;32m--> 617\u001b[0;31m         \u001b[0mmisc\u001b[0m\u001b[0;34m.\u001b[0m\u001b[0mscale\u001b[0m\u001b[0;34m(\u001b[0m\u001b[0mws3\u001b[0m\u001b[0;34m,\u001b[0m \u001b[0mW\u001b[0m\u001b[0;34m,\u001b[0m \u001b[0mtrans\u001b[0m \u001b[0;34m=\u001b[0m \u001b[0;34m'T'\u001b[0m\u001b[0;34m)\u001b[0m\u001b[0;34m\u001b[0m\u001b[0m\n\u001b[0m\u001b[1;32m    618\u001b[0m         \u001b[0mblas\u001b[0m\u001b[0;34m.\u001b[0m\u001b[0maxpy\u001b[0m\u001b[0;34m(\u001b[0m\u001b[0mws3\u001b[0m\u001b[0;34m,\u001b[0m \u001b[0mvz\u001b[0m\u001b[0;34m)\u001b[0m\u001b[0;34m\u001b[0m\u001b[0m\n\u001b[1;32m    619\u001b[0m \u001b[0;34m\u001b[0m\u001b[0m\n",
      "\u001b[0;31mKeyboardInterrupt\u001b[0m: "
     ]
    }
   ],
   "source": [
    "from pauli_channel_approximation import PCA\n",
    "constraint_for_zeroth = 1E-3 \n",
    "constraint_for_first = 1E-3\n",
    "PCA.assign_weights(pca, l1=constraint_for_first, l2=constraint_for_zeroth)"
   ]
  },
  {
   "cell_type": "markdown",
   "metadata": {},
   "source": [
    "# Compute Derivatives (0 and 1) this takes a long time. "
   ]
  },
  {
   "cell_type": "code",
   "execution_count": 38,
   "metadata": {},
   "outputs": [],
   "source": [
    "from convex import all_derivs\n",
    "derivs = all_derivs(pca.controlset, pca.target_operator, pca.control_hamiltonians, pca.ambient_hamiltonian, pca.dt, 1)"
   ]
  },
  {
   "cell_type": "markdown",
   "metadata": {},
   "source": [
    "# Norm of Average Hamiltonian (Both are relatively good)"
   ]
  },
  {
   "cell_type": "code",
   "execution_count": 39,
   "metadata": {},
   "outputs": [
    {
     "data": {
      "text/plain": [
       "9.799600050962165e-13"
      ]
     },
     "execution_count": 39,
     "metadata": {},
     "output_type": "execute_result"
    }
   ],
   "source": [
    "order = 0\n",
    "# Zeroth order optimized weights\n",
    "scipy.linalg.norm(np.matrix([d.flatten() for d in derivs[order]]).T.dot(pca.weights_0))"
   ]
  },
  {
   "cell_type": "code",
   "execution_count": 40,
   "metadata": {},
   "outputs": [
    {
     "data": {
      "text/plain": [
       "4.353241044386789e-16"
      ]
     },
     "execution_count": 40,
     "metadata": {},
     "output_type": "execute_result"
    }
   ],
   "source": [
    "order = 0\n",
    "# First order optimized weights\n",
    "scipy.linalg.norm(np.matrix([d.flatten() for d in derivs[order]]).T.dot(pca.weights))"
   ]
  },
  {
   "cell_type": "markdown",
   "metadata": {},
   "source": [
    "# Norm of the First Derivative of the Average Hamiltonian (We get an improvement of around an order of magnitude)"
   ]
  },
  {
   "cell_type": "code",
   "execution_count": 41,
   "metadata": {},
   "outputs": [
    {
     "data": {
      "text/plain": [
       "4.515072349308713"
      ]
     },
     "execution_count": 41,
     "metadata": {},
     "output_type": "execute_result"
    }
   ],
   "source": [
    "order = 1\n",
    "# Zeroth order optimized\n",
    "scipy.linalg.norm(np.matrix([d.flatten() for d in derivs[order]]).T.dot(pca.weights_0))"
   ]
  },
  {
   "cell_type": "code",
   "execution_count": 42,
   "metadata": {},
   "outputs": [
    {
     "data": {
      "text/plain": [
       "0.33898776606987385"
      ]
     },
     "execution_count": 42,
     "metadata": {},
     "output_type": "execute_result"
    }
   ],
   "source": [
    "order = 1\n",
    "# First order optimized\n",
    "scipy.linalg.norm(np.matrix([d.flatten() for d in derivs[order]]).T.dot(pca.weights))"
   ]
  },
  {
   "cell_type": "markdown",
   "metadata": {},
   "source": [
    "# If you'd like to look at the controls, you can inspect pca.controlset. They're organized as IX, IY, XI, YI. For instance, we can look at some of the controls on the IX term, as see that some flip the gate sharply at certain times. The random looking ones are on a very different scale."
   ]
  },
  {
   "cell_type": "code",
   "execution_count": 74,
   "metadata": {},
   "outputs": [],
   "source": [
    "first_few_controls = [c[:, 0] for c in pca.controlset][:10]\n",
    "\n",
    "def tophats(control):\n",
    "    times = list(range(len(control)))\n",
    "    points = [control[0]]\n",
    "    xpoints = [times[0]]\n",
    "    for i, point in enumerate(control[1:-2]):\n",
    "        points.append(point)\n",
    "        points.append(point)\n",
    "        xpoints.append(times[i+1])\n",
    "        xpoints.append(times[i+1])\n",
    "    points.append(control[-1])\n",
    "    xpoints.append(times[-1])\n",
    "    plt.step(xpoints, points)"
   ]
  },
  {
   "cell_type": "code",
   "execution_count": 76,
   "metadata": {},
   "outputs": [
    {
     "data": {
      "text/plain": [
       "array([ 7.99762774e+00,  7.83255939e-03, -6.87713146e-05,  7.33565933e-03,\n",
       "        7.67509572e-03, -1.74774581e-04,  1.65500442e-03, -5.54165919e-03,\n",
       "       -3.01116813e-03,  3.50433560e-03, -3.72991386e-03, -7.53566811e-03,\n",
       "        6.22785413e-03,  4.47997771e-03, -7.79485644e-04, -9.13755050e-04,\n",
       "       -3.12947960e-03,  6.22763760e-04, -4.71342079e-03, -3.39150840e-03,\n",
       "        8.33848806e-03,  5.34682947e-03,  9.46733057e-03, -2.62050395e-03,\n",
       "       -5.86628933e-03,  1.03893520e-02, -7.85865034e-03,  1.04074957e-02,\n",
       "       -7.22569092e-03, -6.39564151e-03, -8.77212840e-03, -6.38950943e-03,\n",
       "       -1.06644132e-02, -5.11933716e-03, -4.10647239e-03,  4.13160410e-03,\n",
       "        7.49938055e-03, -3.00780326e-03, -7.08272650e-03, -7.99507123e+00])"
      ]
     },
     "execution_count": 76,
     "metadata": {},
     "output_type": "execute_result"
    }
   ],
   "source": [
    "first_few_controls[1]"
   ]
  },
  {
   "cell_type": "code",
   "execution_count": 75,
   "metadata": {
    "scrolled": false
   },
   "outputs": [
    {
     "data": {
      "image/png": "[encoded data removed]",
      "text/plain": [
       "<matplotlib.figure.Figure at 0x7f6625874978>"
      ]
     },
     "metadata": {},
     "output_type": "display_data"
    },
    {
     "data": {
      "image/png": "[encoded data removed]",
      "text/plain": [
       "<matplotlib.figure.Figure at 0x7f6625514898>"
      ]
     },
     "metadata": {},
     "output_type": "display_data"
    },
    {
     "data": {
      "image/png": "[encoded data removed]",
      "text/plain": [
       "<matplotlib.figure.Figure at 0x7f663f43d748>"
      ]
     },
     "metadata": {},
     "output_type": "display_data"
    },
    {
     "data": {
      "image/png": "[encoded data removed]",
      "text/plain": [
       "<matplotlib.figure.Figure at 0x7f662ace3748>"
      ]
     },
     "metadata": {},
     "output_type": "display_data"
    },
    {
     "data": {
      "image/png": "[encoded data removed]",
      "text/plain": [
       "<matplotlib.figure.Figure at 0x7f6625761cf8>"
      ]
     },
     "metadata": {},
     "output_type": "display_data"
    },
    {
     "data": {
      "image/png": "[encoded data removed]",
      "text/plain": [
       "<matplotlib.figure.Figure at 0x7f66253da2b0>"
      ]
     },
     "metadata": {},
     "output_type": "display_data"
    },
    {
     "data": {
      "image/png": "[encoded data removed]",
      "text/plain": [
       "<matplotlib.figure.Figure at 0x7f66256245c0>"
      ]
     },
     "metadata": {},
     "output_type": "display_data"
    },
    {
     "data": {
      "image/png": "[encoded data removed]",
      "text/plain": [
       "<matplotlib.figure.Figure at 0x7f6625735908>"
      ]
     },
     "metadata": {},
     "output_type": "display_data"
    },
    {
     "data": {
      "image/png": "[encoded data removed]",
      "text/plain": [
       "<matplotlib.figure.Figure at 0x7f662accc6d8>"
      ]
     },
     "metadata": {},
     "output_type": "display_data"
    },
    {
     "data": {
      "image/png": "[encoded data removed]",
      "text/plain": [
       "<matplotlib.figure.Figure at 0x7f66236975f8>"
      ]
     },
     "metadata": {},
     "output_type": "display_data"
    }
   ],
   "source": [
    "for c in first_few_controls:\n",
    "    tophats(c)\n",
    "    plt.show()"
   ]
  },
  {
   "cell_type": "code",
   "execution_count": 7,
   "metadata": {},
   "outputs": [],
   "source": [
    "import os\n",
    "import dill\n",
    "import numpy as np\n",
    "mypath = 'controls_106'\n",
    "filename = os.path.join(mypath,'pickled_controls106.pkl')\n",
    "pca = dill.load(open(filename, 'rb'))\n",
    "\n",
    "def bangbang(index, x, d1, d2, d3, d4):\n",
    "    if x:\n",
    "        xory = 0\n",
    "    else:\n",
    "        xory = 1\n",
    "    dt = pca.dt\n",
    "    num_steps = pca.controlset[0].shape[0]\n",
    "    control_hamiltonians = pca.control_hamiltonians\n",
    "    controls = np.zeros((num_steps, int(len(pca.control_hamiltonians))))\n",
    "    controls[index, xory] = (1 / dt * np.pi / 2) * d1\n",
    "    controls[-(index+1), xory] = 1 / dt * np.pi / 2 * d2\n",
    "    controls[index, 2+xory] = 1 / dt * np.pi / 2 * d3\n",
    "    controls[-(index+1), 2+xory] = 1 / dt * np.pi / 2 * d4\n",
    "    return controls\n",
    "\n",
    "controls = []\n",
    "import itertools\n",
    "for directions in list(itertools.product([-1, 1], repeat=4)):\n",
    "    for x in (True, False):\n",
    "        for i in range(int(pca.controlset[0].shape[0]/2)):\n",
    "            if i % 8 != 0:\n",
    "                continue\n",
    "            controls.append(bangbang(i, x, *directions))\n",
    "pca.controlset = controls\n",
    "pca.num_controls = len(pca.controlset)"
   ]
  },
  {
   "cell_type": "code",
   "execution_count": 8,
   "metadata": {},
   "outputs": [],
   "source": [
    "from convex import all_derivs\n",
    "derivs = all_derivs(pca.controlset, pca.target_operator, pca.control_hamiltonians, pca.ambient_hamiltonian, pca.dt, 1)"
   ]
  },
  {
   "cell_type": "code",
   "execution_count": 9,
   "metadata": {},
   "outputs": [],
   "source": [
    "from pauli_channel_approximation import PCA"
   ]
  },
  {
   "cell_type": "code",
   "execution_count": 12,
   "metadata": {},
   "outputs": [
    {
     "name": "stdout",
     "output_type": "stream",
     "text": [
      "Done with convex problem 1 out of 96\n",
      "Done with convex problem 2 out of 96\n",
      "Done with convex problem 3 out of 96\n",
      "Done with convex problem 4 out of 96\n",
      "Done with convex problem 5 out of 96\n",
      "Done with convex problem 6 out of 96\n",
      "Done with convex problem 7 out of 96\n",
      "Done with convex problem 8 out of 96\n",
      "Done with convex problem 9 out of 96\n",
      "Done with convex problem 10 out of 96\n",
      "Done with convex problem 11 out of 96\n",
      "Done with convex problem 12 out of 96\n",
      "Done with convex problem 13 out of 96\n",
      "Done with convex problem 14 out of 96\n",
      "Done with convex problem 15 out of 96\n",
      "Done with convex problem 16 out of 96\n",
      "Done with convex problem 17 out of 96\n",
      "Done with convex problem 18 out of 96\n",
      "Done with convex problem 19 out of 96\n",
      "Done with convex problem 20 out of 96\n",
      "Done with convex problem 21 out of 96\n",
      "Done with convex problem 22 out of 96\n",
      "Done with convex problem 23 out of 96\n",
      "Done with convex problem 24 out of 96\n",
      "Done with convex problem 25 out of 96\n",
      "Done with convex problem 26 out of 96\n",
      "Done with convex problem 27 out of 96\n",
      "Done with convex problem 28 out of 96\n",
      "Done with convex problem 29 out of 96\n",
      "Done with convex problem 30 out of 96\n",
      "Done with convex problem 31 out of 96\n",
      "Done with convex problem 32 out of 96\n",
      "Done with convex problem 33 out of 96\n",
      "Done with convex problem 34 out of 96\n",
      "Done with convex problem 35 out of 96\n",
      "Done with convex problem 36 out of 96\n",
      "Done with convex problem 37 out of 96\n",
      "Done with convex problem 38 out of 96\n",
      "Done with convex problem 39 out of 96\n",
      "Done with convex problem 40 out of 96\n",
      "Done with convex problem 41 out of 96\n",
      "Done with convex problem 42 out of 96\n",
      "Done with convex problem 43 out of 96\n",
      "Done with convex problem 44 out of 96\n",
      "Done with convex problem 45 out of 96\n",
      "Done with convex problem 46 out of 96\n",
      "Done with convex problem 47 out of 96\n",
      "Done with convex problem 48 out of 96\n",
      "Done with convex problem 49 out of 96\n",
      "Done with convex problem 50 out of 96\n",
      "Done with convex problem 51 out of 96\n",
      "Done with convex problem 52 out of 96\n",
      "Done with convex problem 53 out of 96\n",
      "Done with convex problem 54 out of 96\n",
      "Done with convex problem 55 out of 96\n",
      "Done with convex problem 56 out of 96\n",
      "Done with convex problem 57 out of 96\n",
      "Done with convex problem 58 out of 96\n",
      "Done with convex problem 59 out of 96\n",
      "Done with convex problem 60 out of 96\n",
      "Done with convex problem 61 out of 96\n",
      "Done with convex problem 62 out of 96\n",
      "Done with convex problem 63 out of 96\n",
      "Done with convex problem 64 out of 96\n",
      "Done with convex problem 65 out of 96\n",
      "Done with convex problem 66 out of 96\n",
      "Done with convex problem 67 out of 96\n",
      "Done with convex problem 68 out of 96\n",
      "Done with convex problem 69 out of 96\n",
      "Done with convex problem 70 out of 96\n",
      "Done with convex problem 71 out of 96\n",
      "Done with convex problem 72 out of 96\n",
      "Done with convex problem 73 out of 96\n",
      "Done with convex problem 74 out of 96\n",
      "Done with convex problem 75 out of 96\n",
      "Done with convex problem 76 out of 96\n",
      "Done with convex problem 77 out of 96\n",
      "Done with convex problem 78 out of 96\n",
      "Done with convex problem 79 out of 96\n",
      "Done with convex problem 80 out of 96\n",
      "Done with convex problem 81 out of 96\n",
      "Done with convex problem 82 out of 96\n",
      "Done with convex problem 83 out of 96\n",
      "Done with convex problem 84 out of 96\n",
      "Done with convex problem 85 out of 96\n",
      "Done with convex problem 86 out of 96\n",
      "Done with convex problem 87 out of 96\n",
      "Done with convex problem 88 out of 96\n",
      "Done with convex problem 89 out of 96\n",
      "Done with convex problem 90 out of 96\n",
      "Done with convex problem 91 out of 96\n",
      "Done with convex problem 92 out of 96\n",
      "Done with convex problem 93 out of 96\n",
      "Done with convex problem 94 out of 96\n",
      "Done with convex problem 95 out of 96\n",
      "Tried assigning zeroth order weights.\n"
     ]
    }
   ],
   "source": [
    "PCA.assign_weights_0(pca, 1E-4)"
   ]
  },
  {
   "cell_type": "code",
   "execution_count": 21,
   "metadata": {},
   "outputs": [
    {
     "name": "stdout",
     "output_type": "stream",
     "text": [
      "Done with convex problem 1 out of 96\n",
      "Done with convex problem 2 out of 96\n",
      "Done with convex problem 3 out of 96\n",
      "Done with convex problem 4 out of 96\n",
      "Done with convex problem 5 out of 96\n",
      "Done with convex problem 6 out of 96\n",
      "Done with convex problem 7 out of 96\n",
      "Done with convex problem 8 out of 96\n",
      "Done with convex problem 9 out of 96\n",
      "Done with convex problem 10 out of 96\n",
      "Done with convex problem 11 out of 96\n",
      "Done with convex problem 12 out of 96\n",
      "Done with convex problem 13 out of 96\n",
      "Done with convex problem 14 out of 96\n",
      "Done with convex problem 15 out of 96\n",
      "Done with convex problem 16 out of 96\n",
      "Done with convex problem 17 out of 96\n",
      "Done with convex problem 18 out of 96\n",
      "Done with convex problem 19 out of 96\n",
      "Done with convex problem 20 out of 96\n",
      "Done with convex problem 21 out of 96\n",
      "Done with convex problem 22 out of 96\n",
      "Done with convex problem 23 out of 96\n",
      "Done with convex problem 24 out of 96\n",
      "Done with convex problem 25 out of 96\n",
      "Done with convex problem 26 out of 96\n",
      "Done with convex problem 27 out of 96\n",
      "Done with convex problem 28 out of 96\n",
      "Done with convex problem 29 out of 96\n",
      "Done with convex problem 30 out of 96\n",
      "Done with convex problem 31 out of 96\n",
      "Done with convex problem 32 out of 96\n",
      "Done with convex problem 33 out of 96\n",
      "Done with convex problem 34 out of 96\n",
      "Done with convex problem 35 out of 96\n",
      "Done with convex problem 36 out of 96\n",
      "Done with convex problem 37 out of 96\n",
      "Done with convex problem 38 out of 96\n",
      "Done with convex problem 39 out of 96\n",
      "Done with convex problem 40 out of 96\n",
      "Done with convex problem 41 out of 96\n",
      "Done with convex problem 42 out of 96\n",
      "Done with convex problem 43 out of 96\n",
      "Done with convex problem 44 out of 96\n",
      "Done with convex problem 45 out of 96\n",
      "Done with convex problem 46 out of 96\n",
      "Done with convex problem 47 out of 96\n",
      "Done with convex problem 48 out of 96\n",
      "Done with convex problem 49 out of 96\n",
      "Done with convex problem 50 out of 96\n",
      "Done with convex problem 51 out of 96\n",
      "Done with convex problem 52 out of 96\n",
      "Done with convex problem 53 out of 96\n",
      "Done with convex problem 54 out of 96\n",
      "Done with convex problem 55 out of 96\n",
      "Done with convex problem 56 out of 96\n",
      "Done with convex problem 57 out of 96\n",
      "Done with convex problem 58 out of 96\n",
      "Done with convex problem 59 out of 96\n",
      "Done with convex problem 60 out of 96\n",
      "Done with convex problem 61 out of 96\n",
      "Done with convex problem 62 out of 96\n",
      "Done with convex problem 63 out of 96\n",
      "Done with convex problem 64 out of 96\n",
      "Done with convex problem 65 out of 96\n",
      "Done with convex problem 66 out of 96\n",
      "Done with convex problem 67 out of 96\n",
      "Done with convex problem 68 out of 96\n",
      "Done with convex problem 69 out of 96\n",
      "Done with convex problem 70 out of 96\n",
      "Done with convex problem 71 out of 96\n",
      "Done with convex problem 72 out of 96\n",
      "Done with convex problem 73 out of 96\n",
      "Done with convex problem 74 out of 96\n",
      "Done with convex problem 75 out of 96\n",
      "Done with convex problem 76 out of 96\n",
      "Done with convex problem 77 out of 96\n",
      "Done with convex problem 78 out of 96\n",
      "Done with convex problem 79 out of 96\n",
      "Done with convex problem 80 out of 96\n",
      "Done with convex problem 81 out of 96\n",
      "Done with convex problem 82 out of 96\n",
      "Done with convex problem 83 out of 96\n",
      "Done with convex problem 84 out of 96\n",
      "Done with convex problem 85 out of 96\n",
      "Done with convex problem 86 out of 96\n",
      "Done with convex problem 87 out of 96\n",
      "Done with convex problem 88 out of 96\n",
      "Done with convex problem 89 out of 96\n",
      "Done with convex problem 90 out of 96\n",
      "Done with convex problem 91 out of 96\n",
      "Done with convex problem 92 out of 96\n",
      "Done with convex problem 93 out of 96\n",
      "Done with convex problem 94 out of 96\n",
      "Done with convex problem 95 out of 96\n",
      "Tried assigning order weights.\n"
     ]
    }
   ],
   "source": [
    "PCA.assign_weights(pca, 0)"
   ]
  },
  {
   "cell_type": "markdown",
   "metadata": {},
   "source": [
    "# So we see that the number of controls is much greater, if unconstrained"
   ]
  },
  {
   "cell_type": "code",
   "execution_count": 22,
   "metadata": {},
   "outputs": [
    {
     "ename": "NameError",
     "evalue": "name 'hist_and_support' is not defined",
     "output_type": "error",
     "traceback": [
      "\u001b[0;31m---------------------------------------------------------------------------\u001b[0m",
      "\u001b[0;31mNameError\u001b[0m                                 Traceback (most recent call last)",
      "\u001b[0;32m<ipython-input-22-33715843a4f3>\u001b[0m in \u001b[0;36m<module>\u001b[0;34m()\u001b[0m\n\u001b[0;32m----> 1\u001b[0;31m \u001b[0mhist_and_support\u001b[0m\u001b[0;34m(\u001b[0m\u001b[0mpca\u001b[0m\u001b[0;34m.\u001b[0m\u001b[0mweights_0\u001b[0m\u001b[0;34m)\u001b[0m\u001b[0;34m\u001b[0m\u001b[0m\n\u001b[0m",
      "\u001b[0;31mNameError\u001b[0m: name 'hist_and_support' is not defined"
     ]
    }
   ],
   "source": [
    "hist_and_support(pca.weights_0)"
   ]
  },
  {
   "cell_type": "markdown",
   "metadata": {},
   "source": [
    "# But optimizing for the first derivative, we see that the number of controls drops"
   ]
  },
  {
   "cell_type": "code",
   "execution_count": 33,
   "metadata": {},
   "outputs": [
    {
     "name": "stdout",
     "output_type": "stream",
     "text": [
      "SUPPORT:0.7403542992952203\n",
      "NUM CONTROLS: 10\n"
     ]
    },
    {
     "data": {
      "text/plain": [
       "array([94,  5, 95, 35, 65, 34, 64, 33, 63, 38])"
      ]
     },
     "execution_count": 33,
     "metadata": {},
     "output_type": "execute_result"
    }
   ],
   "source": [
    "hist_and_support(pca.weights_0)"
   ]
  },
  {
   "cell_type": "code",
   "execution_count": 120,
   "metadata": {},
   "outputs": [
    {
     "name": "stdout",
     "output_type": "stream",
     "text": [
      "SUPPORT:0.9979040429340997\n",
      "NUM CONTROLS: 10\n"
     ]
    },
    {
     "data": {
      "text/plain": [
       "array([139, 499, 179, 459, 339, 299, 379, 259, 219, 419])"
      ]
     },
     "execution_count": 120,
     "metadata": {},
     "output_type": "execute_result"
    },
    {
     "data": {
      "image/png": "[encoded data removed]",
      "text/plain": [
       "<matplotlib.figure.Figure at 0x7f6621ad7400>"
      ]
     },
     "metadata": {},
     "output_type": "display_data"
    }
   ],
   "source": [
    "hist_and_support(pca.weights)"
   ]
  },
  {
   "cell_type": "code",
   "execution_count": 29,
   "metadata": {},
   "outputs": [
    {
     "data": {
      "text/plain": [
       "2.4625003814101637e-11"
      ]
     },
     "execution_count": 29,
     "metadata": {},
     "output_type": "execute_result"
    }
   ],
   "source": [
    "order = 0\n",
    "# Zeroth order optimized weights\n",
    "scipy.linalg.norm(np.matrix([d.flatten() for d in derivs[order]]).T.dot(pca.weights_0))"
   ]
  },
  {
   "cell_type": "code",
   "execution_count": 30,
   "metadata": {},
   "outputs": [
    {
     "data": {
      "text/plain": [
       "2.8343360064401972e-11"
      ]
     },
     "execution_count": 30,
     "metadata": {},
     "output_type": "execute_result"
    }
   ],
   "source": [
    "order = 0\n",
    "# Zeroth order optimized weights\n",
    "scipy.linalg.norm(np.matrix([d.flatten() for d in derivs[order]]).T.dot(pca.weights))"
   ]
  },
  {
   "cell_type": "code",
   "execution_count": 31,
   "metadata": {},
   "outputs": [
    {
     "data": {
      "text/plain": [
       "8.322379465323838"
      ]
     },
     "execution_count": 31,
     "metadata": {},
     "output_type": "execute_result"
    }
   ],
   "source": [
    "order = 1\n",
    "# Zeroth order optimized weights\n",
    "scipy.linalg.norm(np.matrix([d.flatten() for d in derivs[order]]).T.dot(pca.weights_0))"
   ]
  },
  {
   "cell_type": "code",
   "execution_count": 32,
   "metadata": {},
   "outputs": [
    {
     "data": {
      "text/plain": [
       "0.01923975022172308"
      ]
     },
     "execution_count": 32,
     "metadata": {},
     "output_type": "execute_result"
    }
   ],
   "source": [
    "order = 1\n",
    "# Zeroth order optimized weights\n",
    "scipy.linalg.norm(np.matrix([d.flatten() for d in derivs[order]]).T.dot(pca.weights))"
   ]
  },
  {
   "cell_type": "code",
   "execution_count": null,
   "metadata": {},
   "outputs": [],
   "source": []
  },
  {
   "cell_type": "code",
   "execution_count": 130,
   "metadata": {},
   "outputs": [],
   "source": [
    "dill.dump(pca.weights_0, open('handpicked-weights_0.pkl', 'wb'))"
   ]
  },
  {
   "cell_type": "code",
   "execution_count": null,
   "metadata": {},
   "outputs": [],
   "source": []
  }
 ],
 "metadata": {
  "kernelspec": {
   "display_name": "Python 3",
   "language": "python",
   "name": "python3"
  },
  "language_info": {
   "codemirror_mode": {
    "name": "ipython",
    "version": 3
   },
   "file_extension": ".py",
   "mimetype": "text/x-python",
   "name": "python",
   "nbconvert_exporter": "python",
   "pygments_lexer": "ipython3",
   "version": "3.6.3"
  }
 },
 "nbformat": 4,
 "nbformat_minor": 2
}
