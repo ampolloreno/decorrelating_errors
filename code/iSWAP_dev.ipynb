{
 "cells": [
  {
   "cell_type": "code",
   "execution_count": 1,
   "metadata": {},
   "outputs": [],
   "source": [
    "%load_ext autoreload\n",
    "%autoreload 2"
   ]
  },
  {
   "cell_type": "code",
   "execution_count": 2,
   "metadata": {},
   "outputs": [],
   "source": [
    "# This order is non-det"
   ]
  },
  {
   "cell_type": "code",
   "execution_count": 4,
   "metadata": {},
   "outputs": [],
   "source": [
    "import os\n",
    "import dill\n",
    "control_names = os.listdir('controls_107')\n",
    "controls = [dill.load(open(os.path.join('controls_107', c_name), 'rb')) for c_name in control_names]"
   ]
  },
  {
   "cell_type": "code",
   "execution_count": 5,
   "metadata": {},
   "outputs": [],
   "source": [
    "mypath = 'controls_106'\n",
    "_file = 'pickled_controls106.pkl'\n",
    "filename = os.path.join(mypath, _file)\n",
    "pca = dill.load(open(filename, 'rb'))"
   ]
  },
  {
   "cell_type": "code",
   "execution_count": 6,
   "metadata": {},
   "outputs": [],
   "source": [
    "import numpy as np\n",
    "pca.num_steps = 40\n",
    "pca.dt = 5/2*np.pi/pca.num_steps\n",
    "pca.controlset = controls"
   ]
  },
  {
   "cell_type": "code",
   "execution_count": null,
   "metadata": {},
   "outputs": [],
   "source": []
  },
  {
   "cell_type": "code",
   "execution_count": null,
   "metadata": {},
   "outputs": [],
   "source": []
  },
  {
   "cell_type": "code",
   "execution_count": null,
   "metadata": {},
   "outputs": [],
   "source": []
  },
  {
   "cell_type": "code",
   "execution_count": null,
   "metadata": {},
   "outputs": [],
   "source": []
  },
  {
   "cell_type": "code",
   "execution_count": null,
   "metadata": {},
   "outputs": [],
   "source": []
  },
  {
   "cell_type": "code",
   "execution_count": null,
   "metadata": {},
   "outputs": [],
   "source": []
  },
  {
   "cell_type": "code",
   "execution_count": null,
   "metadata": {},
   "outputs": [],
   "source": []
  },
  {
   "cell_type": "code",
   "execution_count": null,
   "metadata": {},
   "outputs": [],
   "source": []
  },
  {
   "cell_type": "code",
   "execution_count": null,
   "metadata": {},
   "outputs": [],
   "source": []
  },
  {
   "cell_type": "code",
   "execution_count": null,
   "metadata": {},
   "outputs": [],
   "source": []
  },
  {
   "cell_type": "code",
   "execution_count": null,
   "metadata": {},
   "outputs": [],
   "source": []
  },
  {
   "cell_type": "code",
   "execution_count": null,
   "metadata": {},
   "outputs": [],
   "source": []
  },
  {
   "cell_type": "code",
   "execution_count": null,
   "metadata": {},
   "outputs": [],
   "source": []
  },
  {
   "cell_type": "code",
   "execution_count": null,
   "metadata": {},
   "outputs": [],
   "source": []
  },
  {
   "cell_type": "code",
   "execution_count": null,
   "metadata": {},
   "outputs": [],
   "source": []
  },
  {
   "cell_type": "code",
   "execution_count": null,
   "metadata": {},
   "outputs": [],
   "source": []
  },
  {
   "cell_type": "code",
   "execution_count": null,
   "metadata": {},
   "outputs": [],
   "source": []
  },
  {
   "cell_type": "code",
   "execution_count": null,
   "metadata": {},
   "outputs": [],
   "source": []
  },
  {
   "cell_type": "code",
   "execution_count": null,
   "metadata": {},
   "outputs": [],
   "source": []
  },
  {
   "cell_type": "code",
   "execution_count": null,
   "metadata": {},
   "outputs": [],
   "source": []
  },
  {
   "cell_type": "code",
   "execution_count": null,
   "metadata": {},
   "outputs": [],
   "source": []
  },
  {
   "cell_type": "code",
   "execution_count": null,
   "metadata": {},
   "outputs": [],
   "source": []
  },
  {
   "cell_type": "code",
   "execution_count": 5,
   "metadata": {},
   "outputs": [],
   "source": [
    "# Notes - including the full set of 640 controls didn't do much - however in this case, I also forgot to include the constraint that the 1RBCs are still 0RBCs.\n",
    "# Removing these solutions *did* make the optimal control worse though. (I'm skipping many below) \n",
    "# Maybe I should include sparsity and normalization to get qualitatively different results"
   ]
  },
  {
   "cell_type": "code",
   "execution_count": 7,
   "metadata": {},
   "outputs": [
    {
     "name": "stdout",
     "output_type": "stream",
     "text": [
      "The autoreload extension is already loaded. To reload it, use:\n",
      "  %reload_ext autoreload\n"
     ]
    }
   ],
   "source": [
    "%load_ext autoreload\n",
    "%autoreload 2"
   ]
  },
  {
   "cell_type": "code",
   "execution_count": 8,
   "metadata": {},
   "outputs": [],
   "source": [
    "import os\n",
    "import dill\n",
    "import numpy as np\n",
    "import random\n",
    "mypath = 'controls_106'\n",
    "_file = 'pickled_controls106.pkl'\n",
    "filename = os.path.join(mypath, _file)\n"
   ]
  },
  {
   "cell_type": "code",
   "execution_count": 9,
   "metadata": {},
   "outputs": [],
   "source": [
    "import numpy as np\n",
    "import dill\n",
    "pca = dill.load(open(filename, 'rb'))\n",
    "num_steps = 500\n",
    "dt = 5/2 * np.pi/num_steps\n",
    "pca.dt = dt\n",
    "pca.num_steps = num_steps"
   ]
  },
  {
   "cell_type": "code",
   "execution_count": null,
   "metadata": {},
   "outputs": [],
   "source": []
  },
  {
   "cell_type": "code",
   "execution_count": 10,
   "metadata": {},
   "outputs": [],
   "source": [
    "# Keep every_ith control. Increase this if you want to decrease the number of controls being considered.\n",
    "every_ith = 91\n",
    "\n",
    "def bangbang(index, x, d1, d2, d3, d4, num_steps):\n",
    "    if x:\n",
    "        xory = 0\n",
    "    else:\n",
    "        xory = 1\n",
    "    dt = pca.dt\n",
    "    control_hamiltonians = pca.control_hamiltonians\n",
    "    controls = np.zeros((num_steps, int(len(pca.control_hamiltonians))))\n",
    "    choices = (np.random.rand(100) - .5)/1000 + 1\n",
    "    choices = [1]\n",
    "    controls[index, xory] = (1 / dt * np.pi / 2) * d1 * random.choice(choices)\n",
    "    controls[-(index+1), xory] = 1 / dt * np.pi / 2 * d2 * random.choice(choices)\n",
    "    controls[index, 2+xory] = 1 / dt * np.pi / 2 * d3 * random.choice(choices)\n",
    "    controls[-(index+1), 2+xory] = 1 / dt * np.pi / 2 * d4 * random.choice(choices)\n",
    "    return controls\n",
    "random.seed(100)\n",
    "np.random.seed(100)\n",
    "controls = []\n",
    "import itertools\n",
    "for directions in list(itertools.product([-1, 1], repeat=4)):\n",
    "    for x in (True, False):\n",
    "        for i in range(int(pca.controlset[0].shape[0]/2)):\n",
    "            if i % every_ith != 0:\n",
    "                continue\n",
    "            controls.append(bangbang(i, x, *directions, num_steps))\n",
    "# Add on the do-nothing control\n",
    "pca.controlset = []\n",
    "pca.controlset += controls\n",
    "pca.num_controls = len(pca.controlset)\n",
    "pca.weights = None"
   ]
  },
  {
   "cell_type": "code",
   "execution_count": null,
   "metadata": {},
   "outputs": [],
   "source": []
  },
  {
   "cell_type": "code",
   "execution_count": 11,
   "metadata": {
    "scrolled": true
   },
   "outputs": [
    {
     "name": "stdout",
     "output_type": "stream",
     "text": [
      "Control 0 derivative.\n",
      "Control 1 derivative.\n",
      "Control 2 derivative.\n",
      "Control 3 derivative.\n",
      "Control 4 derivative.\n",
      "Control 5 derivative.\n",
      "Control 6 derivative.\n",
      "Control 7 derivative.\n",
      "Control 8 derivative.\n",
      "Control 9 derivative.\n",
      "Control 10 derivative.\n",
      "Control 11 derivative.\n",
      "Control 12 derivative.\n",
      "Control 13 derivative.\n",
      "Control 14 derivative.\n",
      "Control 15 derivative.\n",
      "Control 16 derivative.\n",
      "Control 17 derivative.\n",
      "Control 18 derivative.\n",
      "Control 19 derivative.\n",
      "Control 20 derivative.\n",
      "Control 21 derivative.\n",
      "Control 22 derivative.\n",
      "Control 23 derivative.\n",
      "Control 24 derivative.\n",
      "Control 25 derivative.\n",
      "Control 26 derivative.\n",
      "Control 27 derivative.\n",
      "Control 28 derivative.\n",
      "Control 29 derivative.\n",
      "Control 30 derivative.\n",
      "Control 31 derivative.\n",
      "Control 0 derivative.\n",
      "Control 1 derivative.\n",
      "Control 2 derivative.\n",
      "Control 3 derivative.\n",
      "Control 4 derivative.\n",
      "Control 5 derivative.\n",
      "Control 6 derivative.\n",
      "Control 7 derivative.\n",
      "Control 8 derivative.\n",
      "Control 9 derivative.\n",
      "Control 10 derivative.\n",
      "Control 11 derivative.\n",
      "Control 12 derivative.\n",
      "Control 13 derivative.\n",
      "Control 14 derivative.\n",
      "Control 15 derivative.\n",
      "Control 16 derivative.\n",
      "Control 17 derivative.\n",
      "Control 18 derivative.\n",
      "Control 19 derivative.\n",
      "Control 20 derivative.\n",
      "Control 21 derivative.\n",
      "Control 22 derivative.\n",
      "Control 23 derivative.\n",
      "Control 24 derivative.\n",
      "Control 25 derivative.\n",
      "Control 26 derivative.\n",
      "Control 27 derivative.\n",
      "Control 28 derivative.\n",
      "Control 29 derivative.\n",
      "Control 30 derivative.\n",
      "Control 31 derivative.\n"
     ]
    }
   ],
   "source": [
    "from convex import all_derivs\n",
    "derivs = all_derivs(pca.controlset, pca.target_operator, pca.control_hamiltonians, pca.ambient_hamiltonian, pca.dt, 1)\n",
    "derivs[1] = [np.delete(d, 2, 0) for d in derivs[1]]"
   ]
  },
  {
   "cell_type": "code",
   "execution_count": 12,
   "metadata": {},
   "outputs": [
    {
     "data": {
      "text/plain": [
       "[(0.9999975326014685-2.927345865710862e-18j),\n",
       " (0.9999975326014685-3.2526065174565133e-18j),\n",
       " (-0.9999987662999348+1.0181119162864254e-19j),\n",
       " (-0.9999987662999348+1.2122384743740361e-19j),\n",
       " (-0.9999987662999348-1.0181119162864254e-19j),\n",
       " (-0.9999987662999348-1.2122384743740361e-19j),\n",
       " (0.9999975326014685+2.927345865710862e-18j),\n",
       " (0.9999975326014685+3.2526065174565133e-18j),\n",
       " (-0.9999987662999348-2.0220653831256856e-19j),\n",
       " (-0.9999987662999348-3.8957500317365647e-19j),\n",
       " (0.999997532601469-2.927345865710862e-18j),\n",
       " (0.999997532601469-3.0357660829594124e-18j),\n",
       " (0.999997532601469+2.927345865710862e-18j),\n",
       " (0.999997532601469+3.0357660829594124e-18j),\n",
       " (-0.9999987662999348+2.0220653831256856e-19j),\n",
       " (-0.9999987662999348+3.8957500317365647e-19j),\n",
       " (-0.9999987662999348+2.0220653831256856e-19j),\n",
       " (-0.9999987662999348+3.8957500317365647e-19j),\n",
       " (0.999997532601469+2.927345865710862e-18j),\n",
       " (0.999997532601469+3.0357660829594124e-18j),\n",
       " (0.999997532601469-2.927345865710862e-18j),\n",
       " (0.999997532601469-3.0357660829594124e-18j),\n",
       " (-0.9999987662999348-2.0220653831256856e-19j),\n",
       " (-0.9999987662999348-3.8957500317365647e-19j),\n",
       " (0.9999975326014685+2.927345865710862e-18j),\n",
       " (0.9999975326014685+3.2526065174565133e-18j),\n",
       " (-0.9999987662999348-1.0181119162864254e-19j),\n",
       " (-0.9999987662999348-1.2122384743740361e-19j),\n",
       " (-0.9999987662999348+1.0181119162864254e-19j),\n",
       " (-0.9999987662999348+1.2122384743740361e-19j),\n",
       " (0.9999975326014685-2.927345865710862e-18j),\n",
       " (0.9999975326014685-3.2526065174565133e-18j)]"
      ]
     },
     "execution_count": 12,
     "metadata": {},
     "output_type": "execute_result"
    }
   ],
   "source": [
    "import scipy\n",
    "[np.trace(scipy.linalg.expm(-1.j*d.reshape(4,4)))/4 for d in derivs[0]]"
   ]
  },
  {
   "cell_type": "code",
   "execution_count": 13,
   "metadata": {},
   "outputs": [],
   "source": [
    "import dill\n",
    "_file = open('derivs', 'wb')\n",
    "dill.dump(derivs, _file)"
   ]
  },
  {
   "cell_type": "code",
   "execution_count": 14,
   "metadata": {},
   "outputs": [],
   "source": [
    "import matplotlib.pyplot as plt\n",
    "def hist_and_support(weights, num=10):\n",
    "    plt.hist(weights)\n",
    "    np.argmax(weights)\n",
    "    top_idx = np.argsort(np.array(weights).T)[0][-num:]\n",
    "    top_values = [weights[i] for i in top_idx]\n",
    "    print(f\"SUPPORT:{np.sum(top_values)}\")\n",
    "    print(f\"NUM CONTROLS: {num}\")\n",
    "    return top_idx, np.sum(top_values)"
   ]
  },
  {
   "cell_type": "code",
   "execution_count": 15,
   "metadata": {},
   "outputs": [
    {
     "name": "stderr",
     "output_type": "stream",
     "text": [
      "/home/anthony/repos/decorrelating_errors/code/pauli_channel_approximation.py:2: UserWarning: \n",
      "This call to matplotlib.use() has no effect because the backend has already\n",
      "been chosen; matplotlib.use() must be called *before* pylab, matplotlib.pyplot,\n",
      "or matplotlib.backends is imported for the first time.\n",
      "\n",
      "The backend was *originally* set to 'module://ipykernel.pylab.backend_inline' by the following code:\n",
      "  File \"/home/anthony/.pyenv/versions/3.6.3/lib/python3.6/runpy.py\", line 193, in _run_module_as_main\n",
      "    \"__main__\", mod_spec)\n",
      "  File \"/home/anthony/.pyenv/versions/3.6.3/lib/python3.6/runpy.py\", line 85, in _run_code\n",
      "    exec(code, run_globals)\n",
      "  File \"/home/anthony/.pyenv/versions/3.6.3/envs/personal/lib/python3.6/site-packages/ipykernel_launcher.py\", line 16, in <module>\n",
      "    app.launch_new_instance()\n",
      "  File \"/home/anthony/.pyenv/versions/3.6.3/envs/personal/lib/python3.6/site-packages/traitlets/config/application.py\", line 658, in launch_instance\n",
      "    app.start()\n",
      "  File \"/home/anthony/.pyenv/versions/3.6.3/envs/personal/lib/python3.6/site-packages/ipykernel/kernelapp.py\", line 486, in start\n",
      "    self.io_loop.start()\n",
      "  File \"/home/anthony/.pyenv/versions/3.6.3/envs/personal/lib/python3.6/site-packages/tornado/ioloop.py\", line 888, in start\n",
      "    handler_func(fd_obj, events)\n",
      "  File \"/home/anthony/.pyenv/versions/3.6.3/envs/personal/lib/python3.6/site-packages/tornado/stack_context.py\", line 277, in null_wrapper\n",
      "    return fn(*args, **kwargs)\n",
      "  File \"/home/anthony/.pyenv/versions/3.6.3/envs/personal/lib/python3.6/site-packages/zmq/eventloop/zmqstream.py\", line 450, in _handle_events\n",
      "    self._handle_recv()\n",
      "  File \"/home/anthony/.pyenv/versions/3.6.3/envs/personal/lib/python3.6/site-packages/zmq/eventloop/zmqstream.py\", line 480, in _handle_recv\n",
      "    self._run_callback(callback, msg)\n",
      "  File \"/home/anthony/.pyenv/versions/3.6.3/envs/personal/lib/python3.6/site-packages/zmq/eventloop/zmqstream.py\", line 432, in _run_callback\n",
      "    callback(*args, **kwargs)\n",
      "  File \"/home/anthony/.pyenv/versions/3.6.3/envs/personal/lib/python3.6/site-packages/tornado/stack_context.py\", line 277, in null_wrapper\n",
      "    return fn(*args, **kwargs)\n",
      "  File \"/home/anthony/.pyenv/versions/3.6.3/envs/personal/lib/python3.6/site-packages/ipykernel/kernelbase.py\", line 283, in dispatcher\n",
      "    return self.dispatch_shell(stream, msg)\n",
      "  File \"/home/anthony/.pyenv/versions/3.6.3/envs/personal/lib/python3.6/site-packages/ipykernel/kernelbase.py\", line 233, in dispatch_shell\n",
      "    handler(stream, idents, msg)\n",
      "  File \"/home/anthony/.pyenv/versions/3.6.3/envs/personal/lib/python3.6/site-packages/ipykernel/kernelbase.py\", line 399, in execute_request\n",
      "    user_expressions, allow_stdin)\n",
      "  File \"/home/anthony/.pyenv/versions/3.6.3/envs/personal/lib/python3.6/site-packages/ipykernel/ipkernel.py\", line 208, in do_execute\n",
      "    res = shell.run_cell(code, store_history=store_history, silent=silent)\n",
      "  File \"/home/anthony/.pyenv/versions/3.6.3/envs/personal/lib/python3.6/site-packages/ipykernel/zmqshell.py\", line 537, in run_cell\n",
      "    return super(ZMQInteractiveShell, self).run_cell(*args, **kwargs)\n",
      "  File \"/home/anthony/.pyenv/versions/3.6.3/envs/personal/lib/python3.6/site-packages/IPython/core/interactiveshell.py\", line 2666, in run_cell\n",
      "    self.events.trigger('post_run_cell', result)\n",
      "  File \"/home/anthony/.pyenv/versions/3.6.3/envs/personal/lib/python3.6/site-packages/IPython/core/events.py\", line 88, in trigger\n",
      "    func(*args, **kwargs)\n",
      "  File \"/home/anthony/.pyenv/versions/3.6.3/envs/personal/lib/python3.6/site-packages/ipykernel/pylab/backend_inline.py\", line 160, in configure_once\n",
      "    activate_matplotlib(backend)\n",
      "  File \"/home/anthony/.pyenv/versions/3.6.3/envs/personal/lib/python3.6/site-packages/IPython/core/pylabtools.py\", line 311, in activate_matplotlib\n",
      "    matplotlib.pyplot.switch_backend(backend)\n",
      "  File \"/home/anthony/.pyenv/versions/3.6.3/envs/personal/lib/python3.6/site-packages/matplotlib/pyplot.py\", line 229, in switch_backend\n",
      "    matplotlib.use(newbackend, warn=False, force=True)\n",
      "  File \"/home/anthony/.pyenv/versions/3.6.3/envs/personal/lib/python3.6/site-packages/matplotlib/__init__.py\", line 1305, in use\n",
      "    reload(sys.modules['matplotlib.backends'])\n",
      "  File \"/home/anthony/.pyenv/versions/3.6.3/lib/python3.6/importlib/__init__.py\", line 166, in reload\n",
      "    _bootstrap._exec(spec, module)\n",
      "  File \"/home/anthony/.pyenv/versions/3.6.3/envs/personal/lib/python3.6/site-packages/matplotlib/backends/__init__.py\", line 14, in <module>\n",
      "    line for line in traceback.format_stack()\n",
      "\n",
      "\n",
      "  matplotlib.use('Agg')\n"
     ]
    }
   ],
   "source": [
    "from pauli_channel_approximation import PCA"
   ]
  },
  {
   "cell_type": "code",
   "execution_count": 35,
   "metadata": {
    "scrolled": false
   },
   "outputs": [
    {
     "name": "stdout",
     "output_type": "stream",
     "text": [
      "Problem\n",
      "  Name                   :                 \n",
      "  Objective sense        : min             \n",
      "  Type                   : CONIC (conic optimization problem)\n",
      "  Constraints            : 99              \n",
      "  Cones                  : 2               \n",
      "  Scalar variables       : 68              \n",
      "  Matrix variables       : 0               \n",
      "  Integer variables      : 0               \n",
      "\n",
      "Optimizer started.\n",
      "Presolve started.\n",
      "Linear dependency checker started.\n",
      "Linear dependency checker terminated.\n",
      "Eliminator - tries                  : 0                 time                   : 0.00            \n",
      "Lin. dep.  - tries                  : 1                 time                   : 0.00            \n",
      "Lin. dep.  - number                 : 0               \n",
      "Presolve terminated. Time: 0.00    \n",
      "Problem\n",
      "  Name                   :                 \n",
      "  Objective sense        : min             \n",
      "  Type                   : CONIC (conic optimization problem)\n",
      "  Constraints            : 99              \n",
      "  Cones                  : 2               \n",
      "  Scalar variables       : 68              \n",
      "  Matrix variables       : 0               \n",
      "  Integer variables      : 0               \n",
      "\n",
      "Optimizer  - threads                : 4               \n",
      "Optimizer  - solved problem         : the primal      \n",
      "Optimizer  - Constraints            : 27\n",
      "Optimizer  - Cones                  : 2\n",
      "Optimizer  - Scalar variables       : 60                conic                  : 28              \n",
      "Optimizer  - Semi-definite variables: 0                 scalarized             : 0               \n",
      "Factor     - setup time             : 0.00              dense det. time        : 0.00            \n",
      "Factor     - ML order time          : 0.00              GP order time          : 0.00            \n",
      "Factor     - nonzeros before factor : 370               after factor           : 378             \n",
      "Factor     - dense dim.             : 0                 flops                  : 2.55e+04        \n",
      "ITE PFEAS    DFEAS    GFEAS    PRSTATUS   POBJ              DOBJ              MU       TIME  \n",
      "0   1.0e+00  3.1e+00  2.0e+00  0.00e+00   4.000000000e+00   0.000000000e+00   1.0e+00  0.02  \n",
      "1   2.6e-01  8.2e-01  2.0e+00  1.49e+00   2.928768866e-01   -9.339280347e-01  2.6e-01  0.03  \n",
      "2   9.3e-02  2.9e-01  2.3e-01  4.27e-01   -5.475528293e+00  -7.061127920e+00  9.3e-02  0.03  \n",
      "3   3.9e-02  1.2e-01  6.6e-01  2.08e+00   -2.051553689e+00  -2.775299600e+00  3.9e-02  0.03  \n",
      "4   1.1e-02  3.3e-02  1.7e-01  4.60e+00   -2.597896038e-02  -1.745111664e-02  1.1e-02  0.03  \n",
      "5   5.2e-05  1.6e-04  1.6e-02  1.04e+00   6.111767610e-03   6.030330061e-03   5.2e-05  0.03  \n",
      "6   2.6e-06  8.3e-06  5.1e-03  1.23e+00   6.640566126e-03   6.634229726e-03   2.6e-06  0.03  \n",
      "7   1.9e-09  6.1e-09  1.3e-04  1.04e+00   6.664862435e-03   6.664858130e-03   1.9e-09  0.03  \n",
      "Optimizer terminated. Time: 0.04    \n",
      "\n",
      "\n",
      "Interior-point solution summary\n",
      "  Problem status  : PRIMAL_AND_DUAL_FEASIBLE\n",
      "  Solution status : OPTIMAL\n",
      "  Primal.  obj: 6.6648624347e-03    nrm: 1e+00    Viol.  con: 9e-10    var: 0e+00    cones: 0e+00  \n",
      "  Dual.    obj: 6.6648581303e-03    nrm: 2e+00    Viol.  con: 0e+00    var: 6e-09    cones: 0e+00  \n"
     ]
    }
   ],
   "source": [
    "from convex import optimal_weights\n",
    "pca.weights_0 = optimal_weights(derivs[:1], l1_constraint=True, l1_param=1)"
   ]
  },
  {
   "cell_type": "code",
   "execution_count": 36,
   "metadata": {},
   "outputs": [],
   "source": [
    "# Strangely, just by adding more controls, it worked..."
   ]
  },
  {
   "cell_type": "code",
   "execution_count": 37,
   "metadata": {},
   "outputs": [
    {
     "data": {
      "text/plain": [
       "matrix([[ 6.24762485e-02],\n",
       "        [ 6.24762485e-02],\n",
       "        [-8.00338161e-10],\n",
       "        [-8.00338161e-10],\n",
       "        [-8.00338161e-10],\n",
       "        [-8.00338161e-10],\n",
       "        [ 6.24762485e-02],\n",
       "        [ 6.24762485e-02],\n",
       "        [-8.00338160e-10],\n",
       "        [-8.00338161e-10],\n",
       "        [ 6.25237530e-02],\n",
       "        [ 6.25237530e-02],\n",
       "        [ 6.25237530e-02],\n",
       "        [ 6.25237530e-02],\n",
       "        [-8.00338160e-10],\n",
       "        [-8.00338161e-10],\n",
       "        [-8.00338160e-10],\n",
       "        [-8.00338161e-10],\n",
       "        [ 6.25237530e-02],\n",
       "        [ 6.25237530e-02],\n",
       "        [ 6.25237530e-02],\n",
       "        [ 6.25237530e-02],\n",
       "        [-8.00338160e-10],\n",
       "        [-8.00338161e-10],\n",
       "        [ 6.24762485e-02],\n",
       "        [ 6.24762485e-02],\n",
       "        [-8.00338161e-10],\n",
       "        [-8.00338161e-10],\n",
       "        [-8.00338161e-10],\n",
       "        [-8.00338161e-10],\n",
       "        [ 6.24762485e-02],\n",
       "        [ 6.24762485e-02]])"
      ]
     },
     "execution_count": 37,
     "metadata": {},
     "output_type": "execute_result"
    }
   ],
   "source": [
    "pca.weights_0"
   ]
  },
  {
   "cell_type": "code",
   "execution_count": 38,
   "metadata": {},
   "outputs": [],
   "source": [
    "num_weights = len(pca.weights_0)"
   ]
  },
  {
   "cell_type": "code",
   "execution_count": 39,
   "metadata": {},
   "outputs": [
    {
     "name": "stdout",
     "output_type": "stream",
     "text": [
      "SUPPORT:0.9999999990527159\n",
      "NUM CONTROLS: 32\n"
     ]
    },
    {
     "data": {
      "image/png": "[encoded data removed]",
      "text/plain": [
       "<matplotlib.figure.Figure at 0x7fd1cc239630>"
      ]
     },
     "metadata": {},
     "output_type": "display_data"
    }
   ],
   "source": [
    "idx0, supp = hist_and_support(pca.weights_0, num_weights)"
   ]
  },
  {
   "cell_type": "code",
   "execution_count": 40,
   "metadata": {},
   "outputs": [
    {
     "name": "stdout",
     "output_type": "stream",
     "text": [
      "Problem\n",
      "  Name                   :                 \n",
      "  Objective sense        : min             \n",
      "  Type                   : CONIC (conic optimization problem)\n",
      "  Constraints            : 227             \n",
      "  Cones                  : 2               \n",
      "  Scalar variables       : 164             \n",
      "  Matrix variables       : 0               \n",
      "  Integer variables      : 0               \n",
      "\n",
      "Optimizer started.\n",
      "Presolve started.\n",
      "Linear dependency checker started.\n",
      "Linear dependency checker terminated.\n",
      "Eliminator started.\n",
      "Freed constraints in eliminator : 0\n",
      "Eliminator terminated.\n",
      "Eliminator started.\n",
      "Freed constraints in eliminator : 0\n",
      "Eliminator terminated.\n",
      "Eliminator - tries                  : 2                 time                   : 0.00            \n",
      "Lin. dep.  - tries                  : 1                 time                   : 0.00            \n",
      "Lin. dep.  - number                 : 0               \n",
      "Presolve terminated. Time: 0.01    \n",
      "Problem\n",
      "  Name                   :                 \n",
      "  Objective sense        : min             \n",
      "  Type                   : CONIC (conic optimization problem)\n",
      "  Constraints            : 227             \n",
      "  Cones                  : 2               \n",
      "  Scalar variables       : 164             \n",
      "  Matrix variables       : 0               \n",
      "  Integer variables      : 0               \n",
      "\n",
      "Optimizer  - threads                : 4               \n",
      "Optimizer  - solved problem         : the dual        \n",
      "Optimizer  - Constraints            : 28\n",
      "Optimizer  - Cones                  : 3\n",
      "Optimizer  - Scalar variables       : 200               conic                  : 156             \n",
      "Optimizer  - Semi-definite variables: 0                 scalarized             : 0               \n",
      "Factor     - setup time             : 0.00              dense det. time        : 0.00            \n",
      "Factor     - ML order time          : 0.00              GP order time          : 0.00            \n",
      "Factor     - nonzeros before factor : 406               after factor           : 406             \n",
      "Factor     - dense dim.             : 0                 flops                  : 1.13e+05        \n",
      "ITE PFEAS    DFEAS    GFEAS    PRSTATUS   POBJ              DOBJ              MU       TIME  \n",
      "0   4.0e+00  1.0e+00  1.0e+00  0.00e+00   0.000000000e+00   0.000000000e+00   1.0e+00  0.02  \n",
      "1   2.1e+00  5.2e-01  5.5e-01  -9.15e-02  1.507846250e+00   2.235732798e+00   5.2e-01  0.04  \n",
      "2   7.7e-01  1.9e-01  2.2e-01  -5.89e-02  3.465010083e+00   4.814138920e+00   1.9e-01  0.05  \n",
      "3   2.4e-01  5.9e-02  1.6e-01  9.69e-01   4.297945711e-01   5.318344150e-01   5.9e-02  0.05  \n",
      "4   2.4e-02  5.9e-03  4.5e-02  9.86e-01   1.012746082e-01   1.269347730e-01   5.9e-03  0.05  \n",
      "5   3.2e-03  8.0e-04  1.7e-02  1.01e+00   2.197743748e-02   2.540092335e-02   8.0e-04  0.06  \n",
      "6   3.3e-04  8.3e-05  5.9e-03  9.92e-01   1.864769253e-02   1.882415326e-02   8.3e-05  0.06  \n",
      "7   4.0e-05  1.0e-05  2.1e-03  9.95e-01   1.759914489e-02   1.762156900e-02   1.0e-05  0.06  \n",
      "8   8.6e-06  2.1e-06  8.9e-04  9.77e-01   1.756701787e-02   1.757411280e-02   2.1e-06  0.06  \n",
      "9   3.2e-06  8.0e-07  1.2e-04  1.01e-01   1.777250016e-02   1.791051203e-02   8.0e-07  0.06  \n",
      "10  1.3e-06  3.2e-07  3.5e-05  -4.97e-01  1.836553912e-02   1.865803582e-02   3.2e-07  0.06  \n",
      "11  9.5e-07  2.4e-07  5.4e-05  -1.44e-01  2.498217330e-02   2.504254392e-02   2.4e-07  0.07  \n",
      "12  2.0e-07  5.0e-08  8.4e-06  2.20e-01   2.722995702e-02   2.736830264e-02   5.0e-08  0.07  \n",
      "13  9.9e-08  2.5e-08  2.2e-06  -5.42e-02  2.765245998e-02   2.814123375e-02   2.5e-08  0.07  \n",
      "14  4.5e-08  1.1e-08  1.3e-06  -4.63e-01  3.976857985e-02   4.004434905e-02   1.1e-08  0.07  \n",
      "15  6.0e-09  1.5e-09  4.1e-07  6.39e-01   5.371827156e-02   5.377163636e-02   1.5e-09  0.07  \n",
      "16  7.7e-11  3.8e-10  4.6e-08  9.60e-01   5.668070157e-02   5.668137488e-02   1.9e-11  0.07  \n",
      "17  6.8e-11  3.7e-10  4.4e-08  1.01e+00   5.668523098e-02   5.668582674e-02   1.7e-11  0.07  \n",
      "18  6.8e-11  3.7e-10  4.4e-08  1.00e+00   5.668523098e-02   5.668582674e-02   1.7e-11  0.08  \n",
      "Optimizer terminated. Time: 0.08    \n",
      "\n",
      "\n",
      "Interior-point solution summary\n",
      "  Problem status  : PRIMAL_AND_DUAL_FEASIBLE\n",
      "  Solution status : OPTIMAL\n",
      "  Primal.  obj: 5.6685230976e-02    nrm: 1e+00    Viol.  con: 3e-09    var: 0e+00    cones: 0e+00  \n",
      "  Dual.    obj: 5.6685826736e-02    nrm: 8e+03    Viol.  con: 0e+00    var: 2e-06    cones: 0e+00  \n"
     ]
    }
   ],
   "source": [
    "from convex import optimal_weights\n",
    "pca.weights = optimal_weights(derivs)\n",
    "# pca.weights[0] = .5\n",
    "# pca.weights[1] = .5"
   ]
  },
  {
   "cell_type": "code",
   "execution_count": 41,
   "metadata": {},
   "outputs": [
    {
     "name": "stdout",
     "output_type": "stream",
     "text": [
      "SUPPORT:0.9999999980473147\n",
      "NUM CONTROLS: 32\n"
     ]
    },
    {
     "data": {
      "image/png": "[encoded data removed]",
      "text/plain": [
       "<matplotlib.figure.Figure at 0x7fd1cc1fb198>"
      ]
     },
     "metadata": {},
     "output_type": "display_data"
    }
   ],
   "source": [
    "idx1, supp = hist_and_support(pca.weights, num_weights)"
   ]
  },
  {
   "cell_type": "code",
   "execution_count": null,
   "metadata": {},
   "outputs": [],
   "source": []
  },
  {
   "cell_type": "code",
   "execution_count": null,
   "metadata": {},
   "outputs": [],
   "source": []
  },
  {
   "cell_type": "code",
   "execution_count": null,
   "metadata": {},
   "outputs": [],
   "source": []
  },
  {
   "cell_type": "code",
   "execution_count": null,
   "metadata": {},
   "outputs": [],
   "source": []
  },
  {
   "cell_type": "code",
   "execution_count": null,
   "metadata": {},
   "outputs": [],
   "source": []
  },
  {
   "cell_type": "code",
   "execution_count": 42,
   "metadata": {},
   "outputs": [],
   "source": [
    "pca0 = dill.load(open(filename, 'rb'))\n",
    "pca0.controlset = controls\n",
    "subweights =  np.array(pca.weights_0)[idx0]\n",
    "#pca.controlset += controls\n",
    "#pca0.controlset += [np.zeros(controls[0].shape)]\n",
    "pca0.weights = None\n",
    "\n",
    "\n",
    "pca0.num_controls = len(pca0.controlset)\n",
    "pca0.probs = list(np.array(subweights.T/sum(subweights)).T)"
   ]
  },
  {
   "cell_type": "code",
   "execution_count": 43,
   "metadata": {},
   "outputs": [],
   "source": [
    "pca1 = dill.load(open(filename, 'rb'))\n",
    "pca1.controlset = controls\n",
    "subweights = np.array(pca.weights)[idx1]\n",
    "# pca.controlset += controls\n",
    "# pca.controlset += [np.zeros(controls[0].shape)]\n",
    "pca.weights = None\n",
    "\n",
    "\n",
    "\n",
    "pca1.num_controls = len(pca1.controlset)\n",
    "pca1.probs = list(np.array(subweights.T/sum(subweights)).T)\n"
   ]
  },
  {
   "cell_type": "code",
   "execution_count": 44,
   "metadata": {},
   "outputs": [
    {
     "name": "stdout",
     "output_type": "stream",
     "text": [
      "ZEROTH ORDER: 0.0022214980843370544\n"
     ]
    }
   ],
   "source": [
    "import scipy\n",
    "order = 0\n",
    "# Zeroth order optimized weights\n",
    "print('ZEROTH ORDER: {}'.format(scipy.linalg.norm(np.matrix(np.array([d.flatten() for d in derivs[order]])[idx0]).T.dot(pca0.probs))))"
   ]
  },
  {
   "cell_type": "code",
   "execution_count": 45,
   "metadata": {},
   "outputs": [
    {
     "name": "stdout",
     "output_type": "stream",
     "text": [
      "SUM: [[0.00314167+2.32067574e-24j]]\n"
     ]
    }
   ],
   "source": [
    "import scipy\n",
    "order = 0\n",
    "# Zeroth order optimized weights\n",
    "print(\"SUM: {}\".format(sum(np.matrix(np.array([d.flatten() for d in derivs[order]])[idx0]).T.dot(pca0.probs))))"
   ]
  },
  {
   "cell_type": "code",
   "execution_count": 46,
   "metadata": {
    "scrolled": true
   },
   "outputs": [
    {
     "name": "stdout",
     "output_type": "stream",
     "text": [
      "FIRST ORDER: 18.568384229814082\n"
     ]
    }
   ],
   "source": [
    "import scipy\n",
    "order = 1\n",
    "print('FIRST ORDER: {}'.format(scipy.linalg.norm(np.matrix(np.array([d.flatten() for d in derivs[order]])[idx0]).T.dot(pca0.probs))))"
   ]
  },
  {
   "cell_type": "code",
   "execution_count": 47,
   "metadata": {},
   "outputs": [
    {
     "name": "stdout",
     "output_type": "stream",
     "text": [
      "ZEROTH ORDER: 4.203448224846713e-09\n"
     ]
    }
   ],
   "source": [
    "import scipy\n",
    "order = 0\n",
    "# Zeroth order optimized weights\n",
    "print('ZEROTH ORDER: {}'.format(scipy.linalg.norm(np.matrix(np.array([d.flatten() for d in derivs[order]])[idx1]).T.dot(pca1.probs))))"
   ]
  },
  {
   "cell_type": "code",
   "execution_count": 48,
   "metadata": {},
   "outputs": [
    {
     "name": "stdout",
     "output_type": "stream",
     "text": [
      "SUM: [[-5.7827606e-09+3.9789971e-18j]]\n"
     ]
    }
   ],
   "source": [
    "import scipy\n",
    "order = 0\n",
    "# Zeroth order optimized weights\n",
    "print(\"SUM: {}\".format(sum(np.matrix(np.array([d.flatten() for d in derivs[order]])[idx1]).T.dot(pca1.probs))))"
   ]
  },
  {
   "cell_type": "code",
   "execution_count": 49,
   "metadata": {},
   "outputs": [
    {
     "name": "stdout",
     "output_type": "stream",
     "text": [
      "FIRST ORDER: 0.04645381026023787\n"
     ]
    }
   ],
   "source": [
    "import scipy\n",
    "order = 1\n",
    "print('FIRST ORDER: {}'.format(scipy.linalg.norm(np.matrix(np.array([d.flatten() for d in derivs[order]])[idx1]).T.dot(pca1.probs))))"
   ]
  },
  {
   "cell_type": "code",
   "execution_count": 50,
   "metadata": {},
   "outputs": [],
   "source": [
    "pca0.dt = pca.dt\n",
    "pca1.dt = pca.dt\n",
    "pca0.num_steps = pca.num_steps\n",
    "pca1.num_steps = pca.num_steps\n",
    "pca0.num_controls = len(pca0.controlset)\n",
    "pca1.num_controls = len(pca1.controlset)"
   ]
  },
  {
   "cell_type": "code",
   "execution_count": 51,
   "metadata": {},
   "outputs": [],
   "source": [
    "# pca0.dt = dt\n",
    "# pca1.dt = dt\n",
    "# pca0.num_steps = num_steps\n",
    "# pca1.num_steps = num_steps\n",
    "# pca0.num_controls = len(pca0.controlset)\n",
    "# pca1.num_controls = len(pca1.controlset)"
   ]
  },
  {
   "cell_type": "code",
   "execution_count": 52,
   "metadata": {},
   "outputs": [],
   "source": [
    "_file = 'pickled_controls106.pkl'\n",
    "# Save the weighted controls\n",
    "import dill\n",
    "dill.dump(pca0, open('0_' + _file, 'wb'))\n",
    "\n",
    "import dill\n",
    "dill.dump(pca1, open('1_' + _file, 'wb'))"
   ]
  },
  {
   "cell_type": "code",
   "execution_count": 53,
   "metadata": {},
   "outputs": [],
   "source": [
    "# Save the weighted controls\n",
    "import dill\n",
    "import os\n",
    "import numpy as np\n",
    "\n",
    "\n",
    "pca0 = dill.load(open('0_' + _file, 'rb'))\n",
    "pca1 = dill.load(open('1_' + _file, 'rb'))"
   ]
  },
  {
   "cell_type": "code",
   "execution_count": null,
   "metadata": {},
   "outputs": [],
   "source": []
  },
  {
   "cell_type": "code",
   "execution_count": 54,
   "metadata": {},
   "outputs": [],
   "source": [
    "from pauli_channel_approximation import control_unitaries, error_unitary, off_diagonal_projection, adjoint\n",
    "import sys\n",
    "import itertools\n",
    "from itertools import product\n",
    "from copy import deepcopy\n",
    "from functools import reduce\n",
    "import numpy as np\n",
    "\n",
    "from diamond import diamond_norm, jamiolkowski\n",
    "\n",
    "def superoperator(unitary):\n",
    "\n",
    "    return np.kron(unitary.conj(), unitary)\n",
    "\n",
    "def choi_form(unitary):\n",
    "    return np.matrix(jamiolkowski(superoperator(unitary)))\n",
    "\n",
    "def diamond_distance(sopa, sopb):\n",
    "#     unitary_a = np.matrix(unitary_a)\n",
    "#     unitary_b = np.matrix(unitary_b)\n",
    "#     arg = (choi_form(unitary_a) - choi_form(unitary_b))/2\n",
    "#     rtn = diamond_norm(arg)\n",
    "    rtn = (jamiolkowski(sopa) - jamiolkowski(sopb))/2\n",
    "    return diamond_norm(rtn)\n",
    "\n",
    "def compute_diamond_norm(data):\n",
    "    controlset, ambient_hamiltonian0, combo, dt, control_hamiltonians, target_operator, probs = data\n",
    "    print(\"DOING COMBO {}\".format(combo))\n",
    "    sys.stdout.flush()\n",
    "    fidelities = []\n",
    "    projs = []\n",
    "    sops = []\n",
    "    controlset_unitaries = []\n",
    "    d_norms = []\n",
    "\n",
    "    for i, controls in enumerate(controlset):\n",
    "        newcontrols = deepcopy(controls)\n",
    "        ambient_hamiltonian = [deepcopy(ah).astype(\"complex\") for ah in ambient_hamiltonian0]\n",
    "        for cnum, value in enumerate(combo):\n",
    "            cnum -= len(ambient_hamiltonian0)\n",
    "            if cnum >= 0:\n",
    "                newcontrols[:, cnum] = newcontrols[:, cnum] * (1 + value)\n",
    "            if cnum < 0:\n",
    "                if cnum == -1:\n",
    "                    ambient_hamiltonian[cnum] *= 1 + float(value)\n",
    "                else:\n",
    "                    ambient_hamiltonian[cnum] *= float(value)\n",
    "        step_unitaries = control_unitaries(ambient_hamiltonian,\n",
    "                                           control_hamiltonians, newcontrols,\n",
    "                                           dt)\n",
    "        unitary = reduce(lambda a, b: a.dot(b), step_unitaries)\n",
    "        sop = error_unitary(unitary, target_operator)\n",
    "        sops.append(sop)\n",
    "        if i in list(range(1)):\n",
    "            d_norms.append(diamond_distance(sop, np.eye(sop.shape[0])))\n",
    "    avg_sop = reduce(lambda a, b: a + b, [prob * sops[i] for i, prob in enumerate(probs)])\n",
    "    d_norms.append(diamond_distance(avg_sop, np.eye(avg_sop.shape[0])))\n",
    "    return d_norms\n",
    "\n",
    "def generate_indices(num_points, order_desired):\n",
    "    num_indices = len(order_desired)\n",
    "    tuples = product(range(num_points), repeat=num_indices)\n",
    "    indices = [sum([num_points**(num_indices - 1 - order_desired[i]) * t[i] \n",
    "                    for i in range(num_indices)]) for t in tuples]\n",
    "    return indices"
   ]
  },
  {
   "cell_type": "code",
   "execution_count": null,
   "metadata": {
    "scrolled": true
   },
   "outputs": [
    {
     "name": "stdout",
     "output_type": "stream",
     "text": [
      "DOING COMBO [-0.0019952623149688785, 0, 0, 0, 0, 0, 0]\n",
      "DOING COMBO [0.0, 0, 0, 0, 0, 0, 0]\n",
      "DOING COMBO [0.0019952623149688785, 0, 0, 0, 0, 0, 0]\n",
      "DOING COMBO [-0.0019952623149688785, 0, 0, 0, 0, 0, 0]\n",
      "DOING COMBO [0.0, 0, 0, 0, 0, 0, 0]\n",
      "DOING COMBO [0.0019952623149688785, 0, 0, 0, 0, 0, 0]\n",
      "DOING COMBO [0, -0.0019952623149688785, 0, 0, 0, 0, 0]\n",
      "DOING COMBO [0, 0.0, 0, 0, 0, 0, 0]\n",
      "DOING COMBO [0, 0.0019952623149688785, 0, 0, 0, 0, 0]\n",
      "DOING COMBO [0, -0.0019952623149688785, 0, 0, 0, 0, 0]\n",
      "DOING COMBO [0, 0.0, 0, 0, 0, 0, 0]\n",
      "DOING COMBO [0, 0.0019952623149688785, 0, 0, 0, 0, 0]\n",
      "DOING COMBO [0, 0, 0, -0.0019952623149688785, -0.0019952623149688785, 0, 0]\n",
      "DOING COMBO [0, 0, 0, 0.0, 0.0, 0, 0]\n",
      "DOING COMBO [0, 0, 0, 0.0019952623149688785, 0.0019952623149688785, 0, 0]\n",
      "DOING COMBO [0, 0, 0, -0.0019952623149688785, -0.0019952623149688785, 0, 0]\n",
      "DOING COMBO [0, 0, 0, 0.0, 0.0, 0, 0]\n",
      "DOING COMBO [0, 0, 0, 0.0019952623149688785, 0.0019952623149688785, 0, 0]\n",
      "DOING COMBO [0, 0, 0, 0, 0, -0.0019952623149688785, -0.0019952623149688785]\n",
      "DOING COMBO [0, 0, 0, 0, 0, 0.0, 0.0]\n",
      "DOING COMBO [0, 0, 0, 0, 0, 0.0019952623149688785, 0.0019952623149688785]\n",
      "DOING COMBO [0, 0, 0, 0, 0, -0.0019952623149688785, -0.0019952623149688785]\n",
      "DOING COMBO [0, 0, 0, 0, 0, 0.0, 0.0]\n",
      "DOING COMBO [0, 0, 0, 0, 0, 0.0019952623149688785, 0.0019952623149688785]\n"
     ]
    }
   ],
   "source": [
    "import dill\n",
    "all_results = []\n",
    "base = np.logspace(-4.7, np.log(pca0.detunings[0][0])/np.log(10), 1)\n",
    "controls = np.concatenate([np.sort(-base),np.array([0]), base]) * 100\n",
    "combinations0 = [[det, 0, 0, 0, 0, 0, 0] for det in controls]\n",
    "combinations1 = [[0, det, 0, 0, 0, 0, 0] for det in controls]\n",
    "combinations2 = [[0, 0, det, 0, 0, 0, 0] for det in controls]\n",
    "combinations3 = [[0, 0, 0, det, det, 0, 0] for det in controls]\n",
    "combinations4 = [[0, 0, 0, 0, 0, det, det] for det in controls]\n",
    "\n",
    "for j, pca in enumerate((pca0, pca1)):\n",
    "    d_norms00 = []\n",
    "    for i in range(len(combinations0)):\n",
    "        combo = combinations0[i]\n",
    "        lst = [pca.controlset, pca.ambient_hamiltonian, combo, pca.dt,\n",
    "                pca.control_hamiltonians, pca.target_operator, pca.probs]\n",
    "        d_norms00.append(compute_diamond_norm(lst))\n",
    "        dill.dump(d_norms00, open('d_norms00_{}_{}'.format(i, j), 'wb'))\n",
    "for j, pca in enumerate((pca0, pca1)):\n",
    "    d_norms01 = []\n",
    "    for i in range(len(combinations1)):\n",
    "        combo = combinations1[i]\n",
    "        lst = [pca.controlset, pca.ambient_hamiltonian, combo, pca.dt,\n",
    "                pca.control_hamiltonians, pca.target_operator, pca.probs]\n",
    "        d_norms01.append(compute_diamond_norm(lst))\n",
    "        dill.dump(d_norms01, open('d_norms01_{}_{}'.format(i, j), 'wb'))\n",
    "# for j, pca in enumerate((pca0, pca1)):\n",
    "#     d_norms02 = []\n",
    "#     for i in range(len(combinations2)):\n",
    "#         combo = combinations2[i]\n",
    "#         lst = [pca.controlset, pca.ambient_hamiltonian, combo, pca.dt,\n",
    "#                 pca.control_hamiltonians, pca.target_operator, pca.probs]\n",
    "#         d_norms02.append(compute_diamond_norm(lst))\n",
    "#         dill.dump(d_norms02, open('d_norms02_{}_{}'.format(i, j), 'wb'))\n",
    "for j, pca in enumerate((pca0, pca1)):\n",
    "    d_norms03 = []\n",
    "    for i in range(len(combinations3)):\n",
    "        combo = combinations3[i]\n",
    "        lst = [pca.controlset, pca.ambient_hamiltonian, combo, pca.dt,\n",
    "                pca.control_hamiltonians, pca.target_operator, pca.probs]\n",
    "        d_norms03.append(compute_diamond_norm(lst))\n",
    "        dill.dump(d_norms03, open('d_norms03_{}_{}'.format(i, j), 'wb'))\n",
    "for j, pca in enumerate((pca0, pca1)):\n",
    "    d_norms04 = []\n",
    "    for i in range(len(combinations4)):\n",
    "        combo = combinations4[i]\n",
    "        lst = [pca.controlset, pca.ambient_hamiltonian, combo, pca.dt,\n",
    "                pca.control_hamiltonians, pca.target_operator, pca.probs]\n",
    "        d_norms04.append(compute_diamond_norm(lst))\n",
    "        dill.dump(d_norms04, open('d_norms04_{}_{}'.format(i, j), 'wb'))\n",
    "        \n",
    "#     all_results.extend([d_norms00, d_norms01, d_norms02, d_norms03, d_norms04])\n",
    "# dill.dump(all_results, open('all_results', 'wb'))"
   ]
  },
  {
   "cell_type": "code",
   "execution_count": null,
   "metadata": {},
   "outputs": [],
   "source": [
    "# import dill\n",
    "# import matplotlib.pyplot as plt\n",
    "# import numpy as np\n",
    "# %matplotlib inline\n",
    "# which_parameter = 1\n",
    "\n",
    "\n",
    "# d_norms00 = dill.load(open(\"d_norms0{}_2_0\".format(which_parameter), 'rb'))\n",
    "# d_norms10 = dill.load(open(\"d_norms0{}_2_1\".format(which_parameter), 'rb'))\n",
    "# controls = [-0.0019952623149688785, 0, 0.0019952623149688785]\n",
    "# for a, b in ((d_norms00, d_norms10),):# (diamond_norms01, diamond_norms11)):\n",
    "#     plt.figure(figsize=(10,6))\n",
    "#     plt.semilogy(controls, np.array(a).T[7], linewidth = 2, alpha=.6, color='#a6bddb', label=\"Member of 0RBC\", ls=\"-\");\n",
    "#     plt.semilogy(controls, np.array(b).T[7], linewidth = 2, alpha=.6, color='#a6bddb', label=\"Member of 1RBC\", ls=\"--\");\n",
    "\n",
    "\n",
    "#     plt.semilogy(controls, np.array(a).T[-1], linewidth = 3, alpha=1, color='#2b8cbe', label=\"0RBC\", ls=\"-\");\n",
    "#     plt.semilogy(controls,np.array(b).T[-1], linewidth = 3, alpha=1, color='#2b8cbe', label=\"1RBC\", ls=\"--\");\n",
    "#     plt.ylabel(\"Diamond Norm\")\n",
    "#     plt.xlabel(\"Detuning\")\n",
    "#     plt.legend()"
   ]
  },
  {
   "cell_type": "code",
   "execution_count": null,
   "metadata": {},
   "outputs": [],
   "source": []
  },
  {
   "cell_type": "code",
   "execution_count": null,
   "metadata": {},
   "outputs": [],
   "source": []
  }
 ],
 "metadata": {
  "kernelspec": {
   "display_name": "Python 3",
   "language": "python",
   "name": "python3"
  },
  "language_info": {
   "codemirror_mode": {
    "name": "ipython",
    "version": 3
   },
   "file_extension": ".py",
   "mimetype": "text/x-python",
   "name": "python",
   "nbconvert_exporter": "python",
   "pygments_lexer": "ipython3",
   "version": "3.6.3"
  }
 },
 "nbformat": 4,
 "nbformat_minor": 2
}
