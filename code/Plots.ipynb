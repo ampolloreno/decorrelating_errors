{
 "cells": [
  {
   "cell_type": "code",
   "execution_count": 1,
   "metadata": {},
   "outputs": [
    {
     "data": {
      "text/plain": [
       "'/Users/kyoung/Documents/Papers/mixed_unitaries/code'"
      ]
     },
     "execution_count": 1,
     "metadata": {},
     "output_type": "execute_result"
    }
   ],
   "source": [
    "import os\n",
    "os.getcwd()"
   ]
  },
  {
   "cell_type": "code",
   "execution_count": 2,
   "metadata": {},
   "outputs": [],
   "source": [
    "from pauli_channel_approximation import PCA"
   ]
  },
  {
   "cell_type": "code",
   "execution_count": 3,
   "metadata": {},
   "outputs": [],
   "source": [
    "import dill\n",
    "with open('0_pickled_controls106.pkl', 'rb') as f:\n",
    "    data0 = dill.load(f)\n",
    "with open('1_pickled_controls106.pkl', 'rb') as f:\n",
    "    data1 = dill.load(f)\n"
   ]
  },
  {
   "cell_type": "code",
   "execution_count": 4,
   "metadata": {},
   "outputs": [],
   "source": [
    "import numpy as np\n",
    "import scipy as sp\n",
    "import numpy.linalg as lin\n",
    "import scipy.linalg as slin\n",
    "\n",
    "import os; os.environ['PYGSTI_BACKCOMPAT_WARNING'] = '0'\n",
    "import pygsti \n",
    "\n",
    "try:\n",
    "    from matplotlib import pyplot as plt\n",
    "    import seaborn as sns\n",
    "    sns.set_style('white')\n",
    "    %matplotlib inline\n",
    "except ImportError:\n",
    "    pass\n"
   ]
  },
  {
   "cell_type": "code",
   "execution_count": 5,
   "metadata": {},
   "outputs": [],
   "source": [
    "sigI = np.array([[1.,0],[0, 1]], dtype='complex')\n",
    "sigX = np.array([[0, 1],[1, 0]], dtype='complex')\n",
    "sigY = np.array([[0,-1],[1, 0]], dtype='complex') * 1.j\n",
    "sigZ = np.array([[1, 0],[0,-1]], dtype='complex')\n",
    "sigM = (sigX - 1.j*sigY)/2.\n",
    "sigP = (sigX + 1.j*sigY)/2."
   ]
  },
  {
   "cell_type": "code",
   "execution_count": 6,
   "metadata": {},
   "outputs": [],
   "source": [
    "import pygsti\n",
    "import numpy as np\n",
    "import itertools\n",
    "from functools import reduce\n",
    "\n",
    "multi_kron = lambda *a: reduce(np.kron, a)\n",
    "\n",
    "def change_basis(process, from_basis, to_basis):\n",
    "    \"\"\"\n",
    "    PyGSTi 'std' basis is *row stacked* rather than column stacked, so need to defined a 'col' basis.\n",
    "    \"\"\"\n",
    "    allowed_bases = ['col', 'std', 'gm', 'pp', 'qsim']\n",
    "    if not ((from_basis in allowed_bases) or (to_basis in allowed_bases)):\n",
    "        raise ValueError(\"Allowed bases are 'col', 'std', 'gm', 'pp', 'qsim' \")\n",
    "\n",
    "    n_qubits = int(np.log(len(process)) / np.log(4))\n",
    "    if from_basis == 'col' or to_basis == 'col':\n",
    "\n",
    "        if len(process) != 4**n_qubits:\n",
    "            raise ValueError('The dimension of the process matrix must be a power of 4.')\n",
    "        def matrix_unit(n,i,j):\n",
    "            unit = np.zeros([n,n], dtype='complex')\n",
    "            unit[i,j] = 1.\n",
    "            return unit\n",
    "        col_stacked_matrix_units = [matrix_unit(2**n_qubits, i, j) for j in range(2**n_qubits) for i in range(2**n_qubits)]\n",
    "\n",
    "        from pygsti.objects import ExplicitBasis\n",
    "        col = ExplicitBasis(col_stacked_matrix_units, [\"myElement%d\" % i for i in range(4**n_qubits)],\n",
    "                                     name='col', longname='Column=-Stacked')\n",
    "        if from_basis == 'col':\n",
    "            from_basis = col\n",
    "        if to_basis == 'col':\n",
    "            to_basis = col\n",
    "\n",
    "    if from_basis == 'qsim' or to_basis == 'qsim':\n",
    "        n_qubits = int(np.log(len(process))/np.log(4))\n",
    "        if len(process) != 4**n_qubits:\n",
    "            raise ValueError('The dimension of the process matrix must be a power of 4.')\n",
    "        sig0q = np.array([[1., 0], [0, 0]], dtype='complex')\n",
    "        sigXq = np.array([[0, 1], [1, 0]], dtype='complex')/np.sqrt(2)\n",
    "        sigYq = np.array([[0, -1], [1, 0]], dtype='complex') * 1.j / np.sqrt(2.)\n",
    "        sig1q = np.array([[0, 0], [0, 1]], dtype='complex')\n",
    "        qbasis = itertools.product([sig0q, sigXq, sigYq, sig1q], repeat=n_qubits)\n",
    "        qbasis = [multi_kron(*x) for x in qbasis]\n",
    "\n",
    "        from pygsti.objects import ExplicitBasis\n",
    "        qsim = ExplicitBasis(qbasis, [\"myElement%d\" % i for i in range(4**n_qubits)],\n",
    "                                     name='qsim', longname='Quantumsim')\n",
    "        if from_basis == 'qsim':\n",
    "            from_basis = qsim\n",
    "        if to_basis == 'qsim':\n",
    "            to_basis = qsim\n",
    "\n",
    "    return pygsti.tools.basistools.change_basis(process, from_basis, to_basis)"
   ]
  },
  {
   "cell_type": "code",
   "execution_count": 7,
   "metadata": {},
   "outputs": [],
   "source": [
    "def get_unitary(data, c_ind, epsilon1, epsilon2, delta1, delta2):\n",
    "    u = np.eye(4, dtype='complex')\n",
    "    \n",
    "    a = epsilon1 * data.ambient_hamiltonian[0]\n",
    "    b = epsilon2 * data.ambient_hamiltonian[1]\n",
    "    c = data.ambient_hamiltonian[2] \n",
    "    h0 = a+b+c\n",
    "    \n",
    "    for t_ind in range(500):\n",
    "        d = (1+delta2) * data.controlset[c_ind][t_ind][0] * data.control_hamiltonians[0]\n",
    "        e = (1+delta2) * data.controlset[c_ind][t_ind][1] * data.control_hamiltonians[1] \n",
    "        f = (1+delta1) * data.controlset[c_ind][t_ind][2] * data.control_hamiltonians[2] \n",
    "        g = (1+delta1) * data.controlset[c_ind][t_ind][3] * data.control_hamiltonians[3] \n",
    "        ham = h0 + d + e + f + g\n",
    "        u = np.dot(slin.expm(-1.j*ham*data.dt), u)\n",
    "    \n",
    "    return u        "
   ]
  },
  {
   "cell_type": "code",
   "execution_count": 9,
   "metadata": {},
   "outputs": [],
   "source": [
    "iSWAP = np.zeros([4,4], dtype='complex')\n",
    "iSWAP[0,0] = 1\n",
    "iSWAP[3,3] = 1\n",
    "iSWAP[1,2] = -1.j\n",
    "iSWAP[2,1] = -1.j\n",
    "piSWAP = np.kron(iSWAP.conj(), iSWAP)\n",
    "piSWAP = change_basis(piSWAP, 'col', 'pp')\n",
    "\n"
   ]
  },
  {
   "cell_type": "code",
   "execution_count": 10,
   "metadata": {},
   "outputs": [
    {
     "name": "stderr",
     "output_type": "stream",
     "text": [
      "/Users/kyoung/Documents/Research/dev/pyGSTi/packages/pygsti/tools/optools.py:366: UserWarning:\n",
      "\n",
      "CVXOPT failed (uknown err) - diamonddist returning -2!\n",
      "\n"
     ]
    },
    {
     "data": {
      "text/plain": [
       "[<matplotlib.lines.Line2D at 0x102a10e10>]"
      ]
     },
     "execution_count": 10,
     "metadata": {},
     "output_type": "execute_result"
    },
    {
     "data": {
      "image/png": "[encoded data removed]",
      "text/plain": [
       "<Figure size 432x288 with 1 Axes>"
      ]
     },
     "metadata": {
      "needs_background": "light"
     },
     "output_type": "display_data"
    }
   ],
   "source": [
    "ed = []\n",
    "for x in np.linspace(-.01,.01):\n",
    "    u = get_unitary(data1, 1023,x,x,0,0)\n",
    "    pu = change_basis(np.kron(u.conj(), u), 'col', 'pp')\n",
    "    ed += [pygsti.tools.optools.diamonddist(piSWAP, pu, 'pp')/2]\n",
    "plt.plot(ed)"
   ]
  },
  {
   "cell_type": "markdown",
   "metadata": {},
   "source": [
    "# Figures for paper"
   ]
  },
  {
   "cell_type": "code",
   "execution_count": 11,
   "metadata": {},
   "outputs": [],
   "source": [
    "# Load the 1MQG and 0MQG data\n",
    "with open('./figures/0_epsilon.dat', 'rb') as f:\n",
    "    ep0 = dill.load(f)\n",
    "with open('./figures/epsilon.dat', 'rb') as f:\n",
    "    ep1 = dill.load(f)"
   ]
  },
  {
   "cell_type": "code",
   "execution_count": null,
   "metadata": {},
   "outputs": [],
   "source": [
    "ind = 11\n",
    "ed = []\n",
    "for val in ep0['vals']:\n",
    "    u = get_unitary(data1, ind,val,val,0,0)\n",
    "    pu = change_basis(np.kron(u.conj(), u), 'col', 'pp')\n",
    "    ed += [pygsti.tools.optools.diamonddist(piSWAP, pu, 'pp')/2]\n",
    "distances[ind] = ed.copy()"
   ]
  },
  {
   "cell_type": "code",
   "execution_count": null,
   "metadata": {},
   "outputs": [],
   "source": [
    "ed = []\n",
    "for ind in range(data1.num_controls):\n",
    "    u = get_unitary(data1, ind,0,0,0,0)\n",
    "    pu = change_basis(np.kron(u.conj(), u), 'col', 'pp')\n",
    "    ed += [pygsti.tools.optools.diamonddist(piSWAP, pu, 'pp')/2]"
   ]
  },
  {
   "cell_type": "code",
   "execution_count": null,
   "metadata": {},
   "outputs": [],
   "source": [
    "plt.hist(ed, bins=30)"
   ]
  },
  {
   "cell_type": "code",
   "execution_count": null,
   "metadata": {},
   "outputs": [],
   "source": [
    "plt.figure(figsize=(10,7))\n",
    "ax, \n",
    "plt.plot(ep0['vals'], ep0['diamond_distances'], label='1MQG')\n",
    "plt.plot(ep1['vals'], ep1['diamond_distances'], label='0MQG')\n",
    "plt.xlabel(\"$\\epsilon$\", fontsize=20)\n",
    "plt.ylabel(\"$\\epsilon_\\diamond(E_{\\mathrm{eff}})$\", fontsize=20)\n",
    "plt.ylim(0,0.01)\n",
    "plt.xlim(-0.009, 0.009)\n",
    "plt.legend(fontsize=17)"
   ]
  },
  {
   "cell_type": "code",
   "execution_count": null,
   "metadata": {},
   "outputs": [],
   "source": [
    "import matplotlib \n",
    "\n",
    "matplotlib.rc('font', serif='Helvetica Neue') \n",
    "fig, ax = plt.subplots(figsize=(12,8))\n",
    "\n",
    "colors = [\"#f7fcfd\",\"#e5f5f9\",\"#ccece6\",\"#99d8c9\",\"#66c2a4\",\"#41ae76\",\"#238b45\",\"#006d2c\",\"#00441b\",\"#00200f\"]\n",
    "\n",
    "ax.plot(ep1['vals'], ep1['diamond_distances'], label='0MQG', linewidth=4, linestyle='--')#, color='#1f78b4')\n",
    "ax.plot(ep0['vals'], ep0['diamond_distances'], label='1MQG', linewidth=4)#, color = '#e34a33')\n",
    "ax.plot(ep0['vals'], ed, label='Bare unitary', linewidth=2)\n",
    "    \n",
    "# ax.set_ylim([1.e-5,1.e-2])\n",
    "# ax.set_xlim([t_final-2.5*9.e-8, t_final+2.5*9.e-8])\n",
    "plt.xlabel(\"$\\epsilon$\", fontsize=24, alpha=.8)\n",
    "plt.ylabel(\"$\\epsilon_\\diamond(E_{\\mathrm{eff}})$\", fontsize=24, alpha=0.8)\n",
    "plt.ylim(0,0.01)\n",
    "plt.xlim(-0.009, 0.009)\n",
    "\n",
    "\n",
    "ax.set_title('Robustness of mixed quantum gates ',fontsize=26,alpha=.5,y=1.05)\n",
    "\n",
    "for ticklabel in ax.get_yticklabels() + ax.get_xticklabels():\n",
    "    ticklabel.set_fontsize(18)\n",
    "    ticklabel.set_alpha(0.6)\n",
    "    \n",
    "ax.spines[\"top\"].set_visible(False)\n",
    "ax.spines[\"right\"].set_visible(False)    \n",
    "ax.spines[\"bottom\"].set_alpha(.2)\n",
    "ax.spines[\"left\"].set_alpha(.2)    \n",
    "\n",
    "ax.xaxis.labelpad = 10\n",
    "# ax.set_xlim(19.4e-6,20.6e-6)\n",
    "# ax.set_ylim(9.e-6,.1)\n",
    "\n",
    "ax.get_xaxis().tick_bottom()    \n",
    "ax.get_yaxis().tick_left()    \n",
    "\n",
    "for line in ax.get_xticklines() + ax.yaxis.get_ticklines(minor=True) + ax.yaxis.get_ticklines():\n",
    "    line.set_alpha(.2)\n",
    "\n",
    "leg = ax.legend(loc=\"lower right\", fancybox=True, handlelength=6)\n",
    "for text in leg.get_texts():\n",
    "    text.set_alpha(.6)\n",
    "    text.set_fontsize(20)\n",
    "leg.get_title().set_fontsize(22)\n",
    "leg.get_title().set_alpha(0.7)\n",
    "\n",
    "leg.get_frame().set_facecolor('#FFFFFF')\n",
    "leg.get_frame().set_edgecolor('#CCCCCC')\n",
    "leg.set_zorder(1000)\n",
    "\n",
    "import matplotlib.ticker as tick\n",
    "def x_fmt(x, y):\n",
    "    return u'\\u2013 '*int(x < 0) + str(round(abs(x) ,4)) +  ' '*int(x < 0)\n",
    "\n",
    "ax.xaxis.set_major_formatter(tick.FuncFormatter(x_fmt))\n",
    "    \n"
   ]
  },
  {
   "cell_type": "code",
   "execution_count": null,
   "metadata": {},
   "outputs": [],
   "source": [
    "len(ep1['vals'])"
   ]
  },
  {
   "cell_type": "code",
   "execution_count": null,
   "metadata": {},
   "outputs": [],
   "source": [
    "plt.figure(figsize = (8,5))\n",
    "plt.plot(ep1['vals'], ed)\n",
    "plt.ylim(0,0.01)\n",
    "plt.xlim(-0.009, 0.009)"
   ]
  },
  {
   "cell_type": "code",
   "execution_count": null,
   "metadata": {},
   "outputs": [],
   "source": [
    "%matplotlib inline"
   ]
  },
  {
   "cell_type": "code",
   "execution_count": null,
   "metadata": {},
   "outputs": [],
   "source": [
    "import scipy as sp"
   ]
  },
  {
   "cell_type": "markdown",
   "metadata": {},
   "source": [
    "# Computed Diamond Norms"
   ]
  },
  {
   "cell_type": "code",
   "execution_count": null,
   "metadata": {},
   "outputs": [],
   "source": [
    "with open('2q_dnorms.dat', 'rb') as f:\n",
    "    data = dill.load(f)"
   ]
  },
  {
   "cell_type": "code",
   "execution_count": null,
   "metadata": {},
   "outputs": [],
   "source": [
    "import matplotlib \n",
    "\n",
    "matplotlib.rc('font', serif='Helvetica Neue') \n",
    "fig, ax = plt.subplots(figsize=(12,8))\n",
    "\n",
    "colors = [\"#f7fcfd\",\"#e5f5f9\",\"#ccece6\",\"#99d8c9\",\"#66c2a4\",\"#41ae76\",\"#238b45\",\"#006d2c\",\"#00441b\",\"#00200f\"]\n",
    "\n",
    "ax.plot(ep1['vals'], ep1['diamond_distances'], label='Generator-exact', linewidth=4, linestyle='--')#, color='#1f78b4')\n",
    "ax.plot(ep0['vals'], ep0['diamond_distances'], label='Robust generator-exact', linewidth=4)#, color = '#e34a33')\n",
    "\n",
    "xvals = np.array(data['epsilons'])\n",
    "for ind in range(1023):\n",
    "    yvals = np.array(data[ind])\n",
    "    # Sometimes the diamond norm calculation fails:\n",
    "    worked = yvals > 0\n",
    "    xs = xvals[worked]\n",
    "    ys = yvals[worked]\n",
    "    if ind == 0:\n",
    "        ax.plot(xs,ys, label='Bare unitary', linewidth=.7, alpha = .1, color = 'k')\n",
    "    else:\n",
    "        ax.plot(xs,ys, linewidth=.7, alpha = .1, color = 'k')\n",
    "    \n",
    "plt.xlabel(\"$\\epsilon$\", fontsize=24, alpha=.8)\n",
    "plt.ylabel(\"$\\epsilon_\\diamond(E_{\\mathrm{eff}})$\", fontsize=24, alpha=0.8)\n",
    "plt.ylim(0,0.01)\n",
    "plt.xlim(-0.009, 0.009)\n",
    "\n",
    "ax.set_title('Robustness of mixed quantum gates ',fontsize=26,alpha=.5,y=1.05)\n",
    "ax.spines[\"top\"].set_visible(False)\n",
    "ax.spines[\"right\"].set_visible(False)    \n",
    "ax.spines[\"bottom\"].set_alpha(.2)\n",
    "ax.spines[\"left\"].set_alpha(.2)    \n",
    "\n",
    "# ax.set_xlim(19.4e-6,20.6e-6)\n",
    "# ax.set_ylim(9.e-6,.1)\n",
    "\n",
    "ax.xaxis.labelpad = 10\n",
    "ax.get_xaxis().tick_bottom()    \n",
    "ax.get_yaxis().tick_left()    \n",
    "for line in ax.get_xticklines() + ax.yaxis.get_ticklines(minor=True) + ax.yaxis.get_ticklines():\n",
    "    line.set_alpha(.2)\n",
    "import matplotlib.ticker as tick\n",
    "def x_fmt(x, y):\n",
    "    return u'\\u2013 '*int(x < 0) + str(round(abs(x) ,4)) +  ' '*int(x < 0)\n",
    "ax.xaxis.set_major_formatter(tick.FuncFormatter(x_fmt))\n",
    "for ticklabel in ax.get_yticklabels() + ax.get_xticklabels():\n",
    "    ticklabel.set_fontsize(18)\n",
    "    ticklabel.set_alpha(0.6)\n",
    "\n",
    "    \n",
    "# Legend\n",
    "leg = ax.legend(loc=\"lower right\", fancybox=True, handlelength=6)\n",
    "for text in leg.get_texts():\n",
    "    text.set_alpha(.6)\n",
    "    text.set_fontsize(20)\n",
    "leg.get_title().set_fontsize(22)\n",
    "leg.get_title().set_alpha(0.7)\n",
    "\n",
    "leg.get_frame().set_facecolor('#FFFFFF')\n",
    "leg.get_frame().set_edgecolor('#CCCCCC')\n",
    "leg.set_zorder(1000)\n",
    "\n",
    "plt.savefig('./figures/2q_robustness.pdf')\n",
    "    \n",
    "\n"
   ]
  },
  {
   "cell_type": "code",
   "execution_count": null,
   "metadata": {},
   "outputs": [],
   "source": []
  },
  {
   "cell_type": "code",
   "execution_count": null,
   "metadata": {},
   "outputs": [],
   "source": []
  }
 ],
 "metadata": {
  "kernelspec": {
   "display_name": "Python 3",
   "language": "python",
   "name": "python3"
  },
  "language_info": {
   "codemirror_mode": {
    "name": "ipython",
    "version": 3
   },
   "file_extension": ".py",
   "mimetype": "text/x-python",
   "name": "python",
   "nbconvert_exporter": "python",
   "pygments_lexer": "ipython3",
   "version": "3.7.4"
  }
 },
 "nbformat": 4,
 "nbformat_minor": 2
}
