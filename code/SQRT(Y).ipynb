{
 "cells": [
  {
   "cell_type": "code",
   "execution_count": 1,
   "metadata": {},
   "outputs": [],
   "source": [
    "%load_ext autoreload\n",
    "%autoreload 2"
   ]
  },
  {
   "cell_type": "code",
   "execution_count": 2,
   "metadata": {},
   "outputs": [],
   "source": [
    "from functools import reduce\n",
    "import scipy\n",
    "from copy import deepcopy\n",
    "from scipy.linalg import logm\n",
    "import numpy as np\n",
    "import dill\n"
   ]
  },
  {
   "cell_type": "code",
   "execution_count": 3,
   "metadata": {},
   "outputs": [],
   "source": [
    "import dill \n",
    "num_keep = 200\n",
    "filename = 'pickled_controls4.pkl'\n",
    "pca = dill.load(open(filename, 'rb'))\n",
    "pca.controlset = pca.controlset[:num_keep]"
   ]
  },
  {
   "cell_type": "code",
   "execution_count": 4,
   "metadata": {},
   "outputs": [],
   "source": [
    "def hist_and_support(weights, num=10):\n",
    "    plt.hist(weights)\n",
    "    np.argmax(weights)\n",
    "    top_idx = np.argsort(np.array(weights).T)[0][-num:]\n",
    "    top_values = [weights[i] for i in top_idx]\n",
    "    print(f\"SUPPORT:{np.sum(top_values)}\")\n",
    "    print(f\"NUM CONTROLS: {num}\")\n",
    "    return top_idx, np.sum(top_values)"
   ]
  },
  {
   "cell_type": "code",
   "execution_count": 5,
   "metadata": {},
   "outputs": [],
   "source": [
    "num_weights = 10\n",
    "scale = 100\n",
    "num_points = 11\n",
    "num_processors = 4"
   ]
  },
  {
   "cell_type": "code",
   "execution_count": null,
   "metadata": {
    "scrolled": true
   },
   "outputs": [],
   "source": [
    "from convex import all_derivs, optimal_weights_1st_order, optimal_weights\n",
    "from pauli_channel_approximation import PCA\n",
    "# If the tolerance is too high (i.e. not zero) and the number of controls is too high (e.g. >100) this was failing with ECOS.\n",
    "pca.derivs = all_derivs(pca.controlset, pca.target_operator, pca.control_hamiltonians, pca.ambient_hamiltonian, pca.dt, 1)"
   ]
  },
  {
   "cell_type": "markdown",
   "metadata": {},
   "source": [
    "# Making the regularizer too small can prevent it from working - i.e. the solver will fail. Anything above around 1E-3 or 1E-4 seems to work well. These cells assign the 0RBC weights, and 1RBC weights, with sparsity constraints. (This could be because the constraint makes the optimization work over numbers small in magnitude, so that numerical inaccuracy takes over.)"
   ]
  },
  {
   "cell_type": "markdown",
   "metadata": {},
   "source": [
    "# Support for 0th order controls"
   ]
  },
  {
   "cell_type": "code",
   "execution_count": 7,
   "metadata": {},
   "outputs": [],
   "source": [
    "# MAX_TO_SUPPORT_RATIO = 1\n",
    "# def cost_function(l, pca):\n",
    "#     try:\n",
    "#         PCA.assign_weights_0(pca, l)\n",
    "#         indices, support = hist_and_support(pca.weights_0)\n",
    "#         plt.show()\n",
    "#         plt.clf()\n",
    "#         maximum = max(pca.weights_0[indices])\n",
    "#         rtn = (maximum*MAX_TO_SUPPORT_RATIO + (1 - support))\n",
    "#         print(f\"cost function: {rtn}\")\n",
    "#         print(f\"Evaluated with l={l}\")\n",
    "#     except TypeError:\n",
    "#         rtn = MAX_TO_SUPPORT_RATIO + 1\n",
    "#     return rtn"
   ]
  },
  {
   "cell_type": "code",
   "execution_count": 8,
   "metadata": {},
   "outputs": [],
   "source": [
    "# from scipy.optimize import minimize\n",
    "\n",
    "# THRESHOLD_SUPPORT = .9\n",
    "# THRESHOLD_MAXIMUM = .5\n",
    "\n",
    "# def find_l(pca, l0=1E-6): #initial guess is l0\n",
    "#     l = minimize(lambda l: cost_function(l, pca), x0=l0)\n",
    "#     return l"
   ]
  },
  {
   "cell_type": "code",
   "execution_count": 9,
   "metadata": {},
   "outputs": [],
   "source": [
    "# l = find_l(pca)"
   ]
  },
  {
   "cell_type": "code",
   "execution_count": 10,
   "metadata": {},
   "outputs": [],
   "source": [
    "# cost_function(l.x, pca)"
   ]
  },
  {
   "cell_type": "code",
   "execution_count": 11,
   "metadata": {},
   "outputs": [
    {
     "name": "stdout",
     "output_type": "stream",
     "text": [
      "Done with convex problem 0 out of 200\n",
      "Done with convex problem 10 out of 200\n",
      "Done with convex problem 20 out of 200\n",
      "Done with convex problem 30 out of 200\n",
      "Done with convex problem 40 out of 200\n",
      "Done with convex problem 50 out of 200\n",
      "Done with convex problem 60 out of 200\n",
      "Done with convex problem 70 out of 200\n",
      "Done with convex problem 80 out of 200\n",
      "Done with convex problem 90 out of 200\n",
      "Done with convex problem 100 out of 200\n",
      "Done with convex problem 110 out of 200\n",
      "Done with convex problem 120 out of 200\n",
      "Done with convex problem 130 out of 200\n",
      "Done with convex problem 140 out of 200\n",
      "Done with convex problem 150 out of 200\n",
      "Done with convex problem 160 out of 200\n",
      "Done with convex problem 170 out of 200\n",
      "Done with convex problem 180 out of 200\n",
      "Done with convex problem 190 out of 200\n",
      "Done with convex problem 0 out of 200\n",
      "Done with convex problem 10 out of 200\n",
      "Done with convex problem 20 out of 200\n",
      "Done with convex problem 30 out of 200\n",
      "Done with convex problem 40 out of 200\n",
      "Done with convex problem 50 out of 200\n",
      "Done with convex problem 60 out of 200\n",
      "Done with convex problem 70 out of 200\n",
      "Done with convex problem 80 out of 200\n",
      "Done with convex problem 90 out of 200\n",
      "Done with convex problem 100 out of 200\n",
      "Done with convex problem 110 out of 200\n",
      "Done with convex problem 120 out of 200\n",
      "Done with convex problem 130 out of 200\n",
      "Done with convex problem 140 out of 200\n",
      "Done with convex problem 150 out of 200\n",
      "Done with convex problem 160 out of 200\n",
      "Done with convex problem 170 out of 200\n",
      "Done with convex problem 180 out of 200\n",
      "Done with convex problem 190 out of 200\n"
     ]
    }
   ],
   "source": [
    "PCA.assign_weights(pca, 0, 1e-3)"
   ]
  },
  {
   "cell_type": "code",
   "execution_count": 12,
   "metadata": {
    "scrolled": true
   },
   "outputs": [
    {
     "name": "stdout",
     "output_type": "stream",
     "text": [
      "SUPPORT:0.999999916541571\n",
      "NUM CONTROLS: 10\n"
     ]
    }
   ],
   "source": [
    "import matplotlib.pyplot as plt\n",
    "indices0, _ = hist_and_support(pca.weights_0, 10)"
   ]
  },
  {
   "cell_type": "code",
   "execution_count": 13,
   "metadata": {},
   "outputs": [],
   "source": [
    "import matplotlib.pyplot as plt\n",
    "%matplotlib inline\n",
    "pca0 = dill.load(open(filename, 'rb'))\n",
    "subweights = pca.weights_0[indices0]\n",
    "pca0.controlset = [pca0.controlset[i] for i in indices0]\n",
    "pca0.probs = list(np.array(subweights.T/sum(subweights)).T)"
   ]
  },
  {
   "cell_type": "markdown",
   "metadata": {},
   "source": [
    "# Support for 1st order controls"
   ]
  },
  {
   "cell_type": "code",
   "execution_count": 14,
   "metadata": {},
   "outputs": [],
   "source": [
    "# def cost_function(l, pca):\n",
    "#     try:\n",
    "#         PCA.assign_weights(pca, l)\n",
    "#         indices, support = hist_and_support(pca.weights)\n",
    "#         plt.show()\n",
    "#         maximum = max(pca.weights[indices])\n",
    "#         rtn = (maximum*MAX_TO_SUPPORT_RATIO + (1 - support))\n",
    "#         print(f\"cost function: {rtn}\")\n",
    "#         print(f\"Evaluated with l={l}\")\n",
    "#     except TypeError:\n",
    "#         rtn = MAX_TO_SUPPORT_RATIO + 1\n",
    "#     return rtn"
   ]
  },
  {
   "cell_type": "code",
   "execution_count": 15,
   "metadata": {},
   "outputs": [],
   "source": [
    "# l = find_l(pca, l0=1E-5)"
   ]
  },
  {
   "cell_type": "code",
   "execution_count": 16,
   "metadata": {},
   "outputs": [
    {
     "name": "stdout",
     "output_type": "stream",
     "text": [
      "SUPPORT:1.0000003039337653\n",
      "NUM CONTROLS: 10\n"
     ]
    },
    {
     "data": {
      "image/png": "[encoded data removed]",
      "text/plain": [
       "<matplotlib.figure.Figure at 0x7fdc21898748>"
      ]
     },
     "metadata": {},
     "output_type": "display_data"
    }
   ],
   "source": [
    "# Consider setting minimizer tolerance\n",
    "#PCA.assign_weights(pca, 1E-5)\n",
    "indices1, _ = hist_and_support(pca.weights)"
   ]
  },
  {
   "cell_type": "code",
   "execution_count": 17,
   "metadata": {
    "scrolled": true
   },
   "outputs": [],
   "source": [
    "pca1 = dill.load(open(filename, 'rb'))\n",
    "subweights = pca.weights[indices1]\n",
    "pca1.controlset = [pca1.controlset[i] for i in indices1]\n",
    "pca1.probs = list(np.array(subweights.T/sum(subweights)).T)"
   ]
  },
  {
   "cell_type": "code",
   "execution_count": 18,
   "metadata": {},
   "outputs": [],
   "source": [
    "# Save the weighted controls\n",
    "\n",
    "import dill\n",
    "dill.dump(pca0, open('0_' + filename, 'wb'))\n",
    "\n",
    "import dill\n",
    "dill.dump(pca1, open('1_' + filename, 'wb'))"
   ]
  },
  {
   "cell_type": "markdown",
   "metadata": {},
   "source": [
    "# Diamond Norm"
   ]
  },
  {
   "cell_type": "code",
   "execution_count": 6,
   "metadata": {},
   "outputs": [],
   "source": [
    "import numpy as np\n",
    "import matplotlib.pyplot as plt\n",
    "%matplotlib inline"
   ]
  },
  {
   "cell_type": "code",
   "execution_count": 7,
   "metadata": {},
   "outputs": [
    {
     "name": "stderr",
     "output_type": "stream",
     "text": [
      "/home/anthony/.pyenv/versions/3.6.3/envs/personal/lib/python3.6/site-packages/ipyparallel/client/client.py:459: RuntimeWarning: \n",
      "            Controller appears to be listening on localhost, but not on this machine.\n",
      "            If this is true, you should specify Client(...,sshserver='you@GLaDOS')\n",
      "            or instruct your controller to listen on an external IP.\n",
      "  RuntimeWarning)\n"
     ]
    }
   ],
   "source": [
    "from ipyparallel import Client\n",
    "rc = Client(profile='mpi3')\n",
    "dc = rc[:]"
   ]
  },
  {
   "cell_type": "code",
   "execution_count": 8,
   "metadata": {},
   "outputs": [
    {
     "data": {
      "text/plain": [
       "<AsyncResult: _push>"
      ]
     },
     "execution_count": 8,
     "metadata": {},
     "output_type": "execute_result"
    }
   ],
   "source": [
    "import os\n",
    "dc.push({'cwd':os.getcwd()})"
   ]
  },
  {
   "cell_type": "code",
   "execution_count": 9,
   "metadata": {},
   "outputs": [],
   "source": [
    "%%px\n",
    "import os\n",
    "os.chdir(cwd)"
   ]
  },
  {
   "cell_type": "code",
   "execution_count": 10,
   "metadata": {},
   "outputs": [],
   "source": [
    "%%px\n",
    "import dill\n",
    "import itertools\n",
    "import numpy as np\n",
    "from pauli_channel_approximation import compute_dpn_and_fid\n",
    "import matplotlib.pyplot as plt\n",
    "from itertools import product"
   ]
  },
  {
   "cell_type": "code",
   "execution_count": 11,
   "metadata": {},
   "outputs": [],
   "source": [
    "%%px \n",
    "from mpi4py import MPI\n",
    "comm = MPI.COMM_WORLD\n",
    "rank = comm.Get_rank()"
   ]
  },
  {
   "cell_type": "code",
   "execution_count": 13,
   "metadata": {},
   "outputs": [],
   "source": [
    "%%px\n",
    "filename = 'pickled_controls4.pkl'\n",
    "pca0 = dill.load(open('0_' + filename, 'rb')) # 0RBC\n",
    "pca1 = dill.load(open('1_' + filename, 'rb')) # 1RBC"
   ]
  },
  {
   "cell_type": "markdown",
   "metadata": {},
   "source": [
    "# Diamond Norm"
   ]
  },
  {
   "cell_type": "code",
   "execution_count": 16,
   "metadata": {},
   "outputs": [],
   "source": [
    "%%px\n",
    "import sys\n",
    "import itertools\n",
    "from itertools import product\n",
    "from copy import deepcopy\n",
    "from functools import reduce\n",
    "\n",
    "from diamond import diamond_norm, jamiolkowski\n",
    "\n",
    "def superoperator(unitary):\n",
    "\n",
    "    return np.kron(unitary.conj(), unitary)\n",
    "\n",
    "def choi_form(unitary):\n",
    "\n",
    "    return jamiolkowski(superoperator(unitary))\n",
    "\n",
    "# def diamond_distance(unitary_a,unitary_b):\n",
    "#     return diamond_norm(choi_form(unitary_a) - choi_form(unitary_b))/2.\n",
    "\n",
    "def diamond_distance(sopa, sopb):\n",
    "    rtn = (jamiolkowski(sopa) - jamiolkowski(sopb))/2\n",
    "    return diamond_norm(rtn)\n",
    "\n",
    "def compute_diamond_norm(data):\n",
    "    controlset, ambient_hamiltonian0, combo, dt, control_hamiltonians, target_operator, probs = data\n",
    "    print(\"DOING COMBO {}\".format(combo))\n",
    "    sys.stdout.flush()\n",
    "    fidelities = []\n",
    "    projs = []\n",
    "    sops = []\n",
    "    controlset_unitaries = []\n",
    "    d_norms = []\n",
    "\n",
    "    for controls in controlset:\n",
    "        newcontrols = deepcopy(controls)\n",
    "        ambient_hamiltonian = [deepcopy(ah).astype(\"complex\") for ah in ambient_hamiltonian0]\n",
    "        for cnum, value in enumerate(combo):\n",
    "            cnum -= len(ambient_hamiltonian0)\n",
    "            if cnum >= 0:\n",
    "                newcontrols[:, cnum] = newcontrols[:, cnum] * (1 + value)\n",
    "            if cnum < 0:\n",
    "                ambient_hamiltonian[cnum] *= float(value)\n",
    "        print(ambient_hamiltonian, control_hamiltonians)\n",
    "        step_unitaries = control_unitaries(ambient_hamiltonian,\n",
    "                                           control_hamiltonians, newcontrols,\n",
    "                                           dt)\n",
    "        unitary = reduce(lambda a, b: a.dot(b), step_unitaries)\n",
    "        sop = error_unitary(unitary, target_operator)\n",
    "        sops.append(sop)\n",
    "        d_norms.append(diamond_distance(sop, np.eye(sop.shape[0])))\n",
    "    avg_sop = reduce(lambda a, b: a + b, [prob * sops[i] for i, prob in enumerate(probs)])\n",
    "    d_norms.append(diamond_distance(avg_sop, np.eye(avg_sop.shape[0])))\n",
    "    return d_norms"
   ]
  },
  {
   "cell_type": "code",
   "execution_count": 17,
   "metadata": {},
   "outputs": [],
   "source": [
    "%%px\n",
    "num_pts = 3\n",
    "#pca0 and pca1 should have the same detunings, so we just use pca0 here.\n",
    "base = 100*np.logspace(-4.7, np.log(pca0.detunings[0][0])/np.log(10), (num_pts - 1)/2)\n",
    "controls = np.concatenate([np.sort(-base),np.array([0]), base])\n",
    "combinations0 = [[det,0, 0] for det in controls]\n",
    "\n",
    "controls = np.concatenate([np.sort(-base),np.array([0]), base])\n",
    "combinations1 = [[0,det, det] for det in controls]"
   ]
  },
  {
   "cell_type": "code",
   "execution_count": 18,
   "metadata": {},
   "outputs": [],
   "source": [
    "%%px\n",
    "from pauli_channel_approximation import control_unitaries, error_unitary\n",
    "def dnorms(pca):\n",
    "    try:\n",
    "        combo = combinations0[rank]\n",
    "        #was pca0, probably the bug\n",
    "        lst = [pca.controlset, pca.ambient_hamiltonian, combo, pca.dt,\n",
    "                pca.control_hamiltonians, pca.target_operator, pca.probs]\n",
    "        d_norms0 = compute_diamond_norm(lst)\n",
    "\n",
    "        combo = combinations1[rank]\n",
    "        lst = [pca.controlset, pca.ambient_hamiltonian, combo, pca.dt,\n",
    "                pca.control_hamiltonians, pca.target_operator, pca.probs]\n",
    "        d_norms1 = compute_diamond_norm(lst)\n",
    "    except IndexError:\n",
    "        pass\n",
    "    return d_norms0, d_norms1"
   ]
  },
  {
   "cell_type": "markdown",
   "metadata": {},
   "source": [
    "# 0RBC"
   ]
  },
  {
   "cell_type": "code",
   "execution_count": 19,
   "metadata": {},
   "outputs": [
    {
     "name": "stdout",
     "output_type": "stream",
     "text": [
      "[stdout:0] \n",
      "DOING COMBO [-0.0019952623149688785, 0, 0]\n",
      "[array([[-0.00199526+0.j, -0.        +0.j],\n",
      "       [-0.        +0.j,  0.00199526-0.j]])] [array([[0, 1],\n",
      "       [1, 0]]), array([[ 0.+0.j, -0.-1.j],\n",
      "       [ 0.+1.j,  0.+0.j]])]\n",
      "[array([[-0.00199526+0.j, -0.        +0.j],\n",
      "       [-0.        +0.j,  0.00199526-0.j]])] [array([[0, 1],\n",
      "       [1, 0]]), array([[ 0.+0.j, -0.-1.j],\n",
      "       [ 0.+1.j,  0.+0.j]])]\n",
      "[array([[-0.00199526+0.j, -0.        +0.j],\n",
      "       [-0.        +0.j,  0.00199526-0.j]])] [array([[0, 1],\n",
      "       [1, 0]]), array([[ 0.+0.j, -0.-1.j],\n",
      "       [ 0.+1.j,  0.+0.j]])]\n",
      "[array([[-0.00199526+0.j, -0.        +0.j],\n",
      "       [-0.        +0.j,  0.00199526-0.j]])] [array([[0, 1],\n",
      "       [1, 0]]), array([[ 0.+0.j, -0.-1.j],\n",
      "       [ 0.+1.j,  0.+0.j]])]\n",
      "[array([[-0.00199526+0.j, -0.        +0.j],\n",
      "       [-0.        +0.j,  0.00199526-0.j]])] [array([[0, 1],\n",
      "       [1, 0]]), array([[ 0.+0.j, -0.-1.j],\n",
      "       [ 0.+1.j,  0.+0.j]])]\n",
      "[array([[-0.00199526+0.j, -0.        +0.j],\n",
      "       [-0.        +0.j,  0.00199526-0.j]])] [array([[0, 1],\n",
      "       [1, 0]]), array([[ 0.+0.j, -0.-1.j],\n",
      "       [ 0.+1.j,  0.+0.j]])]\n",
      "[array([[-0.00199526+0.j, -0.        +0.j],\n",
      "       [-0.        +0.j,  0.00199526-0.j]])] [array([[0, 1],\n",
      "       [1, 0]]), array([[ 0.+0.j, -0.-1.j],\n",
      "       [ 0.+1.j,  0.+0.j]])]\n",
      "[array([[-0.00199526+0.j, -0.        +0.j],\n",
      "       [-0.        +0.j,  0.00199526-0.j]])] [array([[0, 1],\n",
      "       [1, 0]]), array([[ 0.+0.j, -0.-1.j],\n",
      "       [ 0.+1.j,  0.+0.j]])]\n",
      "[array([[-0.00199526+0.j, -0.        +0.j],\n",
      "       [-0.        +0.j,  0.00199526-0.j]])] [array([[0, 1],\n",
      "       [1, 0]]), array([[ 0.+0.j, -0.-1.j],\n",
      "       [ 0.+1.j,  0.+0.j]])]\n",
      "[array([[-0.00199526+0.j, -0.        +0.j],\n",
      "       [-0.        +0.j,  0.00199526-0.j]])] [array([[0, 1],\n",
      "       [1, 0]]), array([[ 0.+0.j, -0.-1.j],\n",
      "       [ 0.+1.j,  0.+0.j]])]\n",
      "DOING COMBO [0, -0.0019952623149688785, -0.0019952623149688785]\n",
      "[array([[ 0.+0.j,  0.+0.j],\n",
      "       [ 0.+0.j, -0.+0.j]])] [array([[0, 1],\n",
      "       [1, 0]]), array([[ 0.+0.j, -0.-1.j],\n",
      "       [ 0.+1.j,  0.+0.j]])]\n",
      "[array([[ 0.+0.j,  0.+0.j],\n",
      "       [ 0.+0.j, -0.+0.j]])] [array([[0, 1],\n",
      "       [1, 0]]), array([[ 0.+0.j, -0.-1.j],\n",
      "       [ 0.+1.j,  0.+0.j]])]\n",
      "[array([[ 0.+0.j,  0.+0.j],\n",
      "       [ 0.+0.j, -0.+0.j]])] [array([[0, 1],\n",
      "       [1, 0]]), array([[ 0.+0.j, -0.-1.j],\n",
      "       [ 0.+1.j,  0.+0.j]])]\n",
      "[array([[ 0.+0.j,  0.+0.j],\n",
      "       [ 0.+0.j, -0.+0.j]])] [array([[0, 1],\n",
      "       [1, 0]]), array([[ 0.+0.j, -0.-1.j],\n",
      "       [ 0.+1.j,  0.+0.j]])]\n",
      "[array([[ 0.+0.j,  0.+0.j],\n",
      "       [ 0.+0.j, -0.+0.j]])] [array([[0, 1],\n",
      "       [1, 0]]), array([[ 0.+0.j, -0.-1.j],\n",
      "       [ 0.+1.j,  0.+0.j]])]\n",
      "[array([[ 0.+0.j,  0.+0.j],\n",
      "       [ 0.+0.j, -0.+0.j]])] [array([[0, 1],\n",
      "       [1, 0]]), array([[ 0.+0.j, -0.-1.j],\n",
      "       [ 0.+1.j,  0.+0.j]])]\n",
      "[array([[ 0.+0.j,  0.+0.j],\n",
      "       [ 0.+0.j, -0.+0.j]])] [array([[0, 1],\n",
      "       [1, 0]]), array([[ 0.+0.j, -0.-1.j],\n",
      "       [ 0.+1.j,  0.+0.j]])]\n",
      "[array([[ 0.+0.j,  0.+0.j],\n",
      "       [ 0.+0.j, -0.+0.j]])] [array([[0, 1],\n",
      "       [1, 0]]), array([[ 0.+0.j, -0.-1.j],\n",
      "       [ 0.+1.j,  0.+0.j]])]\n",
      "[array([[ 0.+0.j,  0.+0.j],\n",
      "       [ 0.+0.j, -0.+0.j]])] [array([[0, 1],\n",
      "       [1, 0]]), array([[ 0.+0.j, -0.-1.j],\n",
      "       [ 0.+1.j,  0.+0.j]])]\n",
      "[array([[ 0.+0.j,  0.+0.j],\n",
      "       [ 0.+0.j, -0.+0.j]])] [array([[0, 1],\n",
      "       [1, 0]]), array([[ 0.+0.j, -0.-1.j],\n",
      "       [ 0.+1.j,  0.+0.j]])]\n",
      "[stdout:1] \n",
      "DOING COMBO [0.0, 0, 0]\n",
      "[array([[ 0.+0.j,  0.+0.j],\n",
      "       [ 0.+0.j, -0.+0.j]])] [array([[0, 1],\n",
      "       [1, 0]]), array([[ 0.+0.j, -0.-1.j],\n",
      "       [ 0.+1.j,  0.+0.j]])]\n",
      "[array([[ 0.+0.j,  0.+0.j],\n",
      "       [ 0.+0.j, -0.+0.j]])] [array([[0, 1],\n",
      "       [1, 0]]), array([[ 0.+0.j, -0.-1.j],\n",
      "       [ 0.+1.j,  0.+0.j]])]\n",
      "[array([[ 0.+0.j,  0.+0.j],\n",
      "       [ 0.+0.j, -0.+0.j]])] [array([[0, 1],\n",
      "       [1, 0]]), array([[ 0.+0.j, -0.-1.j],\n",
      "       [ 0.+1.j,  0.+0.j]])]\n",
      "[array([[ 0.+0.j,  0.+0.j],\n",
      "       [ 0.+0.j, -0.+0.j]])] [array([[0, 1],\n",
      "       [1, 0]]), array([[ 0.+0.j, -0.-1.j],\n",
      "       [ 0.+1.j,  0.+0.j]])]\n",
      "[array([[ 0.+0.j,  0.+0.j],\n",
      "       [ 0.+0.j, -0.+0.j]])] [array([[0, 1],\n",
      "       [1, 0]]), array([[ 0.+0.j, -0.-1.j],\n",
      "       [ 0.+1.j,  0.+0.j]])]\n",
      "[array([[ 0.+0.j,  0.+0.j],\n",
      "       [ 0.+0.j, -0.+0.j]])] [array([[0, 1],\n",
      "       [1, 0]]), array([[ 0.+0.j, -0.-1.j],\n",
      "       [ 0.+1.j,  0.+0.j]])]\n",
      "[array([[ 0.+0.j,  0.+0.j],\n",
      "       [ 0.+0.j, -0.+0.j]])] [array([[0, 1],\n",
      "       [1, 0]]), array([[ 0.+0.j, -0.-1.j],\n",
      "       [ 0.+1.j,  0.+0.j]])]\n",
      "[array([[ 0.+0.j,  0.+0.j],\n",
      "       [ 0.+0.j, -0.+0.j]])] [array([[0, 1],\n",
      "       [1, 0]]), array([[ 0.+0.j, -0.-1.j],\n",
      "       [ 0.+1.j,  0.+0.j]])]\n",
      "[array([[ 0.+0.j,  0.+0.j],\n",
      "       [ 0.+0.j, -0.+0.j]])] [array([[0, 1],\n",
      "       [1, 0]]), array([[ 0.+0.j, -0.-1.j],\n",
      "       [ 0.+1.j,  0.+0.j]])]\n",
      "[array([[ 0.+0.j,  0.+0.j],\n",
      "       [ 0.+0.j, -0.+0.j]])] [array([[0, 1],\n",
      "       [1, 0]]), array([[ 0.+0.j, -0.-1.j],\n",
      "       [ 0.+1.j,  0.+0.j]])]\n",
      "DOING COMBO [0, 0.0, 0.0]\n",
      "[array([[ 0.+0.j,  0.+0.j],\n",
      "       [ 0.+0.j, -0.+0.j]])] [array([[0, 1],\n",
      "       [1, 0]]), array([[ 0.+0.j, -0.-1.j],\n",
      "       [ 0.+1.j,  0.+0.j]])]\n",
      "[array([[ 0.+0.j,  0.+0.j],\n",
      "       [ 0.+0.j, -0.+0.j]])] [array([[0, 1],\n",
      "       [1, 0]]), array([[ 0.+0.j, -0.-1.j],\n",
      "       [ 0.+1.j,  0.+0.j]])]\n",
      "[array([[ 0.+0.j,  0.+0.j],\n",
      "       [ 0.+0.j, -0.+0.j]])] [array([[0, 1],\n",
      "       [1, 0]]), array([[ 0.+0.j, -0.-1.j],\n",
      "       [ 0.+1.j,  0.+0.j]])]\n",
      "[array([[ 0.+0.j,  0.+0.j],\n",
      "       [ 0.+0.j, -0.+0.j]])] [array([[0, 1],\n",
      "       [1, 0]]), array([[ 0.+0.j, -0.-1.j],\n",
      "       [ 0.+1.j,  0.+0.j]])]\n",
      "[array([[ 0.+0.j,  0.+0.j],\n",
      "       [ 0.+0.j, -0.+0.j]])] [array([[0, 1],\n",
      "       [1, 0]]), array([[ 0.+0.j, -0.-1.j],\n",
      "       [ 0.+1.j,  0.+0.j]])]\n",
      "[array([[ 0.+0.j,  0.+0.j],\n",
      "       [ 0.+0.j, -0.+0.j]])] [array([[0, 1],\n",
      "       [1, 0]]), array([[ 0.+0.j, -0.-1.j],\n",
      "       [ 0.+1.j,  0.+0.j]])]\n",
      "[array([[ 0.+0.j,  0.+0.j],\n",
      "       [ 0.+0.j, -0.+0.j]])] [array([[0, 1],\n",
      "       [1, 0]]), array([[ 0.+0.j, -0.-1.j],\n",
      "       [ 0.+1.j,  0.+0.j]])]\n",
      "[array([[ 0.+0.j,  0.+0.j],\n",
      "       [ 0.+0.j, -0.+0.j]])] [array([[0, 1],\n",
      "       [1, 0]]), array([[ 0.+0.j, -0.-1.j],\n",
      "       [ 0.+1.j,  0.+0.j]])]\n",
      "[array([[ 0.+0.j,  0.+0.j],\n",
      "       [ 0.+0.j, -0.+0.j]])] [array([[0, 1],\n",
      "       [1, 0]]), array([[ 0.+0.j, -0.-1.j],\n",
      "       [ 0.+1.j,  0.+0.j]])]\n",
      "[array([[ 0.+0.j,  0.+0.j],\n",
      "       [ 0.+0.j, -0.+0.j]])] [array([[0, 1],\n",
      "       [1, 0]]), array([[ 0.+0.j, -0.-1.j],\n",
      "       [ 0.+1.j,  0.+0.j]])]\n",
      "[stdout:2] \n",
      "DOING COMBO [0.0019952623149688785, 0, 0]\n",
      "[array([[ 0.00199526+0.j,  0.        +0.j],\n",
      "       [ 0.        +0.j, -0.00199526+0.j]])] [array([[0, 1],\n",
      "       [1, 0]]), array([[ 0.+0.j, -0.-1.j],\n",
      "       [ 0.+1.j,  0.+0.j]])]\n",
      "[array([[ 0.00199526+0.j,  0.        +0.j],\n",
      "       [ 0.        +0.j, -0.00199526+0.j]])] [array([[0, 1],\n",
      "       [1, 0]]), array([[ 0.+0.j, -0.-1.j],\n",
      "       [ 0.+1.j,  0.+0.j]])]\n",
      "[array([[ 0.00199526+0.j,  0.        +0.j],\n",
      "       [ 0.        +0.j, -0.00199526+0.j]])] [array([[0, 1],\n",
      "       [1, 0]]), array([[ 0.+0.j, -0.-1.j],\n",
      "       [ 0.+1.j,  0.+0.j]])]\n",
      "[array([[ 0.00199526+0.j,  0.        +0.j],\n",
      "       [ 0.        +0.j, -0.00199526+0.j]])] [array([[0, 1],\n",
      "       [1, 0]]), array([[ 0.+0.j, -0.-1.j],\n",
      "       [ 0.+1.j,  0.+0.j]])]\n",
      "[array([[ 0.00199526+0.j,  0.        +0.j],\n",
      "       [ 0.        +0.j, -0.00199526+0.j]])] [array([[0, 1],\n",
      "       [1, 0]]), array([[ 0.+0.j, -0.-1.j],\n",
      "       [ 0.+1.j,  0.+0.j]])]\n",
      "[array([[ 0.00199526+0.j,  0.        +0.j],\n",
      "       [ 0.        +0.j, -0.00199526+0.j]])] [array([[0, 1],\n",
      "       [1, 0]]), array([[ 0.+0.j, -0.-1.j],\n",
      "       [ 0.+1.j,  0.+0.j]])]\n",
      "[array([[ 0.00199526+0.j,  0.        +0.j],\n",
      "       [ 0.        +0.j, -0.00199526+0.j]])] [array([[0, 1],\n",
      "       [1, 0]]), array([[ 0.+0.j, -0.-1.j],\n",
      "       [ 0.+1.j,  0.+0.j]])]\n",
      "[array([[ 0.00199526+0.j,  0.        +0.j],\n",
      "       [ 0.        +0.j, -0.00199526+0.j]])] [array([[0, 1],\n",
      "       [1, 0]]), array([[ 0.+0.j, -0.-1.j],\n",
      "       [ 0.+1.j,  0.+0.j]])]\n",
      "[array([[ 0.00199526+0.j,  0.        +0.j],\n",
      "       [ 0.        +0.j, -0.00199526+0.j]])] [array([[0, 1],\n",
      "       [1, 0]]), array([[ 0.+0.j, -0.-1.j],\n",
      "       [ 0.+1.j,  0.+0.j]])]\n",
      "[array([[ 0.00199526+0.j,  0.        +0.j],\n",
      "       [ 0.        +0.j, -0.00199526+0.j]])] [array([[0, 1],\n",
      "       [1, 0]]), array([[ 0.+0.j, -0.-1.j],\n",
      "       [ 0.+1.j,  0.+0.j]])]\n",
      "DOING COMBO [0, 0.0019952623149688785, 0.0019952623149688785]\n",
      "[array([[ 0.+0.j,  0.+0.j],\n",
      "       [ 0.+0.j, -0.+0.j]])] [array([[0, 1],\n",
      "       [1, 0]]), array([[ 0.+0.j, -0.-1.j],\n",
      "       [ 0.+1.j,  0.+0.j]])]\n",
      "[array([[ 0.+0.j,  0.+0.j],\n",
      "       [ 0.+0.j, -0.+0.j]])] [array([[0, 1],\n",
      "       [1, 0]]), array([[ 0.+0.j, -0.-1.j],\n",
      "       [ 0.+1.j,  0.+0.j]])]\n",
      "[array([[ 0.+0.j,  0.+0.j],\n",
      "       [ 0.+0.j, -0.+0.j]])] [array([[0, 1],\n",
      "       [1, 0]]), array([[ 0.+0.j, -0.-1.j],\n",
      "       [ 0.+1.j,  0.+0.j]])]\n",
      "[array([[ 0.+0.j,  0.+0.j],\n",
      "       [ 0.+0.j, -0.+0.j]])] [array([[0, 1],\n",
      "       [1, 0]]), array([[ 0.+0.j, -0.-1.j],\n",
      "       [ 0.+1.j,  0.+0.j]])]\n",
      "[array([[ 0.+0.j,  0.+0.j],\n",
      "       [ 0.+0.j, -0.+0.j]])] [array([[0, 1],\n",
      "       [1, 0]]), array([[ 0.+0.j, -0.-1.j],\n",
      "       [ 0.+1.j,  0.+0.j]])]\n",
      "[array([[ 0.+0.j,  0.+0.j],\n",
      "       [ 0.+0.j, -0.+0.j]])] [array([[0, 1],\n",
      "       [1, 0]]), array([[ 0.+0.j, -0.-1.j],\n",
      "       [ 0.+1.j,  0.+0.j]])]\n",
      "[array([[ 0.+0.j,  0.+0.j],\n",
      "       [ 0.+0.j, -0.+0.j]])] [array([[0, 1],\n",
      "       [1, 0]]), array([[ 0.+0.j, -0.-1.j],\n",
      "       [ 0.+1.j,  0.+0.j]])]\n",
      "[array([[ 0.+0.j,  0.+0.j],\n",
      "       [ 0.+0.j, -0.+0.j]])] [array([[0, 1],\n",
      "       [1, 0]]), array([[ 0.+0.j, -0.-1.j],\n",
      "       [ 0.+1.j,  0.+0.j]])]\n",
      "[array([[ 0.+0.j,  0.+0.j],\n",
      "       [ 0.+0.j, -0.+0.j]])] [array([[0, 1],\n",
      "       [1, 0]]), array([[ 0.+0.j, -0.-1.j],\n",
      "       [ 0.+1.j,  0.+0.j]])]\n",
      "[array([[ 0.+0.j,  0.+0.j],\n",
      "       [ 0.+0.j, -0.+0.j]])] [array([[0, 1],\n",
      "       [1, 0]]), array([[ 0.+0.j, -0.-1.j],\n",
      "       [ 0.+1.j,  0.+0.j]])]\n"
     ]
    }
   ],
   "source": [
    "%%px\n",
    "combo = combinations0[rank]\n",
    "d_norms00, d_norms01 = dnorms(pca0)"
   ]
  },
  {
   "cell_type": "markdown",
   "metadata": {},
   "source": [
    "# 1RBC"
   ]
  },
  {
   "cell_type": "code",
   "execution_count": 20,
   "metadata": {
    "scrolled": false
   },
   "outputs": [
    {
     "name": "stdout",
     "output_type": "stream",
     "text": [
      "[stdout:0] \n",
      "DOING COMBO [-0.0019952623149688785, 0, 0]\n",
      "[array([[-0.00199526+0.j, -0.        +0.j],\n",
      "       [-0.        +0.j,  0.00199526-0.j]])] [array([[0, 1],\n",
      "       [1, 0]]), array([[ 0.+0.j, -0.-1.j],\n",
      "       [ 0.+1.j,  0.+0.j]])]\n",
      "[array([[-0.00199526+0.j, -0.        +0.j],\n",
      "       [-0.        +0.j,  0.00199526-0.j]])] [array([[0, 1],\n",
      "       [1, 0]]), array([[ 0.+0.j, -0.-1.j],\n",
      "       [ 0.+1.j,  0.+0.j]])]\n",
      "[array([[-0.00199526+0.j, -0.        +0.j],\n",
      "       [-0.        +0.j,  0.00199526-0.j]])] [array([[0, 1],\n",
      "       [1, 0]]), array([[ 0.+0.j, -0.-1.j],\n",
      "       [ 0.+1.j,  0.+0.j]])]\n",
      "[array([[-0.00199526+0.j, -0.        +0.j],\n",
      "       [-0.        +0.j,  0.00199526-0.j]])] [array([[0, 1],\n",
      "       [1, 0]]), array([[ 0.+0.j, -0.-1.j],\n",
      "       [ 0.+1.j,  0.+0.j]])]\n",
      "[array([[-0.00199526+0.j, -0.        +0.j],\n",
      "       [-0.        +0.j,  0.00199526-0.j]])] [array([[0, 1],\n",
      "       [1, 0]]), array([[ 0.+0.j, -0.-1.j],\n",
      "       [ 0.+1.j,  0.+0.j]])]\n",
      "[array([[-0.00199526+0.j, -0.        +0.j],\n",
      "       [-0.        +0.j,  0.00199526-0.j]])] [array([[0, 1],\n",
      "       [1, 0]]), array([[ 0.+0.j, -0.-1.j],\n",
      "       [ 0.+1.j,  0.+0.j]])]\n",
      "[array([[-0.00199526+0.j, -0.        +0.j],\n",
      "       [-0.        +0.j,  0.00199526-0.j]])] [array([[0, 1],\n",
      "       [1, 0]]), array([[ 0.+0.j, -0.-1.j],\n",
      "       [ 0.+1.j,  0.+0.j]])]\n",
      "[array([[-0.00199526+0.j, -0.        +0.j],\n",
      "       [-0.        +0.j,  0.00199526-0.j]])] [array([[0, 1],\n",
      "       [1, 0]]), array([[ 0.+0.j, -0.-1.j],\n",
      "       [ 0.+1.j,  0.+0.j]])]\n",
      "[array([[-0.00199526+0.j, -0.        +0.j],\n",
      "       [-0.        +0.j,  0.00199526-0.j]])] [array([[0, 1],\n",
      "       [1, 0]]), array([[ 0.+0.j, -0.-1.j],\n",
      "       [ 0.+1.j,  0.+0.j]])]\n",
      "[array([[-0.00199526+0.j, -0.        +0.j],\n",
      "       [-0.        +0.j,  0.00199526-0.j]])] [array([[0, 1],\n",
      "       [1, 0]]), array([[ 0.+0.j, -0.-1.j],\n",
      "       [ 0.+1.j,  0.+0.j]])]\n",
      "DOING COMBO [0, -0.0019952623149688785, -0.0019952623149688785]\n",
      "[array([[ 0.+0.j,  0.+0.j],\n",
      "       [ 0.+0.j, -0.+0.j]])] [array([[0, 1],\n",
      "       [1, 0]]), array([[ 0.+0.j, -0.-1.j],\n",
      "       [ 0.+1.j,  0.+0.j]])]\n",
      "[array([[ 0.+0.j,  0.+0.j],\n",
      "       [ 0.+0.j, -0.+0.j]])] [array([[0, 1],\n",
      "       [1, 0]]), array([[ 0.+0.j, -0.-1.j],\n",
      "       [ 0.+1.j,  0.+0.j]])]\n",
      "[array([[ 0.+0.j,  0.+0.j],\n",
      "       [ 0.+0.j, -0.+0.j]])] [array([[0, 1],\n",
      "       [1, 0]]), array([[ 0.+0.j, -0.-1.j],\n",
      "       [ 0.+1.j,  0.+0.j]])]\n",
      "[array([[ 0.+0.j,  0.+0.j],\n",
      "       [ 0.+0.j, -0.+0.j]])] [array([[0, 1],\n",
      "       [1, 0]]), array([[ 0.+0.j, -0.-1.j],\n",
      "       [ 0.+1.j,  0.+0.j]])]\n",
      "[array([[ 0.+0.j,  0.+0.j],\n",
      "       [ 0.+0.j, -0.+0.j]])] [array([[0, 1],\n",
      "       [1, 0]]), array([[ 0.+0.j, -0.-1.j],\n",
      "       [ 0.+1.j,  0.+0.j]])]\n",
      "[array([[ 0.+0.j,  0.+0.j],\n",
      "       [ 0.+0.j, -0.+0.j]])] [array([[0, 1],\n",
      "       [1, 0]]), array([[ 0.+0.j, -0.-1.j],\n",
      "       [ 0.+1.j,  0.+0.j]])]\n",
      "[array([[ 0.+0.j,  0.+0.j],\n",
      "       [ 0.+0.j, -0.+0.j]])] [array([[0, 1],\n",
      "       [1, 0]]), array([[ 0.+0.j, -0.-1.j],\n",
      "       [ 0.+1.j,  0.+0.j]])]\n",
      "[array([[ 0.+0.j,  0.+0.j],\n",
      "       [ 0.+0.j, -0.+0.j]])] [array([[0, 1],\n",
      "       [1, 0]]), array([[ 0.+0.j, -0.-1.j],\n",
      "       [ 0.+1.j,  0.+0.j]])]\n",
      "[array([[ 0.+0.j,  0.+0.j],\n",
      "       [ 0.+0.j, -0.+0.j]])] [array([[0, 1],\n",
      "       [1, 0]]), array([[ 0.+0.j, -0.-1.j],\n",
      "       [ 0.+1.j,  0.+0.j]])]\n",
      "[array([[ 0.+0.j,  0.+0.j],\n",
      "       [ 0.+0.j, -0.+0.j]])] [array([[0, 1],\n",
      "       [1, 0]]), array([[ 0.+0.j, -0.-1.j],\n",
      "       [ 0.+1.j,  0.+0.j]])]\n",
      "[stdout:1] \n",
      "DOING COMBO [0.0, 0, 0]\n",
      "[array([[ 0.+0.j,  0.+0.j],\n",
      "       [ 0.+0.j, -0.+0.j]])] [array([[0, 1],\n",
      "       [1, 0]]), array([[ 0.+0.j, -0.-1.j],\n",
      "       [ 0.+1.j,  0.+0.j]])]\n",
      "[array([[ 0.+0.j,  0.+0.j],\n",
      "       [ 0.+0.j, -0.+0.j]])] [array([[0, 1],\n",
      "       [1, 0]]), array([[ 0.+0.j, -0.-1.j],\n",
      "       [ 0.+1.j,  0.+0.j]])]\n",
      "[array([[ 0.+0.j,  0.+0.j],\n",
      "       [ 0.+0.j, -0.+0.j]])] [array([[0, 1],\n",
      "       [1, 0]]), array([[ 0.+0.j, -0.-1.j],\n",
      "       [ 0.+1.j,  0.+0.j]])]\n",
      "[array([[ 0.+0.j,  0.+0.j],\n",
      "       [ 0.+0.j, -0.+0.j]])] [array([[0, 1],\n",
      "       [1, 0]]), array([[ 0.+0.j, -0.-1.j],\n",
      "       [ 0.+1.j,  0.+0.j]])]\n",
      "[array([[ 0.+0.j,  0.+0.j],\n",
      "       [ 0.+0.j, -0.+0.j]])] [array([[0, 1],\n",
      "       [1, 0]]), array([[ 0.+0.j, -0.-1.j],\n",
      "       [ 0.+1.j,  0.+0.j]])]\n",
      "[array([[ 0.+0.j,  0.+0.j],\n",
      "       [ 0.+0.j, -0.+0.j]])] [array([[0, 1],\n",
      "       [1, 0]]), array([[ 0.+0.j, -0.-1.j],\n",
      "       [ 0.+1.j,  0.+0.j]])]\n",
      "[array([[ 0.+0.j,  0.+0.j],\n",
      "       [ 0.+0.j, -0.+0.j]])] [array([[0, 1],\n",
      "       [1, 0]]), array([[ 0.+0.j, -0.-1.j],\n",
      "       [ 0.+1.j,  0.+0.j]])]\n",
      "[array([[ 0.+0.j,  0.+0.j],\n",
      "       [ 0.+0.j, -0.+0.j]])] [array([[0, 1],\n",
      "       [1, 0]]), array([[ 0.+0.j, -0.-1.j],\n",
      "       [ 0.+1.j,  0.+0.j]])]\n",
      "[array([[ 0.+0.j,  0.+0.j],\n",
      "       [ 0.+0.j, -0.+0.j]])] [array([[0, 1],\n",
      "       [1, 0]]), array([[ 0.+0.j, -0.-1.j],\n",
      "       [ 0.+1.j,  0.+0.j]])]\n",
      "[array([[ 0.+0.j,  0.+0.j],\n",
      "       [ 0.+0.j, -0.+0.j]])] [array([[0, 1],\n",
      "       [1, 0]]), array([[ 0.+0.j, -0.-1.j],\n",
      "       [ 0.+1.j,  0.+0.j]])]\n",
      "DOING COMBO [0, 0.0, 0.0]\n",
      "[array([[ 0.+0.j,  0.+0.j],\n",
      "       [ 0.+0.j, -0.+0.j]])] [array([[0, 1],\n",
      "       [1, 0]]), array([[ 0.+0.j, -0.-1.j],\n",
      "       [ 0.+1.j,  0.+0.j]])]\n",
      "[array([[ 0.+0.j,  0.+0.j],\n",
      "       [ 0.+0.j, -0.+0.j]])] [array([[0, 1],\n",
      "       [1, 0]]), array([[ 0.+0.j, -0.-1.j],\n",
      "       [ 0.+1.j,  0.+0.j]])]\n",
      "[array([[ 0.+0.j,  0.+0.j],\n",
      "       [ 0.+0.j, -0.+0.j]])] [array([[0, 1],\n",
      "       [1, 0]]), array([[ 0.+0.j, -0.-1.j],\n",
      "       [ 0.+1.j,  0.+0.j]])]\n",
      "[array([[ 0.+0.j,  0.+0.j],\n",
      "       [ 0.+0.j, -0.+0.j]])] [array([[0, 1],\n",
      "       [1, 0]]), array([[ 0.+0.j, -0.-1.j],\n",
      "       [ 0.+1.j,  0.+0.j]])]\n",
      "[array([[ 0.+0.j,  0.+0.j],\n",
      "       [ 0.+0.j, -0.+0.j]])] [array([[0, 1],\n",
      "       [1, 0]]), array([[ 0.+0.j, -0.-1.j],\n",
      "       [ 0.+1.j,  0.+0.j]])]\n",
      "[array([[ 0.+0.j,  0.+0.j],\n",
      "       [ 0.+0.j, -0.+0.j]])] [array([[0, 1],\n",
      "       [1, 0]]), array([[ 0.+0.j, -0.-1.j],\n",
      "       [ 0.+1.j,  0.+0.j]])]\n",
      "[array([[ 0.+0.j,  0.+0.j],\n",
      "       [ 0.+0.j, -0.+0.j]])] [array([[0, 1],\n",
      "       [1, 0]]), array([[ 0.+0.j, -0.-1.j],\n",
      "       [ 0.+1.j,  0.+0.j]])]\n",
      "[array([[ 0.+0.j,  0.+0.j],\n",
      "       [ 0.+0.j, -0.+0.j]])] [array([[0, 1],\n",
      "       [1, 0]]), array([[ 0.+0.j, -0.-1.j],\n",
      "       [ 0.+1.j,  0.+0.j]])]\n",
      "[array([[ 0.+0.j,  0.+0.j],\n",
      "       [ 0.+0.j, -0.+0.j]])] [array([[0, 1],\n",
      "       [1, 0]]), array([[ 0.+0.j, -0.-1.j],\n",
      "       [ 0.+1.j,  0.+0.j]])]\n",
      "[array([[ 0.+0.j,  0.+0.j],\n",
      "       [ 0.+0.j, -0.+0.j]])] [array([[0, 1],\n",
      "       [1, 0]]), array([[ 0.+0.j, -0.-1.j],\n",
      "       [ 0.+1.j,  0.+0.j]])]\n",
      "[stdout:2] \n",
      "DOING COMBO [0.0019952623149688785, 0, 0]\n",
      "[array([[ 0.00199526+0.j,  0.        +0.j],\n",
      "       [ 0.        +0.j, -0.00199526+0.j]])] [array([[0, 1],\n",
      "       [1, 0]]), array([[ 0.+0.j, -0.-1.j],\n",
      "       [ 0.+1.j,  0.+0.j]])]\n",
      "[array([[ 0.00199526+0.j,  0.        +0.j],\n",
      "       [ 0.        +0.j, -0.00199526+0.j]])] [array([[0, 1],\n",
      "       [1, 0]]), array([[ 0.+0.j, -0.-1.j],\n",
      "       [ 0.+1.j,  0.+0.j]])]\n",
      "[array([[ 0.00199526+0.j,  0.        +0.j],\n",
      "       [ 0.        +0.j, -0.00199526+0.j]])] [array([[0, 1],\n",
      "       [1, 0]]), array([[ 0.+0.j, -0.-1.j],\n",
      "       [ 0.+1.j,  0.+0.j]])]\n",
      "[array([[ 0.00199526+0.j,  0.        +0.j],\n",
      "       [ 0.        +0.j, -0.00199526+0.j]])] [array([[0, 1],\n",
      "       [1, 0]]), array([[ 0.+0.j, -0.-1.j],\n",
      "       [ 0.+1.j,  0.+0.j]])]\n",
      "[array([[ 0.00199526+0.j,  0.        +0.j],\n",
      "       [ 0.        +0.j, -0.00199526+0.j]])] [array([[0, 1],\n",
      "       [1, 0]]), array([[ 0.+0.j, -0.-1.j],\n",
      "       [ 0.+1.j,  0.+0.j]])]\n",
      "[array([[ 0.00199526+0.j,  0.        +0.j],\n",
      "       [ 0.        +0.j, -0.00199526+0.j]])] [array([[0, 1],\n",
      "       [1, 0]]), array([[ 0.+0.j, -0.-1.j],\n",
      "       [ 0.+1.j,  0.+0.j]])]\n",
      "[array([[ 0.00199526+0.j,  0.        +0.j],\n",
      "       [ 0.        +0.j, -0.00199526+0.j]])] [array([[0, 1],\n",
      "       [1, 0]]), array([[ 0.+0.j, -0.-1.j],\n",
      "       [ 0.+1.j,  0.+0.j]])]\n",
      "[array([[ 0.00199526+0.j,  0.        +0.j],\n",
      "       [ 0.        +0.j, -0.00199526+0.j]])] [array([[0, 1],\n",
      "       [1, 0]]), array([[ 0.+0.j, -0.-1.j],\n",
      "       [ 0.+1.j,  0.+0.j]])]\n",
      "[array([[ 0.00199526+0.j,  0.        +0.j],\n",
      "       [ 0.        +0.j, -0.00199526+0.j]])] [array([[0, 1],\n",
      "       [1, 0]]), array([[ 0.+0.j, -0.-1.j],\n",
      "       [ 0.+1.j,  0.+0.j]])]\n",
      "[array([[ 0.00199526+0.j,  0.        +0.j],\n",
      "       [ 0.        +0.j, -0.00199526+0.j]])] [array([[0, 1],\n",
      "       [1, 0]]), array([[ 0.+0.j, -0.-1.j],\n",
      "       [ 0.+1.j,  0.+0.j]])]\n",
      "DOING COMBO [0, 0.0019952623149688785, 0.0019952623149688785]\n",
      "[array([[ 0.+0.j,  0.+0.j],\n",
      "       [ 0.+0.j, -0.+0.j]])] [array([[0, 1],\n",
      "       [1, 0]]), array([[ 0.+0.j, -0.-1.j],\n",
      "       [ 0.+1.j,  0.+0.j]])]\n",
      "[array([[ 0.+0.j,  0.+0.j],\n",
      "       [ 0.+0.j, -0.+0.j]])] [array([[0, 1],\n",
      "       [1, 0]]), array([[ 0.+0.j, -0.-1.j],\n",
      "       [ 0.+1.j,  0.+0.j]])]\n",
      "[array([[ 0.+0.j,  0.+0.j],\n",
      "       [ 0.+0.j, -0.+0.j]])] [array([[0, 1],\n",
      "       [1, 0]]), array([[ 0.+0.j, -0.-1.j],\n",
      "       [ 0.+1.j,  0.+0.j]])]\n",
      "[array([[ 0.+0.j,  0.+0.j],\n",
      "       [ 0.+0.j, -0.+0.j]])] [array([[0, 1],\n",
      "       [1, 0]]), array([[ 0.+0.j, -0.-1.j],\n",
      "       [ 0.+1.j,  0.+0.j]])]\n",
      "[array([[ 0.+0.j,  0.+0.j],\n",
      "       [ 0.+0.j, -0.+0.j]])] [array([[0, 1],\n",
      "       [1, 0]]), array([[ 0.+0.j, -0.-1.j],\n",
      "       [ 0.+1.j,  0.+0.j]])]\n",
      "[array([[ 0.+0.j,  0.+0.j],\n",
      "       [ 0.+0.j, -0.+0.j]])] [array([[0, 1],\n",
      "       [1, 0]]), array([[ 0.+0.j, -0.-1.j],\n",
      "       [ 0.+1.j,  0.+0.j]])]\n",
      "[array([[ 0.+0.j,  0.+0.j],\n",
      "       [ 0.+0.j, -0.+0.j]])] [array([[0, 1],\n",
      "       [1, 0]]), array([[ 0.+0.j, -0.-1.j],\n",
      "       [ 0.+1.j,  0.+0.j]])]\n",
      "[array([[ 0.+0.j,  0.+0.j],\n",
      "       [ 0.+0.j, -0.+0.j]])] [array([[0, 1],\n",
      "       [1, 0]]), array([[ 0.+0.j, -0.-1.j],\n",
      "       [ 0.+1.j,  0.+0.j]])]\n",
      "[array([[ 0.+0.j,  0.+0.j],\n",
      "       [ 0.+0.j, -0.+0.j]])] [array([[0, 1],\n",
      "       [1, 0]]), array([[ 0.+0.j, -0.-1.j],\n",
      "       [ 0.+1.j,  0.+0.j]])]\n",
      "[array([[ 0.+0.j,  0.+0.j],\n",
      "       [ 0.+0.j, -0.+0.j]])] [array([[0, 1],\n",
      "       [1, 0]]), array([[ 0.+0.j, -0.-1.j],\n",
      "       [ 0.+1.j,  0.+0.j]])]\n"
     ]
    }
   ],
   "source": [
    "%%px\n",
    "d_norms10, d_norms11 = dnorms(pca1)"
   ]
  },
  {
   "cell_type": "code",
   "execution_count": 21,
   "metadata": {},
   "outputs": [],
   "source": [
    "num_pts = 3\n",
    "controls = np.array([rc[i]['combo'][0] for i in range(num_pts)])"
   ]
  },
  {
   "cell_type": "code",
   "execution_count": 22,
   "metadata": {},
   "outputs": [],
   "source": [
    "num_pts=3"
   ]
  },
  {
   "cell_type": "code",
   "execution_count": 23,
   "metadata": {},
   "outputs": [],
   "source": [
    "diamond_norms00 = np.array([rc[i]['d_norms00'] for i in range(num_pts)])\n",
    "diamond_norms01 = np.array([rc[i]['d_norms01'] for i in range(num_pts)])"
   ]
  },
  {
   "cell_type": "code",
   "execution_count": 24,
   "metadata": {},
   "outputs": [],
   "source": [
    "diamond_norms10 = np.array([rc[i]['d_norms10'] for i in range(num_pts)])\n",
    "diamond_norms11 = np.array([rc[i]['d_norms11'] for i in range(num_pts)])"
   ]
  },
  {
   "cell_type": "markdown",
   "metadata": {},
   "source": [
    "# If we don't include enough controls (say 20) the two plots will look similar. Need more controls for more diversity in the solutions."
   ]
  },
  {
   "cell_type": "code",
   "execution_count": 25,
   "metadata": {
    "scrolled": false
   },
   "outputs": [
    {
     "data": {
      "image/png": "[encoded data removed]",
      "text/plain": [
       "<matplotlib.figure.Figure at 0x7f4857f07f98>"
      ]
     },
     "metadata": {},
     "output_type": "display_data"
    },
    {
     "data": {
      "image/png": "[encoded data removed]",
      "text/plain": [
       "<matplotlib.figure.Figure at 0x7f4857f88a20>"
      ]
     },
     "metadata": {},
     "output_type": "display_data"
    }
   ],
   "source": [
    "for a, b in ((diamond_norms00, diamond_norms10), (diamond_norms01, diamond_norms11)):\n",
    "    plt.figure(figsize=(10,6))\n",
    "    plt.semilogy(controls, np.array(a).T[7], linewidth = 2, alpha=.6, color='#a6bddb', label=\"Member of 0RBC\", ls=\"-\");\n",
    "    plt.semilogy(controls, np.array(b).T[7], linewidth = 2, alpha=.6, color='#a6bddb', label=\"Member of 1RBC\", ls=\"--\");\n",
    "\n",
    "\n",
    "    plt.semilogy(controls, np.array(a).T[-1], linewidth = 3, alpha=1, color='#2b8cbe', label=\"0RBC\", ls=\"-\");\n",
    "    plt.semilogy(controls,np.array(b).T[-1], linewidth = 3, alpha=1, color='#2b8cbe', label=\"1RBC\", ls=\"--\");\n",
    "    plt.ylabel(\"Diamond Norm\")\n",
    "    plt.xlabel(\"Detuning\")\n",
    "    plt.legend()"
   ]
  },
  {
   "cell_type": "code",
   "execution_count": null,
   "metadata": {},
   "outputs": [],
   "source": []
  }
 ],
 "metadata": {
  "kernelspec": {
   "display_name": "Python 3",
   "language": "python",
   "name": "python3"
  },
  "language_info": {
   "codemirror_mode": {
    "name": "ipython",
    "version": 3
   },
   "file_extension": ".py",
   "mimetype": "text/x-python",
   "name": "python",
   "nbconvert_exporter": "python",
   "pygments_lexer": "ipython3",
   "version": "3.6.3"
  }
 },
 "nbformat": 4,
 "nbformat_minor": 2
}
