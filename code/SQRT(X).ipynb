{
 "cells": [
  {
   "cell_type": "code",
   "execution_count": 1,
   "metadata": {},
   "outputs": [],
   "source": [
    "%load_ext autoreload\n",
    "%autoreload 2"
   ]
  },
  {
   "cell_type": "code",
   "execution_count": 2,
   "metadata": {},
   "outputs": [],
   "source": [
    "from functools import reduce\n",
    "import scipy\n",
    "from copy import deepcopy\n",
    "from scipy.linalg import logm\n",
    "import numpy as np\n",
    "import dill\n"
   ]
  },
  {
   "cell_type": "code",
   "execution_count": 59,
   "metadata": {},
   "outputs": [],
   "source": [
    "import dill \n",
    "num_keep = 500\n",
    "filename = 'pickled_controls5.pkl'\n",
    "pca = dill.load(open(filename, 'rb'))\n",
    "pca.controlset = pca.controlset[:num_keep]"
   ]
  },
  {
   "cell_type": "code",
   "execution_count": 60,
   "metadata": {},
   "outputs": [],
   "source": [
    "def hist_and_support(weights, num=10):\n",
    "    plt.hist(weights)\n",
    "    np.argmax(weights)\n",
    "    top_idx = np.argsort(np.array(weights).T)[0][-num:]\n",
    "    top_values = [weights[i] for i in top_idx]\n",
    "    print(f\"SUPPORT:{np.sum(top_values)}\")\n",
    "    print(f\"NUM CONTROLS: {num}\")\n",
    "    return top_idx, np.sum(top_values)"
   ]
  },
  {
   "cell_type": "code",
   "execution_count": 61,
   "metadata": {},
   "outputs": [],
   "source": [
    "num_weights = 10\n",
    "scale = 100\n",
    "num_points = 11\n",
    "num_processors = 4"
   ]
  },
  {
   "cell_type": "code",
   "execution_count": 63,
   "metadata": {
    "scrolled": true
   },
   "outputs": [],
   "source": [
    "from convex import all_derivs, optimal_weights_1st_order, optimal_weights\n",
    "from pauli_channel_approximation import PCA\n",
    "# If the tolerance is too high (i.e. not zero) and the number of controls is too high (e.g. >100) this was failing with ECOS.\n",
    "pca.derivs = all_derivs(pca.controlset, pca.target_operator, pca.control_hamiltonians, pca.ambient_hamiltonian, pca.dt, 1)"
   ]
  },
  {
   "cell_type": "markdown",
   "metadata": {},
   "source": [
    "# Making the regularizer too small can prevent it from working - i.e. the solver will fail. Anything above around 1E-3 or 1E-4 seems to work well. These cells assign the 0RBC weights, and 1RBC weights, with sparsity constraints. (This could be because the constraint makes the optimization work over numbers small in magnitude, so that numerical inaccuracy takes over.)"
   ]
  },
  {
   "cell_type": "markdown",
   "metadata": {},
   "source": [
    "# Support for 0th order controls"
   ]
  },
  {
   "cell_type": "code",
   "execution_count": 65,
   "metadata": {},
   "outputs": [],
   "source": [
    "# MAX_TO_SUPPORT_RATIO = 1\n",
    "# def cost_function(l, pca):\n",
    "#     try:\n",
    "#         PCA.assign_weights_0(pca, l)\n",
    "#         indices, support = hist_and_support(pca.weights_0)\n",
    "#         plt.show()\n",
    "#         plt.clf()\n",
    "#         maximum = max(pca.weights_0[indices])\n",
    "#         rtn = (maximum*MAX_TO_SUPPORT_RATIO + (1 - support))\n",
    "#         print(f\"cost function: {rtn}\")\n",
    "#         print(f\"Evaluated with l={l}\")\n",
    "#     except TypeError:\n",
    "#         rtn = MAX_TO_SUPPORT_RATIO + 1\n",
    "#     return rtn"
   ]
  },
  {
   "cell_type": "code",
   "execution_count": 66,
   "metadata": {},
   "outputs": [],
   "source": [
    "# from scipy.optimize import minimize\n",
    "\n",
    "# THRESHOLD_SUPPORT = .9\n",
    "# THRESHOLD_MAXIMUM = .5\n",
    "\n",
    "# def find_l(pca, l0=1E-6): #initial guess is l0\n",
    "#     l = minimize(lambda l: cost_function(l, pca), x0=l0)\n",
    "#     return l"
   ]
  },
  {
   "cell_type": "code",
   "execution_count": 67,
   "metadata": {},
   "outputs": [],
   "source": [
    "# l = find_l(pca)"
   ]
  },
  {
   "cell_type": "code",
   "execution_count": 68,
   "metadata": {},
   "outputs": [],
   "source": [
    "# cost_function(l.x, pca)"
   ]
  },
  {
   "cell_type": "code",
   "execution_count": 69,
   "metadata": {},
   "outputs": [
    {
     "name": "stdout",
     "output_type": "stream",
     "text": [
      "Done with convex problem 0 out of 500\n",
      "Done with convex problem 10 out of 500\n",
      "Done with convex problem 20 out of 500\n",
      "Done with convex problem 30 out of 500\n",
      "Done with convex problem 40 out of 500\n",
      "Done with convex problem 50 out of 500\n",
      "Done with convex problem 60 out of 500\n",
      "Done with convex problem 70 out of 500\n",
      "Done with convex problem 80 out of 500\n",
      "Done with convex problem 90 out of 500\n",
      "Done with convex problem 100 out of 500\n",
      "Done with convex problem 110 out of 500\n",
      "Done with convex problem 120 out of 500\n",
      "Done with convex problem 130 out of 500\n",
      "Done with convex problem 140 out of 500\n",
      "Done with convex problem 150 out of 500\n",
      "Done with convex problem 160 out of 500\n",
      "Done with convex problem 170 out of 500\n",
      "Done with convex problem 180 out of 500\n",
      "Done with convex problem 190 out of 500\n",
      "Done with convex problem 200 out of 500\n",
      "Done with convex problem 210 out of 500\n",
      "Done with convex problem 220 out of 500\n",
      "Done with convex problem 230 out of 500\n",
      "Done with convex problem 240 out of 500\n",
      "Done with convex problem 250 out of 500\n",
      "Done with convex problem 260 out of 500\n",
      "Done with convex problem 270 out of 500\n",
      "Done with convex problem 280 out of 500\n",
      "Done with convex problem 290 out of 500\n",
      "Done with convex problem 300 out of 500\n",
      "Done with convex problem 310 out of 500\n",
      "Done with convex problem 320 out of 500\n",
      "Done with convex problem 330 out of 500\n",
      "Done with convex problem 340 out of 500\n",
      "Done with convex problem 350 out of 500\n",
      "Done with convex problem 360 out of 500\n",
      "Done with convex problem 370 out of 500\n",
      "Done with convex problem 380 out of 500\n",
      "Done with convex problem 390 out of 500\n",
      "Done with convex problem 400 out of 500\n",
      "Done with convex problem 410 out of 500\n",
      "Done with convex problem 420 out of 500\n",
      "Done with convex problem 430 out of 500\n",
      "Done with convex problem 440 out of 500\n",
      "Done with convex problem 450 out of 500\n",
      "Done with convex problem 460 out of 500\n",
      "Done with convex problem 470 out of 500\n",
      "Done with convex problem 480 out of 500\n",
      "Done with convex problem 490 out of 500\n",
      "Done with convex problem 0 out of 500\n",
      "Done with convex problem 10 out of 500\n",
      "Done with convex problem 20 out of 500\n",
      "Done with convex problem 30 out of 500\n",
      "Done with convex problem 40 out of 500\n",
      "Done with convex problem 50 out of 500\n",
      "Done with convex problem 60 out of 500\n",
      "Done with convex problem 70 out of 500\n",
      "Done with convex problem 80 out of 500\n",
      "Done with convex problem 90 out of 500\n",
      "Done with convex problem 100 out of 500\n",
      "Done with convex problem 110 out of 500\n",
      "Done with convex problem 120 out of 500\n",
      "Done with convex problem 130 out of 500\n",
      "Done with convex problem 140 out of 500\n",
      "Done with convex problem 150 out of 500\n",
      "Done with convex problem 160 out of 500\n",
      "Done with convex problem 170 out of 500\n",
      "Done with convex problem 180 out of 500\n",
      "Done with convex problem 190 out of 500\n",
      "Done with convex problem 200 out of 500\n",
      "Done with convex problem 210 out of 500\n",
      "Done with convex problem 220 out of 500\n",
      "Done with convex problem 230 out of 500\n",
      "Done with convex problem 240 out of 500\n",
      "Done with convex problem 250 out of 500\n",
      "Done with convex problem 260 out of 500\n",
      "Done with convex problem 270 out of 500\n",
      "Done with convex problem 280 out of 500\n",
      "Done with convex problem 290 out of 500\n",
      "Done with convex problem 300 out of 500\n",
      "Done with convex problem 310 out of 500\n",
      "Done with convex problem 320 out of 500\n",
      "Done with convex problem 330 out of 500\n",
      "Done with convex problem 340 out of 500\n",
      "Done with convex problem 350 out of 500\n",
      "Done with convex problem 360 out of 500\n",
      "Done with convex problem 370 out of 500\n",
      "Done with convex problem 380 out of 500\n",
      "Done with convex problem 390 out of 500\n",
      "Done with convex problem 400 out of 500\n",
      "Done with convex problem 410 out of 500\n",
      "Done with convex problem 420 out of 500\n",
      "Done with convex problem 430 out of 500\n",
      "Done with convex problem 440 out of 500\n",
      "Done with convex problem 450 out of 500\n",
      "Done with convex problem 460 out of 500\n",
      "Done with convex problem 470 out of 500\n",
      "Done with convex problem 480 out of 500\n",
      "Done with convex problem 490 out of 500\n"
     ]
    }
   ],
   "source": [
    "PCA.assign_weights(pca, 0, 1e-3)"
   ]
  },
  {
   "cell_type": "code",
   "execution_count": 70,
   "metadata": {
    "scrolled": true
   },
   "outputs": [
    {
     "name": "stdout",
     "output_type": "stream",
     "text": [
      "SUPPORT:0.9999998111271474\n",
      "NUM CONTROLS: 10\n"
     ]
    },
    {
     "data": {
      "image/png": "[encoded data removed]",
      "text/plain": [
       "<matplotlib.figure.Figure at 0x7f94e86d6710>"
      ]
     },
     "metadata": {},
     "output_type": "display_data"
    }
   ],
   "source": [
    "import matplotlib.pyplot as plt\n",
    "indices0, _ = hist_and_support(pca.weights_0, 10)"
   ]
  },
  {
   "cell_type": "code",
   "execution_count": 18,
   "metadata": {},
   "outputs": [],
   "source": [
    "import matplotlib.pyplot as plt\n",
    "%matplotlib inline\n",
    "pca0 = dill.load(open(filename, 'rb'))\n",
    "subweights = pca.weights_0[indices0]\n",
    "pca0.controlset = [pca0.controlset[i] for i in indices0]\n",
    "pca0.probs = list(np.array(subweights.T/sum(subweights)).T)"
   ]
  },
  {
   "cell_type": "markdown",
   "metadata": {},
   "source": [
    "# Support for 1st order controls"
   ]
  },
  {
   "cell_type": "code",
   "execution_count": 15,
   "metadata": {},
   "outputs": [],
   "source": [
    "# def cost_function(l, pca):\n",
    "#     try:\n",
    "#         PCA.assign_weights(pca, l)\n",
    "#         indices, support = hist_and_support(pca.weights)\n",
    "#         plt.show()\n",
    "#         maximum = max(pca.weights[indices])\n",
    "#         rtn = (maximum*MAX_TO_SUPPORT_RATIO + (1 - support))\n",
    "#         print(f\"cost function: {rtn}\")\n",
    "#         print(f\"Evaluated with l={l}\")\n",
    "#     except TypeError:\n",
    "#         rtn = MAX_TO_SUPPORT_RATIO + 1\n",
    "#     return rtn"
   ]
  },
  {
   "cell_type": "code",
   "execution_count": 16,
   "metadata": {},
   "outputs": [],
   "source": [
    "# l = find_l(pca, l0=1E-5)"
   ]
  },
  {
   "cell_type": "code",
   "execution_count": 17,
   "metadata": {},
   "outputs": [
    {
     "name": "stdout",
     "output_type": "stream",
     "text": [
      "SUPPORT:1.000000451611253\n",
      "NUM CONTROLS: 10\n"
     ]
    },
    {
     "data": {
      "image/png": "[encoded data removed]",
      "text/plain": [
       "<matplotlib.figure.Figure at 0x7f94edc33d68>"
      ]
     },
     "metadata": {},
     "output_type": "display_data"
    }
   ],
   "source": [
    "# Consider setting minimizer tolerance\n",
    "#PCA.assign_weights(pca, 1E-5)\n",
    "indices1, _ = hist_and_support(pca.weights)"
   ]
  },
  {
   "cell_type": "code",
   "execution_count": 19,
   "metadata": {
    "scrolled": true
   },
   "outputs": [],
   "source": [
    "pca1 = dill.load(open(filename, 'rb'))\n",
    "subweights = pca.weights[indices1]\n",
    "pca1.controlset = [pca1.controlset[i] for i in indices1]\n",
    "pca1.probs = list(np.array(subweights.T/sum(subweights)).T)"
   ]
  },
  {
   "cell_type": "code",
   "execution_count": 20,
   "metadata": {},
   "outputs": [],
   "source": [
    "# Save the weighted controls\n",
    "\n",
    "import dill\n",
    "dill.dump(pca0, open('0_' + filename, 'wb'))\n",
    "\n",
    "import dill\n",
    "dill.dump(pca1, open('1_' + filename, 'wb'))"
   ]
  },
  {
   "cell_type": "markdown",
   "metadata": {},
   "source": [
    "# Diamond Norm"
   ]
  },
  {
   "cell_type": "code",
   "execution_count": 34,
   "metadata": {},
   "outputs": [],
   "source": [
    "import numpy as np\n",
    "import matplotlib.pyplot as plt\n",
    "%matplotlib inline"
   ]
  },
  {
   "cell_type": "code",
   "execution_count": 35,
   "metadata": {},
   "outputs": [
    {
     "name": "stderr",
     "output_type": "stream",
     "text": [
      "/home/anthony/.pyenv/versions/3.6.3/envs/personal/lib/python3.6/site-packages/ipyparallel/client/client.py:459: RuntimeWarning: \n",
      "            Controller appears to be listening on localhost, but not on this machine.\n",
      "            If this is true, you should specify Client(...,sshserver='you@GLaDOS')\n",
      "            or instruct your controller to listen on an external IP.\n",
      "  RuntimeWarning)\n"
     ]
    }
   ],
   "source": [
    "from ipyparallel import Client\n",
    "rc = Client(profile='mpi3')\n",
    "dc = rc[:]"
   ]
  },
  {
   "cell_type": "code",
   "execution_count": 36,
   "metadata": {},
   "outputs": [
    {
     "data": {
      "text/plain": [
       "<AsyncResult: _push>"
      ]
     },
     "execution_count": 36,
     "metadata": {},
     "output_type": "execute_result"
    }
   ],
   "source": [
    "import os\n",
    "dc.push({'cwd':os.getcwd()})"
   ]
  },
  {
   "cell_type": "code",
   "execution_count": 38,
   "metadata": {},
   "outputs": [],
   "source": [
    "%%px\n",
    "import os\n",
    "os.chdir(cwd)"
   ]
  },
  {
   "cell_type": "code",
   "execution_count": 39,
   "metadata": {},
   "outputs": [],
   "source": [
    "%%px\n",
    "import dill\n",
    "import itertools\n",
    "import numpy as np\n",
    "from pauli_channel_approximation import compute_dpn_and_fid\n",
    "import matplotlib.pyplot as plt\n",
    "from itertools import product"
   ]
  },
  {
   "cell_type": "code",
   "execution_count": 40,
   "metadata": {},
   "outputs": [],
   "source": [
    "%%px \n",
    "from mpi4py import MPI\n",
    "comm = MPI.COMM_WORLD\n",
    "rank = comm.Get_rank()"
   ]
  },
  {
   "cell_type": "code",
   "execution_count": 41,
   "metadata": {},
   "outputs": [],
   "source": [
    "%%px\n",
    "filename = 'pickled_controls5.pkl'\n",
    "pca0 = dill.load(open('0_' + filename, 'rb')) # 0RBC\n",
    "pca1 = dill.load(open('1_' + filename, 'rb')) # 1RBC"
   ]
  },
  {
   "cell_type": "markdown",
   "metadata": {},
   "source": [
    "# Diamond Norm"
   ]
  },
  {
   "cell_type": "code",
   "execution_count": 42,
   "metadata": {},
   "outputs": [],
   "source": [
    "%%px\n",
    "import sys\n",
    "import itertools\n",
    "from itertools import product\n",
    "from copy import deepcopy\n",
    "from functools import reduce\n",
    "\n",
    "from diamond import diamond_norm, jamiolkowski\n",
    "\n",
    "def superoperator(unitary):\n",
    "\n",
    "    return np.kron(unitary.conj(), unitary)\n",
    "\n",
    "def choi_form(unitary):\n",
    "\n",
    "    return jamiolkowski(superoperator(unitary))\n",
    "\n",
    "def diamond_distance(unitary_a,unitary_b):\n",
    "    return diamond_norm(choi_form(unitary_a) - choi_form(unitary_b))/2.\n",
    "\n",
    "def compute_diamond_norm(data):\n",
    "    controlset, ambient_hamiltonian0, combo, dt, control_hamiltonians, target_operator, probs = data\n",
    "    print(\"DOING COMBO {}\".format(combo))\n",
    "    sys.stdout.flush()\n",
    "    fidelities = []\n",
    "    projs = []\n",
    "    sops = []\n",
    "    controlset_unitaries = []\n",
    "    d_norms = []\n",
    "\n",
    "    for controls in controlset:\n",
    "        newcontrols = deepcopy(controls)\n",
    "        ambient_hamiltonian = [deepcopy(ah).astype(\"complex\") for ah in ambient_hamiltonian0]\n",
    "        for cnum, value in enumerate(combo):\n",
    "            cnum -= len(ambient_hamiltonian0)\n",
    "            if cnum >= 0:\n",
    "                newcontrols[:, cnum] = newcontrols[:, cnum] * (1 + value)\n",
    "            if cnum < 0:\n",
    "                ambient_hamiltonian[cnum] *= float(value)\n",
    "        step_unitaries = control_unitaries(ambient_hamiltonian,\n",
    "                                           control_hamiltonians, newcontrols,\n",
    "                                           dt)\n",
    "        unitary = reduce(lambda a, b: a.dot(b), step_unitaries)\n",
    "        sop = error_unitary(unitary, target_operator)\n",
    "        sops.append(sop)\n",
    "        d_norms.append(diamond_distance(sop, np.eye(sop.shape[0])))\n",
    "    avg_sop = reduce(lambda a, b: a + b, [prob * sops[i] for i, prob in enumerate(probs)])\n",
    "    d_norms.append(diamond_distance(avg_sop, np.eye(avg_sop.shape[0])))\n",
    "    return d_norms"
   ]
  },
  {
   "cell_type": "code",
   "execution_count": 43,
   "metadata": {},
   "outputs": [],
   "source": [
    "num_pts = 7"
   ]
  },
  {
   "cell_type": "code",
   "execution_count": 44,
   "metadata": {},
   "outputs": [],
   "source": [
    "%%px\n",
    "num_pts = 7\n",
    "#pca0 and pca1 should have the same detunings, so we just use pca0 here.\n",
    "base = np.logspace(-4.7, np.log(pca0.detunings[0][0])/np.log(10), (num_pts - 1)/2)\n",
    "controls = np.concatenate([np.sort(-base),np.array([0]), base])\n",
    "combinations0 = [[det,0] for det in controls]\n",
    "\n",
    "base = np.logspace(-4.7, np.log(pca0.detunings[1][0])/np.log(10), (num_pts - 1)/2)\n",
    "controls = np.concatenate([np.sort(-base),np.array([0]), base])\n",
    "combinations1 = [[0,det] for det in controls]"
   ]
  },
  {
   "cell_type": "code",
   "execution_count": 45,
   "metadata": {},
   "outputs": [],
   "source": [
    "%%px\n",
    "from pauli_channel_approximation import control_unitaries, error_unitary\n",
    "def dnorms(pca):\n",
    "    try:\n",
    "        combo = combinations0[rank]\n",
    "        lst = [pca0.controlset, pca.ambient_hamiltonian, combo, pca.dt,\n",
    "                pca.control_hamiltonians, pca.target_operator, pca.probs]\n",
    "        d_norms0 = compute_diamond_norm(lst)\n",
    "\n",
    "        combo = combinations1[rank]\n",
    "        lst = [pca.controlset, pca.ambient_hamiltonian, combo, pca.dt,\n",
    "                pca.control_hamiltonians, pca.target_operator, pca.probs]\n",
    "        d_norms1 = compute_diamond_norm(lst)\n",
    "    except IndexError:\n",
    "        pass\n",
    "    return d_norms0, d_norms1"
   ]
  },
  {
   "cell_type": "markdown",
   "metadata": {},
   "source": [
    "# 0RBC"
   ]
  },
  {
   "cell_type": "code",
   "execution_count": 46,
   "metadata": {},
   "outputs": [
    {
     "name": "stdout",
     "output_type": "stream",
     "text": [
      "[stdout:0] \n",
      "DOING COMBO [-0.001000000000000001, 0]\n",
      "DOING COMBO [0, -0.001000000000000001]\n",
      "[stdout:1] \n",
      "DOING COMBO [-0.00014125375446227554, 0]\n",
      "DOING COMBO [0, -0.00014125375446227554]\n",
      "[stdout:2] \n",
      "DOING COMBO [-1.9952623149688786e-05, 0]\n",
      "DOING COMBO [0, -1.9952623149688786e-05]\n",
      "[stdout:3] \n",
      "DOING COMBO [0.0, 0]\n",
      "DOING COMBO [0, 0.0]\n",
      "[stdout:4] \n",
      "DOING COMBO [1.9952623149688786e-05, 0]\n",
      "DOING COMBO [0, 1.9952623149688786e-05]\n",
      "[stdout:5] \n",
      "DOING COMBO [0.00014125375446227554, 0]\n",
      "DOING COMBO [0, 0.00014125375446227554]\n",
      "[stdout:6] \n",
      "DOING COMBO [0.001000000000000001, 0]\n",
      "DOING COMBO [0, 0.001000000000000001]\n"
     ]
    }
   ],
   "source": [
    "%%px\n",
    "combo = combinations0[rank]\n",
    "d_norms00, d_norms01 = dnorms(pca0)"
   ]
  },
  {
   "cell_type": "markdown",
   "metadata": {},
   "source": [
    "# 1RBC"
   ]
  },
  {
   "cell_type": "code",
   "execution_count": 51,
   "metadata": {},
   "outputs": [
    {
     "name": "stdout",
     "output_type": "stream",
     "text": [
      "[stdout:0] \n",
      "DOING COMBO [-0.001000000000000001, 0]\n",
      "DOING COMBO [0, -0.001000000000000001]\n",
      "[stdout:1] \n",
      "DOING COMBO [-0.00014125375446227554, 0]\n",
      "DOING COMBO [0, -0.00014125375446227554]\n",
      "[stdout:2] \n",
      "DOING COMBO [-1.9952623149688786e-05, 0]\n",
      "DOING COMBO [0, -1.9952623149688786e-05]\n",
      "[stdout:3] \n",
      "DOING COMBO [0.0, 0]\n",
      "DOING COMBO [0, 0.0]\n",
      "[stdout:4] \n",
      "DOING COMBO [1.9952623149688786e-05, 0]\n",
      "DOING COMBO [0, 1.9952623149688786e-05]\n",
      "[stdout:5] \n",
      "DOING COMBO [0.00014125375446227554, 0]\n",
      "DOING COMBO [0, 0.00014125375446227554]\n",
      "[stdout:6] \n",
      "DOING COMBO [0.001000000000000001, 0]\n",
      "DOING COMBO [0, 0.001000000000000001]\n"
     ]
    }
   ],
   "source": [
    "%%px\n",
    "d_norms10, d_norms11 = dnorms(pca1)"
   ]
  },
  {
   "cell_type": "code",
   "execution_count": 52,
   "metadata": {},
   "outputs": [],
   "source": [
    "controls = np.array([rc[i]['combo'][0] for i in range(num_pts)])"
   ]
  },
  {
   "cell_type": "code",
   "execution_count": 53,
   "metadata": {},
   "outputs": [],
   "source": [
    "diamond_norms00 = np.array([rc[i]['d_norms00'] for i in range(num_pts)])\n",
    "diamond_norms01 = np.array([rc[i]['d_norms01'] for i in range(num_pts)])"
   ]
  },
  {
   "cell_type": "code",
   "execution_count": 54,
   "metadata": {},
   "outputs": [],
   "source": [
    "diamond_norms10 = np.array([rc[i]['d_norms10'] for i in range(num_pts)])\n",
    "diamond_norms11 = np.array([rc[i]['d_norms11'] for i in range(num_pts)])"
   ]
  },
  {
   "cell_type": "markdown",
   "metadata": {},
   "source": [
    "# If we don't include enough controls (say 20) the two plots will look similar. Need more controls for more diversity in the solutions."
   ]
  },
  {
   "cell_type": "code",
   "execution_count": 58,
   "metadata": {},
   "outputs": [
    {
     "data": {
      "image/png": "[encoded data removed]",
      "text/plain": [
       "<matplotlib.figure.Figure at 0x7f94e83ff128>"
      ]
     },
     "metadata": {},
     "output_type": "display_data"
    },
    {
     "data": {
      "image/png": "[encoded data removed]",
      "text/plain": [
       "<matplotlib.figure.Figure at 0x7f94edbdd048>"
      ]
     },
     "metadata": {},
     "output_type": "display_data"
    }
   ],
   "source": [
    "for a, b in ((diamond_norms00, diamond_norms10), (diamond_norms01, diamond_norms11)):\n",
    "    plt.figure(figsize=(10,6))\n",
    "    plt.semilogy(controls, np.array(a).T[7], linewidth = 2, alpha=.6, color='#a6bddb', label=\"Member of 0RBC\", ls=\"--\");\n",
    "    plt.semilogy(controls, np.array(b).T[7], linewidth = 2, alpha=.6, color='#a6bddb', label=\"Member of 1RBC\", ls=\"-\");\n",
    "\n",
    "\n",
    "    plt.semilogy(controls, np.array(a).T[-1], linewidth = 3, alpha=1, color='#2b8cbe', label=\"0RBC\", ls=\"-\");\n",
    "    plt.semilogy(controls,np.array(b).T[-1], linewidth = 3, alpha=1, color='#2b8cbe', label=\"1RBC\", ls=\"--\");\n",
    "    plt.ylabel(\"Diamond Norm\")\n",
    "    plt.xlabel(\"Detuning\")\n",
    "    plt.legend()"
   ]
  },
  {
   "cell_type": "code",
   "execution_count": null,
   "metadata": {},
   "outputs": [],
   "source": [
    "for i, row in enumerate(d_norms[:-1, :]):\n",
    "    reordered_row = np.array([row[j] for j in indices])\n",
    "    plt.plot(range(len(row)), reordered_row)\n",
    "plt.plot(range(len(d_norms[-1, :])), [d_norms[-1, :][i] for i in indices], label=\"min\", color='k', linewidth=2, zorder=10)\n",
    "plt.legend()\n",
    "plt.ylabel(\"Diamond Distance\")\n",
    "plt.semilogy()\n",
    "plt.xlabel(\"Sample Index\")\n",
    "plt.tight_layout()\n",
    "plt.show()\n"
   ]
  },
  {
   "cell_type": "code",
   "execution_count": null,
   "metadata": {},
   "outputs": [],
   "source": []
  },
  {
   "cell_type": "code",
   "execution_count": null,
   "metadata": {},
   "outputs": [],
   "source": []
  },
  {
   "cell_type": "code",
   "execution_count": null,
   "metadata": {},
   "outputs": [],
   "source": []
  },
  {
   "cell_type": "code",
   "execution_count": null,
   "metadata": {},
   "outputs": [],
   "source": []
  },
  {
   "cell_type": "code",
   "execution_count": null,
   "metadata": {},
   "outputs": [],
   "source": []
  },
  {
   "cell_type": "code",
   "execution_count": null,
   "metadata": {},
   "outputs": [],
   "source": [
    "for i, row in enumerate(d_norms[:-1, :]):\n",
    "    reordered_row = np.array([row[j] for j in indices])\n",
    "    plt.plot(range(len(row)), reordered_row)\n",
    "plt.plot(range(len(d_norms[-1, :])), [d_norms[-1, :][i] for i in indices], label=\"min\", color='k', linewidth=2, zorder=10)\n",
    "plt.legend()\n",
    "plt.ylabel(\"Diamond Distance\")\n",
    "plt.semilogy()\n",
    "plt.xlabel(\"Sample Index\")\n",
    "plt.tight_layout()\n",
    "plt.show()\n"
   ]
  },
  {
   "cell_type": "code",
   "execution_count": null,
   "metadata": {},
   "outputs": [],
   "source": []
  },
  {
   "cell_type": "code",
   "execution_count": null,
   "metadata": {},
   "outputs": [],
   "source": []
  },
  {
   "cell_type": "code",
   "execution_count": null,
   "metadata": {},
   "outputs": [],
   "source": []
  },
  {
   "cell_type": "code",
   "execution_count": null,
   "metadata": {},
   "outputs": [],
   "source": []
  },
  {
   "cell_type": "code",
   "execution_count": 15,
   "metadata": {},
   "outputs": [],
   "source": [
    "import warnings\n",
    "warnings.filterwarnings(\"ignore\")"
   ]
  },
  {
   "cell_type": "code",
   "execution_count": 16,
   "metadata": {},
   "outputs": [],
   "source": [
    "import numpy as np\n",
    "import matplotlib.pyplot as plt\n",
    "%matplotlib inline\n",
    "import seaborn as sns\n",
    "sns.set()\n",
    "sns.set_style('white')"
   ]
  },
  {
   "cell_type": "code",
   "execution_count": 16,
   "metadata": {},
   "outputs": [],
   "source": [
    "import dill\n",
    "import itertools\n",
    "import numpy as np\n",
    "from pauli_channel_approximation import compute_dpn_and_fid\n",
    "import matplotlib.pyplot as plt\n",
    "from itertools import product"
   ]
  },
  {
   "cell_type": "code",
   "execution_count": 17,
   "metadata": {},
   "outputs": [],
   "source": []
  },
  {
   "cell_type": "code",
   "execution_count": 18,
   "metadata": {},
   "outputs": [],
   "source": [
    "from pauli_channel_approximation import control_unitaries, error_unitary, off_diagonal_projection, adjoint\n",
    "import sys\n",
    "import itertools\n",
    "from itertools import product\n",
    "from copy import deepcopy\n",
    "from functools import reduce\n",
    "\n",
    "from diamond import diamond_norm, jamiolkowski\n",
    "\n",
    "def superoperator(unitary):\n",
    "\n",
    "    return np.kron(unitary.conj(), unitary)\n",
    "\n",
    "def choi_form(unitary):\n",
    "\n",
    "    return jamiolkowski(superoperator(unitary))\n",
    "\n",
    "def diamond_distance(unitary_a,unitary_b):\n",
    "    return diamond_norm(choi_form(unitary_a) - choi_form(unitary_b))/2.\n",
    "\n",
    "def compute_diamond_norm(data):\n",
    "    controlset, ambient_hamiltonian0, combo, dt, control_hamiltonians, target_operator, probs = data\n",
    "#     print(\"DOING COMBO {}\".format(combo))\n",
    "#     sys.stdout.flush()\n",
    "    fidelities = []\n",
    "    projs = []\n",
    "    sops = []\n",
    "    controlset_unitaries = []\n",
    "    d_norms = []\n",
    "    #\n",
    "    #\n",
    "    # for i, com in enumerate(combo):\n",
    "    #     if i != 0 and com != 0:\n",
    "    #         return 0\n",
    "    for cind, controls in enumerate(controlset):\n",
    "        newcontrols = deepcopy(controls)\n",
    "        ambient_hamiltonian = [deepcopy(ah).astype(\"float\") for ah in ambient_hamiltonian0]\n",
    "        for cnum, value in enumerate(combo):\n",
    "            cnum -= len(ambient_hamiltonian0)\n",
    "            if cnum >= 0:\n",
    "                newcontrols[:, cnum] = newcontrols[:, cnum] * (1 + value)\n",
    "            if cnum < 0:\n",
    "                ambient_hamiltonian[cnum] *= float(value)\n",
    "        step_unitaries = control_unitaries(ambient_hamiltonian,\n",
    "                                           control_hamiltonians, newcontrols,\n",
    "                                           dt)\n",
    "        unitary = reduce(lambda a, b: a.dot(b), step_unitaries)\n",
    "        sop = error_unitary(unitary, target_operator)\n",
    "        sops.append(sop)\n",
    "        ddist = diamond_distance(sop, np.eye(sop.shape[0]))\n",
    "        with open('./data/{}.out'.format(rank), 'a+') as f:\n",
    "            f.write(\"{}\\t{}\\t{}\\n\".format(cind,combo,ddist))\n",
    "        d_norms.append(ddist)\n",
    "    avg_sop = reduce(lambda a, b: a + b, [prob * sops[i] for i, prob in enumerate(probs)])\n",
    "    ddist = diamond_distance(avg_sop, np.eye(avg_sop.shape[0]))\n",
    "    with open('./data/{}.out'.format(rank), 'a+') as f:\n",
    "            f.write(\"{}\\t{}\\t{}\\n\".format(\"avg\",combo,ddist))\n",
    "    d_norms.append(ddist)\n",
    "\n",
    "    return d_norms\n",
    "\n",
    "def generate_indices(num_points, order_desired):\n",
    "    num_indices = len(order_desired)\n",
    "    tuples = product(range(num_points), repeat=num_indices)\n",
    "    indices = [sum([num_points**(num_indices - 1 - order_desired[i]) * t[i] \n",
    "                    for i in range(num_indices)]) for t in tuples]\n",
    "    return indices"
   ]
  },
  {
   "cell_type": "code",
   "execution_count": 19,
   "metadata": {},
   "outputs": [
    {
     "data": {
      "text/plain": [
       "0.9999999953656783"
      ]
     },
     "execution_count": 19,
     "metadata": {},
     "output_type": "execute_result"
    }
   ],
   "source": [
    "sigI = np.array([[1.,0],[0, 1]], dtype='complex')\n",
    "sigX = np.array([[0, 1],[1, 0]], dtype='complex')\n",
    "sigY = np.array([[0,-1],[1, 0]], dtype='complex') * 1.j\n",
    "sigZ = np.array([[1, 0],[0,-1]], dtype='complex')\n",
    "sigM = (sigX - 1.j*sigY)/2.\n",
    "sigP = (sigX + 1.j*sigY)/2.\n",
    "diamond_distance(sigX,sigY)"
   ]
  },
  {
   "cell_type": "code",
   "execution_count": 20,
   "metadata": {},
   "outputs": [],
   "source": [
    "pca = pca1"
   ]
  },
  {
   "cell_type": "code",
   "execution_count": 43,
   "metadata": {},
   "outputs": [],
   "source": [
    "num_pts = 10\n",
    "base = np.logspace(-4.7, np.log(pca.detunings[0][0])/np.log(10), num_pts)\n",
    "controls = np.concatenate([np.sort(-base),np.array([0]), base])\n",
    "combinations0 = [[det,0] for det in controls]\n",
    "\n",
    "base = np.logspace(-4.7, np.log(pca.detunings[1][0])/np.log(10), num_pts)\n",
    "controls = np.concatenate([np.sort(-base),np.array([0]), base])\n",
    "combinations1 = [[0,det] for det in controls]\n",
    "\n",
    "d_norms0 = []\n",
    "for i in range(len(combinations0)):\n",
    "    combo = combinations0[i]\n",
    "    lst = [pca.controlset, pca.ambient_hamiltonian, combo, pca.dt,\n",
    "            pca.control_hamiltonians, pca.target_operator, pca.probs]\n",
    "    d_norms0.append(compute_diamond_norm(lst))\n",
    "\n",
    "d_norms1 = []\n",
    "for i in range(len(combinations1)):\n",
    "    combo = combinations1[i]\n",
    "    lst = [pca.controlset, pca.ambient_hamiltonian, combo, pca.dt,\n",
    "            pca.control_hamiltonians, pca.target_operator, pca.probs]\n",
    "    d_norms1.append(compute_diamond_norm(lst))\n"
   ]
  },
  {
   "cell_type": "code",
   "execution_count": 47,
   "metadata": {},
   "outputs": [],
   "source": [
    "# diamond_norms = np.array([rc[i]['d_norms'] for i in range(20)])\n",
    "# controls = np.array([rc[i]['combo'][0] for i in range(20)])\n",
    "#diamond_norms = np.array(d_norms0)\n",
    "controls = np.array(controls)"
   ]
  },
  {
   "cell_type": "code",
   "execution_count": 49,
   "metadata": {},
   "outputs": [
    {
     "data": {
      "image/png": "[encoded data removed]",
      "text/plain": [
       "<matplotlib.figure.Figure at 0x7fabf93db7f0>"
      ]
     },
     "metadata": {},
     "output_type": "display_data"
    }
   ],
   "source": [
    "plt.figure(figsize=(10,6))\n",
    "plt.semilogy(controls, d_norms0, linewidth = 2, alpha=.6, color='#a6bddb');\n",
    "plt.semilogy(controls,d_norms1, linewidth = 3, alpha=1, color='#2b8cbe');"
   ]
  },
  {
   "cell_type": "code",
   "execution_count": 54,
   "metadata": {},
   "outputs": [],
   "source": [
    "np.save('dnorms0', d_norms0)"
   ]
  },
  {
   "cell_type": "code",
   "execution_count": 55,
   "metadata": {},
   "outputs": [],
   "source": [
    "np.save('dnorms1', d_norms1)"
   ]
  },
  {
   "cell_type": "code",
   "execution_count": 56,
   "metadata": {},
   "outputs": [
    {
     "name": "stdout",
     "output_type": "stream",
     "text": [
      "1072.8359298706055\n"
     ]
    }
   ],
   "source": [
    "from time import time\n",
    "start = time()\n",
    "num_pts = 10\n",
    "base = np.logspace(-4.7, np.log(pca.detunings[0][0])/np.log(10), num_pts)\n",
    "controls = np.concatenate([np.sort(-base),np.array([0]), base])\n",
    "combinations0 = [[det,0] for det in controls]\n",
    "\n",
    "base = np.logspace(-4.7, np.log(pca.detunings[1][0])/np.log(10), num_pts)\n",
    "controls = np.concatenate([np.sort(-base),np.array([0]), base])\n",
    "combinations1 = [[0,det] for det in controls]\n",
    "\n",
    "d_norms2 = []\n",
    "for i in range(len(combinations0)):\n",
    "    combo = combinations0[i]\n",
    "    lst = [pca.controlset, pca.ambient_hamiltonian, combo, pca.dt,\n",
    "            pca.control_hamiltonians, pca.target_operator, pca.probs]\n",
    "    d_norms2.append(compute_diamond_norm(lst))\n",
    "\n",
    "d_norms3 = []\n",
    "for i in range(len(combinations1)):\n",
    "    combo = combinations1[i]\n",
    "    lst = [pca.controlset, pca.ambient_hamiltonian, combo, pca.dt,\n",
    "            pca.control_hamiltonians, pca.target_operator, pca.probs]\n",
    "    d_norms3.append(compute_diamond_norm(lst))\n",
    "stop = time()\n",
    "print(stop - start)"
   ]
  },
  {
   "cell_type": "code",
   "execution_count": 57,
   "metadata": {},
   "outputs": [],
   "source": [
    "# diamond_norms = np.array([rc[i]['d_norms'] for i in range(20)])\n",
    "# controls = np.array([rc[i]['combo'][0] for i in range(20)])\n",
    "#diamond_norms = np.array(d_norms0)\n",
    "controls = np.array(controls)"
   ]
  },
  {
   "cell_type": "code",
   "execution_count": 58,
   "metadata": {},
   "outputs": [
    {
     "data": {
      "image/png": "[encoded data removed]",
      "text/plain": [
       "<matplotlib.figure.Figure at 0x7fabf954b278>"
      ]
     },
     "metadata": {},
     "output_type": "display_data"
    }
   ],
   "source": [
    "plt.figure(figsize=(10,6))\n",
    "plt.semilogy(controls, d_norms0, linewidth = 2, alpha=.6, color='#a6bddb');\n",
    "plt.semilogy(controls,d_norms1, linewidth = 3, alpha=1, color='#2b8cbe');"
   ]
  },
  {
   "cell_type": "code",
   "execution_count": 59,
   "metadata": {},
   "outputs": [],
   "source": [
    "np.save('dnorms2', d_norms2)"
   ]
  },
  {
   "cell_type": "code",
   "execution_count": 60,
   "metadata": {},
   "outputs": [],
   "source": [
    "np.save('dnorms3', d_norms3)"
   ]
  },
  {
   "cell_type": "code",
   "execution_count": null,
   "metadata": {},
   "outputs": [],
   "source": []
  },
  {
   "cell_type": "code",
   "execution_count": null,
   "metadata": {},
   "outputs": [],
   "source": []
  },
  {
   "cell_type": "code",
   "execution_count": 118,
   "metadata": {},
   "outputs": [
    {
     "data": {
      "image/png": "[encoded data removed]",
      "text/plain": [
       "<matplotlib.figure.Figure at 0x7fabf87d37b8>"
      ]
     },
     "metadata": {},
     "output_type": "display_data"
    },
    {
     "data": {
      "image/png": "[encoded data removed]",
      "text/plain": [
       "<matplotlib.figure.Figure at 0x7fabf8cbf5f8>"
      ]
     },
     "metadata": {},
     "output_type": "display_data"
    }
   ],
   "source": [
    "for a, b in ((d_norms0, d_norms2), (d_norms1, d_norms3)):\n",
    "    plt.figure(figsize=(10,6))\n",
    "    plt.semilogy(controls, np.array(a).T[7], linewidth = 2, alpha=.6, color='#a6bddb', label=\"Member of 1RBC\", ls=\"--\");\n",
    "    plt.semilogy(controls, np.array(b).T[7], linewidth = 2, alpha=.6, color='#a6bddb', label=\"Member of 0RBC\", ls=\"-\");\n",
    "\n",
    "\n",
    "    plt.semilogy(controls, np.array(a).T[-1], linewidth = 3, alpha=1, color='#2b8cbe', label=\"1RBC\", ls=\"-\");\n",
    "    plt.semilogy(controls,np.array(b).T[-1], linewidth = 3, alpha=1, color='#2b8cbe', label=\"0RBC\", ls=\"--\");\n",
    "    plt.ylabel(\"Diamond Norm\")\n",
    "    plt.xlabel(\"Detuning\")\n",
    "    plt.legend()"
   ]
  },
  {
   "cell_type": "code",
   "execution_count": null,
   "metadata": {},
   "outputs": [],
   "source": []
  },
  {
   "cell_type": "code",
   "execution_count": null,
   "metadata": {},
   "outputs": [],
   "source": []
  },
  {
   "cell_type": "code",
   "execution_count": 71,
   "metadata": {},
   "outputs": [
    {
     "data": {
      "text/plain": [
       "array([[0.03898629, 0.03876514, 0.03866952, 0.0386277 , 0.03860908,\n",
       "        0.03860057, 0.03859655, 0.03859457, 0.03859355, 0.038593  ,\n",
       "        0.03859221, 0.03859171, 0.03859156, 0.0385915 , 0.03859181,\n",
       "        0.03859325, 0.03859777, 0.03861023, 0.03864255, 0.03872357,\n",
       "        0.03892239],\n",
       "       [0.03726498, 0.03746257, 0.03764653, 0.03778875, 0.03789039,\n",
       "        0.03796017, 0.03800699, 0.03803799, 0.03805835, 0.03807165,\n",
       "        0.0380963 , 0.03812128, 0.03813502, 0.03815643, 0.03818996,\n",
       "        0.0382428 , 0.03832694, 0.03846285, 0.03868681, 0.03906556,\n",
       "        0.03972644],\n",
       "       [0.05733566, 0.05632794, 0.05569995, 0.05530401, 0.05505224,\n",
       "        0.05489119, 0.05478776, 0.05472115, 0.05467818, 0.05465042,\n",
       "        0.0545996 , 0.05454895, 0.05452142, 0.05447898, 0.05441364,\n",
       "        0.05431325, 0.05415946, 0.05392501, 0.0535704 , 0.05304107,\n",
       "        0.05226886],\n",
       "       [0.05625465, 0.0555591 , 0.05513946, 0.05488096, 0.05471922,\n",
       "        0.05461689, 0.05455165, 0.05450983, 0.05448294, 0.05446561,\n",
       "        0.05443395, 0.05440249, 0.05438543, 0.05435919, 0.05431892,\n",
       "        0.05425738, 0.05416387, 0.05402319, 0.05381493, 0.05351515,\n",
       "        0.05310531],\n",
       "       [0.04255867, 0.04142437, 0.0407171 , 0.04027122, 0.03998778,\n",
       "        0.03980652, 0.03969014, 0.03961521, 0.03956687, 0.03953565,\n",
       "        0.0394785 , 0.03942154, 0.03939058, 0.03934287, 0.03926942,\n",
       "        0.0391566 , 0.03898385, 0.03872068, 0.03832322, 0.03773158,\n",
       "        0.03687374],\n",
       "       [0.06753206, 0.06570653, 0.06452627, 0.06376293, 0.06326909,\n",
       "        0.06294954, 0.06274274, 0.06260891, 0.06252228, 0.06246621,\n",
       "        0.06236332, 0.06226043, 0.06220437, 0.06211778, 0.06198403,\n",
       "        0.06177743, 0.06145835, 0.06096561, 0.06020492, 0.05903101,\n",
       "        0.05722071],\n",
       "       [0.05929122, 0.05927224, 0.05929304, 0.05932035, 0.05934382,\n",
       "        0.05936144, 0.05937386, 0.05938233, 0.05938799, 0.05939172,\n",
       "        0.05939873, 0.05940594, 0.05940995, 0.05941626, 0.05942629,\n",
       "        0.05944243, 0.05946892, 0.05951357, 0.05959142, 0.05973272,\n",
       "        0.06000087],\n",
       "       [0.03958464, 0.03950026, 0.03944647, 0.039412  , 0.03938984,\n",
       "        0.03937556, 0.03936634, 0.03936038, 0.03935653, 0.03935403,\n",
       "        0.03934947, 0.0393449 , 0.03934242, 0.03933858, 0.03933267,\n",
       "        0.03932354, 0.03930948, 0.03928786, 0.03925469, 0.03920399,\n",
       "        0.03912698],\n",
       "       [0.0027213 , 0.00199653, 0.00158814, 0.00138737, 0.00130057,\n",
       "        0.00126428, 0.00124868, 0.00124172, 0.00123849, 0.00123692,\n",
       "        0.00123512, 0.00123471, 0.00123508, 0.00123648, 0.00124068,\n",
       "        0.00125228, 0.00128336, 0.00136546, 0.00156606, 0.00198001,\n",
       "        0.00271418]])"
      ]
     },
     "execution_count": 71,
     "metadata": {},
     "output_type": "execute_result"
    }
   ],
   "source": []
  },
  {
   "cell_type": "code",
   "execution_count": 61,
   "metadata": {},
   "outputs": [
    {
     "ename": "NameError",
     "evalue": "name 'd_norms' is not defined",
     "output_type": "error",
     "traceback": [
      "\u001b[0;31m------------------------------------------------\u001b[0m",
      "\u001b[0;31mNameError\u001b[0m      Traceback (most recent call last)",
      "\u001b[0;32m<ipython-input-61-853ea47faca5>\u001b[0m in \u001b[0;36m<module>\u001b[0;34m()\u001b[0m\n\u001b[0;32m----> 1\u001b[0;31m \u001b[0;32mfor\u001b[0m \u001b[0mi\u001b[0m\u001b[0;34m,\u001b[0m \u001b[0mrow\u001b[0m \u001b[0;32min\u001b[0m \u001b[0menumerate\u001b[0m\u001b[0;34m(\u001b[0m\u001b[0md_norms\u001b[0m\u001b[0;34m[\u001b[0m\u001b[0;34m:\u001b[0m\u001b[0;34m-\u001b[0m\u001b[0;36m1\u001b[0m\u001b[0;34m,\u001b[0m \u001b[0;34m:\u001b[0m\u001b[0;34m]\u001b[0m\u001b[0;34m)\u001b[0m\u001b[0;34m:\u001b[0m\u001b[0;34m\u001b[0m\u001b[0m\n\u001b[0m\u001b[1;32m      2\u001b[0m     \u001b[0mreordered_row\u001b[0m \u001b[0;34m=\u001b[0m \u001b[0mnp\u001b[0m\u001b[0;34m.\u001b[0m\u001b[0marray\u001b[0m\u001b[0;34m(\u001b[0m\u001b[0;34m[\u001b[0m\u001b[0mrow\u001b[0m\u001b[0;34m[\u001b[0m\u001b[0mj\u001b[0m\u001b[0;34m]\u001b[0m \u001b[0;32mfor\u001b[0m \u001b[0mj\u001b[0m \u001b[0;32min\u001b[0m \u001b[0mindices\u001b[0m\u001b[0;34m]\u001b[0m\u001b[0;34m)\u001b[0m\u001b[0;34m\u001b[0m\u001b[0m\n\u001b[1;32m      3\u001b[0m     \u001b[0mplt\u001b[0m\u001b[0;34m.\u001b[0m\u001b[0mplot\u001b[0m\u001b[0;34m(\u001b[0m\u001b[0mrange\u001b[0m\u001b[0;34m(\u001b[0m\u001b[0mlen\u001b[0m\u001b[0;34m(\u001b[0m\u001b[0mrow\u001b[0m\u001b[0;34m)\u001b[0m\u001b[0;34m)\u001b[0m\u001b[0;34m,\u001b[0m \u001b[0mreordered_row\u001b[0m\u001b[0;34m)\u001b[0m\u001b[0;34m\u001b[0m\u001b[0m\n\u001b[1;32m      4\u001b[0m \u001b[0mplt\u001b[0m\u001b[0;34m.\u001b[0m\u001b[0mplot\u001b[0m\u001b[0;34m(\u001b[0m\u001b[0mrange\u001b[0m\u001b[0;34m(\u001b[0m\u001b[0mlen\u001b[0m\u001b[0;34m(\u001b[0m\u001b[0md_norms\u001b[0m\u001b[0;34m[\u001b[0m\u001b[0;34m-\u001b[0m\u001b[0;36m1\u001b[0m\u001b[0;34m,\u001b[0m \u001b[0;34m:\u001b[0m\u001b[0;34m]\u001b[0m\u001b[0;34m)\u001b[0m\u001b[0;34m)\u001b[0m\u001b[0;34m,\u001b[0m \u001b[0;34m[\u001b[0m\u001b[0md_norms\u001b[0m\u001b[0;34m[\u001b[0m\u001b[0;34m-\u001b[0m\u001b[0;36m1\u001b[0m\u001b[0;34m,\u001b[0m \u001b[0;34m:\u001b[0m\u001b[0;34m]\u001b[0m\u001b[0;34m[\u001b[0m\u001b[0mi\u001b[0m\u001b[0;34m]\u001b[0m \u001b[0;32mfor\u001b[0m \u001b[0mi\u001b[0m \u001b[0;32min\u001b[0m \u001b[0mindices\u001b[0m\u001b[0;34m]\u001b[0m\u001b[0;34m,\u001b[0m \u001b[0mlabel\u001b[0m\u001b[0;34m=\u001b[0m\u001b[0;34m\"min\"\u001b[0m\u001b[0;34m,\u001b[0m \u001b[0mcolor\u001b[0m\u001b[0;34m=\u001b[0m\u001b[0;34m'k'\u001b[0m\u001b[0;34m,\u001b[0m \u001b[0mlinewidth\u001b[0m\u001b[0;34m=\u001b[0m\u001b[0;36m2\u001b[0m\u001b[0;34m,\u001b[0m \u001b[0mzorder\u001b[0m\u001b[0;34m=\u001b[0m\u001b[0;36m10\u001b[0m\u001b[0;34m)\u001b[0m\u001b[0;34m\u001b[0m\u001b[0m\n\u001b[1;32m      5\u001b[0m \u001b[0mplt\u001b[0m\u001b[0;34m.\u001b[0m\u001b[0mlegend\u001b[0m\u001b[0;34m(\u001b[0m\u001b[0;34m)\u001b[0m\u001b[0;34m\u001b[0m\u001b[0m\n",
      "\u001b[0;31mNameError\u001b[0m: name 'd_norms' is not defined"
     ]
    }
   ],
   "source": [
    "for i, row in enumerate(d_norms[:-1, :]):\n",
    "    reordered_row = np.array([row[j] for j in indices])\n",
    "    plt.plot(range(len(row)), reordered_row)\n",
    "plt.plot(range(len(d_norms[-1, :])), [d_norms[-1, :][i] for i in indices], label=\"min\", color='k', linewidth=2, zorder=10)\n",
    "plt.legend()\n",
    "plt.ylabel(\"Diamond Distance\")\n",
    "plt.semilogy()\n",
    "plt.xlabel(\"Sample Index\")\n",
    "plt.tight_layout()\n",
    "plt.show()\n"
   ]
  },
  {
   "cell_type": "code",
   "execution_count": null,
   "metadata": {},
   "outputs": [],
   "source": []
  }
 ],
 "metadata": {
  "kernelspec": {
   "display_name": "Python 3",
   "language": "python",
   "name": "python3"
  },
  "language_info": {
   "codemirror_mode": {
    "name": "ipython",
    "version": 3
   },
   "file_extension": ".py",
   "mimetype": "text/x-python",
   "name": "python",
   "nbconvert_exporter": "python",
   "pygments_lexer": "ipython3",
   "version": "3.6.3"
  }
 },
 "nbformat": 4,
 "nbformat_minor": 2
}
