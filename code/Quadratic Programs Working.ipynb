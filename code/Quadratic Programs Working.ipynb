{
 "cells": [
  {
   "cell_type": "code",
   "execution_count": 1,
   "metadata": {},
   "outputs": [],
   "source": [
    "%load_ext autoreload\n",
    "%autoreload 2\n"
   ]
  },
  {
   "cell_type": "code",
   "execution_count": 2,
   "metadata": {},
   "outputs": [],
   "source": [
    "from functools import reduce\n",
    "import scipy\n",
    "from copy import deepcopy\n",
    "from scipy.linalg import logm\n",
    "import numpy as np\n",
    "import dill\n"
   ]
  },
  {
   "cell_type": "code",
   "execution_count": 4,
   "metadata": {},
   "outputs": [],
   "source": [
    "import dill \n",
    "\n",
    "num_keep = 750\n",
    "pca = dill.load(open('pickled_controls6.pkl', 'rb'))\n",
    "pca.controlset = pca.controlset[:num_keep]"
   ]
  },
  {
   "cell_type": "code",
   "execution_count": 5,
   "metadata": {},
   "outputs": [],
   "source": [
    "def hist_and_support(weights, num=10):\n",
    "    plt.hist(weights)\n",
    "    np.argmax(weights)\n",
    "    top_idx = np.argsort(np.array(weights).T)[0][-num:]\n",
    "    top_values = [weights[i] for i in top_idx]\n",
    "    print(f\"SUPPORT:{np.sum(top_values)}\")\n",
    "    print(f\"NUM CONTROLS: {num}\")\n",
    "    return top_idx"
   ]
  },
  {
   "cell_type": "markdown",
   "metadata": {},
   "source": [
    "# Plotting Utils"
   ]
  },
  {
   "cell_type": "code",
   "execution_count": 6,
   "metadata": {},
   "outputs": [],
   "source": [
    "%matplotlib inline \n",
    "def oned_off_diagonals(pca, scale):\n",
    "    import itertools\n",
    "    from itertools import product\n",
    "    import multiprocessing\n",
    "    from pauli_channel_approximation import compute_dpn_and_fid\n",
    "    import matplotlib.pyplot as plt\n",
    "    %matplotlib inline \n",
    "\n",
    "\n",
    "    def generate_indices(num_points, order_desired):\n",
    "        num_indices = len(order_desired)\n",
    "        tuples = product(range(num_points), repeat=num_indices)\n",
    "        indices = [sum([num_points**(num_indices - 1 - order_desired[i]) * t[i] for i in range(num_indices)]) for t in tuples]\n",
    "        return indices\n",
    "\n",
    "    values_to_plot = []\n",
    "    corr = []\n",
    "    for i, detuning in enumerate(pca.detunings):\n",
    "        # This sets the x axis (It's okay to pick detuning[0] because they were all set to the same detuning.)\n",
    "        values = np.linspace(-detuning[0]/scale, detuning[0]/scale, num_points)\n",
    "        values_to_plot.append(values)\n",
    "        corr.append(i)\n",
    "    # This was when I was evaluating more detuning combinations before, now this is just indexing over each detuning param.\n",
    "    combinations = list(zip(values, [0 for _ in values]))\n",
    "    # Multiprocessing for faster evaluation.\n",
    "    pool = multiprocessing.Pool(num_processors)\n",
    "    lst = [(pca.controlset, pca.ambient_hamiltonian, combo, pca.dt,\n",
    "            pca.control_hamiltonians, pca.target_operator, pca.probs)\n",
    "           for combo in combinations]\n",
    "    projs_fidelities = pool.map(compute_dpn_and_fid, lst)\n",
    "    pool.close()\n",
    "    # Compute the off diagonals and fidelities.\n",
    "    projs = [pf[0] for pf in projs_fidelities]\n",
    "    fidelities = [pf[1] for pf in projs_fidelities]\n",
    "    projs = np.vstack(projs).T\n",
    "    fidelities = np.vstack(fidelities).T\n",
    "    plt.figure(figsize=(16, 8))  # the first figure\n",
    "    plt.subplot(211)  # the first subplot in the first figure\n",
    "    \n",
    "    for i, row in enumerate(projs[:-1, :]):\n",
    "        plt.plot(range(len(row)), row)\n",
    "    plt.plot(range(len(projs[-1, :])), projs[-1, :], label=\"min\", color='k', linewidth=2, zorder=10)\n",
    "    plt.legend()\n",
    "    plt.ylabel(\"Absolute Sum of Off Diagonal Elements\")\n",
    "    plt.semilogy()\n",
    "    plt.axvline((num_points-1)/2)\n",
    "    plt.subplot(212)  # the second subplot in the first figure\n",
    "    \n",
    "    for i, row in enumerate(fidelities[:-1, :]):\n",
    "        plt.plot(range(len(row)), -np.log(1 - row))\n",
    "    plt.plot(range(len(fidelities[-1, :])), -np.log(1 - fidelities[-1, :]), label=\"min\", color='k', linewidth=2, zorder=10)\n",
    "    plt.legend()\n",
    "    plt.ylabel(\"f\")\n",
    "    samples = np.linspace(plt.ylim()[0], plt.ylim()[1], 11)\n",
    "    labels = -(np.exp(-samples) - 1)\n",
    "    plt.xlabel(\"Sample Index\")\n",
    "    plt.tight_layout()\n",
    "    plt.yticks(samples, labels)\n",
    "    plt.tight_layout()\n",
    "    plt.show()\n",
    "\n",
    "def off_diagonals(pca, scale):\n",
    "    import itertools\n",
    "    from itertools import product\n",
    "    import multiprocessing\n",
    "    from pauli_channel_approximation import compute_dpn_and_fid\n",
    "    import matplotlib.pyplot as plt\n",
    "\n",
    "    def generate_indices(num_points, order_desired):\n",
    "        num_indices = len(order_desired)\n",
    "        tuples = product(range(num_points), repeat=num_indices)\n",
    "        indices = [sum([num_points**(num_indices - 1 - order_desired[i]) * t[i] for i in range(num_indices)]) for t in tuples]\n",
    "        return indices\n",
    "\n",
    "    values_to_plot = []\n",
    "    corr = []\n",
    "    for i, detuning in enumerate(pca.detunings):\n",
    "        # This sets the x axis (It's okay to pick detuning[0] because they were all set to the same detuning.)\n",
    "        values = np.linspace(-detuning[0]/scale, detuning[0]/scale, num_points)\n",
    "        values_to_plot.append(values)\n",
    "        corr.append(i)\n",
    "    # This was when I was evaluating more detuning combinations before, now this is just indexing over each detuning param.\n",
    "    combinations = itertools.product(*values_to_plot)\n",
    "    new_combinations = []\n",
    "    for combo in combinations:\n",
    "        new_combo = []\n",
    "        for index in corr:\n",
    "            new_combo.append(combo[index])\n",
    "        new_combinations.append(new_combo)\n",
    "    combinations = new_combinations\n",
    "\n",
    "    tuple_length = len(combinations[0])\n",
    "    standard_ordering = list(range(tuple_length))\n",
    "    ordering = standard_ordering\n",
    "    indices = generate_indices(len(values), ordering)\n",
    "\n",
    "    # Multiprocessing for faster evaluation.\n",
    "    pool = multiprocessing.Pool(num_processors)\n",
    "    lst = [(pca.controlset, pca.ambient_hamiltonian, combo, pca.dt,\n",
    "            pca.control_hamiltonians, pca.target_operator, pca.probs)\n",
    "           for combo in combinations]\n",
    "    projs_fidelities = pool.map(compute_dpn_and_fid, lst)\n",
    "    \n",
    "    print(projs_fidelities)\n",
    "    pool.close()\n",
    "\n",
    "    # Compute the off diagonals and fidelities.\n",
    "    projs = [pf[0] for pf in projs_fidelities]\n",
    "    fidelities = [pf[1] for pf in projs_fidelities]\n",
    "    projs = np.vstack(projs).T\n",
    "    fidelities = np.vstack(fidelities).T\n",
    "    plt.figure(figsize=(16, 8))  # the first figure\n",
    "    plt.subplot(211)  # the first subplot in the first figure\n",
    "\n",
    "    for i, row in enumerate(projs[:-1, :]):\n",
    "        reordered_row = np.array([row[j] for j in indices])\n",
    "        plt.plot(range(len(row)), reordered_row)\n",
    "    plt.plot(range(len(projs[-1, :])), [projs[-1, :][i] for i in indices], label=\"min\", color='k', linewidth=2, zorder=10)\n",
    "    plt.legend()\n",
    "    plt.ylabel(\"Absolute Sum of Off Diagonal Elements\")\n",
    "    plt.semilogy()\n",
    "    plt.subplot(212)  # the second subplot in the first figure\n",
    "    for i, row in enumerate(fidelities[:-1, :]):\n",
    "        reordered_row = np.array([row[j] for j in indices])\n",
    "        plt.plot(range(len(row)), -np.log(1 - reordered_row))\n",
    "    plt.plot(range(len(fidelities[-1, :])), [-np.log(1 - fidelities[-1, :][i]) for i in indices], label=\"min\", color='k', linewidth=2, zorder=10)\n",
    "    plt.legend()\n",
    "    plt.ylabel(\"f\")\n",
    "    samples = np.linspace(plt.ylim()[0], plt.ylim()[1], 11)\n",
    "    labels = -(np.exp(-samples) - 1)\n",
    "    plt.xlabel(\"Sample Index\")\n",
    "    plt.tight_layout()\n",
    "    plt.yticks(samples, labels)\n",
    "    plt.tight_layout()\n",
    "    plt.show()\n",
    "    \n",
    "def off_diagonals2(pca1, pca2, scale):\n",
    "    for l, pca in enumerate([pca1, pca2]):\n",
    "        import itertools\n",
    "        from itertools import product\n",
    "        import multiprocessing\n",
    "        from pauli_channel_approximation import compute_dpn_and_fid\n",
    "        import matplotlib.pyplot as plt\n",
    "        \n",
    "        def generate_indices(num_points, order_desired):\n",
    "            num_indices = len(order_desired)\n",
    "            tuples = product(range(num_points), repeat=num_indices)\n",
    "            indices = [sum([num_points**(num_indices - 1 - order_desired[i]) * t[i] for i in range(num_indices)]) for t in tuples]\n",
    "            return indices\n",
    "\n",
    "        values_to_plot = []\n",
    "        corr = []\n",
    "        for i, detuning in enumerate(pca.detunings):\n",
    "            # This sets the x axis (It's okay to pick detuning[0] because they were all set to the same detuning.)\n",
    "            values = np.linspace(-detuning[0]/scale, detuning[0]/scale, num_points)\n",
    "            values_to_plot.append(values)\n",
    "            corr.append(i)\n",
    "        # This was when I was evaluating more detuning combinations before, now this is just indexing over each detuning param.\n",
    "        combinations = itertools.product(*values_to_plot)\n",
    "        new_combinations = []\n",
    "        for combo in combinations:\n",
    "            new_combo = []\n",
    "            for index in corr:\n",
    "                new_combo.append(combo[index])\n",
    "            new_combinations.append(new_combo)\n",
    "        combinations = new_combinations\n",
    "\n",
    "        tuple_length = len(combinations[0])\n",
    "        standard_ordering = list(range(tuple_length))\n",
    "        ordering = standard_ordering\n",
    "        indices = generate_indices(len(values), ordering)\n",
    "\n",
    "        # Multiprocessing for faster evaluation.\n",
    "        pool = multiprocessing.Pool(num_processors)\n",
    "        lst = [(pca.controlset, pca.ambient_hamiltonian, combo, pca.dt,\n",
    "                pca.control_hamiltonians, pca.target_operator, pca.probs)\n",
    "               for combo in combinations]\n",
    "        projs_fidelities = pool.map(compute_dpn_and_fid, lst)\n",
    "        pool.close()\n",
    "\n",
    "        # Compute the off diagonals and fidelities.\n",
    "        projs = [pf[0] for pf in projs_fidelities]\n",
    "        fidelities = [pf[1] for pf in projs_fidelities]\n",
    "        projs = np.vstack(projs).T\n",
    "        fidelities = np.vstack(fidelities).T\n",
    "        # If you just uncomment the first two rows it fails for some reason...\n",
    "#         for i, row in enumerate(projs[:-1, :]):\n",
    "#             reordered_row = np.array([row[j] for j in indices])\n",
    "#             plt.plot(range(len(row)), reordered_row)\n",
    "        plt.plot(range(len(projs[-1, :])), [projs[-1, :][i] for i in indices], c=['r','b'][l], linewidth=2, zorder=10, label=['1st order', '0th order'][l])\n",
    "    plt.legend()\n",
    "    plt.ylabel(\"Absolute Sum of Off Diagonal Elements\")\n",
    "    plt.semilogy()\n"
   ]
  },
  {
   "cell_type": "code",
   "execution_count": 7,
   "metadata": {},
   "outputs": [],
   "source": [
    "num_weights = 8\n",
    "scale = 100\n",
    "num_points = 21\n",
    "num_processors = 4"
   ]
  },
  {
   "cell_type": "code",
   "execution_count": 11,
   "metadata": {
    "scrolled": true
   },
   "outputs": [
    {
     "name": "stdout",
     "output_type": "stream",
     "text": [
      "[0, 0, 0, 0, 0]\n",
      "7\n",
      "[-1.52587890625e-05, 0, 0, 0, 0]\n",
      "7\n",
      "[0.0, 0, 0, 0, 0]\n",
      "7\n",
      "[1.52587890625e-05, 0, 0, 0, 0]\n",
      "7\n",
      "[0, -1.52587890625e-05, 0, 0, 0]\n",
      "7\n",
      "[0, 0.0, 0, 0, 0]\n",
      "7\n",
      "[0, 1.52587890625e-05, 0, 0, 0]\n",
      "7\n",
      "[0, 0, -1.52587890625e-05, 0, 0]\n",
      "7\n",
      "[0, 0, 0.0, 0, 0]\n",
      "7\n",
      "[0, 0, 1.52587890625e-05, 0, 0]\n",
      "7\n",
      "[0, 0, 0, -1.52587890625e-05, 0]\n",
      "7\n",
      "[0, 0, 0, 0.0, 0]\n",
      "7\n",
      "[0, 0, 0, 1.52587890625e-05, 0]\n",
      "7\n",
      "[0, 0, 0, 0, -1.52587890625e-05]\n",
      "7\n",
      "[0, 0, 0, 0, 0.0]\n",
      "7\n",
      "[0, 0, 0, 0, 1.52587890625e-05]\n",
      "7\n"
     ]
    }
   ],
   "source": [
    "from convex import all_derivs, optimal_weights_1st_order, optimal_weights\n",
    "from pauli_channel_approximation import PCA\n",
    "# If the tolerance is too high (i.e. not zero) and the number of controls is too high (e.g. >100) this was failing with ECOS.\n",
    "PCA.assign_weights(pca, 0, 1E-3)"
   ]
  },
  {
   "cell_type": "code",
   "execution_count": 12,
   "metadata": {},
   "outputs": [
    {
     "ename": "TypeError",
     "evalue": "'<' not supported between instances of 'NoneType' and 'float'",
     "output_type": "error",
     "traceback": [
      "\u001b[0;31m---------------------------------------------------------------------------\u001b[0m",
      "\u001b[0;31mTypeError\u001b[0m                                 Traceback (most recent call last)",
      "\u001b[0;32m<ipython-input-12-c76db66477e4>\u001b[0m in \u001b[0;36m<module>\u001b[0;34m()\u001b[0m\n\u001b[1;32m      1\u001b[0m \u001b[0;32mimport\u001b[0m \u001b[0mmatplotlib\u001b[0m\u001b[0;34m.\u001b[0m\u001b[0mpyplot\u001b[0m \u001b[0;32mas\u001b[0m \u001b[0mplt\u001b[0m\u001b[0;34m\u001b[0m\u001b[0m\n\u001b[1;32m      2\u001b[0m \u001b[0mget_ipython\u001b[0m\u001b[0;34m(\u001b[0m\u001b[0;34m)\u001b[0m\u001b[0;34m.\u001b[0m\u001b[0mrun_line_magic\u001b[0m\u001b[0;34m(\u001b[0m\u001b[0;34m'matplotlib'\u001b[0m\u001b[0;34m,\u001b[0m \u001b[0;34m'inline'\u001b[0m\u001b[0;34m)\u001b[0m\u001b[0;34m\u001b[0m\u001b[0m\n\u001b[0;32m----> 3\u001b[0;31m \u001b[0mindices\u001b[0m \u001b[0;34m=\u001b[0m \u001b[0mhist_and_support\u001b[0m\u001b[0;34m(\u001b[0m\u001b[0mpca\u001b[0m\u001b[0;34m.\u001b[0m\u001b[0mweights\u001b[0m\u001b[0;34m,\u001b[0m \u001b[0mnum_weights\u001b[0m\u001b[0;34m)\u001b[0m\u001b[0;34m\u001b[0m\u001b[0m\n\u001b[0m",
      "\u001b[0;32m<ipython-input-5-749e98700ad3>\u001b[0m in \u001b[0;36mhist_and_support\u001b[0;34m(weights, num)\u001b[0m\n\u001b[1;32m      1\u001b[0m \u001b[0;32mdef\u001b[0m \u001b[0mhist_and_support\u001b[0m\u001b[0;34m(\u001b[0m\u001b[0mweights\u001b[0m\u001b[0;34m,\u001b[0m \u001b[0mnum\u001b[0m\u001b[0;34m=\u001b[0m\u001b[0;36m10\u001b[0m\u001b[0;34m)\u001b[0m\u001b[0;34m:\u001b[0m\u001b[0;34m\u001b[0m\u001b[0m\n\u001b[0;32m----> 2\u001b[0;31m     \u001b[0mplt\u001b[0m\u001b[0;34m.\u001b[0m\u001b[0mhist\u001b[0m\u001b[0;34m(\u001b[0m\u001b[0mweights\u001b[0m\u001b[0;34m)\u001b[0m\u001b[0;34m\u001b[0m\u001b[0m\n\u001b[0m\u001b[1;32m      3\u001b[0m     \u001b[0mnp\u001b[0m\u001b[0;34m.\u001b[0m\u001b[0margmax\u001b[0m\u001b[0;34m(\u001b[0m\u001b[0mweights\u001b[0m\u001b[0;34m)\u001b[0m\u001b[0;34m\u001b[0m\u001b[0m\n\u001b[1;32m      4\u001b[0m     \u001b[0mtop_idx\u001b[0m \u001b[0;34m=\u001b[0m \u001b[0mnp\u001b[0m\u001b[0;34m.\u001b[0m\u001b[0margsort\u001b[0m\u001b[0;34m(\u001b[0m\u001b[0mnp\u001b[0m\u001b[0;34m.\u001b[0m\u001b[0marray\u001b[0m\u001b[0;34m(\u001b[0m\u001b[0mweights\u001b[0m\u001b[0;34m)\u001b[0m\u001b[0;34m.\u001b[0m\u001b[0mT\u001b[0m\u001b[0;34m)\u001b[0m\u001b[0;34m[\u001b[0m\u001b[0;36m0\u001b[0m\u001b[0;34m]\u001b[0m\u001b[0;34m[\u001b[0m\u001b[0;34m-\u001b[0m\u001b[0mnum\u001b[0m\u001b[0;34m:\u001b[0m\u001b[0;34m]\u001b[0m\u001b[0;34m\u001b[0m\u001b[0m\n\u001b[1;32m      5\u001b[0m     \u001b[0mtop_values\u001b[0m \u001b[0;34m=\u001b[0m \u001b[0;34m[\u001b[0m\u001b[0mweights\u001b[0m\u001b[0;34m[\u001b[0m\u001b[0mi\u001b[0m\u001b[0;34m]\u001b[0m \u001b[0;32mfor\u001b[0m \u001b[0mi\u001b[0m \u001b[0;32min\u001b[0m \u001b[0mtop_idx\u001b[0m\u001b[0;34m]\u001b[0m\u001b[0;34m\u001b[0m\u001b[0m\n",
      "\u001b[0;32m~/.pyenv/versions/3.6.3/envs/personal/lib/python3.6/site-packages/matplotlib/pyplot.py\u001b[0m in \u001b[0;36mhist\u001b[0;34m(x, bins, range, density, weights, cumulative, bottom, histtype, align, orientation, rwidth, log, color, label, stacked, normed, hold, data, **kwargs)\u001b[0m\n\u001b[1;32m   3002\u001b[0m                       \u001b[0mhisttype\u001b[0m\u001b[0;34m=\u001b[0m\u001b[0mhisttype\u001b[0m\u001b[0;34m,\u001b[0m \u001b[0malign\u001b[0m\u001b[0;34m=\u001b[0m\u001b[0malign\u001b[0m\u001b[0;34m,\u001b[0m \u001b[0morientation\u001b[0m\u001b[0;34m=\u001b[0m\u001b[0morientation\u001b[0m\u001b[0;34m,\u001b[0m\u001b[0;34m\u001b[0m\u001b[0m\n\u001b[1;32m   3003\u001b[0m                       \u001b[0mrwidth\u001b[0m\u001b[0;34m=\u001b[0m\u001b[0mrwidth\u001b[0m\u001b[0;34m,\u001b[0m \u001b[0mlog\u001b[0m\u001b[0;34m=\u001b[0m\u001b[0mlog\u001b[0m\u001b[0;34m,\u001b[0m \u001b[0mcolor\u001b[0m\u001b[0;34m=\u001b[0m\u001b[0mcolor\u001b[0m\u001b[0;34m,\u001b[0m \u001b[0mlabel\u001b[0m\u001b[0;34m=\u001b[0m\u001b[0mlabel\u001b[0m\u001b[0;34m,\u001b[0m\u001b[0;34m\u001b[0m\u001b[0m\n\u001b[0;32m-> 3004\u001b[0;31m                       stacked=stacked, normed=normed, data=data, **kwargs)\n\u001b[0m\u001b[1;32m   3005\u001b[0m     \u001b[0;32mfinally\u001b[0m\u001b[0;34m:\u001b[0m\u001b[0;34m\u001b[0m\u001b[0m\n\u001b[1;32m   3006\u001b[0m         \u001b[0max\u001b[0m\u001b[0;34m.\u001b[0m\u001b[0m_hold\u001b[0m \u001b[0;34m=\u001b[0m \u001b[0mwashold\u001b[0m\u001b[0;34m\u001b[0m\u001b[0m\n",
      "\u001b[0;32m~/.pyenv/versions/3.6.3/envs/personal/lib/python3.6/site-packages/matplotlib/__init__.py\u001b[0m in \u001b[0;36minner\u001b[0;34m(ax, *args, **kwargs)\u001b[0m\n\u001b[1;32m   1708\u001b[0m                     warnings.warn(msg % (label_namer, func.__name__),\n\u001b[1;32m   1709\u001b[0m                                   RuntimeWarning, stacklevel=2)\n\u001b[0;32m-> 1710\u001b[0;31m             \u001b[0;32mreturn\u001b[0m \u001b[0mfunc\u001b[0m\u001b[0;34m(\u001b[0m\u001b[0max\u001b[0m\u001b[0;34m,\u001b[0m \u001b[0;34m*\u001b[0m\u001b[0margs\u001b[0m\u001b[0;34m,\u001b[0m \u001b[0;34m**\u001b[0m\u001b[0mkwargs\u001b[0m\u001b[0;34m)\u001b[0m\u001b[0;34m\u001b[0m\u001b[0m\n\u001b[0m\u001b[1;32m   1711\u001b[0m         \u001b[0mpre_doc\u001b[0m \u001b[0;34m=\u001b[0m \u001b[0minner\u001b[0m\u001b[0;34m.\u001b[0m\u001b[0m__doc__\u001b[0m\u001b[0;34m\u001b[0m\u001b[0m\n\u001b[1;32m   1712\u001b[0m         \u001b[0;32mif\u001b[0m \u001b[0mpre_doc\u001b[0m \u001b[0;32mis\u001b[0m \u001b[0;32mNone\u001b[0m\u001b[0;34m:\u001b[0m\u001b[0;34m\u001b[0m\u001b[0m\n",
      "\u001b[0;32m~/.pyenv/versions/3.6.3/envs/personal/lib/python3.6/site-packages/matplotlib/axes/_axes.py\u001b[0m in \u001b[0;36mhist\u001b[0;34m(***failed resolving arguments***)\u001b[0m\n\u001b[1;32m   6191\u001b[0m             \u001b[0;32mfor\u001b[0m \u001b[0mxi\u001b[0m \u001b[0;32min\u001b[0m \u001b[0mx\u001b[0m\u001b[0;34m:\u001b[0m\u001b[0;34m\u001b[0m\u001b[0m\n\u001b[1;32m   6192\u001b[0m                 \u001b[0;32mif\u001b[0m \u001b[0mlen\u001b[0m\u001b[0;34m(\u001b[0m\u001b[0mxi\u001b[0m\u001b[0;34m)\u001b[0m \u001b[0;34m>\u001b[0m \u001b[0;36m0\u001b[0m\u001b[0;34m:\u001b[0m\u001b[0;34m\u001b[0m\u001b[0m\n\u001b[0;32m-> 6193\u001b[0;31m                     \u001b[0mxmin\u001b[0m \u001b[0;34m=\u001b[0m \u001b[0mmin\u001b[0m\u001b[0;34m(\u001b[0m\u001b[0mxmin\u001b[0m\u001b[0;34m,\u001b[0m \u001b[0mxi\u001b[0m\u001b[0;34m.\u001b[0m\u001b[0mmin\u001b[0m\u001b[0;34m(\u001b[0m\u001b[0;34m)\u001b[0m\u001b[0;34m)\u001b[0m\u001b[0;34m\u001b[0m\u001b[0m\n\u001b[0m\u001b[1;32m   6194\u001b[0m                     \u001b[0mxmax\u001b[0m \u001b[0;34m=\u001b[0m \u001b[0mmax\u001b[0m\u001b[0;34m(\u001b[0m\u001b[0mxmax\u001b[0m\u001b[0;34m,\u001b[0m \u001b[0mxi\u001b[0m\u001b[0;34m.\u001b[0m\u001b[0mmax\u001b[0m\u001b[0;34m(\u001b[0m\u001b[0;34m)\u001b[0m\u001b[0;34m)\u001b[0m\u001b[0;34m\u001b[0m\u001b[0m\n\u001b[1;32m   6195\u001b[0m             \u001b[0mbin_range\u001b[0m \u001b[0;34m=\u001b[0m \u001b[0;34m(\u001b[0m\u001b[0mxmin\u001b[0m\u001b[0;34m,\u001b[0m \u001b[0mxmax\u001b[0m\u001b[0;34m)\u001b[0m\u001b[0;34m\u001b[0m\u001b[0m\n",
      "\u001b[0;31mTypeError\u001b[0m: '<' not supported between instances of 'NoneType' and 'float'"
     ]
    },
    {
     "data": {
      "image/png": "[encoded data removed]",
      "text/plain": [
       "<matplotlib.figure.Figure at 0x7fdc8c02a198>"
      ]
     },
     "metadata": {},
     "output_type": "display_data"
    }
   ],
   "source": [
    "import matplotlib.pyplot as plt\n",
    "%matplotlib inline\n",
    "indices = hist_and_support(pca.weights, num_weights)"
   ]
  },
  {
   "cell_type": "code",
   "execution_count": null,
   "metadata": {},
   "outputs": [],
   "source": [
    "indices"
   ]
  },
  {
   "cell_type": "code",
   "execution_count": null,
   "metadata": {
    "scrolled": true
   },
   "outputs": [],
   "source": [
    "\n",
    "#pca1 = dill.load(open('../../../repos/randomized_controls/' + pcas[choice], 'rb'))\n",
    "pca1 = dill.load(open('pickled_controls5.pkl', 'rb'))\n",
    "subweights = pca.weights[indices]\n",
    "pca1.controlset = [pca1.controlset[i] for i in indices]\n",
    "pca1.probs = list(np.array(subweights.T/sum(subweights)).T)\n",
    "off_diagonals(pca1, scale)\n"
   ]
  },
  {
   "cell_type": "code",
   "execution_count": null,
   "metadata": {},
   "outputs": [],
   "source": [
    "import matplotlib.pyplot as plt\n",
    "num_weights0 = num_weights\n",
    "%matplotlib inline\n",
    "indices = hist_and_support(pca.weights_0, num_weights0)"
   ]
  },
  {
   "cell_type": "code",
   "execution_count": null,
   "metadata": {},
   "outputs": [],
   "source": [
    "import matplotlib.pyplot as plt\n",
    "\n",
    "#pca0 = dill.load(open('../../../repos/randomized_controls/' + pcas[choice], 'rb'))\n",
    "pca0 = dill.load(open('pickled_controls5.pkl', 'rb'))\n",
    "indices = hist_and_support(pca.weights_0, num_weights0)\n",
    "subweights = pca.weights_0[indices]\n",
    "pca0.controlset = [pca0.controlset[i] for i in indices]\n",
    "pca0.probs = list(np.array(subweights.T/sum(subweights)).T)\n",
    "off_diagonals(pca0, scale)\n"
   ]
  },
  {
   "cell_type": "code",
   "execution_count": null,
   "metadata": {
    "scrolled": true
   },
   "outputs": [],
   "source": [
    "# off_diagonals2(pca1, pca0, scale/2)"
   ]
  },
  {
   "cell_type": "markdown",
   "metadata": {},
   "source": [
    "# 750"
   ]
  },
  {
   "cell_type": "code",
   "execution_count": null,
   "metadata": {},
   "outputs": [],
   "source": [
    "off_diagonals2(pca1, pca0, scale/8)"
   ]
  },
  {
   "cell_type": "code",
   "execution_count": null,
   "metadata": {},
   "outputs": [],
   "source": []
  },
  {
   "cell_type": "code",
   "execution_count": null,
   "metadata": {},
   "outputs": [],
   "source": []
  }
 ],
 "metadata": {
  "kernelspec": {
   "display_name": "Python 3",
   "language": "python",
   "name": "python3"
  },
  "language_info": {
   "codemirror_mode": {
    "name": "ipython",
    "version": 3
   },
   "file_extension": ".py",
   "mimetype": "text/x-python",
   "name": "python",
   "nbconvert_exporter": "python",
   "pygments_lexer": "ipython3",
   "version": "3.6.3"
  }
 },
 "nbformat": 4,
 "nbformat_minor": 2
}
