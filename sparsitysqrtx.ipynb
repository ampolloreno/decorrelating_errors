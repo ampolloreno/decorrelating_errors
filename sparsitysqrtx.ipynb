{
 "cells": [
  {
   "cell_type": "code",
   "execution_count": 1,
   "metadata": {},
   "outputs": [],
   "source": [
    "%load_ext autoreload\n",
    "%autoreload 2"
   ]
  },
  {
   "cell_type": "code",
   "execution_count": 2,
   "metadata": {},
   "outputs": [],
   "source": [
    "from functools import reduce\n",
    "import scipy\n",
    "from copy import deepcopy\n",
    "from scipy.linalg import logm\n",
    "import numpy as np\n",
    "import dill\n"
   ]
  },
  {
   "cell_type": "code",
   "execution_count": 3,
   "metadata": {},
   "outputs": [],
   "source": [
    "import dill \n",
    "# This was 100\n",
    "num_keep = 100\n",
    "filename = 'pickled_controls5.pkl'\n",
    "pca = dill.load(open(filename, 'rb'))\n",
    "pca.controlset = pca.controlset[:num_keep]"
   ]
  },
  {
   "cell_type": "code",
   "execution_count": 4,
   "metadata": {},
   "outputs": [],
   "source": [
    "def hist_and_support(weights, num=10):\n",
    "    plt.hist(weights)\n",
    "    np.argmax(weights)\n",
    "    top_idx = np.argsort(np.array(weights).T)[0][-num:]\n",
    "    top_values = [weights[i] for i in top_idx]\n",
    "    print(f\"SUPPORT:{np.sum(top_values)}\")\n",
    "    print(f\"NUM CONTROLS: {num}\")\n",
    "    return top_idx, np.sum(top_values)"
   ]
  },
  {
   "cell_type": "code",
   "execution_count": 5,
   "metadata": {},
   "outputs": [],
   "source": [
    "num_weights = 10\n",
    "scale = 100\n",
    "num_points = 11\n",
    "num_processors = 4"
   ]
  },
  {
   "cell_type": "code",
   "execution_count": null,
   "metadata": {
    "scrolled": true
   },
   "outputs": [
    {
     "name": "stdout",
     "output_type": "stream",
     "text": [
      "Control 0 derivative.\n",
      "Control 1 derivative.\n",
      "Control 2 derivative.\n",
      "Control 3 derivative.\n",
      "Control 4 derivative.\n",
      "Control 5 derivative.\n",
      "Control 6 derivative.\n",
      "Control 7 derivative.\n",
      "Control 8 derivative.\n",
      "Control 9 derivative.\n",
      "Control 10 derivative.\n",
      "Control 11 derivative.\n",
      "Control 12 derivative.\n",
      "Control 13 derivative.\n",
      "Control 14 derivative.\n",
      "Control 15 derivative.\n",
      "Control 16 derivative.\n",
      "Control 17 derivative.\n",
      "Control 18 derivative.\n",
      "Control 19 derivative.\n",
      "Control 20 derivative.\n",
      "Control 21 derivative.\n",
      "Control 22 derivative.\n",
      "Control 23 derivative.\n",
      "Control 24 derivative.\n",
      "Control 25 derivative.\n",
      "Control 26 derivative.\n",
      "Control 27 derivative.\n",
      "Control 28 derivative.\n",
      "Control 29 derivative.\n",
      "Control 30 derivative.\n",
      "Control 31 derivative.\n",
      "Control 32 derivative.\n",
      "Control 33 derivative.\n",
      "Control 34 derivative.\n",
      "Control 35 derivative.\n",
      "Control 36 derivative.\n",
      "Control 37 derivative.\n",
      "Control 38 derivative.\n",
      "Control 39 derivative.\n",
      "Control 40 derivative.\n",
      "Control 41 derivative.\n",
      "Control 42 derivative.\n",
      "Control 43 derivative.\n",
      "Control 44 derivative.\n",
      "Control 45 derivative.\n",
      "Control 46 derivative.\n",
      "Control 47 derivative.\n",
      "Control 48 derivative.\n",
      "Control 49 derivative.\n",
      "Control 50 derivative.\n",
      "Control 51 derivative.\n",
      "Control 52 derivative.\n",
      "Control 53 derivative.\n",
      "Control 54 derivative.\n",
      "Control 55 derivative.\n",
      "Control 56 derivative.\n",
      "Control 57 derivative.\n",
      "Control 58 derivative.\n",
      "Control 59 derivative.\n",
      "Control 60 derivative.\n",
      "Control 61 derivative.\n",
      "Control 62 derivative.\n",
      "Control 63 derivative.\n",
      "Control 64 derivative.\n",
      "Control 65 derivative.\n",
      "Control 66 derivative.\n",
      "Control 67 derivative.\n",
      "Control 68 derivative.\n",
      "Control 69 derivative.\n",
      "Control 70 derivative.\n",
      "Control 71 derivative.\n",
      "Control 72 derivative.\n",
      "Control 73 derivative.\n",
      "Control 74 derivative.\n",
      "Control 75 derivative.\n",
      "Control 76 derivative.\n",
      "Control 77 derivative.\n",
      "Control 78 derivative.\n",
      "Control 79 derivative.\n",
      "Control 80 derivative.\n",
      "Control 81 derivative.\n",
      "Control 82 derivative.\n",
      "Control 83 derivative.\n",
      "Control 84 derivative.\n",
      "Control 85 derivative.\n",
      "Control 86 derivative.\n",
      "Control 87 derivative.\n",
      "Control 88 derivative.\n",
      "Control 89 derivative.\n",
      "Control 90 derivative.\n",
      "Control 91 derivative.\n",
      "Control 92 derivative.\n",
      "Control 93 derivative.\n",
      "Control 94 derivative.\n",
      "Control 95 derivative.\n",
      "Control 96 derivative.\n",
      "Control 97 derivative.\n",
      "Control 98 derivative.\n",
      "Control 99 derivative.\n",
      "Control 0 derivative.\n",
      "Control 1 derivative.\n",
      "Control 2 derivative.\n",
      "Control 3 derivative.\n",
      "Control 4 derivative.\n",
      "Control 5 derivative.\n",
      "Control 6 derivative.\n",
      "Control 7 derivative.\n",
      "Control 8 derivative.\n",
      "Control 9 derivative.\n",
      "Control 10 derivative.\n",
      "Control 11 derivative.\n",
      "Control 12 derivative.\n",
      "Control 13 derivative.\n",
      "Control 14 derivative.\n",
      "Control 15 derivative.\n",
      "Control 16 derivative.\n",
      "Control 17 derivative.\n",
      "Control 18 derivative.\n",
      "Control 19 derivative.\n",
      "Control 20 derivative.\n",
      "Control 21 derivative.\n",
      "Control 22 derivative.\n",
      "Control 23 derivative.\n",
      "Control 24 derivative.\n",
      "Control 25 derivative.\n",
      "Control 26 derivative.\n",
      "Control 27 derivative.\n",
      "Control 28 derivative.\n",
      "Control 29 derivative.\n",
      "Control 30 derivative.\n",
      "Control 31 derivative.\n",
      "Control 32 derivative.\n",
      "Control 33 derivative.\n",
      "Control 34 derivative.\n",
      "Control 35 derivative.\n"
     ]
    }
   ],
   "source": [
    "from convex import all_derivs, optimal_weights_1st_order, optimal_weights\n",
    "from pauli_channel_approximation import PCA\n",
    "# If the tolerance is too high (i.e. not zero) and the number of controls is too high (e.g. >100) this was failing with ECOS.\n",
    "pca.derivs = all_derivs(pca.controlset, pca.target_operator, pca.control_hamiltonians, pca.ambient_hamiltonian, pca.dt, 1)"
   ]
  },
  {
   "cell_type": "markdown",
   "metadata": {},
   "source": [
    "# Making the regularizer too small can prevent it from working - i.e. the solver will fail. Anything above around 1E-3 or 1E-4 seems to work well. These cells assign the 0RBC weights, and 1RBC weights, with sparsity constraints. (This could be because the constraint makes the optimization work over numbers small in magnitude, so that numerical inaccuracy takes over.)"
   ]
  },
  {
   "cell_type": "markdown",
   "metadata": {},
   "source": [
    "# Support for 0th order controls"
   ]
  },
  {
   "cell_type": "code",
   "execution_count": null,
   "metadata": {},
   "outputs": [],
   "source": [
    "# MAX_TO_SUPPORT_RATIO = 1\n",
    "# def cost_function(l, pca):\n",
    "#     try:\n",
    "#         PCA.assign_weights_0(pca, l)\n",
    "#         indices, support = hist_and_support(pca.weights_0)\n",
    "#         plt.show()\n",
    "#         plt.clf()\n",
    "#         maximum = max(pca.weights_0[indices])\n",
    "#         rtn = (maximum*MAX_TO_SUPPORT_RATIO + (1 - support))\n",
    "#         print(f\"cost function: {rtn}\")\n",
    "#         print(f\"Evaluated with l={l}\")\n",
    "#     except TypeError:\n",
    "#         rtn = MAX_TO_SUPPORT_RATIO + 1\n",
    "#     return rtn"
   ]
  },
  {
   "cell_type": "code",
   "execution_count": null,
   "metadata": {},
   "outputs": [],
   "source": [
    "# from scipy.optimize import minimize\n",
    "\n",
    "# THRESHOLD_SUPPORT = .9\n",
    "# THRESHOLD_MAXIMUM = .5\n",
    "\n",
    "# def find_l(pca, l0=1E-6): #initial guess is l0\n",
    "#     l = minimize(lambda l: cost_function(l, pca), x0=l0)\n",
    "#     return l"
   ]
  },
  {
   "cell_type": "code",
   "execution_count": null,
   "metadata": {},
   "outputs": [],
   "source": [
    "# l = find_l(pca)"
   ]
  },
  {
   "cell_type": "code",
   "execution_count": null,
   "metadata": {},
   "outputs": [],
   "source": [
    "# cost_function(l.x, pca)"
   ]
  },
  {
   "cell_type": "code",
   "execution_count": null,
   "metadata": {},
   "outputs": [],
   "source": [
    "pca.weights_0 = optimal_weights(pca.derivs[:1], sparsity=True, sparsity_param=1E-2)"
   ]
  },
  {
   "cell_type": "code",
   "execution_count": null,
   "metadata": {},
   "outputs": [],
   "source": [
    "#17.6 too low 17.7 too high"
   ]
  },
  {
   "cell_type": "code",
   "execution_count": null,
   "metadata": {},
   "outputs": [],
   "source": [
    "pca.weights = optimal_weights(pca.derivs, l1_constraint=True, l1_param=17.65)"
   ]
  },
  {
   "cell_type": "code",
   "execution_count": null,
   "metadata": {
    "scrolled": true
   },
   "outputs": [],
   "source": [
    "import matplotlib.pyplot as plt\n",
    "indices0, _ = hist_and_support(pca.weights_0, 10)"
   ]
  },
  {
   "cell_type": "code",
   "execution_count": null,
   "metadata": {},
   "outputs": [],
   "source": [
    "import matplotlib.pyplot as plt\n",
    "%matplotlib inline\n",
    "pca0 = dill.load(open(filename, 'rb'))\n",
    "subweights = pca.weights_0[indices0]\n",
    "pca0.controlset = [pca0.controlset[i] for i in indices0]\n",
    "pca0.probs = list(np.array(subweights.T/sum(subweights)).T)"
   ]
  },
  {
   "cell_type": "markdown",
   "metadata": {},
   "source": [
    "# Support for 1st order controls"
   ]
  },
  {
   "cell_type": "code",
   "execution_count": null,
   "metadata": {},
   "outputs": [],
   "source": [
    "indices1, _ = hist_and_support(pca.weights)"
   ]
  },
  {
   "cell_type": "code",
   "execution_count": null,
   "metadata": {
    "scrolled": true
   },
   "outputs": [],
   "source": [
    "pca1 = dill.load(open(filename, 'rb'))\n",
    "subweights = pca.weights[indices1]\n",
    "pca1.controlset = [pca1.controlset[i] for i in indices1]\n",
    "pca1.probs = list(np.array(subweights.T/sum(subweights)).T)"
   ]
  },
  {
   "cell_type": "code",
   "execution_count": null,
   "metadata": {},
   "outputs": [],
   "source": [
    "# Save the weighted controls\n",
    "\n",
    "import dill\n",
    "dill.dump(pca0, open('0_' + filename, 'wb'))\n",
    "\n",
    "import dill\n",
    "dill.dump(pca1, open('1_' + filename, 'wb'))"
   ]
  },
  {
   "cell_type": "markdown",
   "metadata": {},
   "source": [
    "# Diamond Norm"
   ]
  },
  {
   "cell_type": "code",
   "execution_count": null,
   "metadata": {},
   "outputs": [],
   "source": [
    "import numpy as np\n",
    "import matplotlib.pyplot as plt\n",
    "%matplotlib inline"
   ]
  },
  {
   "cell_type": "code",
   "execution_count": null,
   "metadata": {},
   "outputs": [],
   "source": [
    "from ipyparallel import Client\n",
    "rc = Client(profile='mpi3')\n",
    "dc = rc[:]"
   ]
  },
  {
   "cell_type": "code",
   "execution_count": null,
   "metadata": {},
   "outputs": [],
   "source": [
    "import os\n",
    "dc.push({'cwd':os.getcwd()})"
   ]
  },
  {
   "cell_type": "code",
   "execution_count": null,
   "metadata": {},
   "outputs": [],
   "source": [
    "%%px\n",
    "import os\n",
    "os.chdir(cwd)"
   ]
  },
  {
   "cell_type": "code",
   "execution_count": null,
   "metadata": {},
   "outputs": [],
   "source": [
    "%%px\n",
    "import dill\n",
    "import itertools\n",
    "import numpy as np\n",
    "from pauli_channel_approximation import compute_dpn_and_fid\n",
    "import matplotlib.pyplot as plt\n",
    "from itertools import product"
   ]
  },
  {
   "cell_type": "code",
   "execution_count": null,
   "metadata": {},
   "outputs": [],
   "source": [
    "%%px \n",
    "from mpi4py import MPI\n",
    "comm = MPI.COMM_WORLD\n",
    "rank = comm.Get_rank()"
   ]
  },
  {
   "cell_type": "code",
   "execution_count": null,
   "metadata": {},
   "outputs": [],
   "source": [
    "%%px\n",
    "filename = 'pickled_controls5.pkl'\n",
    "pca0 = dill.load(open('0_' + filename, 'rb')) # 0RBC\n",
    "pca1 = dill.load(open('1_' + filename, 'rb')) # 1RBC"
   ]
  },
  {
   "cell_type": "markdown",
   "metadata": {},
   "source": [
    "# Diamond Norm"
   ]
  },
  {
   "cell_type": "code",
   "execution_count": null,
   "metadata": {},
   "outputs": [],
   "source": [
    "%%px\n",
    "import sys\n",
    "import itertools\n",
    "from itertools import product\n",
    "from copy import deepcopy\n",
    "from functools import reduce\n",
    "\n",
    "from diamond import diamond_norm, jamiolkowski\n",
    "\n",
    "def superoperator(unitary):\n",
    "\n",
    "    return np.kron(unitary.conj(), unitary)\n",
    "\n",
    "def choi_form(unitary):\n",
    "\n",
    "    return jamiolkowski(superoperator(unitary))\n",
    "\n",
    "# misdefining this as accepting unitaries when it takes superoperators seems to have no effect on the diamond norm - strange.\n",
    "# def diamond_distance(unitary_a,unitary_b):\n",
    "#     return diamond_norm(choi_form(unitary_a) - choi_form(unitary_b))/2.\n",
    "\n",
    "def diamond_distance(sopa, sopb):\n",
    "    rtn = (jamiolkowski(sopa) - jamiolkowski(sopb))/2\n",
    "    return diamond_norm(rtn)\n",
    "\n",
    "def compute_diamond_norm(data):\n",
    "    controlset, ambient_hamiltonian0, combo, dt, control_hamiltonians, target_operator, probs = data\n",
    "    print(\"DOING COMBO {}\".format(combo))\n",
    "    sys.stdout.flush()\n",
    "    fidelities = []\n",
    "    projs = []\n",
    "    sops = []\n",
    "    controlset_unitaries = []\n",
    "    d_norms = []\n",
    "\n",
    "    for controls in controlset:\n",
    "        newcontrols = deepcopy(controls)\n",
    "        ambient_hamiltonian = [deepcopy(ah).astype(\"complex\") for ah in ambient_hamiltonian0]\n",
    "        for cnum, value in enumerate(combo):\n",
    "            cnum -= len(ambient_hamiltonian0)\n",
    "            if cnum >= 0:\n",
    "                newcontrols[:, cnum] = newcontrols[:, cnum] * (1 + value)\n",
    "            if cnum < 0:\n",
    "                ambient_hamiltonian[cnum] *= float(value)\n",
    "        print(ambient_hamiltonian, control_hamiltonians)\n",
    "        step_unitaries = control_unitaries(ambient_hamiltonian,\n",
    "                                           control_hamiltonians, newcontrols,\n",
    "                                           dt)\n",
    "        unitary = reduce(lambda a, b: a.dot(b), step_unitaries)\n",
    "        sop = error_unitary(unitary, target_operator)\n",
    "        sops.append(sop)\n",
    "        d_norms.append(diamond_distance(sop, np.eye(sop.shape[0])))\n",
    "    avg_sop = reduce(lambda a, b: a + b, [prob * sops[i] for i, prob in enumerate(probs)])\n",
    "    d_norms.append(diamond_distance(avg_sop, np.eye(avg_sop.shape[0])))\n",
    "    return d_norms"
   ]
  },
  {
   "cell_type": "code",
   "execution_count": null,
   "metadata": {},
   "outputs": [],
   "source": [
    "%%px\n",
    "num_pts = 11\n",
    "#pca0 and pca1 should have the same detunings, so we just use pca0 here.\n",
    "base = np.logspace(-4.7, np.log(pca0.detunings[0][0])/np.log(10), (num_pts - 1)/2) / 10\n",
    "controls = np.concatenate([np.sort(-base),np.array([0]), base])\n",
    "combinations0 = [[det,0, 0] for det in controls]\n",
    "\n",
    "controls = np.concatenate([np.sort(-base),np.array([0]), base])\n",
    "combinations1 = [[0,det, det] for det in controls]"
   ]
  },
  {
   "cell_type": "code",
   "execution_count": null,
   "metadata": {},
   "outputs": [],
   "source": [
    "%%px \n",
    "controls"
   ]
  },
  {
   "cell_type": "code",
   "execution_count": null,
   "metadata": {},
   "outputs": [],
   "source": [
    "%%px\n",
    "print(base)"
   ]
  },
  {
   "cell_type": "code",
   "execution_count": null,
   "metadata": {},
   "outputs": [],
   "source": [
    "%%px\n",
    "from pauli_channel_approximation import control_unitaries, error_unitary\n",
    "def dnorms(pca):\n",
    "    try:\n",
    "        combo = combinations0[rank]\n",
    "        #was pca0, probably the bug\n",
    "        lst = [pca.controlset, pca.ambient_hamiltonian, combo, pca.dt,\n",
    "                pca.control_hamiltonians, pca.target_operator, pca.probs]\n",
    "        d_norms0 = compute_diamond_norm(lst)\n",
    "\n",
    "        combo = combinations1[rank]\n",
    "        lst = [pca.controlset, pca.ambient_hamiltonian, combo, pca.dt,\n",
    "                pca.control_hamiltonians, pca.target_operator, pca.probs]\n",
    "        d_norms1 = compute_diamond_norm(lst)\n",
    "    except IndexError:\n",
    "        pass\n",
    "    return d_norms0, d_norms1"
   ]
  },
  {
   "cell_type": "markdown",
   "metadata": {},
   "source": [
    "# 0RBC"
   ]
  },
  {
   "cell_type": "code",
   "execution_count": null,
   "metadata": {},
   "outputs": [],
   "source": [
    "%%px\n",
    "combo = combinations0[rank]\n",
    "d_norms00, d_norms01 = dnorms(pca0)"
   ]
  },
  {
   "cell_type": "markdown",
   "metadata": {},
   "source": [
    "# 1RBC"
   ]
  },
  {
   "cell_type": "code",
   "execution_count": null,
   "metadata": {
    "scrolled": false
   },
   "outputs": [],
   "source": [
    "%%px\n",
    "d_norms10, d_norms11 = dnorms(pca1)"
   ]
  },
  {
   "cell_type": "code",
   "execution_count": null,
   "metadata": {},
   "outputs": [],
   "source": [
    "num_pts = 11"
   ]
  },
  {
   "cell_type": "code",
   "execution_count": null,
   "metadata": {},
   "outputs": [],
   "source": [
    "diamond_norms00 = np.array([rc[i]['d_norms00'] for i in range(num_pts)])\n",
    "diamond_norms01 = np.array([rc[i]['d_norms01'] for i in range(num_pts)])"
   ]
  },
  {
   "cell_type": "code",
   "execution_count": null,
   "metadata": {},
   "outputs": [],
   "source": [
    "diamond_norms10 = np.array([rc[i]['d_norms10'] for i in range(num_pts)])\n",
    "diamond_norms11 = np.array([rc[i]['d_norms11'] for i in range(num_pts)])"
   ]
  },
  {
   "cell_type": "code",
   "execution_count": null,
   "metadata": {},
   "outputs": [],
   "source": [
    "controls = np.array([rc[i]['combo'][0] for i in range(num_pts)])"
   ]
  },
  {
   "cell_type": "markdown",
   "metadata": {},
   "source": [
    "# If we don't include enough controls (say 20) the two plots will look similar. Need more controls for more diversity in the solutions."
   ]
  },
  {
   "cell_type": "code",
   "execution_count": null,
   "metadata": {},
   "outputs": [],
   "source": [
    "fontsize=20"
   ]
  },
  {
   "cell_type": "code",
   "execution_count": null,
   "metadata": {
    "scrolled": false
   },
   "outputs": [],
   "source": [
    "f, (ax1, ax2) = plt.subplots(2, sharex=True, sharey=True, figsize=(20, 10))\n",
    "for i, (a, b) in enumerate(((diamond_norms00, diamond_norms10), (diamond_norms01, diamond_norms11))):\n",
    "    ax = [ax1, ax2][i]\n",
    "    #plt.figure(figsize=(10,6))\n",
    "    #ax.semilogy(controls, np.array(a).T[7], linewidth = 2, alpha=.6, color='#a6bddb', label=\"Member of 0RBC\", ls=\"-\");\n",
    "    #ax.semilogy(controls, np.array(b).T[7], linewidth = 2, alpha=.6, color='#a6bddb', label=\"Member of 1RBC\", ls=\"--\");\n",
    "\n",
    "\n",
    "    ax.semilogy(controls, np.array(a).T[-1], linewidth = 3, alpha=1, color='#2b8cbe', label=\"0RBC\", ls=\"-\");\n",
    "    ax.semilogy(controls,np.array(b).T[-1], linewidth = 3, alpha=1, color='#2b8cbe', label=\"1RBC\", ls=\"--\");\n",
    "    ax.tick_params(axis = 'both', which = 'major', labelsize = fontsize*3/4)\n",
    "    ax.tick_params(axis = 'both', which = 'minor', labelsize = fontsize*3/4)\n",
    "\n",
    "plt.subplots_adjust(wspace=0, hspace=0)\n",
    "f.text(.08, 0.5, \"Diamond Norm\", va='center', rotation='vertical', fontsize=fontsize)\n",
    "plt.xlabel(\"Detuning\", fontsize=fontsize)\n",
    "plt.legend(prop={'size': 15}, loc=3)"
   ]
  },
  {
   "cell_type": "markdown",
   "metadata": {},
   "source": [
    "# Is sparsity _helping_ performance of the 0RBC?"
   ]
  },
  {
   "cell_type": "code",
   "execution_count": null,
   "metadata": {},
   "outputs": [],
   "source": []
  }
 ],
 "metadata": {
  "kernelspec": {
   "display_name": "Python 3",
   "language": "python",
   "name": "python3"
  },
  "language_info": {
   "codemirror_mode": {
    "name": "ipython",
    "version": 3
   },
   "file_extension": ".py",
   "mimetype": "text/x-python",
   "name": "python",
   "nbconvert_exporter": "python",
   "pygments_lexer": "ipython3",
   "version": "3.6.3"
  }
 },
 "nbformat": 4,
 "nbformat_minor": 2
}
